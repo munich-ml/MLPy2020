{
  "nbformat": 4,
  "nbformat_minor": 0,
  "metadata": {
    "colab": {
      "name": "15_Logfiles_w_NumPy_blank.ipynb",
      "provenance": [],
      "collapsed_sections": [],
      "toc_visible": true,
      "authorship_tag": "ABX9TyMe/WBvQAb5h7VAjYYd5kN4",
      "include_colab_link": true
    },
    "kernelspec": {
      "name": "python3",
      "display_name": "Python 3"
    }
  },
  "cells": [
    {
      "cell_type": "markdown",
      "metadata": {
        "id": "view-in-github",
        "colab_type": "text"
      },
      "source": [
        "<a href=\"https://colab.research.google.com/github/munich-ml/MLPy2020/blob/master/15_Logfiles_w_NumPy_blank.ipynb\" target=\"_parent\"><img src=\"https://colab.research.google.com/assets/colab-badge.svg\" alt=\"Open In Colab\"/></a>"
      ]
    },
    {
      "cell_type": "markdown",
      "metadata": {
        "id": "827kwTxX0tuc",
        "colab_type": "text"
      },
      "source": [
        "# Logfile challenge"
      ]
    },
    {
      "cell_type": "markdown",
      "metadata": {
        "id": "z12MmBNm4fXJ",
        "colab_type": "text"
      },
      "source": [
        "## setup"
      ]
    },
    {
      "cell_type": "markdown",
      "metadata": {
        "id": "Wu8QLzNa0zNJ",
        "colab_type": "text"
      },
      "source": [
        "This following code block prepares the coding challenge:\n",
        "1. clone GitHub project `MLPy2020`\n",
        "1. import and execute `create_csv` helper function\n",
        "1. open file `logfile.csv` and store content into variable `s`\n"
      ]
    },
    {
      "cell_type": "code",
      "metadata": {
        "id": "7qFfDsKHO1DP",
        "colab_type": "code",
        "colab": {}
      },
      "source": [
        "import os\n",
        "import numpy as np\n",
        "\n",
        "# Get munich-ml repo from GitHub\n",
        "if \"MLPy2020\" in os.listdir():\n",
        "    !git -C MLPy2020 pull\n",
        "else:\n",
        "    !git clone https://github.com/munich-ml/MLPy2020/\n",
        "\n",
        "with open(os.path.join(\"MLPy2020\", \"datasets\", \"logfile.csv\"), \"r\") as file:\n",
        "    s = file.read()"
      ],
      "execution_count": 0,
      "outputs": []
    },
    {
      "cell_type": "markdown",
      "metadata": {
        "id": "7SzNLgBYD-ht",
        "colab_type": "text"
      },
      "source": [
        "# reuse `parse_logfile_string`"
      ]
    },
    {
      "cell_type": "markdown",
      "metadata": {
        "id": "I98iVXy6FqM-",
        "colab_type": "text"
      },
      "source": [
        "The function `parse_logfile_string` has been moved to MLPy_helper_funcs.py "
      ]
    },
    {
      "cell_type": "code",
      "metadata": {
        "id": "VDN8CYVdEumX",
        "colab_type": "code",
        "colab": {}
      },
      "source": [
        "from MLPy2020.MLPy_helper_funcs import parse_logfile_string"
      ],
      "execution_count": 0,
      "outputs": []
    },
    {
      "cell_type": "code",
      "metadata": {
        "id": "ZEVZCuaTKvfn",
        "colab_type": "code",
        "colab": {}
      },
      "source": [
        "log = parse_logfile_string(s)\n",
        "log"
      ],
      "execution_count": 0,
      "outputs": []
    },
    {
      "cell_type": "code",
      "metadata": {
        "id": "Y_g23RwrmVBY",
        "colab_type": "code",
        "colab": {}
      },
      "source": [
        "log.keys()"
      ],
      "execution_count": 0,
      "outputs": []
    },
    {
      "cell_type": "markdown",
      "metadata": {
        "id": "zqdvwaVcEhq7",
        "colab_type": "text"
      },
      "source": [
        "# use NumPy"
      ]
    },
    {
      "cell_type": "code",
      "metadata": {
        "id": "L4kG8K59EYlu",
        "colab_type": "code",
        "colab": {}
      },
      "source": [
        "data = np.array(log[\"data\"])"
      ],
      "execution_count": 0,
      "outputs": []
    },
    {
      "cell_type": "code",
      "metadata": {
        "id": "Tbfx0THgFDCk",
        "colab_type": "code",
        "colab": {}
      },
      "source": [
        "data"
      ],
      "execution_count": 0,
      "outputs": []
    },
    {
      "cell_type": "code",
      "metadata": {
        "id": "GXrt4gWqEgx6",
        "colab_type": "code",
        "colab": {}
      },
      "source": [
        "data[:, 0]"
      ],
      "execution_count": 0,
      "outputs": []
    },
    {
      "cell_type": "markdown",
      "metadata": {
        "id": "jRsJvjkvKxPY",
        "colab_type": "text"
      },
      "source": [
        "Ok, indexing in NumPy is very easy!\n",
        "\n"
      ]
    },
    {
      "cell_type": "markdown",
      "metadata": {
        "id": "6XHg9ctXGJs4",
        "colab_type": "text"
      },
      "source": [
        "## Exercise\n",
        "Write a wrapper function `parse_logfile_string_to_numpy(s)`, that wraps the original `parse_logfile_string` function and converts the list of lists `data` field into a `NumPy.array`.\n",
        "\n",
        "`parse_logfile_string_to_numpy` shall return: `{'params': <type 'dict', 'names': <type 'list', 'data': <type 'numpy.ndarray'>}`"
      ]
    },
    {
      "cell_type": "code",
      "metadata": {
        "id": "7kbXpkgfMWB1",
        "colab_type": "code",
        "colab": {}
      },
      "source": [
        "def parse_logfile_string_to_numpy(s):\n",
        "    \n",
        "    return None"
      ],
      "execution_count": 0,
      "outputs": []
    },
    {
      "cell_type": "markdown",
      "metadata": {
        "id": "_G_KbpvpI147",
        "colab_type": "text"
      },
      "source": [
        "## Testing `parse_logfile_string_to_numpy` "
      ]
    },
    {
      "cell_type": "code",
      "metadata": {
        "id": "ApINZ2AjHR8I",
        "colab_type": "code",
        "colab": {}
      },
      "source": [
        "log = parse_logfile_string_to_numpy(s)\n",
        "log"
      ],
      "execution_count": 0,
      "outputs": []
    },
    {
      "cell_type": "code",
      "metadata": {
        "id": "jco-HFBOIWCx",
        "colab_type": "code",
        "colab": {}
      },
      "source": [
        "type(log[\"data\"])"
      ],
      "execution_count": 0,
      "outputs": []
    },
    {
      "cell_type": "markdown",
      "metadata": {
        "id": "l-AZq-sIQ16s",
        "colab_type": "text"
      },
      "source": [
        "## Create `apply calibration` function"
      ]
    },
    {
      "cell_type": "code",
      "metadata": {
        "id": "NhGsE4DOKwxj",
        "colab_type": "code",
        "colab": {}
      },
      "source": [
        "def apply_calibration(log):\n",
        "    for param, cal_factor in log[\"params\"].items():\n",
        "        if \"calibration factor\" in param:\n",
        "            sig = param.split(\" \")[-1]\n",
        "            col_index = log[\"names\"].index(sig)\n",
        "\n",
        "            log[\"data\"][:, col_index] *= float(cal_factor)"
      ],
      "execution_count": 0,
      "outputs": []
    },
    {
      "cell_type": "code",
      "metadata": {
        "id": "l0pCU4f9Lrqy",
        "colab_type": "code",
        "colab": {}
      },
      "source": [
        "log = parse_logfile_string_to_numpy(s)\n",
        "\n",
        "print(\"data head before calibration:\")\n",
        "print(log[\"data\"][:3, :])\n",
        "\n",
        "apply_calibration(log)\n",
        "\n",
        "print(\"data head after calibration:\")\n",
        "print(log[\"data\"][:3, :])"
      ],
      "execution_count": 0,
      "outputs": []
    },
    {
      "cell_type": "markdown",
      "metadata": {
        "id": "RN6KO6MJPUDj",
        "colab_type": "text"
      },
      "source": [
        "## `in-place` operation\n",
        "\n"
      ]
    },
    {
      "cell_type": "markdown",
      "metadata": {
        "id": "wLS7TRrrQ0ZW",
        "colab_type": "text"
      },
      "source": [
        "`apply_calibration` overwrote the original data. \n",
        "\n",
        "Thus, one has to remember whether `apply_calibration` has already been executed and avoid executing it twice."
      ]
    },
    {
      "cell_type": "markdown",
      "metadata": {
        "id": "1bi2s7hNKwzB",
        "colab_type": "text"
      },
      "source": [
        "## adding a new column `sig1_cal`\n"
      ]
    },
    {
      "cell_type": "code",
      "metadata": {
        "id": "HdXsEwBlKxOQ",
        "colab_type": "code",
        "colab": {}
      },
      "source": [
        "col_idx = 1\n",
        "row_max = 5"
      ],
      "execution_count": 0,
      "outputs": []
    },
    {
      "cell_type": "code",
      "metadata": {
        "id": "O_1XlEIULrBZ",
        "colab_type": "code",
        "colab": {}
      },
      "source": [
        "log[\"data\"][:row_max, :]"
      ],
      "execution_count": 0,
      "outputs": []
    },
    {
      "cell_type": "code",
      "metadata": {
        "id": "h58CZHbMSCNH",
        "colab_type": "code",
        "colab": {}
      },
      "source": [
        "log[\"data\"][:row_max, col_idx]"
      ],
      "execution_count": 0,
      "outputs": []
    },
    {
      "cell_type": "code",
      "metadata": {
        "id": "yK9PeLlkSRRa",
        "colab_type": "code",
        "colab": {}
      },
      "source": [
        "new_col = log[\"data\"][:row_max, col_idx] * 2   # arbitrary cal factor 2\n",
        "new_col\n"
      ],
      "execution_count": 0,
      "outputs": []
    },
    {
      "cell_type": "code",
      "metadata": {
        "id": "4B_RTf9kSkGQ",
        "colab_type": "code",
        "colab": {}
      },
      "source": [
        "new_col.shape"
      ],
      "execution_count": 0,
      "outputs": []
    },
    {
      "cell_type": "markdown",
      "metadata": {
        "id": "lJ_roeO_NrY0",
        "colab_type": "text"
      },
      "source": [
        "`new_col` is a 1D array. Thus, `np.hstack` or `np.concatenate` can't be used!"
      ]
    },
    {
      "cell_type": "code",
      "metadata": {
        "id": "WdRYqQWZSnYF",
        "colab_type": "code",
        "colab": {}
      },
      "source": [
        "new_data = np.column_stack([log[\"data\"][:row_max, :], new_col])\n",
        "new_data[:row_max, :]"
      ],
      "execution_count": 0,
      "outputs": []
    },
    {
      "cell_type": "markdown",
      "metadata": {
        "id": "95x2jfSoWqmm",
        "colab_type": "text"
      },
      "source": [
        "## Exercise \n",
        "Modifi `apply_calibration` to make it work **out-of-place**"
      ]
    },
    {
      "cell_type": "code",
      "metadata": {
        "id": "l27dr0FqRaT1",
        "colab_type": "code",
        "colab": {}
      },
      "source": [
        "def apply_calibration(log):\n",
        "    for param, cal_factor in log[\"params\"].items():\n",
        "        if \"calibration factor\" in param:\n",
        "            sig = param.split(\" \")[-1]\n",
        "            col_index = log[\"names\"].index(sig)\n",
        "\n",
        "            ..."
      ],
      "execution_count": 0,
      "outputs": []
    },
    {
      "cell_type": "markdown",
      "metadata": {
        "id": "EjvdP1tuObEz",
        "colab_type": "text"
      },
      "source": [
        "## Testing `apply_calibration`"
      ]
    },
    {
      "cell_type": "code",
      "metadata": {
        "id": "cJnr-XIJV_D9",
        "colab_type": "code",
        "colab": {}
      },
      "source": [
        "log = parse_logfile_string_to_numpy(s)\n",
        "\n",
        "print(\"data head before calibration:\")\n",
        "print(log[\"names\"])\n",
        "print(log[\"data\"][:3, :])\n",
        "\n",
        "apply_calibration(log)\n",
        "\n",
        "print(\"data head after calibration:\")\n",
        "print(log[\"names\"])\n",
        "print(log[\"data\"][:3, :])"
      ],
      "execution_count": 0,
      "outputs": []
    },
    {
      "cell_type": "markdown",
      "metadata": {
        "id": "hAtXWdpbiVEE",
        "colab_type": "text"
      },
      "source": [
        "# Matplotlib"
      ]
    },
    {
      "cell_type": "code",
      "metadata": {
        "id": "xnW9yndmWGGN",
        "colab_type": "code",
        "colab": {}
      },
      "source": [
        "import matplotlib.pyplot as plt"
      ],
      "execution_count": 0,
      "outputs": []
    },
    {
      "cell_type": "code",
      "metadata": {
        "id": "a7JwIDGOZoS-",
        "colab_type": "code",
        "colab": {}
      },
      "source": [
        "plt.plot(log[\"data\"][:,0], log[\"data\"][:,1], \"o\");"
      ],
      "execution_count": 0,
      "outputs": []
    },
    {
      "cell_type": "markdown",
      "metadata": {
        "id": "irlXuT52id7b",
        "colab_type": "text"
      },
      "source": [
        "## Exercise\n",
        "Create a function `plot` takes two inputs:\n",
        "- the `log` container, and\n",
        "- `sig_names`, a list of names\n",
        "\n",
        "Make a plot incl. legend and 'not-in-names' warning message."
      ]
    },
    {
      "cell_type": "code",
      "metadata": {
        "id": "1ZNCRd5hZdpY",
        "colab_type": "code",
        "colab": {}
      },
      "source": [
        "def plot(log, sig_names):\n",
        "    ...\n",
        "    plt.plot(x, y, \"o\", label=\"label\")\n",
        "    ...\n",
        "    plt.grid(), plt.legend(), plt.tight_layout();"
      ],
      "execution_count": 0,
      "outputs": []
    },
    {
      "cell_type": "markdown",
      "metadata": {
        "id": "Ik2sAPMtjnEO",
        "colab_type": "text"
      },
      "source": [
        "## Testing `plot`"
      ]
    },
    {
      "cell_type": "code",
      "metadata": {
        "id": "cBeyyFUBa8WA",
        "colab_type": "code",
        "colab": {}
      },
      "source": [
        "plot(log, sig_names=[\"sig0_cal\", \"sig1_cal\", \"sig1\", \"sig42\", \"sig2_cal\"])"
      ],
      "execution_count": 0,
      "outputs": []
    },
    {
      "cell_type": "code",
      "metadata": {
        "id": "Lfz5O-GIj0dv",
        "colab_type": "code",
        "colab": {}
      },
      "source": [
        "plot(log, sig_names=log[\"names\"])"
      ],
      "execution_count": 0,
      "outputs": []
    },
    {
      "cell_type": "code",
      "metadata": {
        "id": "LFEbkm8pPsEi",
        "colab_type": "code",
        "colab": {}
      },
      "source": [
        ""
      ],
      "execution_count": 0,
      "outputs": []
    }
  ]
}