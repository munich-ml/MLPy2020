{
  "nbformat": 4,
  "nbformat_minor": 0,
  "metadata": {
    "kernelspec": {
      "name": "python3",
      "display_name": "Python 3"
    },
    "language_info": {
      "codemirror_mode": {
        "name": "ipython",
        "version": 3
      },
      "file_extension": ".py",
      "mimetype": "text/x-python",
      "name": "python",
      "nbconvert_exporter": "python",
      "pygments_lexer": "ipython3",
      "version": "3.7.3"
    },
    "nav_menu": {
      "height": "279px",
      "width": "309px"
    },
    "toc": {
      "nav_menu": {},
      "number_sections": true,
      "sideBar": true,
      "skip_h1_title": false,
      "toc_cell": false,
      "toc_position": {},
      "toc_section_display": "block",
      "toc_window_display": false
    },
    "colab": {
      "name": "22_end2end_ml_project.ipynb",
      "provenance": [],
      "collapsed_sections": [
        "BvxUc1q8O4-L",
        "fN6ao_3KkznT",
        "W7DNg47Mun-M",
        "Eg6p6j8Vun-M",
        "zz9A_C3Kun-Q",
        "eUokBTfiun-W"
      ],
      "include_colab_link": true
    },
    "accelerator": "GPU"
  },
  "cells": [
    {
      "cell_type": "markdown",
      "metadata": {
        "id": "view-in-github",
        "colab_type": "text"
      },
      "source": [
        "<a href=\"https://colab.research.google.com/github/munich-ml/MLPy2020/blob/master/22_end2end_ml_project.ipynb\" target=\"_parent\"><img src=\"https://colab.research.google.com/assets/colab-badge.svg\" alt=\"Open In Colab\"/></a>"
      ]
    },
    {
      "cell_type": "markdown",
      "metadata": {
        "id": "hqQTETRT-NjI",
        "colab_type": "text"
      },
      "source": [
        "# Intro"
      ]
    },
    {
      "cell_type": "markdown",
      "metadata": {
        "id": "C9_a-EzZ6x8B",
        "colab_type": "text"
      },
      "source": [
        "\n",
        "## References\n",
        "Resources used to create this notebook:\n",
        "- [scikit-learn website](https://scikit-learn.org)\n",
        "- [Matplotlib website](https://matplotlib.org/)\n",
        "- [Wikipedia](https://en.wikipedia.org/wiki/Main_Page)\n",
        "- Hands-on Machine Learning with Scikit-learn, Keras & TensorFlow, Aurelien Geron, [Book on Amazon](https://www.amazon.de/Aur%C3%A9lien-G%C3%A9ron/dp/1492032646/ref=sr_1_3?__mk_de_DE=%C3%85M%C3%85%C5%BD%C3%95%C3%91&dchild=1&keywords=Hands-on+Machine+Learning+with+Scikit-learn%2C+Keras+%26+TensorFlow%2C+Aurelien+Geron%2C&qid=1589875241&sr=8-3)\n",
        "- Introduction to Machine Learning with Python, Andreas Mueller, [Book on Amazon](https://www.amazon.de/Introduction-Machine-Learning-Python-Scientists/dp/1449369413)\n"
      ]
    },
    {
      "cell_type": "markdown",
      "metadata": {
        "id": "ci0n-UMbun5n",
        "colab_type": "text"
      },
      "source": [
        "## Setup"
      ]
    },
    {
      "cell_type": "markdown",
      "metadata": {
        "id": "tfqZEdcUun5p",
        "colab_type": "text"
      },
      "source": [
        "First, do the common imports.\n",
        "\n",
        "Tensorflow must be 2.x, because there are major changes from 1.x"
      ]
    },
    {
      "cell_type": "code",
      "metadata": {
        "id": "Y5Z0FqxuMz1t",
        "colab_type": "code",
        "colab": {
          "base_uri": "https://localhost:8080/",
          "height": 134
        },
        "outputId": "0461ab0b-f894-4024-e76e-bce3826cb23a"
      },
      "source": [
        "# Python ≥3.5 is required\n",
        "import sys\n",
        "assert sys.version_info >= (3, 5)\n",
        "\n",
        "# Forces tensorflow version (only in colab)\n",
        "%tensorflow_version 2.x           \n",
        "\n",
        "# TensorFlow ≥2.0 is required\n",
        "import tensorflow as tf\n",
        "from tensorflow import keras\n",
        "assert tf.__version__ >= \"2.0\"\n",
        "\n",
        "# Common imports\n",
        "import os\n",
        "import pickle\n",
        "import numpy as np\n",
        "import pandas as pd\n",
        "\n",
        "# to make this notebook's output stable across runs\n",
        "np.random.seed(42)\n",
        "\n",
        "# Setup matplotlib\n",
        "%matplotlib inline\n",
        "import matplotlib as mpl\n",
        "import matplotlib.pyplot as plt\n",
        "mpl.rc('axes', labelsize=14)\n",
        "mpl.rc('xtick', labelsize=12)\n",
        "mpl.rc('ytick', labelsize=12)\n",
        "\n",
        "# Ignore useless warnings (see SciPy issue #5998)\n",
        "import warnings\n",
        "warnings.filterwarnings(action=\"ignore\", message=\"^internal gelsd\")\n",
        "\n",
        "# Get munich-ml helper functions from GitHub\n",
        "if \"MLPy2020\" in os.listdir():\n",
        "    !git -C MLPy2020 pull\n",
        "else:\n",
        "    !git clone https://github.com/munich-ml/MLPy2020/\n",
        "\n",
        "from MLPy2020.MLPy_helper_funcs import plot_hist_2D\n",
        "from IPython.display import Image"
      ],
      "execution_count": 1,
      "outputs": [
        {
          "output_type": "stream",
          "text": [
            "Cloning into 'MLPy2020'...\n",
            "remote: Enumerating objects: 171, done.\u001b[K\n",
            "remote: Counting objects: 100% (171/171), done.\u001b[K\n",
            "remote: Compressing objects: 100% (143/143), done.\u001b[K\n",
            "remote: Total 171 (delta 84), reused 68 (delta 20), pack-reused 0\u001b[K\n",
            "Receiving objects: 100% (171/171), 839.81 KiB | 1.14 MiB/s, done.\n",
            "Resolving deltas: 100% (84/84), done.\n"
          ],
          "name": "stdout"
        }
      ]
    },
    {
      "cell_type": "markdown",
      "metadata": {
        "id": "Vw_zMxdxun5v",
        "colab_type": "text"
      },
      "source": [
        "# Get the data"
      ]
    },
    {
      "cell_type": "markdown",
      "metadata": {
        "id": "6CbQ09Aeu0R3",
        "colab_type": "text"
      },
      "source": [
        "At this point the dataset has already been cloned from GitHub and is located in the `MLPy2020/datasets` subdirectory:"
      ]
    },
    {
      "cell_type": "code",
      "metadata": {
        "id": "_sUzRkQmvJX2",
        "colab_type": "code",
        "colab": {
          "base_uri": "https://localhost:8080/",
          "height": 33
        },
        "outputId": "f30adafd-9b53-41c7-eb65-3c769be77ec8"
      },
      "source": [
        "data_dir = os.path.join(os.getcwd(), \"MLPy2020\", \"datasets\")\n",
        "os.listdir(data_dir)"
      ],
      "execution_count": 2,
      "outputs": [
        {
          "output_type": "execute_result",
          "data": {
            "text/plain": [
              "['housing_dataset.pkl', 'logfile.csv']"
            ]
          },
          "metadata": {
            "tags": []
          },
          "execution_count": 2
        }
      ]
    },
    {
      "cell_type": "code",
      "metadata": {
        "id": "BaSqQsQYfieR",
        "colab_type": "code",
        "colab": {}
      },
      "source": [
        "with open(os.path.join(data_dir, \"housing_dataset.pkl\"), \"rb\") as file:\n",
        "    housing = pickle.load(file)"
      ],
      "execution_count": 0,
      "outputs": []
    },
    {
      "cell_type": "markdown",
      "metadata": {
        "id": "Qjz1RAXkvVNo",
        "colab_type": "text"
      },
      "source": [
        "# A quick look at the data"
      ]
    },
    {
      "cell_type": "markdown",
      "metadata": {
        "id": "Tr9BGcL8xBM_",
        "colab_type": "text"
      },
      "source": [
        "The **housing dataset** contains house pricing data of about 20K districts in California. The type of the data set is a Pandas DataFrame:"
      ]
    },
    {
      "cell_type": "code",
      "metadata": {
        "id": "dUpqXYjwwPT2",
        "colab_type": "code",
        "colab": {
          "base_uri": "https://localhost:8080/",
          "height": 33
        },
        "outputId": "781ae42a-ee8e-444c-e288-5bd223b582f0"
      },
      "source": [
        "type(housing)"
      ],
      "execution_count": 5,
      "outputs": [
        {
          "output_type": "execute_result",
          "data": {
            "text/plain": [
              "pandas.core.frame.DataFrame"
            ]
          },
          "metadata": {
            "tags": []
          },
          "execution_count": 5
        }
      ]
    },
    {
      "cell_type": "code",
      "metadata": {
        "id": "kpD513dZyUMm",
        "colab_type": "code",
        "colab": {
          "base_uri": "https://localhost:8080/",
          "height": 157
        },
        "outputId": "79c9af0a-c9d7-49e3-b9e7-31651373be7c"
      },
      "source": [
        "housing.tail(3)"
      ],
      "execution_count": 6,
      "outputs": [
        {
          "output_type": "execute_result",
          "data": {
            "text/html": [
              "<div>\n",
              "<style scoped>\n",
              "    .dataframe tbody tr th:only-of-type {\n",
              "        vertical-align: middle;\n",
              "    }\n",
              "\n",
              "    .dataframe tbody tr th {\n",
              "        vertical-align: top;\n",
              "    }\n",
              "\n",
              "    .dataframe thead th {\n",
              "        text-align: right;\n",
              "    }\n",
              "</style>\n",
              "<table border=\"1\" class=\"dataframe\">\n",
              "  <thead>\n",
              "    <tr style=\"text-align: right;\">\n",
              "      <th></th>\n",
              "      <th>longitude</th>\n",
              "      <th>latitude</th>\n",
              "      <th>housing_median_age</th>\n",
              "      <th>total_rooms</th>\n",
              "      <th>total_bedrooms</th>\n",
              "      <th>population</th>\n",
              "      <th>households</th>\n",
              "      <th>median_income</th>\n",
              "      <th>median_house_value</th>\n",
              "      <th>ocean_proximity</th>\n",
              "    </tr>\n",
              "  </thead>\n",
              "  <tbody>\n",
              "    <tr>\n",
              "      <th>20637</th>\n",
              "      <td>-121.22</td>\n",
              "      <td>39.43</td>\n",
              "      <td>17.0</td>\n",
              "      <td>2254.0</td>\n",
              "      <td>485.0</td>\n",
              "      <td>1007.0</td>\n",
              "      <td>433.0</td>\n",
              "      <td>1.7000</td>\n",
              "      <td>92300.0</td>\n",
              "      <td>INLAND</td>\n",
              "    </tr>\n",
              "    <tr>\n",
              "      <th>20638</th>\n",
              "      <td>-121.32</td>\n",
              "      <td>39.43</td>\n",
              "      <td>18.0</td>\n",
              "      <td>1860.0</td>\n",
              "      <td>409.0</td>\n",
              "      <td>741.0</td>\n",
              "      <td>349.0</td>\n",
              "      <td>1.8672</td>\n",
              "      <td>84700.0</td>\n",
              "      <td>INLAND</td>\n",
              "    </tr>\n",
              "    <tr>\n",
              "      <th>20639</th>\n",
              "      <td>-121.24</td>\n",
              "      <td>39.37</td>\n",
              "      <td>16.0</td>\n",
              "      <td>2785.0</td>\n",
              "      <td>616.0</td>\n",
              "      <td>1387.0</td>\n",
              "      <td>530.0</td>\n",
              "      <td>2.3886</td>\n",
              "      <td>89400.0</td>\n",
              "      <td>INLAND</td>\n",
              "    </tr>\n",
              "  </tbody>\n",
              "</table>\n",
              "</div>"
            ],
            "text/plain": [
              "       longitude  latitude  ...  median_house_value  ocean_proximity\n",
              "20637    -121.22     39.43  ...             92300.0           INLAND\n",
              "20638    -121.32     39.43  ...             84700.0           INLAND\n",
              "20639    -121.24     39.37  ...             89400.0           INLAND\n",
              "\n",
              "[3 rows x 10 columns]"
            ]
          },
          "metadata": {
            "tags": []
          },
          "execution_count": 6
        }
      ]
    },
    {
      "cell_type": "code",
      "metadata": {
        "id": "Q9z3h7rEun59",
        "colab_type": "code",
        "colab": {
          "base_uri": "https://localhost:8080/",
          "height": 301
        },
        "outputId": "c13760eb-01d5-4df3-cce1-bbef82013f62"
      },
      "source": [
        "housing.info()"
      ],
      "execution_count": 7,
      "outputs": [
        {
          "output_type": "stream",
          "text": [
            "<class 'pandas.core.frame.DataFrame'>\n",
            "RangeIndex: 20640 entries, 0 to 20639\n",
            "Data columns (total 10 columns):\n",
            " #   Column              Non-Null Count  Dtype  \n",
            "---  ------              --------------  -----  \n",
            " 0   longitude           20640 non-null  float64\n",
            " 1   latitude            20640 non-null  float64\n",
            " 2   housing_median_age  20640 non-null  float64\n",
            " 3   total_rooms         20640 non-null  float64\n",
            " 4   total_bedrooms      20433 non-null  float64\n",
            " 5   population          20640 non-null  float64\n",
            " 6   households          20640 non-null  float64\n",
            " 7   median_income       20640 non-null  float64\n",
            " 8   median_house_value  20640 non-null  float64\n",
            " 9   ocean_proximity     20640 non-null  object \n",
            "dtypes: float64(9), object(1)\n",
            "memory usage: 1.6+ MB\n"
          ],
          "name": "stdout"
        }
      ]
    },
    {
      "cell_type": "markdown",
      "metadata": {
        "id": "mHKdLgswwTfY",
        "colab_type": "text"
      },
      "source": [
        "Interpreting the `tail` and `info` printout:\n",
        "- Each row (Index in Pandas) represents one district (one measurement in general)\n",
        "- Each column represents one **attribute**\n",
        "- The units of the attributes are mostly arbitrary\n",
        "- The `total_bedrooms` attribute seems to be incomplete\n",
        "- All attributes are numeric (`Dtype=float64`), except for `ocean_proximity`"
      ]
    },
    {
      "cell_type": "markdown",
      "metadata": {
        "id": "7DThAjEP0uf0",
        "colab_type": "text"
      },
      "source": [
        "The `ocean_proximity` attribute contains text. \n",
        "\n",
        "It is no arbitrary text, but **cathegorical**:\n",
        "\n"
      ]
    },
    {
      "cell_type": "code",
      "metadata": {
        "id": "yWUld1Qe0eEZ",
        "colab_type": "code",
        "colab": {
          "base_uri": "https://localhost:8080/",
          "height": 33
        },
        "outputId": "32dc815a-0f3d-4a6c-9a8e-0ac2ed8da678"
      },
      "source": [
        "set(housing[\"ocean_proximity\"])"
      ],
      "execution_count": 11,
      "outputs": [
        {
          "output_type": "execute_result",
          "data": {
            "text/plain": [
              "{'<1H OCEAN', 'INLAND', 'ISLAND', 'NEAR BAY', 'NEAR OCEAN'}"
            ]
          },
          "metadata": {
            "tags": []
          },
          "execution_count": 11
        }
      ]
    },
    {
      "cell_type": "code",
      "metadata": {
        "id": "Sxp85nGzun6A",
        "colab_type": "code",
        "colab": {
          "base_uri": "https://localhost:8080/",
          "height": 117
        },
        "outputId": "b9491771-4ac4-4b85-9459-b36cb72b0c93"
      },
      "source": [
        "housing[\"ocean_proximity\"].value_counts()"
      ],
      "execution_count": 12,
      "outputs": [
        {
          "output_type": "execute_result",
          "data": {
            "text/plain": [
              "<1H OCEAN     9136\n",
              "INLAND        6551\n",
              "NEAR OCEAN    2658\n",
              "NEAR BAY      2290\n",
              "ISLAND           5\n",
              "Name: ocean_proximity, dtype: int64"
            ]
          },
          "metadata": {
            "tags": []
          },
          "execution_count": 12
        }
      ]
    },
    {
      "cell_type": "markdown",
      "metadata": {
        "id": "o_Yl8ano2HWA",
        "colab_type": "text"
      },
      "source": [
        "## Attribute histograms"
      ]
    },
    {
      "cell_type": "markdown",
      "metadata": {
        "id": "fs_7C9bO26EN",
        "colab_type": "text"
      },
      "source": [
        "Pandas offers build-in histgramm plots of all columns:"
      ]
    },
    {
      "cell_type": "code",
      "metadata": {
        "id": "QP3xFTQ3kop_",
        "colab_type": "code",
        "colab": {
          "base_uri": "https://localhost:8080/",
          "height": 268
        },
        "outputId": "6e3956fb-431e-4176-b37f-74d10932f7af"
      },
      "source": [
        "housing[\"ocean_proximity\"].hist();"
      ],
      "execution_count": 13,
      "outputs": [
        {
          "output_type": "display_data",
          "data": {
            "image/png": "[encoded data removed]",
            "text/plain": [
              "<Figure size 432x288 with 1 Axes>"
            ]
          },
          "metadata": {
            "tags": [],
            "needs_background": "light"
          }
        }
      ]
    },
    {
      "cell_type": "code",
      "metadata": {
        "id": "AOgs4l2yun6I",
        "colab_type": "code",
        "colab": {
          "base_uri": "https://localhost:8080/",
          "height": 441
        },
        "outputId": "bcff2c4a-4334-4b86-ae86-c7eaee0889d6"
      },
      "source": [
        "housing.hist(bins=50, figsize=(13, 6))\n",
        "plt.tight_layout();  "
      ],
      "execution_count": 14,
      "outputs": [
        {
          "output_type": "display_data",
          "data": {
            "image/png": "[encoded data removed]",
            "text/plain": [
              "<Figure size 936x432 with 9 Axes>"
            ]
          },
          "metadata": {
            "tags": [],
            "needs_background": "light"
          }
        }
      ]
    },
    {
      "cell_type": "markdown",
      "metadata": {
        "id": "ETnGW4D83PiU",
        "colab_type": "text"
      },
      "source": [
        "#### Observations"
      ]
    },
    {
      "cell_type": "markdown",
      "metadata": {
        "id": "xgYKlaxz3e-g",
        "colab_type": "text"
      },
      "source": [
        "- `median_income` can't be US$ or €. It's actually scaled and capped at 15 (for high incomes) and 0.5 (for low incomes)\n",
        "- obviously `housing_median_age` and `medial_house_value` are capped, too. Could become a problem beause:\n",
        "\n",
        ">- `medial_house_value` will later be the **target attribute**, also called **label**\n",
        ">- the number of capped samples is significant\n",
        "\n",
        "\n"
      ]
    },
    {
      "cell_type": "markdown",
      "metadata": {
        "id": "5NEzCDRlDwcn",
        "colab_type": "text"
      },
      "source": [
        "# Split data into **training** and **test** data\n"
      ]
    },
    {
      "cell_type": "markdown",
      "metadata": {
        "id": "QjzRBAGP2PT3",
        "colab_type": "text"
      },
      "source": [
        "It is time to split the data set into a **training set** and a **test set** for final evaluation / test. \n",
        "\n",
        " "
      ]
    },
    {
      "cell_type": "code",
      "metadata": {
        "id": "YEDAJgp_2PdO",
        "colab_type": "code",
        "colab": {}
      },
      "source": [
        "Image(os.path.join(\"MLPy2020\", \"images\", \"split_train_test.png\"))"
      ],
      "execution_count": 0,
      "outputs": []
    },
    {
      "cell_type": "markdown",
      "metadata": {
        "id": "1WkxOK0zs0CZ",
        "colab_type": "text"
      },
      "source": [
        "### Why splitting test data so early ?"
      ]
    },
    {
      "cell_type": "markdown",
      "metadata": {
        "id": "v5eRpUjwsz9E",
        "colab_type": "text"
      },
      "source": [
        "- Humans are strong in pattern recognition\n",
        "- If the entire dataset is studied thoroughly, the data scientist may chose a paricular model that **overfits**\n",
        "- The **generalization error** would be estimated too optimistic and the system would perform worse than expected on new data\n",
        "\n"
      ]
    },
    {
      "cell_type": "markdown",
      "metadata": {
        "id": "qYcZI_XDtXmq",
        "colab_type": "text"
      },
      "source": [
        "## Unterstanding `train_test_split`"
      ]
    },
    {
      "cell_type": "code",
      "metadata": {
        "id": "dERIR13RCfD_",
        "colab_type": "code",
        "colab": {}
      },
      "source": [
        "from sklearn.model_selection import train_test_split"
      ],
      "execution_count": 0,
      "outputs": []
    },
    {
      "cell_type": "markdown",
      "metadata": {
        "id": "aDWisThMxWwZ",
        "colab_type": "text"
      },
      "source": [
        "train_test_split features:\n",
        "- Easy to use 'one-liner'\n",
        "- **Randomly** splits data in an arbitrary size\n",
        "- Reproducable splitting, so the model doesn't see more of the full dataset on each execution\n",
        "- Multiple datasets can be split on the same indices (e.g. `features` and `labels`)"
      ]
    },
    {
      "cell_type": "markdown",
      "metadata": {
        "id": "f3yc01ds2R1v",
        "colab_type": "text"
      },
      "source": [
        "### Simple `train_test_split` evaluation"
      ]
    },
    {
      "cell_type": "markdown",
      "metadata": {
        "id": "Qc345UJe2yzi",
        "colab_type": "text"
      },
      "source": [
        "Let's generate some simple artificial data to evaluate `train_test_split`"
      ]
    },
    {
      "cell_type": "code",
      "metadata": {
        "id": "nQzROtj4HkiD",
        "colab_type": "code",
        "colab": {}
      },
      "source": [
        "N = 300\n",
        "feature = np.arange(0, N, step=1)   # 0..N\n",
        "labels = np.zeros_like(feature)\n",
        "labels[feature > feature.max() * 2/3] = 1"
      ],
      "execution_count": 0,
      "outputs": []
    },
    {
      "cell_type": "code",
      "metadata": {
        "id": "BADy8_sOHkft",
        "colab_type": "code",
        "colab": {}
      },
      "source": [
        "dataset = pd.DataFrame(np.column_stack([feature, labels]), columns=[\"feature\", \"labels\"])\n",
        "dataset.iloc[[0, 1, 199, 200, -2, -1], :]"
      ],
      "execution_count": 0,
      "outputs": []
    },
    {
      "cell_type": "markdown",
      "metadata": {
        "id": "YVdT-x_x5PPG",
        "colab_type": "text"
      },
      "source": [
        "... we generated a simple dataset with the 200 labels being 0's followd by 100 1's.\n",
        "\n",
        "The data will be splitted into a `train_set` and a `test_set` both having the length of 150 (because `test_size=0.5`)."
      ]
    },
    {
      "cell_type": "code",
      "metadata": {
        "id": "DmM55JA2KEeG",
        "colab_type": "code",
        "colab": {}
      },
      "source": [
        "train_set, test_set = train_test_split(dataset, test_size=0.5, random_state=4711)\n",
        "train_set.head()"
      ],
      "execution_count": 0,
      "outputs": []
    },
    {
      "cell_type": "code",
      "metadata": {
        "id": "054-cLNTKgXV",
        "colab_type": "code",
        "colab": {}
      },
      "source": [
        "train_set.hist(figsize=[10, 1.5]);"
      ],
      "execution_count": 0,
      "outputs": []
    },
    {
      "cell_type": "code",
      "metadata": {
        "id": "BYjPmYmFLOWy",
        "colab_type": "code",
        "colab": {}
      },
      "source": [
        "test_set.hist(figsize=[10, 1.5]);"
      ],
      "execution_count": 0,
      "outputs": []
    },
    {
      "cell_type": "code",
      "metadata": {
        "id": "65QAe4_unZLJ",
        "colab_type": "code",
        "colab": {}
      },
      "source": [
        "dataset.hist(figsize=[10, 1.5]);"
      ],
      "execution_count": 0,
      "outputs": []
    },
    {
      "cell_type": "markdown",
      "metadata": {
        "id": "1cR11Z3K7Pkv",
        "colab_type": "text"
      },
      "source": [
        "`test_train_split` worked, because:\n",
        "- both subsets are ramdomly shuffled\n",
        "- each of the subsets `train_set` and `test_set` contains about 100 0's and 50 1's\n",
        "- executing `test_train_split` multiple times returns identical results"
      ]
    },
    {
      "cell_type": "markdown",
      "metadata": {
        "colab_type": "text",
        "id": "Jkq3_7eWtqmj"
      },
      "source": [
        "## Unterstanding `StratifiedShuffleSplit`"
      ]
    },
    {
      "cell_type": "markdown",
      "metadata": {
        "id": "ooDxE5EsAWZj",
        "colab_type": "text"
      },
      "source": [
        "**Stratified sampling** ensures that the feature \n",
        "distributions are **representative**. \n",
        "\n",
        "The `test_train_split` function we used before didn't split the dataset represantatively:"
      ]
    },
    {
      "cell_type": "code",
      "metadata": {
        "id": "pYchLmrP6gqO",
        "colab_type": "code",
        "colab": {}
      },
      "source": [
        "train_set[\"labels\"].sum()"
      ],
      "execution_count": 0,
      "outputs": []
    },
    {
      "cell_type": "code",
      "metadata": {
        "colab_type": "code",
        "id": "B34y_PTx8eyw",
        "colab": {}
      },
      "source": [
        "test_set[\"labels\"].sum()"
      ],
      "execution_count": 0,
      "outputs": []
    },
    {
      "cell_type": "markdown",
      "metadata": {
        "id": "5SBokH-0DunY",
        "colab_type": "text"
      },
      "source": [
        "... `54 / 46` instead of `50 / 50` is a significant difference and is called **sampling bias**.\n",
        "\n",
        "The sampling bias effect is typically worse for smaller datasets."
      ]
    },
    {
      "cell_type": "markdown",
      "metadata": {
        "id": "3sttBzuPFCoU",
        "colab_type": "text"
      },
      "source": [
        "Scikit-Learn incorporates the `StratifiedShuffleSplit` class, unfortunatelly without a handy one-liner function such as `test_train_split`. Thus the code is more complex:"
      ]
    },
    {
      "cell_type": "code",
      "metadata": {
        "id": "FMQso2DxHkcu",
        "colab_type": "code",
        "colab": {}
      },
      "source": [
        "from sklearn.model_selection import StratifiedShuffleSplit"
      ],
      "execution_count": 0,
      "outputs": []
    },
    {
      "cell_type": "code",
      "metadata": {
        "id": "FCvYtyy58cDj",
        "colab_type": "code",
        "colab": {}
      },
      "source": [
        "split = StratifiedShuffleSplit(n_splits=1, test_size=0.5, random_state=23)\n",
        "for train_index, test_index in split.split(dataset, dataset[\"labels\"]):\n",
        "    strat_train_set = dataset.loc[train_index]\n",
        "    strat_test_set = dataset.loc[test_index]"
      ],
      "execution_count": 0,
      "outputs": []
    },
    {
      "cell_type": "markdown",
      "metadata": {
        "id": "y6iR4QV3Fmhi",
        "colab_type": "text"
      },
      "source": [
        "Checking the subsets reveals a perfectly representative `50 / 50` split: "
      ]
    },
    {
      "cell_type": "code",
      "metadata": {
        "id": "yDJ5HEBaAP38",
        "colab_type": "code",
        "colab": {}
      },
      "source": [
        "strat_train_set[\"labels\"].sum()"
      ],
      "execution_count": 0,
      "outputs": []
    },
    {
      "cell_type": "code",
      "metadata": {
        "id": "vcxEiHsU8cBA",
        "colab_type": "code",
        "colab": {}
      },
      "source": [
        "strat_test_set[\"labels\"].sum()"
      ],
      "execution_count": 0,
      "outputs": []
    },
    {
      "cell_type": "code",
      "metadata": {
        "id": "Kz7w9-b38b-b",
        "colab_type": "code",
        "colab": {}
      },
      "source": [
        "strat_train_set.hist(figsize=[10, 1.5]);"
      ],
      "execution_count": 0,
      "outputs": []
    },
    {
      "cell_type": "code",
      "metadata": {
        "id": "fkyyYKGMBcr-",
        "colab_type": "code",
        "colab": {}
      },
      "source": [
        "strat_test_set.hist(figsize=[10, 1.5]);"
      ],
      "execution_count": 0,
      "outputs": []
    },
    {
      "cell_type": "markdown",
      "metadata": {
        "id": "auKaDNFHIRq7",
        "colab_type": "text"
      },
      "source": [
        "## Applying `StratifiedShuffleSplit`"
      ]
    },
    {
      "cell_type": "markdown",
      "metadata": {
        "id": "jVGwctlGI1by",
        "colab_type": "text"
      },
      "source": [
        "Applying `StratifiedShuffleSplit` to the housing data is a bit more complicated than for the simple `dataset`. It has to be decided on which feature to stratify on, an that feature needs to be *categorical*.\n",
        "\n",
        "In this example:\n",
        "- `\"median_income\"` is chosen a *stratification feature*\n",
        "- `pd.cut` is used to cut is in bins in order to have it  *categorical*\n",
        "\n",
        "The following code \n",
        "- adds a new cathegorical feature `income_cat`\n",
        "- splits the `housing` dataset representatively to `income_cat`\n",
        "- and removes `income_cat` at the end\n"
      ]
    },
    {
      "cell_type": "code",
      "metadata": {
        "id": "QjCbRsGYun62",
        "colab_type": "code",
        "colab": {}
      },
      "source": [
        "housing[\"income_cat\"] = pd.cut(housing[\"median_income\"],\n",
        "                               bins=[0., 1.5, 3.0, 4.5, 6., np.inf],\n",
        "                               labels=[1, 2, 3, 4, 5])\n",
        "\n",
        "split = StratifiedShuffleSplit(n_splits=1, test_size=0.2, random_state=42)\n",
        "for train_index, test_index in split.split(housing, housing[\"income_cat\"]):\n",
        "    strat_train_set = housing.loc[train_index]\n",
        "    strat_test_set = housing.loc[test_index]\n",
        "\n",
        "for set_ in (strat_train_set, strat_test_set):\n",
        "    set_.drop(\"income_cat\", axis=1, inplace=True)    "
      ],
      "execution_count": 0,
      "outputs": []
    },
    {
      "cell_type": "code",
      "metadata": {
        "id": "PMUKWt8lM8Uo",
        "colab_type": "code",
        "colab": {}
      },
      "source": [
        "strat_test_set.shape"
      ],
      "execution_count": 0,
      "outputs": []
    },
    {
      "cell_type": "markdown",
      "metadata": {
        "id": "6wyv6AOsNTI8",
        "colab_type": "text"
      },
      "source": [
        "The test subset needs to be kept for later use!\n"
      ]
    },
    {
      "cell_type": "code",
      "metadata": {
        "id": "x5v7aMauNAFV",
        "colab_type": "code",
        "colab": {}
      },
      "source": [
        "strat_train_set.shape"
      ],
      "execution_count": 0,
      "outputs": []
    },
    {
      "cell_type": "markdown",
      "metadata": {
        "id": "V6clU0VENKLD",
        "colab_type": "text"
      },
      "source": [
        "\n",
        "The training subset is small enough to explore is small enough to explore is directly. Otherwise we would split a smaller *exploration subset*.\n",
        "\n",
        "Now, we copy the training subset back to the more descriptive `housing` variable."
      ]
    },
    {
      "cell_type": "code",
      "metadata": {
        "id": "-MTfsmycun7I",
        "colab_type": "code",
        "colab": {}
      },
      "source": [
        "housing = strat_train_set.copy()"
      ],
      "execution_count": 0,
      "outputs": []
    },
    {
      "cell_type": "markdown",
      "metadata": {
        "id": "YH7nRhqbun7H",
        "colab_type": "text"
      },
      "source": [
        "# Explore the data"
      ]
    },
    {
      "cell_type": "markdown",
      "metadata": {
        "id": "6iLV33F8lZeo",
        "colab_type": "text"
      },
      "source": [
        "There is geographical information in the dataset, so let's plot the map:"
      ]
    },
    {
      "cell_type": "code",
      "metadata": {
        "id": "Yqq71QT-un7P",
        "colab_type": "code",
        "colab": {}
      },
      "source": [
        "housing.plot(kind=\"scatter\", x=\"longitude\", y=\"latitude\", alpha=0.1);"
      ],
      "execution_count": 0,
      "outputs": []
    },
    {
      "cell_type": "markdown",
      "metadata": {
        "id": "CwxNwd8qlwtK",
        "colab_type": "text"
      },
      "source": [
        "... use transparency (`alpha=0.1`) to see high-density areas better.\n",
        "\n",
        "The following graph puts more information in the 2D graph:\n",
        "- color: `median_house_value`, the target / label\n",
        "- size: `population` of the district"
      ]
    },
    {
      "cell_type": "code",
      "metadata": {
        "colab_type": "code",
        "id": "CooVv-ljmvuE",
        "colab": {}
      },
      "source": [
        "housing.plot(kind=\"scatter\", x=\"longitude\", y=\"latitude\", alpha=0.4, s=housing[\"population\"]/100, \n",
        "             figsize=(10, 7), c=\"median_house_value\", cmap=plt.cm.jet, colorbar=True, sharex=False);"
      ],
      "execution_count": 0,
      "outputs": []
    },
    {
      "cell_type": "markdown",
      "metadata": {
        "id": "p4GLoT25un7T",
        "colab_type": "text"
      },
      "source": [
        "Bugfix: Use `sharex=False`, otherwise the x-axis values and legend are not displayed (https://github.com/pandas-dev/pandas/issues/10611). \n",
        "\n"
      ]
    },
    {
      "cell_type": "markdown",
      "metadata": {
        "id": "buouYG0w_9s_",
        "colab_type": "text"
      },
      "source": [
        "The graph is even more self-explaining when overlayed with a map. In this example, the map is loaded as an image (`california.png`) and \"aligned-by-hand\":"
      ]
    },
    {
      "cell_type": "code",
      "metadata": {
        "id": "3oJb8mSCun7Z",
        "colab_type": "code",
        "colab": {}
      },
      "source": [
        "housing.plot(kind=\"scatter\", x=\"longitude\", y=\"latitude\", alpha=0.4, s=housing[\"population\"]/100, \n",
        "             figsize=(10, 7), c=\"median_house_value\", cmap=plt.cm.jet, colorbar=True, sharex=False)\n",
        "\n",
        "plt.imshow(mpl.image.imread(os.path.join(\"MLPy2020\", \"images\", \"california.png\")), \n",
        "           extent=[-124.55, -113.80, 32.45, 42.05]);\n",
        "\n",
        "# plt.show()"
      ],
      "execution_count": 0,
      "outputs": []
    },
    {
      "cell_type": "markdown",
      "metadata": {
        "id": "bWM22PFFBBLY",
        "colab_type": "text"
      },
      "source": [
        "## Interpreting the map"
      ]
    },
    {
      "cell_type": "markdown",
      "metadata": {
        "id": "Pc_HNa1wBHUQ",
        "colab_type": "text"
      },
      "source": [
        "- the `median_house_prices` are strongly related to location\n",
        "- `ocean_proximity` could be helpful. Although there are low-value coastal areas, as well.\n",
        "- a clustering algorithm should easily find high price areas and a new features with distances to these cluster centers would be useful "
      ]
    },
    {
      "cell_type": "markdown",
      "metadata": {
        "id": "7sez8lE734xw",
        "colab_type": "text"
      },
      "source": [
        "## Correlations "
      ]
    },
    {
      "cell_type": "markdown",
      "metadata": {
        "id": "C2P5sIL5lUzA",
        "colab_type": "text"
      },
      "source": [
        "Computing the correlation coefficients is easy (at least for not too large datasets) and can provide insides to feature-to-feature and feature-to-target assiciations. \n"
      ]
    },
    {
      "cell_type": "markdown",
      "metadata": {
        "id": "E-xjktnvnPe1",
        "colab_type": "text"
      },
      "source": [
        "### Correlation coefficient\n",
        "A **correlation coefficient $p$** shows how much two features' movements are associated *linearly*:\n",
        "\n",
        "- $abs(p) < 0.1$: No relevant linear correlation\n",
        "- $p > 0.5$: Strong plositive linear correlation\n",
        "- $p < -0.5$: Strong negative linear correlation\n"
      ]
    },
    {
      "cell_type": "markdown",
      "metadata": {
        "id": "9Qf-foW4kogV",
        "colab_type": "text"
      },
      "source": [
        "#### Correlation of arbitrary functions"
      ]
    },
    {
      "cell_type": "markdown",
      "metadata": {
        "id": "IbWNfFDMkxoZ",
        "colab_type": "text"
      },
      "source": [
        "Let's simulate some arbitraty funcitons to get a feeling for the correlation coefficients:"
      ]
    },
    {
      "cell_type": "code",
      "metadata": {
        "id": "eBYGaUSBQWBh",
        "colab_type": "code",
        "colab": {}
      },
      "source": [
        "x = np.linspace(start=-1, stop=0.85, num=100)\n",
        "np.random.seed(42)\n",
        "noise = 0.4 * np.random.randn(x.size)\n",
        "df = pd.DataFrame(np.column_stack([ x , 0.33*x,   x*x    ,  -x  ,  noise ,  x + noise]), \n",
        "                          columns=[\"x\", \"pos\" ,  \"square\", \"neg\", \"noise\", \"pos+noise\"])\n",
        "df.plot(style=\".\");"
      ],
      "execution_count": 0,
      "outputs": []
    },
    {
      "cell_type": "markdown",
      "metadata": {
        "id": "5OnaDAd8diZH",
        "colab_type": "text"
      },
      "source": [
        "Panda DataFrames include a `corr` method for computing the pairwise correlation coefficients of the columns:"
      ]
    },
    {
      "cell_type": "code",
      "metadata": {
        "id": "xa-awszqdkS8",
        "colab_type": "code",
        "colab": {}
      },
      "source": [
        "df.corr()[\"x\"]"
      ],
      "execution_count": 0,
      "outputs": []
    },
    {
      "cell_type": "markdown",
      "metadata": {
        "id": "Gc9kHeqbmE9j",
        "colab_type": "text"
      },
      "source": [
        "Result discussion:\n",
        "- Full correlation (+/-1) is given, regardless of the slope: E.g. $p(0.33*x)=p(x)=1$\n",
        "- The `square` function exebits a relatively weak **linear** correlation (Strongly depencent on the x-axis section)\n",
        "- Although quite noisy the `pos+noise` correlation is very strong.\n",
        "\n"
      ]
    },
    {
      "cell_type": "markdown",
      "metadata": {
        "id": "skezkbvJn_b6",
        "colab_type": "text"
      },
      "source": [
        "### Applying `corr` to the `housing` dataset"
      ]
    },
    {
      "cell_type": "code",
      "metadata": {
        "id": "JwYES-9Ds5Ho",
        "colab_type": "code",
        "colab": {}
      },
      "source": [
        "housing.head(3)"
      ],
      "execution_count": 0,
      "outputs": []
    },
    {
      "cell_type": "code",
      "metadata": {
        "id": "fHepKaUFun7b",
        "colab_type": "code",
        "colab": {}
      },
      "source": [
        "corr_matrix = housing.corr()\n",
        "corr_matrix"
      ],
      "execution_count": 0,
      "outputs": []
    },
    {
      "cell_type": "markdown",
      "metadata": {
        "id": "vUZJuy3M6Tw9",
        "colab_type": "text"
      },
      "source": [
        "A heatmap of the correlation matrix is easier to evaluate. \n",
        "\n",
        "`Matplotlib` can show bitmaps by using the `imshow()` method. If the bitmap is a NumPy matrix you may call it a heatmap: "
      ]
    },
    {
      "cell_type": "code",
      "metadata": {
        "id": "faM5KVKw7R79",
        "colab_type": "code",
        "colab": {}
      },
      "source": [
        "plt.imshow(corr_matrix, cmap=plt.cm.bwr)\n",
        "plt.xticks(range(len(corr_matrix.columns)), labels=corr_matrix.columns, rotation=90)\n",
        "plt.yticks(range(len(corr_matrix.index)), labels=corr_matrix.index)\n",
        "plt.clim([-1, 1])\n",
        "plt.colorbar();"
      ],
      "execution_count": 0,
      "outputs": []
    },
    {
      "cell_type": "markdown",
      "metadata": {
        "id": "j_NNhNm7gGID",
        "colab_type": "text"
      },
      "source": [
        "#### Evaluating the heatmap"
      ]
    },
    {
      "cell_type": "markdown",
      "metadata": {
        "id": "NStUKG4f9ia1",
        "colab_type": "text"
      },
      "source": [
        "1. There is a strong correlation between the four features `total_rooms`, `total_bedrooms`, `population` , `households`.\n",
        "\n",
        "1. Also there is a strong negative correlation between `longitude` and `latitude`. This can be understood from the map of California from the previous chapter.\n",
        "\n",
        "1. `median_house_value` is the **target**. Thus, features with high (positive or negative) correlation with `median_house_value` are of interest. The following sorted output shows that only `median_income` correlates significantly:"
      ]
    },
    {
      "cell_type": "markdown",
      "metadata": {
        "id": "mRRrlwh5gWgg",
        "colab_type": "text"
      },
      "source": [
        "#### Correlation with \"median_house_value\""
      ]
    },
    {
      "cell_type": "markdown",
      "metadata": {
        "id": "V4QXzJCBgcmN",
        "colab_type": "text"
      },
      "source": [
        "The important correlation coefficients are those referencing to `median_house_value`:"
      ]
    },
    {
      "cell_type": "code",
      "metadata": {
        "id": "kk2gC5h4un7f",
        "colab_type": "code",
        "colab": {}
      },
      "source": [
        "corr_with_house_value = corr_matrix[\"median_house_value\"].drop(\"median_house_value\")\n",
        "corr_with_house_value.sort_values(ascending=False)"
      ],
      "execution_count": 0,
      "outputs": []
    },
    {
      "cell_type": "code",
      "metadata": {
        "id": "XZ9z4u3ylLQ6",
        "colab_type": "code",
        "colab": {}
      },
      "source": [
        "corr_with_house_value.sort_values().plot.barh(grid=True);"
      ],
      "execution_count": 0,
      "outputs": []
    },
    {
      "cell_type": "markdown",
      "metadata": {
        "id": "BvxUc1q8O4-L",
        "colab_type": "text"
      },
      "source": [
        "#### Interactive correlation matrix (optional)\n",
        "For the usec-case of inspecting the four high-correlation-features in more detail, this subchapter adds interactive sliders to the color scale."
      ]
    },
    {
      "cell_type": "code",
      "metadata": {
        "id": "lwN3CjSMHsCu",
        "colab_type": "code",
        "colab": {}
      },
      "source": [
        "from ipywidgets import interact\n",
        "from ipykernel.pylab.backend_inline import flush_figures"
      ],
      "execution_count": 0,
      "outputs": []
    },
    {
      "cell_type": "code",
      "metadata": {
        "id": "LF9nOZ04HuUM",
        "colab_type": "code",
        "colab": {}
      },
      "source": [
        "def plot_corr_matrix(color_min=-1, color_max=1):\n",
        "    plt.imshow(corr_matrix.values, cmap=\"bwr\")\n",
        "    ticks = corr_matrix.columns\n",
        "    plt.xticks(ticks=range(len(ticks)), labels=ticks, rotation=90)\n",
        "    plt.yticks(ticks=range(len(ticks)), labels=ticks)\n",
        "    plt.clim([color_min, color_max])\n",
        "    plt.colorbar()\n",
        "    flush_figures();"
      ],
      "execution_count": 0,
      "outputs": []
    },
    {
      "cell_type": "code",
      "metadata": {
        "id": "QUzf1SxeHuRs",
        "colab_type": "code",
        "colab": {}
      },
      "source": [
        "interact(plot_corr_matrix, color_min=(-1, 1, 0.01), color_max=(-1, 1, 0.01));"
      ],
      "execution_count": 0,
      "outputs": []
    },
    {
      "cell_type": "markdown",
      "metadata": {
        "id": "THZxc8s14E6X",
        "colab_type": "text"
      },
      "source": [
        "## Scatter matrix"
      ]
    },
    {
      "cell_type": "markdown",
      "metadata": {
        "id": "MzG1xqxVEYRT",
        "colab_type": "text"
      },
      "source": [
        "Pandas build-in `scatter_matrix` method allows quick visual evaluation of feature distributions and correlations:"
      ]
    },
    {
      "cell_type": "code",
      "metadata": {
        "id": "V5mRgF2nDR4c",
        "colab_type": "code",
        "colab": {}
      },
      "source": [
        "pd.plotting.scatter_matrix(housing, figsize=(15, 10), alpha=0.25, hist_kwds={\"bins\":25});"
      ],
      "execution_count": 0,
      "outputs": []
    },
    {
      "cell_type": "markdown",
      "metadata": {
        "id": "9l_N8vOY4LiA",
        "colab_type": "text"
      },
      "source": [
        "...one can clearly see the high correlation within the \"4x4 center\".\n",
        "\n",
        "Let's look at a subset of the attributes more closely:"
      ]
    },
    {
      "cell_type": "code",
      "metadata": {
        "id": "qm2Y91lE23QN",
        "colab_type": "code",
        "colab": {}
      },
      "source": [
        "attributes = [\"median_house_value\", \"median_income\", \"total_rooms\",\n",
        "              \"housing_median_age\"]\n",
        "pd.plotting.scatter_matrix(housing[attributes], figsize=(12, 8), alpha=0.25, hist_kwds={\"bins\":50});"
      ],
      "execution_count": 0,
      "outputs": []
    },
    {
      "cell_type": "markdown",
      "metadata": {
        "id": "T26v6_4SNp--",
        "colab_type": "text"
      },
      "source": [
        "Detailed evaluation of the __target__ `median_house_value` with the best-correlating __feature__ `median_income`:\n"
      ]
    },
    {
      "cell_type": "code",
      "metadata": {
        "id": "cILtg0tfun7o",
        "colab_type": "code",
        "colab": {}
      },
      "source": [
        "housing.plot(kind=\"scatter\", x=\"median_income\", y=\"median_house_value\",\n",
        "             alpha=0.2, figsize=(9, 6), s=20);"
      ],
      "execution_count": 0,
      "outputs": []
    },
    {
      "cell_type": "markdown",
      "metadata": {
        "id": "_wjHSh1H7x8Y",
        "colab_type": "text"
      },
      "source": [
        "###plot observations\n",
        "What can be learned from the scatter-plot? \n"
      ]
    },
    {
      "cell_type": "markdown",
      "metadata": {
        "id": "Ei-cBjYL5DX-",
        "colab_type": "text"
      },
      "source": [
        "- there is a strong correlation\n",
        "- there seems to be a cap at y=500k (horizontal line)\n",
        "- there are more horizontal lines (e.g. at 350k) which are probably artificial"
      ]
    },
    {
      "cell_type": "markdown",
      "metadata": {
        "id": "xZybmRmHWXeY",
        "colab_type": "text"
      },
      "source": [
        "### 2D histogram and contour plots"
      ]
    },
    {
      "cell_type": "markdown",
      "metadata": {
        "id": "aIOfxcscWfD5",
        "colab_type": "text"
      },
      "source": [
        "Plotting alternatives with `matplotlib`"
      ]
    },
    {
      "cell_type": "code",
      "metadata": {
        "id": "dM_9qpzdy1n1",
        "colab_type": "code",
        "colab": {}
      },
      "source": [
        "plot_hist_2D(housing, \"median_income\", \"median_house_value\", bins=25, figsize=[12, 5])"
      ],
      "execution_count": 0,
      "outputs": []
    },
    {
      "cell_type": "markdown",
      "metadata": {
        "id": "CQJAhxuL4-Cn",
        "colab_type": "text"
      },
      "source": [
        "## Experimenting with feature combinations"
      ]
    },
    {
      "cell_type": "markdown",
      "metadata": {
        "id": "U7IXIQsXeLzT",
        "colab_type": "text"
      },
      "source": [
        "Sometimes feature combinations are more useful in predicting the target, as the features by themself. \n",
        "\n",
        "An examples: `total_rooms` is the total number of rooms in a district. Dividing `total_rooms` by `households` (the number of households in the district) yields `rooms_per_household` and is probably more helpful in predicting the value of the house.\n"
      ]
    },
    {
      "cell_type": "markdown",
      "metadata": {
        "id": "urTMk4fed4Nn",
        "colab_type": "text"
      },
      "source": [
        "Before adding new features, let's make a copy of the `housing` dataset:"
      ]
    },
    {
      "cell_type": "code",
      "metadata": {
        "id": "xBU16VlRbMf9",
        "colab_type": "code",
        "colab": {}
      },
      "source": [
        "housing_copy = housing.copy(deep=True)"
      ],
      "execution_count": 0,
      "outputs": []
    },
    {
      "cell_type": "markdown",
      "metadata": {
        "id": "mIquXYSVf-Zg",
        "colab_type": "text"
      },
      "source": [
        "This, again, are the correlation coefficients of the native features:"
      ]
    },
    {
      "cell_type": "code",
      "metadata": {
        "id": "Gtz77rUTW9Gc",
        "colab_type": "code",
        "colab": {}
      },
      "source": [
        "corr_matrix = housing_copy.corr()\n",
        "corr_matrix[\"median_house_value\"].sort_values(ascending=False)"
      ],
      "execution_count": 0,
      "outputs": []
    },
    {
      "cell_type": "markdown",
      "metadata": {
        "id": "EXLx6a2qgPTk",
        "colab_type": "text"
      },
      "source": [
        "Adding new features:"
      ]
    },
    {
      "cell_type": "code",
      "metadata": {
        "id": "3jWONhRfun7q",
        "colab_type": "code",
        "colab": {}
      },
      "source": [
        "housing[\"rooms_per_household\"] = housing[\"total_rooms\"] / housing[\"households\"]\n",
        "housing[\"bedrooms_per_room\"] = housing[\"total_bedrooms\"] / housing[\"total_rooms\"]\n",
        "housing[\"population_per_household\"] = housing[\"population\"] / housing[\"households\"]"
      ],
      "execution_count": 0,
      "outputs": []
    },
    {
      "cell_type": "markdown",
      "metadata": {
        "id": "GUOAdON7gW7K",
        "colab_type": "text"
      },
      "source": [
        "... Note how readable the calculations are, using Pandas DataFrames."
      ]
    },
    {
      "cell_type": "markdown",
      "metadata": {
        "id": "pHfph0Zlgn6G",
        "colab_type": "text"
      },
      "source": [
        "Correlations coefficients including the new features:"
      ]
    },
    {
      "cell_type": "code",
      "metadata": {
        "id": "HKuTKg3dun7t",
        "colab_type": "code",
        "colab": {}
      },
      "source": [
        "corr_matrix = housing.corr()\n",
        "corr_matrix[\"median_house_value\"].sort_values(ascending=False)"
      ],
      "execution_count": 0,
      "outputs": []
    },
    {
      "cell_type": "markdown",
      "metadata": {
        "id": "XlLchldHlEYG",
        "colab_type": "text"
      },
      "source": [
        "Alternative (manual) printout that marks new features"
      ]
    },
    {
      "cell_type": "code",
      "metadata": {
        "id": "bcMA3o44XGFT",
        "colab_type": "code",
        "colab": {}
      },
      "source": [
        "new_features = set(housing.columns).difference(set(housing_copy.columns))\n",
        "corr_dict = corr_matrix[\"median_house_value\"].sort_values(ascending=False).to_dict()\n",
        "for key, val in corr_dict.items():\n",
        "    if key in new_features:\n",
        "        print(\"{:30s}{:.3f}  <-- new feature --\".format(key, val))\n",
        "    else:\n",
        "        print(\"{:30s}{:.3f}\".format(key, val))"
      ],
      "execution_count": 0,
      "outputs": []
    },
    {
      "cell_type": "markdown",
      "metadata": {
        "id": "pocbCsYFXOqu",
        "colab_type": "text"
      },
      "source": [
        "###  New features scatter matrix (optional)"
      ]
    },
    {
      "cell_type": "code",
      "metadata": {
        "id": "yyLh3wAbofBH",
        "colab_type": "code",
        "colab": {}
      },
      "source": [
        "features = [\"median_house_value\"] + list(new_features)\n",
        "pd.plotting.scatter_matrix(housing[features], figsize=(13, 8), alpha=0.5, hist_kwds={\"bins\":50});"
      ],
      "execution_count": 0,
      "outputs": []
    },
    {
      "cell_type": "markdown",
      "metadata": {
        "id": "JmObmaqsun71",
        "colab_type": "text"
      },
      "source": [
        "# Prepare the data for Machine Learning algorithms"
      ]
    },
    {
      "cell_type": "markdown",
      "metadata": {
        "id": "Kku2gbm-y4Fp",
        "colab_type": "text"
      },
      "source": [
        "Seprerate **features** and **labels** in the training set:"
      ]
    },
    {
      "cell_type": "code",
      "metadata": {
        "id": "SoZzMiLnun73",
        "colab_type": "code",
        "colab": {}
      },
      "source": [
        "housing = strat_train_set.drop(\"median_house_value\", axis=1)\n",
        "housing_labels = strat_train_set[\"median_house_value\"].copy()"
      ],
      "execution_count": 0,
      "outputs": []
    },
    {
      "cell_type": "code",
      "metadata": {
        "id": "PmWrUNcP_YC5",
        "colab_type": "code",
        "colab": {}
      },
      "source": [
        "housing.shape"
      ],
      "execution_count": 0,
      "outputs": []
    },
    {
      "cell_type": "code",
      "metadata": {
        "id": "McVE_5-j_bXW",
        "colab_type": "code",
        "colab": {}
      },
      "source": [
        "housing_labels.shape"
      ],
      "execution_count": 0,
      "outputs": []
    },
    {
      "cell_type": "code",
      "metadata": {
        "id": "YmJONWPD_g26",
        "colab_type": "code",
        "colab": {}
      },
      "source": [
        "housing_labels.head()"
      ],
      "execution_count": 0,
      "outputs": []
    },
    {
      "cell_type": "markdown",
      "metadata": {
        "id": "YNp4XOSgAivw",
        "colab_type": "text"
      },
      "source": [
        "##Data cleaning"
      ]
    },
    {
      "cell_type": "markdown",
      "metadata": {
        "id": "vkHjuzg5Aqha",
        "colab_type": "text"
      },
      "source": [
        "###Missing values"
      ]
    },
    {
      "cell_type": "markdown",
      "metadata": {
        "id": "WnZRHmUeA2XP",
        "colab_type": "text"
      },
      "source": [
        "Most Machine Learning algorithms cannot work with missing valus. \n",
        "\n",
        "As seen before, the `total_bedrooms` feature contains missing values:"
      ]
    },
    {
      "cell_type": "code",
      "metadata": {
        "id": "8VKUJjb1Arpu",
        "colab_type": "code",
        "colab": {}
      },
      "source": [
        "housing.info()"
      ],
      "execution_count": 0,
      "outputs": []
    },
    {
      "cell_type": "markdown",
      "metadata": {
        "id": "P9YEmJ_3Bz-C",
        "colab_type": "text"
      },
      "source": [
        "**Find incomplete rows using `pd.DataFrame.isnull()` method**"
      ]
    },
    {
      "cell_type": "code",
      "metadata": {
        "id": "gM0UdvXbBIVW",
        "colab_type": "code",
        "colab": {}
      },
      "source": [
        "sample_incomplete_rows = housing[housing.isnull().any(axis=1)].head(3)\n",
        "sample_incomplete_rows"
      ],
      "execution_count": 0,
      "outputs": []
    },
    {
      "cell_type": "markdown",
      "metadata": {
        "id": "ZmE2VtdFCy2d",
        "colab_type": "text"
      },
      "source": [
        "#### Option 1: Drop rows "
      ]
    },
    {
      "cell_type": "markdown",
      "metadata": {
        "id": "DciQJTjhHXHZ",
        "colab_type": "text"
      },
      "source": [
        "Drop incomplete rows using `dropna()`"
      ]
    },
    {
      "cell_type": "code",
      "metadata": {
        "id": "C7YWkZSqun78",
        "colab_type": "code",
        "colab": {}
      },
      "source": [
        "sample_incomplete_rows.dropna(subset=[\"total_bedrooms\"])    # option 1"
      ],
      "execution_count": 0,
      "outputs": []
    },
    {
      "cell_type": "markdown",
      "metadata": {
        "id": "CoL7Jpu8DnwJ",
        "colab_type": "text"
      },
      "source": [
        "#### Option 2: Drop features\n"
      ]
    },
    {
      "cell_type": "markdown",
      "metadata": {
        "id": "HYyWPWXeEDRd",
        "colab_type": "text"
      },
      "source": [
        "Drop incomplete features using `drop()`\n",
        "\n",
        "Default axis is `0` or `index`, meaning rows.\n",
        "\n",
        "Therefore chose `axis=1` or `column`.\n"
      ]
    },
    {
      "cell_type": "code",
      "metadata": {
        "id": "xCn5op4Jun7_",
        "colab_type": "code",
        "colab": {}
      },
      "source": [
        "sample_incomplete_rows.drop(\"total_bedrooms\", axis=1)       # option 2"
      ],
      "execution_count": 0,
      "outputs": []
    },
    {
      "cell_type": "markdown",
      "metadata": {
        "id": "_Dh4eXFlF7Wz",
        "colab_type": "text"
      },
      "source": [
        "#### Option 3: `df.fillna()` "
      ]
    },
    {
      "cell_type": "markdown",
      "metadata": {
        "colab_type": "text",
        "id": "Ubei62ouHvTg"
      },
      "source": [
        "Fill missing values using `fillna()` \n",
        "Assume the missing value to be zero, the mean, the median, etc"
      ]
    },
    {
      "cell_type": "code",
      "metadata": {
        "id": "Lt6bRK8iun8B",
        "colab_type": "code",
        "colab": {}
      },
      "source": [
        "median = housing[\"total_bedrooms\"].median()\n",
        "sample_incomplete_rows[\"total_bedrooms\"].fillna(median, inplace=True) # option 3\n",
        "sample_incomplete_rows"
      ],
      "execution_count": 0,
      "outputs": []
    },
    {
      "cell_type": "markdown",
      "metadata": {
        "id": "KH6xAeXRG7l9",
        "colab_type": "text"
      },
      "source": [
        "As can be seen, imputing the median worked fine, BUT\n",
        "- the median needs to be saved to fill-in missing values during prediction!\n",
        "- during prediction, other features may contain missing values.\n",
        "\n",
        "Thus, it's recommended to use existing **imputer** class, such as Scikit-learn's `SimpleImputer`"
      ]
    },
    {
      "cell_type": "markdown",
      "metadata": {
        "id": "HjSXMKZjILTN",
        "colab_type": "text"
      },
      "source": [
        "#### Option 4: `SimpleImputer`\n"
      ]
    },
    {
      "cell_type": "markdown",
      "metadata": {
        "colab_type": "text",
        "id": "hCXZGRROH4h8"
      },
      "source": [
        "Fill missing values with Scikit-Learn `SimpleImputer`\n"
      ]
    },
    {
      "cell_type": "code",
      "metadata": {
        "id": "gJqHjzojun8E",
        "colab_type": "code",
        "colab": {}
      },
      "source": [
        "from sklearn.impute import SimpleImputer\n",
        "imputer = SimpleImputer(strategy=\"median\")"
      ],
      "execution_count": 0,
      "outputs": []
    },
    {
      "cell_type": "markdown",
      "metadata": {
        "id": "QufVjyGaun8G",
        "colab_type": "text"
      },
      "source": [
        "Remove the text attribute because median can only be calculated on numerical attributes:\n"
      ]
    },
    {
      "cell_type": "code",
      "metadata": {
        "id": "KwX0aZ23un8G",
        "colab_type": "code",
        "colab": {}
      },
      "source": [
        "housing_num = housing.drop(\"ocean_proximity\", axis=1)\n",
        "housing_num.columns"
      ],
      "execution_count": 0,
      "outputs": []
    },
    {
      "cell_type": "code",
      "metadata": {
        "id": "xUu1E5_Nun8I",
        "colab_type": "code",
        "colab": {}
      },
      "source": [
        "imputer.fit(housing_num)"
      ],
      "execution_count": 0,
      "outputs": []
    },
    {
      "cell_type": "markdown",
      "metadata": {
        "id": "lqzhMpWoJpHv",
        "colab_type": "text"
      },
      "source": [
        "... upon `imputer.fit()` the median of each attribute has been computed and stored in the `statistics_` variable:"
      ]
    },
    {
      "cell_type": "code",
      "metadata": {
        "id": "Stjb4fzKun8K",
        "colab_type": "code",
        "colab": {}
      },
      "source": [
        "imputer.statistics_"
      ],
      "execution_count": 0,
      "outputs": []
    },
    {
      "cell_type": "markdown",
      "metadata": {
        "id": "qTOsjk9zun8O",
        "colab_type": "text"
      },
      "source": [
        "The missing values are replaced using `transform` method:"
      ]
    },
    {
      "cell_type": "code",
      "metadata": {
        "id": "ncBX1ejJun8Q",
        "colab_type": "code",
        "colab": {}
      },
      "source": [
        "X = imputer.transform(housing_num)"
      ],
      "execution_count": 0,
      "outputs": []
    },
    {
      "cell_type": "markdown",
      "metadata": {
        "id": "DSDvvAkjLF6z",
        "colab_type": "text"
      },
      "source": [
        "The result is a plain NumPy array and needs to be converted back to a pandas DataFrame."
      ]
    },
    {
      "cell_type": "code",
      "metadata": {
        "id": "s8KtgCDOun8T",
        "colab_type": "code",
        "colab": {}
      },
      "source": [
        "housing_tr = pd.DataFrame(X, columns=housing_num.columns,\n",
        "                          index=housing.index)"
      ],
      "execution_count": 0,
      "outputs": []
    },
    {
      "cell_type": "markdown",
      "metadata": {
        "id": "syB5zjAeLtAA",
        "colab_type": "text"
      },
      "source": [
        "Let's check the result on the `sample_incomplete_rows` subset:\n"
      ]
    },
    {
      "cell_type": "code",
      "metadata": {
        "id": "7OTbn9Qqun8V",
        "colab_type": "code",
        "colab": {}
      },
      "source": [
        "housing_tr.loc[sample_incomplete_rows.index.values]"
      ],
      "execution_count": 0,
      "outputs": []
    },
    {
      "cell_type": "code",
      "metadata": {
        "id": "en3WwoIeun8e",
        "colab_type": "code",
        "colab": {}
      },
      "source": [
        "housing_tr.head(3)"
      ],
      "execution_count": 0,
      "outputs": []
    },
    {
      "cell_type": "markdown",
      "metadata": {
        "id": "_4Vn0dGVMurR",
        "colab_type": "text"
      },
      "source": [
        "###Handling Text and Categorical Attributes"
      ]
    },
    {
      "cell_type": "markdown",
      "metadata": {
        "id": "N225_exIun8i",
        "colab_type": "text"
      },
      "source": [
        "Most Machine Learning algorithms requires numerical data.\n",
        "\n",
        "The *housing dataset* contains one text feature `ocean_proximity`:"
      ]
    },
    {
      "cell_type": "code",
      "metadata": {
        "id": "C82BESqUun8j",
        "colab_type": "code",
        "colab": {}
      },
      "source": [
        "housing_cat = housing[(\"ocean_proximity\")]\n",
        "housing_cat.head(8)"
      ],
      "execution_count": 0,
      "outputs": []
    },
    {
      "cell_type": "markdown",
      "metadata": {
        "id": "C8hbH2ethhPP",
        "colab_type": "text"
      },
      "source": [
        "The `ocean_proximity` feature is not arbitrary text. There are a limited number of possible values, each representing a *category*.\n",
        "\n",
        "Use `set()` type-casting or the `Pandas.Series.unique` method get the *unique* values of a collection: "
      ]
    },
    {
      "cell_type": "code",
      "metadata": {
        "id": "ZXxtiUhGXfnO",
        "colab_type": "code",
        "colab": {}
      },
      "source": [
        "set(housing[\"ocean_proximity\"])"
      ],
      "execution_count": 0,
      "outputs": []
    },
    {
      "cell_type": "markdown",
      "metadata": {
        "id": "fN6ao_3KkznT",
        "colab_type": "text"
      },
      "source": [
        "#### Ordinal encoder"
      ]
    },
    {
      "cell_type": "markdown",
      "metadata": {
        "id": "7OgL-cncIQ12",
        "colab_type": "text"
      },
      "source": [
        "The `OrdinalEncoder` replaces the category text by numbers.\n",
        "\n"
      ]
    },
    {
      "cell_type": "code",
      "metadata": {
        "id": "PCnVWE8Gun8l",
        "colab_type": "code",
        "colab": {}
      },
      "source": [
        "from sklearn.preprocessing import OrdinalEncoder\n",
        "\n",
        "ordinal_enc = OrdinalEncoder()\n",
        "housing_cat_encoded = ordinal_enc.fit_transform(housing_cat.values.reshape(-1, 1))\n",
        "housing_cat_encoded.squeeze()"
      ],
      "execution_count": 0,
      "outputs": []
    },
    {
      "cell_type": "markdown",
      "metadata": {
        "id": "BQbP803Uk6dm",
        "colab_type": "text"
      },
      "source": [
        "Is this what we want? Probably not, because the Machine Learning algorithm that two nearby values are somehow similar. This might be desired in cases of sorted categories, but it usually isn't. In those cases, a `OneHotEncoder` can be used."
      ]
    },
    {
      "cell_type": "markdown",
      "metadata": {
        "id": "COtHebnymvtT",
        "colab_type": "text"
      },
      "source": [
        "####OneHotEncoder"
      ]
    },
    {
      "cell_type": "code",
      "metadata": {
        "id": "LMMvj0CIun8r",
        "colab_type": "code",
        "colab": {}
      },
      "source": [
        "from sklearn.preprocessing import OneHotEncoder\n",
        "\n",
        "cat_encoder = OneHotEncoder()\n",
        "housing_cat_1hot = cat_encoder.fit_transform(housing_cat.values.reshape(-1, 1))\n",
        "housing_cat_1hot"
      ],
      "execution_count": 0,
      "outputs": []
    },
    {
      "cell_type": "markdown",
      "metadata": {
        "id": "jVGx-__zun8s",
        "colab_type": "text"
      },
      "source": [
        "For memory reasons, the `OneHotEncoder` class returns a **sparse scipy array** instead of a **dense numpy array**.\n",
        "\n",
        "Conversion to a dense array is provided by the `toarray()` method:\n"
      ]
    },
    {
      "cell_type": "code",
      "metadata": {
        "id": "AJnhywwcun8s",
        "colab_type": "code",
        "colab": {}
      },
      "source": [
        "housing_cat_1hot.toarray()"
      ],
      "execution_count": 0,
      "outputs": []
    },
    {
      "cell_type": "code",
      "metadata": {
        "id": "o7qfXENVun8w",
        "colab_type": "code",
        "colab": {}
      },
      "source": [
        "cat_encoder.categories_"
      ],
      "execution_count": 0,
      "outputs": []
    },
    {
      "cell_type": "markdown",
      "metadata": {
        "id": "u1IJP0Ouo9yB",
        "colab_type": "text"
      },
      "source": [
        "## Custom transformers"
      ]
    },
    {
      "cell_type": "markdown",
      "metadata": {
        "id": "n6hsR-YN-70V",
        "colab_type": "text"
      },
      "source": [
        "Further up this script we found **feature combinations** to be potentially helpful for predicting the target. \n",
        "\n",
        "Such **custom transformation functionality** can seamlessly work with **Scikit-Learn pipelines** by creating a **custom transformer class**.\n",
        "\n"
      ]
    },
    {
      "cell_type": "code",
      "metadata": {
        "id": "XQMOt0NVRf9M",
        "colab_type": "code",
        "colab": {}
      },
      "source": [
        "from sklearn.base import BaseEstimator, TransformerMixin\n",
        "\n",
        "class CombinedAttrAdder(BaseEstimator, TransformerMixin):\n",
        "    # column index\n",
        "    INDEXES = {\"rooms\": 3, \"bedrooms\": 4, \"population\": 5, \"households\": 6}     \n",
        "\n",
        "    def __init__(self):  # no *args or **kargs\n",
        "        pass\n",
        "\n",
        "    def fit(self, X, y=None):\n",
        "        return self  # nothing else to do\n",
        "\n",
        "    def transform(self, X, y=None):\n",
        "        i = CombinedAttrAdder.INDEXES\n",
        "        rooms_per_household = X[:, i[\"rooms\"]] / X[:, i[\"households\"]]\n",
        "        population_per_household = X[:, i[\"population\"]] / X[:, i[\"households\"]]\n",
        "        bedrooms_per_room = X[:, i[\"bedrooms\"]] / X[:, i[\"rooms\"]]\n",
        "        \n",
        "        return np.column_stack((X, rooms_per_household, population_per_household, \n",
        "                                bedrooms_per_room))\n"
      ],
      "execution_count": 0,
      "outputs": []
    },
    {
      "cell_type": "markdown",
      "metadata": {
        "id": "tKe4wAslj96T",
        "colab_type": "text"
      },
      "source": [
        "Instanciate the new Transformer class: \n"
      ]
    },
    {
      "cell_type": "code",
      "metadata": {
        "id": "64DyddsNisOX",
        "colab_type": "code",
        "colab": {}
      },
      "source": [
        "attr_adder = CombinedAttrAdder()\n",
        "housing_extra_attr = attr_adder.fit_transform(housing.values)"
      ],
      "execution_count": 0,
      "outputs": []
    },
    {
      "cell_type": "markdown",
      "metadata": {
        "id": "GzbeSJ3JlOEf",
        "colab_type": "text"
      },
      "source": [
        "Scikit-Learn transformers receive and return Numpy arrays. \n",
        "\n"
      ]
    },
    {
      "cell_type": "code",
      "metadata": {
        "id": "6Oreq9VeMV_T",
        "colab_type": "code",
        "colab": {}
      },
      "source": [
        "pd.DataFrame(housing_extra_attr).head()  # Conversion to DataFrame only for pretty plotting"
      ],
      "execution_count": 0,
      "outputs": []
    },
    {
      "cell_type": "markdown",
      "metadata": {
        "id": "dnC0470TV40I",
        "colab_type": "text"
      },
      "source": [
        "You have to keep track of the columns names, manually. This can easily get messy!"
      ]
    },
    {
      "cell_type": "code",
      "metadata": {
        "id": "dNJFLt7CZ4X6",
        "colab_type": "code",
        "colab": {}
      },
      "source": [
        "housing_columns = list(housing.columns) + [\"rooms_per_household\", \"population_per_household\", \n",
        "                                           \"bedrooms_per_room\"]"
      ],
      "execution_count": 0,
      "outputs": []
    },
    {
      "cell_type": "code",
      "metadata": {
        "id": "5_crBd2oun8z",
        "colab_type": "code",
        "colab": {}
      },
      "source": [
        "housing_extra_attr = pd.DataFrame(housing_extra_attr, columns=housing_columns, index=housing.index)\n",
        "housing_extra_attr.head()"
      ],
      "execution_count": 0,
      "outputs": []
    },
    {
      "cell_type": "markdown",
      "metadata": {
        "id": "sHnmXHq5uN9i",
        "colab_type": "text"
      },
      "source": [
        "... the resulting `housing_extra_attr` DataFrame contains the original as well as the extra attributes."
      ]
    },
    {
      "cell_type": "markdown",
      "metadata": {
        "id": "ULiyGfKjBeyk",
        "colab_type": "text"
      },
      "source": [
        "## Feature scaling"
      ]
    },
    {
      "cell_type": "markdown",
      "metadata": {
        "id": "FAOOgVvHWcYr",
        "colab_type": "text"
      },
      "source": [
        "Most Machine Mearning algorithms require some kind of **features scaling**. With features of very different scales, they don't predict well or even don't converge at all. \n",
        "\n",
        "Some algorithms even require all features to be in the range of 0...1.\n",
        "\n",
        "A notable exception are **decision tree algorithms** that are robust to arbitrarily scaled data."
      ]
    },
    {
      "cell_type": "code",
      "metadata": {
        "id": "wq90P5gNW4tT",
        "colab_type": "code",
        "colab": {}
      },
      "source": [
        "housing.hist(bins=50, figsize=(13, 5))\n",
        "plt.tight_layout();"
      ],
      "execution_count": 0,
      "outputs": []
    },
    {
      "cell_type": "markdown",
      "metadata": {
        "id": "49XCiVitW5TC",
        "colab_type": "text"
      },
      "source": [
        "... yes, the scales of our `housing` dataset features are very different. Thus, scaling those features is requried.\n",
        "\n",
        "Scikit-Learn provides various scalers, while the two common ones are `MinMaxScaler` and `StandardScaler`:  \n",
        "\n"
      ]
    },
    {
      "cell_type": "code",
      "metadata": {
        "id": "I4QA2RS0uN7p",
        "colab_type": "code",
        "colab": {}
      },
      "source": [
        "from sklearn.preprocessing import MinMaxScaler, StandardScaler, QuantileTransformer"
      ],
      "execution_count": 0,
      "outputs": []
    },
    {
      "cell_type": "markdown",
      "metadata": {
        "id": "wq18ugfQ_z5q",
        "colab_type": "text"
      },
      "source": [
        "Creating `plot_scaled_feature_hist`, a convinience function to evaluate the scalers' results:"
      ]
    },
    {
      "cell_type": "code",
      "metadata": {
        "id": "UQVMu_q0N-7C",
        "colab_type": "code",
        "colab": {}
      },
      "source": [
        "def plot_scaled_feature_hist(scaler=None):\n",
        "    df = housing.drop(\"ocean_proximity\", axis=1)  # dropping the non-numeric feature\n",
        "    if scaler is not None:\n",
        "        df = pd.DataFrame(scaler.fit_transform(df), columns=df.columns)\n",
        "    df.hist(bins=50, figsize=(13, 5))\n",
        "    plt.tight_layout();"
      ],
      "execution_count": 0,
      "outputs": []
    },
    {
      "cell_type": "markdown",
      "metadata": {
        "id": "g5cXc8BsDEMn",
        "colab_type": "text"
      },
      "source": [
        "The scaler is fitted only to the training data, excluding the test data! \n",
        "\n",
        "After `scalter.fit(training_data)`, the scalining parameters (`min, max, scale` in case of `MinMaxScaler`) are stored within the scaler object.\n",
        "\n",
        "Those parameters can later be reused for transformations of test data or new data (in production). "
      ]
    },
    {
      "cell_type": "markdown",
      "metadata": {
        "id": "4aC_eQVnEp9L",
        "colab_type": "text"
      },
      "source": [
        "For comparison to the scaled features, let's plot the original histograms ones again:"
      ]
    },
    {
      "cell_type": "code",
      "metadata": {
        "id": "PjiltDDbRZpv",
        "colab_type": "code",
        "colab": {}
      },
      "source": [
        "plot_scaled_feature_hist(scaler=None)  # original data without scaling"
      ],
      "execution_count": 0,
      "outputs": []
    },
    {
      "cell_type": "code",
      "metadata": {
        "id": "-vfgYwGwRZwB",
        "colab_type": "code",
        "colab": {}
      },
      "source": [
        "plot_scaled_feature_hist(scaler=MinMaxScaler())"
      ],
      "execution_count": 0,
      "outputs": []
    },
    {
      "cell_type": "markdown",
      "metadata": {
        "id": "Ft0-0Sv1Afdu",
        "colab_type": "text"
      },
      "source": [
        "... all features are scaled between 0 and 1.\n",
        "\n",
        "Let's compare to *standardization*:"
      ]
    },
    {
      "cell_type": "code",
      "metadata": {
        "id": "hS4ahGwUVdnG",
        "colab_type": "code",
        "colab": {}
      },
      "source": [
        "plot_scaled_feature_hist(scaler=StandardScaler())"
      ],
      "execution_count": 0,
      "outputs": []
    },
    {
      "cell_type": "markdown",
      "metadata": {
        "id": "FLxWYk90FBfC",
        "colab_type": "text"
      },
      "source": [
        "... The results of `MinMaxScaler` and `StandardScaler` are very similar, just scale and offset are different.\n",
        "\n",
        "These *linear scalers* preserve the original distribution. Sometimes odd distributions, such as the `total_bedrooms` disctibution shoud be avoided. The `QuantileTransformer` shapes the output distribution gaussion / `normal` or `uniform`:  \n",
        "\n"
      ]
    },
    {
      "cell_type": "code",
      "metadata": {
        "id": "JdpZ5kGeVdlc",
        "colab_type": "code",
        "colab": {}
      },
      "source": [
        "plot_scaled_feature_hist(scaler=QuantileTransformer(output_distribution=\"normal\"))"
      ],
      "execution_count": 0,
      "outputs": []
    },
    {
      "cell_type": "code",
      "metadata": {
        "id": "UkWQqQkrVdhh",
        "colab_type": "code",
        "colab": {}
      },
      "source": [
        "plot_scaled_feature_hist(scaler=QuantileTransformer(output_distribution=\"uniform\"))"
      ],
      "execution_count": 0,
      "outputs": []
    },
    {
      "cell_type": "markdown",
      "metadata": {
        "id": "H9wkLggsvAii",
        "colab_type": "text"
      },
      "source": [
        "# Transformation pipelines"
      ]
    },
    {
      "cell_type": "markdown",
      "metadata": {
        "id": "RKSClg7Lun81",
        "colab_type": "text"
      },
      "source": [
        "`Pipeline` is a Scikit-Learn class that executes data transformation steps in a defined order."
      ]
    },
    {
      "cell_type": "code",
      "metadata": {
        "id": "r7RZOzKuun81",
        "colab_type": "code",
        "colab": {}
      },
      "source": [
        "from sklearn.pipeline import Pipeline"
      ],
      "execution_count": 0,
      "outputs": []
    },
    {
      "cell_type": "markdown",
      "metadata": {
        "id": "7FMAIZ_ELPul",
        "colab_type": "text"
      },
      "source": [
        "The Pipeline constructor expects a list of name, transformer tuples:"
      ]
    },
    {
      "cell_type": "code",
      "metadata": {
        "id": "5fQi44Wkujrf",
        "colab_type": "code",
        "colab": {}
      },
      "source": [
        "num_pipe = Pipeline([('imputer', SimpleImputer(strategy=\"median\")),\n",
        "                     ('attr_adder', CombinedAttrAdder()),\n",
        "                     ('std_scaler', StandardScaler())])"
      ],
      "execution_count": 0,
      "outputs": []
    },
    {
      "cell_type": "markdown",
      "metadata": {
        "id": "wg-aheF2KCwi",
        "colab_type": "text"
      },
      "source": [
        "Having generated the `num_pipi` pipeline, allows calling `fit()` and `fit_transform` on the pipeline object:"
      ]
    },
    {
      "cell_type": "code",
      "metadata": {
        "id": "LdnggfBpIEkW",
        "colab_type": "code",
        "colab": {}
      },
      "source": [
        "housing_num_tr = num_pipe.fit_transform(housing_num)"
      ],
      "execution_count": 0,
      "outputs": []
    },
    {
      "cell_type": "markdown",
      "metadata": {
        "id": "ERCJfNx8MAIm",
        "colab_type": "text"
      },
      "source": [
        "## Pipeline with categorical features"
      ]
    },
    {
      "cell_type": "markdown",
      "metadata": {
        "id": "aUGXl2tJMzqW",
        "colab_type": "text"
      },
      "source": [
        "It would be even more convenient to have one combined pipeline for all features, numerical and categorical ones. Scikit-Learn's `ColumnTransformer` does exactly this."
      ]
    },
    {
      "cell_type": "code",
      "metadata": {
        "id": "-buJhh6aL6H9",
        "colab_type": "code",
        "colab": {}
      },
      "source": [
        "from sklearn.compose import ColumnTransformer"
      ],
      "execution_count": 0,
      "outputs": []
    },
    {
      "cell_type": "code",
      "metadata": {
        "id": "N_wBK_xXN6gc",
        "colab_type": "code",
        "colab": {}
      },
      "source": [
        "num_attr = list(housing_num.columns)\n",
        "cat_attr = [\"ocean_proximity\"]"
      ],
      "execution_count": 0,
      "outputs": []
    },
    {
      "cell_type": "code",
      "metadata": {
        "id": "1iKB1oE3un85",
        "colab_type": "code",
        "colab": {}
      },
      "source": [
        "full_pipe = ColumnTransformer([(\"num\", num_pipe, num_attr),\n",
        "                               (\"cat\", OneHotEncoder(), cat_attr)])\n",
        "\n",
        "housing_prep = full_pipe.fit_transform(housing)"
      ],
      "execution_count": 0,
      "outputs": []
    },
    {
      "cell_type": "code",
      "metadata": {
        "id": "Kd4ePb6cQEyV",
        "colab_type": "code",
        "colab": {}
      },
      "source": [
        "housing.shape"
      ],
      "execution_count": 0,
      "outputs": []
    },
    {
      "cell_type": "markdown",
      "metadata": {
        "id": "j308oEh3QKLR",
        "colab_type": "text"
      },
      "source": [
        "### Quiz\n",
        "`housing` has 9 columns. How many does `housing_prep` have? "
      ]
    },
    {
      "cell_type": "code",
      "metadata": {
        "id": "41moPA2jun8-",
        "colab_type": "code",
        "colab": {}
      },
      "source": [
        "housing_prep.shape"
      ],
      "execution_count": 0,
      "outputs": []
    },
    {
      "cell_type": "markdown",
      "metadata": {
        "id": "P5DoLD3qRJIQ",
        "colab_type": "text"
      },
      "source": [
        "- 4 additional columns because of the `OneHotEncoder`: $number\\_of\\_categories - 1$\n",
        "- 2 additional columns because of the `CombinedAttrAdder`. 3 in case of `add_bedrooms_per_room=True`\n",
        "\n"
      ]
    },
    {
      "cell_type": "markdown",
      "metadata": {
        "id": "-rZSde7pcF5q",
        "colab_type": "text"
      },
      "source": [
        "Again, we have to keep track of the column names manually:"
      ]
    },
    {
      "cell_type": "code",
      "metadata": {
        "id": "3TCd2nXIZfQd",
        "colab_type": "code",
        "colab": {}
      },
      "source": [
        "pd.Series(housing_columns)   # pd.Series() used for pretty output, only"
      ],
      "execution_count": 0,
      "outputs": []
    },
    {
      "cell_type": "markdown",
      "metadata": {
        "id": "kcU5d8P-cdxc",
        "colab_type": "text"
      },
      "source": [
        "The extra attributes are in, but no yet the categorical attribus ..."
      ]
    },
    {
      "cell_type": "code",
      "metadata": {
        "id": "XbyDVXt4bNLG",
        "colab_type": "code",
        "colab": {}
      },
      "source": [
        "cat_encoder = full_pipe.named_transformers_[\"cat\"]\n",
        "cat_columns = list(cat_encoder.categories_[0])\n",
        "cat_columns"
      ],
      "execution_count": 0,
      "outputs": []
    },
    {
      "cell_type": "code",
      "metadata": {
        "id": "icMsEAATUC25",
        "colab_type": "code",
        "colab": {}
      },
      "source": [
        "housing_prep_columns = housing_columns + cat_columns\n",
        "housing_prep_columns.remove(\"ocean_proximity\")\n",
        "pd.Series(housing_prep_columns)   # pd.Series() used for pretty output, only"
      ],
      "execution_count": 0,
      "outputs": []
    },
    {
      "cell_type": "markdown",
      "metadata": {
        "id": "3rr92z2Eun9O",
        "colab_type": "text"
      },
      "source": [
        "# Select and train a model "
      ]
    },
    {
      "cell_type": "markdown",
      "metadata": {
        "id": "5SmyVQDBVeIX",
        "colab_type": "text"
      },
      "source": [
        "## Linear regression model"
      ]
    },
    {
      "cell_type": "code",
      "metadata": {
        "id": "Lo3mc9AMun9P",
        "colab_type": "code",
        "colab": {}
      },
      "source": [
        "from sklearn.linear_model import LinearRegression\n",
        "\n",
        "lin_reg = LinearRegression()\n",
        "lin_reg.fit(housing_prep, housing_labels);"
      ],
      "execution_count": 0,
      "outputs": []
    },
    {
      "cell_type": "markdown",
      "metadata": {
        "id": "fZjuYfsMV86K",
        "colab_type": "text"
      },
      "source": [
        "... done! We got a simple but working Linear Regression. Let's try it on some instances from the test set:"
      ]
    },
    {
      "cell_type": "code",
      "metadata": {
        "id": "ZXGa1YwcXuc5",
        "colab_type": "code",
        "colab": {}
      },
      "source": [
        "n = 5\n",
        "some_labels = strat_test_set[\"median_house_value\"].iloc[:n]\n",
        "some_data = strat_test_set.drop(\"median_house_value\", axis=1).iloc[:n]\n",
        "some_data_prep = full_pipe.transform(some_data)\n",
        "some_predictions = lin_reg.predict(some_data_prep)"
      ],
      "execution_count": 0,
      "outputs": []
    },
    {
      "cell_type": "markdown",
      "metadata": {
        "id": "QjSK2ZoyaEwm",
        "colab_type": "text"
      },
      "source": [
        "Note the beaty of the transformation pipeline. All data preparations are executed by simply calling `full_pipe.transform()`.\n",
        "\n",
        "Now let's see how well it predicts:"
      ]
    },
    {
      "cell_type": "code",
      "metadata": {
        "id": "EUPMIDL5YINt",
        "colab_type": "code",
        "colab": {}
      },
      "source": [
        "a_trial = pd.DataFrame(np.column_stack((some_labels.values, some_predictions)), \n",
        "                       columns=[\"labels\", \"predictions\"])\n",
        "a_trial"
      ],
      "execution_count": 0,
      "outputs": []
    },
    {
      "cell_type": "code",
      "metadata": {
        "id": "oGZIadb0YILH",
        "colab_type": "code",
        "colab": {}
      },
      "source": [
        "a_trial.plot(\"labels\", \"predictions\", kind=\"scatter\", grid=True, figsize=(5,2.5));"
      ],
      "execution_count": 0,
      "outputs": []
    },
    {
      "cell_type": "markdown",
      "metadata": {
        "id": "2ELODaNbbTQ1",
        "colab_type": "text"
      },
      "source": [
        "Not bad for a first trial and such a simple model!\n",
        "\n"
      ]
    },
    {
      "cell_type": "markdown",
      "metadata": {
        "id": "IJlpeQpycEyJ",
        "colab_type": "text"
      },
      "source": [
        "## Root mean squared error"
      ]
    },
    {
      "cell_type": "markdown",
      "metadata": {
        "id": "hYS8BO30cSAs",
        "colab_type": "text"
      },
      "source": [
        "Scikit-Learn provides the `mean_squared_error` as a function, an NumPy will compute the square root:"
      ]
    },
    {
      "cell_type": "markdown",
      "metadata": {
        "id": "kaKnqsTdTLlO",
        "colab_type": "text"
      },
      "source": [
        "$$\\text{MSE}(y_\\text{true}, y_\\text{pred}) = \\frac{1}{n_\\text{samples}} \\sum_{i=0}^{n_\\text{samples} - 1} (y_\\text{true} - y_\\text{pred})^2$$\n"
      ]
    },
    {
      "cell_type": "code",
      "metadata": {
        "id": "SjCvxnlJdox-",
        "colab_type": "code",
        "colab": {}
      },
      "source": [
        "from sklearn.metrics import mean_squared_error\n",
        "\n",
        "def root_mean_squared_error(y_true, y_pred):\n",
        "    rmse = np.sqrt(mean_squared_error(y_true, y_pred))\n",
        "    print(\"RMSE={:.1f}\".format(rmse))\n",
        "    return rmse"
      ],
      "execution_count": 0,
      "outputs": []
    },
    {
      "cell_type": "markdown",
      "metadata": {
        "id": "-ujiBX6Rc31m",
        "colab_type": "text"
      },
      "source": [
        "Let's measure the RMSE on the entire training set:"
      ]
    },
    {
      "cell_type": "code",
      "metadata": {
        "id": "wy0zB19mun9a",
        "colab_type": "code",
        "colab": {}
      },
      "source": [
        "housing_predictions = lin_reg.predict(housing_prep)\n",
        "lin_rmse = root_mean_squared_error(housing_labels, housing_predictions);"
      ],
      "execution_count": 0,
      "outputs": []
    },
    {
      "cell_type": "markdown",
      "metadata": {
        "id": "-2LrRFZph9-O",
        "colab_type": "text"
      },
      "source": [
        "... is that number ok?\n",
        "\n",
        "The RSME is the typical error of the prediction. It is an absolute accuracy measure, so we have to compare it's size to the labels size:"
      ]
    },
    {
      "cell_type": "code",
      "metadata": {
        "id": "6uE723x-dU31",
        "colab_type": "code",
        "colab": {}
      },
      "source": [
        "housing_labels.hist(bins=30, figsize=(10,2), label=\"labels histogram\")\n",
        "plt.plot([0, lin_rmse], [500, 500], linewidth=3, label=\"RMSE\")\n",
        "plt.xlabel(\"median house value\"), plt.legend();"
      ],
      "execution_count": 0,
      "outputs": []
    },
    {
      "cell_type": "markdown",
      "metadata": {
        "id": "HkyTjsE7lO8q",
        "colab_type": "text"
      },
      "source": [
        "The RSME looks quite significant, when plotting it on top of the labels histogram. \n",
        "\n",
        "Thus, let's try a different model..."
      ]
    },
    {
      "cell_type": "markdown",
      "metadata": {
        "id": "MfoFYSAEleRt",
        "colab_type": "text"
      },
      "source": [
        "## Decisition tree model"
      ]
    },
    {
      "cell_type": "markdown",
      "metadata": {
        "id": "pEhgeXQshQOv",
        "colab_type": "text"
      },
      "source": [
        "A decision tree is a powerful machine learning model, capable of finding complex nonlinear relationships in the data. But for now, let's just use it and see how it performs:"
      ]
    },
    {
      "cell_type": "code",
      "metadata": {
        "id": "n6H-5Mj8glr9",
        "colab_type": "code",
        "colab": {}
      },
      "source": [
        "from sklearn.tree import DecisionTreeRegressor"
      ],
      "execution_count": 0,
      "outputs": []
    },
    {
      "cell_type": "code",
      "metadata": {
        "id": "iC3dPj0tun9g",
        "colab_type": "code",
        "colab": {}
      },
      "source": [
        "tree_reg = DecisionTreeRegressor(random_state=42)\n",
        "tree_reg.fit(housing_prep, housing_labels)"
      ],
      "execution_count": 0,
      "outputs": []
    },
    {
      "cell_type": "code",
      "metadata": {
        "id": "jLGLSgjxun9i",
        "colab_type": "code",
        "colab": {}
      },
      "source": [
        "tree_rmse = root_mean_squared_error(housing_labels, tree_reg.predict(housing_prep));"
      ],
      "execution_count": 0,
      "outputs": []
    },
    {
      "cell_type": "markdown",
      "metadata": {
        "id": "WQnaznqfiL8t",
        "colab_type": "text"
      },
      "source": [
        "No error at all! \n",
        "\n",
        "We found the perfect model! ... Most likely not.\n",
        "\n",
        "It is far more likely, that the model has badly overfit the data. In other words, the model just memorized the data without much generalization capability.\n",
        "\n",
        "How can we be sure? \n",
        "\n"
      ]
    },
    {
      "cell_type": "markdown",
      "metadata": {
        "id": "vCUUnJ5xun9m",
        "colab_type": "text"
      },
      "source": [
        "## Model validation"
      ]
    },
    {
      "cell_type": "markdown",
      "metadata": {
        "id": "KczJK1RX4uQW",
        "colab_type": "text"
      },
      "source": [
        "How to **validate** model (e.g. *linear regression model* `lin_reg` and *decision tree model* `tree_reg`) without touching the **test set**?\n",
        "\n",
        "Remember, the test set should be preserved for a final test right before going to production.\n",
        "\n",
        "One common solution is to split the entire data set into 3 subsets:"
      ]
    },
    {
      "cell_type": "code",
      "metadata": {
        "id": "aXv9TIxV0fLJ",
        "colab_type": "code",
        "colab": {}
      },
      "source": [
        "Image(os.path.join(\"MLPy2020\", \"images\", \"split_train_valid_test.png\"))"
      ],
      "execution_count": 0,
      "outputs": []
    },
    {
      "cell_type": "markdown",
      "metadata": {
        "id": "pIkRKUUu18OS",
        "colab_type": "text"
      },
      "source": [
        "### Cross validation\n"
      ]
    },
    {
      "cell_type": "markdown",
      "metadata": {
        "id": "FhgUu3w66lOl",
        "colab_type": "text"
      },
      "source": [
        "The k-fold **cross validation** trains and validates a model k-times, each time with a differnet validation subset (called 'fold'). "
      ]
    },
    {
      "cell_type": "code",
      "metadata": {
        "id": "6AIpZS7WzvyO",
        "colab_type": "code",
        "colab": {}
      },
      "source": [
        "Image(os.path.join(\"MLPy2020\", \"images\", \"split_cross_val.png\"))"
      ],
      "execution_count": 0,
      "outputs": []
    },
    {
      "cell_type": "markdown",
      "metadata": {
        "id": "5PU74Yh58E_5",
        "colab_type": "text"
      },
      "source": [
        "- **advantage**: Cross validation provides not only the performance measure, but also an estimate of how precise that measure is (e.g. as a standard deviation).\n",
        "\n",
        "- **disadvantage**: Cross validation executes `k`-times, so it may take a long time to finish."
      ]
    },
    {
      "cell_type": "code",
      "metadata": {
        "id": "OxMFMY8XCUmm",
        "colab_type": "code",
        "colab": {}
      },
      "source": [
        "from sklearn.model_selection import cross_val_score"
      ],
      "execution_count": 0,
      "outputs": []
    },
    {
      "cell_type": "code",
      "metadata": {
        "id": "qKZtMldP0fIm",
        "colab_type": "code",
        "colab": {}
      },
      "source": [
        "# cross_val_score wrapper\n",
        "# conveniently returning RSME (root mean squared error) as mean and standard\n",
        "# deviation of the folds\n",
        "def cross_validation(*args, **kwargs):\n",
        "    scores = cross_val_score(*args, **kwargs,\n",
        "                             scoring=\"neg_mean_squared_error\")\n",
        "    rmse = np.sqrt(-scores)\n",
        "    print(\"Cross val mean(RMSE)={:.1f}, std(RMSE)={:.1f}\".format(rmse.mean(), \n",
        "                                                                    rmse.std()))\n",
        "    return {\"mean\":rmse.mean(), \"std\":rmse.std()}"
      ],
      "execution_count": 0,
      "outputs": []
    },
    {
      "cell_type": "code",
      "metadata": {
        "id": "C5n-GAXSAl3I",
        "colab_type": "code",
        "colab": {}
      },
      "source": [
        "tree_val_rsme = cross_validation(tree_reg, housing_prep, housing_labels, cv=5)"
      ],
      "execution_count": 0,
      "outputs": []
    },
    {
      "cell_type": "markdown",
      "metadata": {
        "id": "b1f8SfJfFktH",
        "colab_type": "text"
      },
      "source": [
        "Now, the *decision tree model* doesn't look as good anymore. \n",
        "\n",
        "- test / **in-sample** RSME is 0\n",
        "- validation / **out-of-sample** RSME is large\n",
        "- that model is clearly **overfitting** the data\n",
        "\n",
        "It is even worse that the simple *linear regression model*:"
      ]
    },
    {
      "cell_type": "code",
      "metadata": {
        "id": "yJssO7OfE8np",
        "colab_type": "code",
        "colab": {}
      },
      "source": [
        "lin_val_rmse = cross_validation(lin_reg, housing_prep, housing_labels, cv=5)"
      ],
      "execution_count": 0,
      "outputs": []
    },
    {
      "cell_type": "markdown",
      "metadata": {
        "colab_type": "text",
        "id": "IVy3k4WTRrbC"
      },
      "source": [
        "## Random forest regression model"
      ]
    },
    {
      "cell_type": "markdown",
      "metadata": {
        "colab_type": "text",
        "id": "MHn9_IiURrbL"
      },
      "source": [
        "[Random forests on scikit-learn.org](https://scikit-learn.org/stable/modules/ensemble.html#forest)"
      ]
    },
    {
      "cell_type": "code",
      "metadata": {
        "id": "hMlJZNCCdheE",
        "colab_type": "code",
        "colab": {}
      },
      "source": [
        "from sklearn.ensemble import RandomForestRegressor"
      ],
      "execution_count": 0,
      "outputs": []
    },
    {
      "cell_type": "code",
      "metadata": {
        "id": "QmBdR7xuun9r",
        "colab_type": "code",
        "colab": {}
      },
      "source": [
        "forest_reg = RandomForestRegressor(random_state=42)\n",
        "forest_reg.fit(housing_prep, housing_labels)\n",
        "forest_rmse = root_mean_squared_error(housing_labels, forest_reg.predict(housing_prep));"
      ],
      "execution_count": 0,
      "outputs": []
    },
    {
      "cell_type": "code",
      "metadata": {
        "id": "_v86wcaFHnZ8",
        "colab_type": "code",
        "colab": {}
      },
      "source": [
        "forest_val_rmse = cross_validation(forest_reg, housing_prep, housing_labels, cv=5)"
      ],
      "execution_count": 0,
      "outputs": []
    },
    {
      "cell_type": "markdown",
      "metadata": {
        "id": "fPTOjiosQ6tf",
        "colab_type": "text"
      },
      "source": [
        "## Support vector machine model"
      ]
    },
    {
      "cell_type": "markdown",
      "metadata": {
        "id": "YFQYM3VXQ-Zi",
        "colab_type": "text"
      },
      "source": [
        "[SVM on scikit-learn.org](https://scikit-learn.org/stable/modules/svm.html#svm)"
      ]
    },
    {
      "cell_type": "code",
      "metadata": {
        "id": "xtZ5tZLFRVS9",
        "colab_type": "code",
        "colab": {}
      },
      "source": [
        "from sklearn.svm import SVR"
      ],
      "execution_count": 0,
      "outputs": []
    },
    {
      "cell_type": "code",
      "metadata": {
        "id": "M8j58PCoun9y",
        "colab_type": "code",
        "colab": {}
      },
      "source": [
        "svm_reg = SVR(kernel=\"linear\")\n",
        "svm_reg.fit(housing_prep, housing_labels)\n",
        "svm_rmse = root_mean_squared_error(housing_labels, svm_reg.predict(housing_prep))"
      ],
      "execution_count": 0,
      "outputs": []
    },
    {
      "cell_type": "code",
      "metadata": {
        "id": "cGiSDrmXQHil",
        "colab_type": "code",
        "colab": {}
      },
      "source": [
        "svm_val_rmse = cross_validation(svm_reg, housing_prep, housing_labels, cv=5)"
      ],
      "execution_count": 0,
      "outputs": []
    },
    {
      "cell_type": "markdown",
      "metadata": {
        "id": "xXw15KoqT1Rf",
        "colab_type": "text"
      },
      "source": [
        "## Comparing the models"
      ]
    },
    {
      "cell_type": "code",
      "metadata": {
        "id": "Qey4zmIuIe_E",
        "colab_type": "code",
        "colab": {}
      },
      "source": [
        "pd.DataFrame([[lin_rmse, lin_val_rmse[\"mean\"]], \n",
        "              [tree_rmse, tree_val_rsme[\"mean\"]],\n",
        "              [forest_rmse, forest_val_rmse[\"mean\"]],\n",
        "              [svm_rmse, svm_val_rmse[\"mean\"]]],\n",
        "             columns = [\"in-sample RSME\", \"out-of-sample RSME\"],\n",
        "             index = [\"linear regression\", \"decision tree\", \"random forest\", \"linear SVM\"])"
      ],
      "execution_count": 0,
      "outputs": []
    },
    {
      "cell_type": "markdown",
      "metadata": {
        "id": "KWG4HH8fVVsQ",
        "colab_type": "text"
      },
      "source": [
        "For now, the **random forest** is the most promising model. The fact that it's still overfitting shows that it can be further improved by **contraining**, or training to more data (which is often not possible)."
      ]
    },
    {
      "cell_type": "markdown",
      "metadata": {
        "id": "NvE3WwmPWbTN",
        "colab_type": "text"
      },
      "source": [
        "# Tune the model"
      ]
    },
    {
      "cell_type": "markdown",
      "metadata": {
        "id": "ZOZrw6pX5cLf",
        "colab_type": "text"
      },
      "source": [
        "**Tuning** the model means optimizing a **score** by varying the **hyperparameters**. In the *housing example* it's the RMSE that should be optimized / minimized.  \n",
        "\n",
        "Tuning can be done manually or by using automized tools such as `GridSearchCV` or `RandomizedSearchCV`."
      ]
    },
    {
      "cell_type": "markdown",
      "metadata": {
        "id": "fYBV7gVC6xJY",
        "colab_type": "text"
      },
      "source": [
        "## GridSearchCV"
      ]
    },
    {
      "cell_type": "markdown",
      "metadata": {
        "id": "Svqzngdi61RO",
        "colab_type": "text"
      },
      "source": [
        "The Scikit-Learn `GridSearchCV` automizes the tuning process:\n",
        "- receive an `estimator` / a model to be tuned\n",
        "- *fit* data to the model and *score* the predictions (the scorer ist set by `scoring`)\n",
        "- execute the procedure for each combination of the `param_grid`\n",
        "- *cross validation* is executed on each step with `cv` defining the number of *folds*\n"
      ]
    },
    {
      "cell_type": "code",
      "metadata": {
        "id": "EurwrM67Wa2k",
        "colab_type": "code",
        "colab": {}
      },
      "source": [
        "from sklearn.model_selection import GridSearchCV\n",
        "GridSearchCV?"
      ],
      "execution_count": 0,
      "outputs": []
    },
    {
      "cell_type": "markdown",
      "metadata": {
        "id": "eU8z14zOB1q6",
        "colab_type": "text"
      },
      "source": [
        "Select an *estimator* / model and the respective *parameter grid* to be tuned:"
      ]
    },
    {
      "cell_type": "code",
      "metadata": {
        "id": "Js39O8i4CJ0Q",
        "colab_type": "code",
        "colab": {}
      },
      "source": [
        "forest_reg = RandomForestRegressor(random_state=42)"
      ],
      "execution_count": 0,
      "outputs": []
    },
    {
      "cell_type": "code",
      "metadata": {
        "id": "DRVYKdUVCN7C",
        "colab_type": "code",
        "colab": {}
      },
      "source": [
        "param_grid = {'n_estimators': [3, 10, 30], \n",
        "              'max_features': [2, 5, 8],\n",
        "              'bootstrap': [True, False]}"
      ],
      "execution_count": 0,
      "outputs": []
    },
    {
      "cell_type": "markdown",
      "metadata": {
        "id": "gecczA3cAOcC",
        "colab_type": "text"
      },
      "source": [
        "Note on **execution time**:\n",
        "\n",
        "The `param_grid` in this example has `3 * 3 * 2 = 18` combinations and the cross validation folds are set `cv = 5` thus the time consuming training will be executed 90 times! \n",
        "\n",
        "The `verbose` parameter can be set (e.g. 1000) to get more info during execution. Using that it is easy to observe, that more complex models require more execution time."
      ]
    },
    {
      "cell_type": "code",
      "metadata": {
        "id": "jhTCIG1sun9z",
        "colab_type": "code",
        "colab": {}
      },
      "source": [
        "grid_search = GridSearchCV(forest_reg, param_grid, cv=5, return_train_score=True,\n",
        "                           scoring='neg_mean_squared_error', verbose=0)\n",
        "\n",
        "grid_search.fit(housing_prep, housing_labels);"
      ],
      "execution_count": 0,
      "outputs": []
    },
    {
      "cell_type": "markdown",
      "metadata": {
        "id": "lvhd3KyhEpng",
        "colab_type": "text"
      },
      "source": [
        "### Evaluate `GridSearchCV` results"
      ]
    },
    {
      "cell_type": "markdown",
      "metadata": {
        "id": "bzi8N85gun90",
        "colab_type": "text"
      },
      "source": [
        "The best hyperparameter combination found:"
      ]
    },
    {
      "cell_type": "code",
      "metadata": {
        "id": "25v42X4Kun91",
        "colab_type": "code",
        "colab": {}
      },
      "source": [
        "grid_search.best_params_"
      ],
      "execution_count": 0,
      "outputs": []
    },
    {
      "cell_type": "markdown",
      "metadata": {
        "id": "j_54StUaun95",
        "colab_type": "text"
      },
      "source": [
        "Details on the *cross validation* results are also available as `dict`. Converting to a `DataFrame` makes it more readable:"
      ]
    },
    {
      "cell_type": "code",
      "metadata": {
        "id": "60m3kn1Qun96",
        "colab_type": "code",
        "colab": {}
      },
      "source": [
        "pd.DataFrame(grid_search.cv_results_)"
      ],
      "execution_count": 0,
      "outputs": []
    },
    {
      "cell_type": "markdown",
      "metadata": {
        "id": "1VK5zznwG5-t",
        "colab_type": "text"
      },
      "source": [
        "#### `get_best_of_cv_results` \n",
        "Even as a `DataFrame` this is hard to evaluate.\n",
        "\n",
        "**Challenge**: Write a `get_best_of_cv_results` function, that:\n",
        "- takes the `dict` `grid_search.cv_results_` as input\n",
        "- converts it to a `pandas.DataFrame`\n",
        "- removes all unnecessary columns. Only keep those starting with `param_`\n",
        "- creates a `RSME` column: `RSME = squareroot(- mean_test_score)`\n",
        "- sorts by `RSME` with having the best on top\n",
        "- returns that beautified `DataFrame`"
      ]
    },
    {
      "cell_type": "code",
      "metadata": {
        "id": "_eiozp3GwAsZ",
        "colab_type": "code",
        "colab": {}
      },
      "source": [
        "def get_best_of_cv_results(results_dict):\n",
        "    df_all = pd.DataFrame(results_dict)\n",
        "\n",
        "    # select the columns to be kept\n",
        "    cols = [\"mean_test_score\"]\n",
        "    for col in df_all.columns:\n",
        "        if col.startswith(\"param_\"):\n",
        "            cols.append(col)\n",
        "    df = df_all.loc[:, cols]\n",
        "\n",
        "    # convert negative mean squared error to RMSE\n",
        "    df[\"RMSE\"] = np.sqrt(-df[\"mean_test_score\"])\n",
        "    df.drop(labels=\"mean_test_score\", axis=1, inplace=True)\n",
        "\n",
        "    # sort by RMSE\n",
        "    df.sort_values(by=\"RMSE\", inplace=True)\n",
        "    \n",
        "    return df"
      ],
      "execution_count": 0,
      "outputs": []
    },
    {
      "cell_type": "code",
      "metadata": {
        "id": "UbhYBm79xtf6",
        "colab_type": "code",
        "colab": {}
      },
      "source": [
        "get_best_of_cv_results(grid_search.cv_results_)"
      ],
      "execution_count": 0,
      "outputs": []
    },
    {
      "cell_type": "markdown",
      "metadata": {
        "id": "WO1PdG-LUfTe",
        "colab_type": "text"
      },
      "source": [
        "Once we got a `DataFrame` it is relatively easy to also plot the result:"
      ]
    },
    {
      "cell_type": "code",
      "metadata": {
        "id": "1nQjsh3yS4Mv",
        "colab_type": "code",
        "colab": {}
      },
      "source": [
        "df = get_best_of_cv_results(grid_search.cv_results_)\n",
        "df.plot.scatter(x=\"param_max_features\", y=\"param_n_estimators\", \n",
        "                c=\"RMSE\", s=100, cmap=mpl.cm.coolwarm,\n",
        "                figsize=(10,3), grid=True);"
      ],
      "execution_count": 0,
      "outputs": []
    },
    {
      "cell_type": "markdown",
      "metadata": {
        "id": "ntx4PkpRfw_R",
        "colab_type": "text"
      },
      "source": [
        "Obervation: The more complex the model gets, the better it predicts."
      ]
    },
    {
      "cell_type": "markdown",
      "metadata": {
        "id": "NGf6_27lFSEJ",
        "colab_type": "text"
      },
      "source": [
        "### Best estimator\n",
        "\n",
        "The **best estimator** found during `GridSearchCV` is dirctly available ...\n"
      ]
    },
    {
      "cell_type": "code",
      "metadata": {
        "id": "2wB3-4FIun92",
        "colab_type": "code",
        "colab": {}
      },
      "source": [
        "grid_search.best_estimator_"
      ],
      "execution_count": 0,
      "outputs": []
    },
    {
      "cell_type": "markdown",
      "metadata": {
        "id": "qiBPJAk8E8wv",
        "colab_type": "text"
      },
      "source": [
        "## RandomizedSearchCV"
      ]
    },
    {
      "cell_type": "markdown",
      "metadata": {
        "id": "sJ9jGgYENRQz",
        "colab_type": "text"
      },
      "source": [
        "`RandomizedSearchCV` implements a random alterative to the `GridSearchCV`. It is advantageous is case of many parameters and combinations and easier to scale to the available compute resources. "
      ]
    },
    {
      "cell_type": "code",
      "metadata": {
        "id": "fsR_13hqKUGu",
        "colab_type": "code",
        "colab": {}
      },
      "source": [
        "from sklearn.model_selection import RandomizedSearchCV"
      ],
      "execution_count": 0,
      "outputs": []
    },
    {
      "cell_type": "markdown",
      "metadata": {
        "id": "-92m8Hk7L3zR",
        "colab_type": "text"
      },
      "source": [
        "In contrast to the `param_grid` of `GridSearchCV`, the `RandomizedSearchCV` expects a `param_distributions` `dict` with each `value` being a `list` or a distribution such as `scipy.stats.distributions`:"
      ]
    },
    {
      "cell_type": "code",
      "metadata": {
        "id": "Aa8pbP0ALulZ",
        "colab_type": "code",
        "colab": {}
      },
      "source": [
        "from scipy.stats import randint\n",
        "\n",
        "param_distributions = {'n_estimators': randint(low=5, high=30),\n",
        "                       'max_features': randint(low=1, high=8)}"
      ],
      "execution_count": 0,
      "outputs": []
    },
    {
      "cell_type": "code",
      "metadata": {
        "id": "lsx1U52-un99",
        "colab_type": "code",
        "colab": {}
      },
      "source": [
        "forest_reg = RandomForestRegressor(random_state=42)\n",
        "rnd_search = RandomizedSearchCV(forest_reg, param_distributions, n_iter=15, cv=5, \n",
        "                                scoring='neg_mean_squared_error', random_state=42,\n",
        "                                verbose=0)\n",
        "rnd_search.fit(housing_prep, housing_labels);"
      ],
      "execution_count": 0,
      "outputs": []
    },
    {
      "cell_type": "markdown",
      "metadata": {
        "id": "dofJC9CuVtcG",
        "colab_type": "text"
      },
      "source": [
        "### Evaluate `RandomizedSearchCV` results"
      ]
    },
    {
      "cell_type": "code",
      "metadata": {
        "id": "olDoDzC7vVl5",
        "colab_type": "code",
        "colab": {}
      },
      "source": [
        "df = get_best_of_cv_results(rnd_search.cv_results_)\n",
        "df.plot.scatter(x=\"param_max_features\", y=\"param_n_estimators\", \n",
        "                c=\"RMSE\", s=100, cmap=mpl.cm.coolwarm,\n",
        "                figsize=(10,3), grid=True)\n",
        "df"
      ],
      "execution_count": 0,
      "outputs": []
    },
    {
      "cell_type": "markdown",
      "metadata": {
        "id": "ucra7Ih4gKmn",
        "colab_type": "text"
      },
      "source": [
        "Again, more complex models predict better than simple ones."
      ]
    },
    {
      "cell_type": "markdown",
      "metadata": {
        "id": "espx0_PLfb3r",
        "colab_type": "text"
      },
      "source": [
        "## Feature importance"
      ]
    },
    {
      "cell_type": "markdown",
      "metadata": {
        "id": "myfHpkyIgT4r",
        "colab_type": "text"
      },
      "source": [
        "The model we tuned with `GridSeachCV` and `RandomizedSearchCV` is the `RandomForestRegressor`. As a bycatch, that model indicates how important every feature is for making accurate predictions. Let's view them:\n"
      ]
    },
    {
      "cell_type": "code",
      "metadata": {
        "id": "eh_vIUkAun9_",
        "colab_type": "code",
        "colab": {}
      },
      "source": [
        "grid_search.best_estimator_.feature_importances_"
      ],
      "execution_count": 0,
      "outputs": []
    },
    {
      "cell_type": "markdown",
      "metadata": {
        "id": "HzEXdGzih2Ij",
        "colab_type": "text"
      },
      "source": [
        "... for easy evaluation we need the column names along with the `feature_importances_` and also have them sorted: "
      ]
    },
    {
      "cell_type": "code",
      "metadata": {
        "id": "TZcSQBlwMVod",
        "colab_type": "code",
        "colab": {}
      },
      "source": [
        "importances = pd.Series(grid_search.best_estimator_.feature_importances_, \n",
        "                        index=housing_prep_columns)\n",
        "importances.sort_values(inplace=True)\n",
        "importances.plot.barh(grid=True, title=\"feature importance\");"
      ],
      "execution_count": 0,
      "outputs": []
    },
    {
      "cell_type": "markdown",
      "metadata": {
        "id": "OUbnaFqOkrTy",
        "colab_type": "text"
      },
      "source": [
        "### Evaluation"
      ]
    },
    {
      "cell_type": "markdown",
      "metadata": {
        "id": "Tj9GS6rsjfMu",
        "colab_type": "text"
      },
      "source": [
        "- `median_incame` stays the most important feature. This is somehow expected from the `corr_matrix` evaluation\n",
        "- all three added features are in the upper half\n",
        "- the `INLAND` 'bit' is 2nd most important. However, it seams all other categories could be dropped without losing much."
      ]
    },
    {
      "cell_type": "markdown",
      "metadata": {
        "id": "Z_dHAvvSn8nb",
        "colab_type": "text"
      },
      "source": [
        "Let's plot again the linear correlations to the original features, for comparison:"
      ]
    },
    {
      "cell_type": "code",
      "metadata": {
        "id": "Qi--WIQ0eshL",
        "colab_type": "code",
        "colab": {}
      },
      "source": [
        "title = \"linear correlation to the median house value\"\n",
        "corr_with_house_value.abs().sort_values().plot.barh(grid=True, title=title);"
      ],
      "execution_count": 0,
      "outputs": []
    },
    {
      "cell_type": "markdown",
      "metadata": {
        "id": "o2C_VocWom-j",
        "colab_type": "text"
      },
      "source": [
        "... interrestingly, the worst correlating feature `population_per_household` became the 3rd most important feature, at least for the `RandomForestRegressor` model. \n",
        "\n",
        "Complex non-linear models don't rely on simple linear relationship!"
      ]
    },
    {
      "cell_type": "markdown",
      "metadata": {
        "id": "_lDDRcqhpjxg",
        "colab_type": "text"
      },
      "source": [
        "### Potential future improvements"
      ]
    },
    {
      "cell_type": "markdown",
      "metadata": {
        "id": "lcjq1L5nt3t0",
        "colab_type": "text"
      },
      "source": [
        "- dropping unimportant features\n",
        "- solve the clipping issue (esp. at 500.000)\n",
        "- clean the data further (e.g. remove outliers)\n",
        "- investigate the bad predictions and understand the root cause"
      ]
    },
    {
      "cell_type": "markdown",
      "metadata": {
        "id": "vkl4YP4FtclL",
        "colab_type": "text"
      },
      "source": [
        "# Final test"
      ]
    },
    {
      "cell_type": "markdown",
      "metadata": {
        "id": "izzl6iDztidW",
        "colab_type": "text"
      },
      "source": [
        "After tweaking your models for a while, you eventually decide that one of them performs *sufficiently* well. Then it's time to evaluate that final model with the test set. \n",
        "\n",
        "Once again, that must be the final step. Don't optimize any further on the test set!"
      ]
    },
    {
      "cell_type": "code",
      "metadata": {
        "id": "pv_bH9hqun-E",
        "colab_type": "code",
        "colab": {}
      },
      "source": [
        "final_model = grid_search.best_estimator_\n",
        "\n",
        "X_test = strat_test_set.drop(\"median_house_value\", axis=1)\n",
        "y_test = strat_test_set[\"median_house_value\"].copy()\n",
        "\n",
        "X_test_prep = full_pipe.transform(X_test)   # not .fit_transform() !\n",
        "final_predictions = final_model.predict(X_test_prep)\n",
        "\n",
        "final_rmse = root_mean_squared_error(y_test, final_predictions)"
      ],
      "execution_count": 0,
      "outputs": []
    },
    {
      "cell_type": "markdown",
      "metadata": {
        "id": "zLrXZiyOun-G",
        "colab_type": "text"
      },
      "source": [
        "your model is ready for production!"
      ]
    }
  ]
}