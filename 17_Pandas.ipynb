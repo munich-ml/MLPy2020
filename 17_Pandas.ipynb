{
  "nbformat": 4,
  "nbformat_minor": 0,
  "metadata": {
    "colab": {
      "name": "17_Pandas.ipynb",
      "provenance": [],
      "toc_visible": true,
      "authorship_tag": "ABX9TyPRxwqzxdfl9JHH68QWJpEG",
      "include_colab_link": true
    },
    "kernelspec": {
      "name": "python3",
      "display_name": "Python 3"
    }
  },
  "cells": [
    {
      "cell_type": "markdown",
      "metadata": {
        "id": "view-in-github",
        "colab_type": "text"
      },
      "source": [
        "<a href=\"https://colab.research.google.com/github/munich-ml/MLPy2020/blob/master/17_Pandas.ipynb\" target=\"_parent\"><img src=\"https://colab.research.google.com/assets/colab-badge.svg\" alt=\"Open In Colab\"/></a>"
      ]
    },
    {
      "cell_type": "markdown",
      "metadata": {
        "id": "1Xy44gMl8rRm",
        "colab_type": "text"
      },
      "source": [
        "**Pandas** (alias `pd`) is a Python package providing fast, flexible, and expressive data\n",
        "structures designed to make working with \"labeled\" data both\n",
        "easy and intuitive. \n",
        "\n",
        "**`pd.DataFrame`** is a two-dimensional data structure with labeled axes, rows (`index`) and `column`. The data is often a `np.array`.\n",
        "\n",
        "**`pd.Series`** is the one-dimensional version of the `pd.DataFrame`."
      ]
    },
    {
      "cell_type": "code",
      "metadata": {
        "id": "Gl2lbncat_Ng",
        "colab_type": "code",
        "colab": {}
      },
      "source": [
        "import numpy as np\n",
        "import pandas as pd"
      ],
      "execution_count": 0,
      "outputs": []
    },
    {
      "cell_type": "markdown",
      "metadata": {
        "id": "-hjRUmJbl6Iv",
        "colab_type": "text"
      },
      "source": [
        "# `DataFrame` creation"
      ]
    },
    {
      "cell_type": "markdown",
      "metadata": {
        "id": "7Lj01glm_Oh0",
        "colab_type": "text"
      },
      "source": [
        "## cration from `dict`"
      ]
    },
    {
      "cell_type": "code",
      "metadata": {
        "id": "cGzlUga77ibX",
        "colab_type": "code",
        "colab": {
          "base_uri": "https://localhost:8080/",
          "height": 100
        },
        "outputId": "be8a1bef-f2d1-4b5c-b9a7-ad32b6d90e47"
      },
      "source": [
        "dict_of_tests = {\"linerate\":   [6.2, 6.25, 6.3, 6.2, 6.25, 6.3, 6.2, 6.25, 6.2, 6.25],\n",
        "                 \"voltage\":    [  3,    3,   3, 3.3,  3.3, 3.3,   3,    3, 3.3,  3.3],\n",
        "                 \"temperature\":[ 25,   25,  25,  25,   25,  25,  40,   40,  40,   40],\n",
        "                 \"errors\":     [ 12,    0,   0,   3,    0,   0, 234,   57,   0,    0],\n",
        "                 \"current\":    [110,  115, 122, 121,  129, 136, 134,  145, 142,  155]}\n",
        "dict_of_tests"
      ],
      "execution_count": 74,
      "outputs": [
        {
          "output_type": "execute_result",
          "data": {
            "text/plain": [
              "{'current': [110, 115, 122, 121, 129, 136, 134, 145, 142, 155],\n",
              " 'errors': [12, 0, 0, 3, 0, 0, 234, 57, 0, 0],\n",
              " 'linerate': [6.2, 6.25, 6.3, 6.2, 6.25, 6.3, 6.2, 6.25, 6.2, 6.25],\n",
              " 'temperature': [25, 25, 25, 25, 25, 25, 40, 40, 40, 40],\n",
              " 'voltage': [3, 3, 3, 3.3, 3.3, 3.3, 3, 3, 3.3, 3.3]}"
            ]
          },
          "metadata": {
            "tags": []
          },
          "execution_count": 74
        }
      ]
    },
    {
      "cell_type": "code",
      "metadata": {
        "id": "_5ljiW-RniKf",
        "colab_type": "code",
        "colab": {}
      },
      "source": [
        "tests = pd.DataFrame(dict_of_tests)"
      ],
      "execution_count": 0,
      "outputs": []
    },
    {
      "cell_type": "markdown",
      "metadata": {
        "id": "qABvxhHE_WJG",
        "colab_type": "text"
      },
      "source": [
        "When creating a `DataFrame` from a `dict`, the `keys` are interpreted as `columns`.\n",
        "\n",
        "`DataFrame` prints are nicely rendered in most Python IDEs, and also in Jupyter..."
      ]
    },
    {
      "cell_type": "code",
      "metadata": {
        "id": "eV297GFgBHw3",
        "colab_type": "code",
        "outputId": "c9d4c0c0-bd0d-4150-8409-c97d2e854661",
        "colab": {
          "base_uri": "https://localhost:8080/",
          "height": 345
        }
      },
      "source": [
        "tests"
      ],
      "execution_count": 76,
      "outputs": [
        {
          "output_type": "execute_result",
          "data": {
            "text/html": [
              "<div>\n",
              "<style scoped>\n",
              "    .dataframe tbody tr th:only-of-type {\n",
              "        vertical-align: middle;\n",
              "    }\n",
              "\n",
              "    .dataframe tbody tr th {\n",
              "        vertical-align: top;\n",
              "    }\n",
              "\n",
              "    .dataframe thead th {\n",
              "        text-align: right;\n",
              "    }\n",
              "</style>\n",
              "<table border=\"1\" class=\"dataframe\">\n",
              "  <thead>\n",
              "    <tr style=\"text-align: right;\">\n",
              "      <th></th>\n",
              "      <th>linerate</th>\n",
              "      <th>voltage</th>\n",
              "      <th>temperature</th>\n",
              "      <th>errors</th>\n",
              "      <th>current</th>\n",
              "    </tr>\n",
              "  </thead>\n",
              "  <tbody>\n",
              "    <tr>\n",
              "      <th>0</th>\n",
              "      <td>6.20</td>\n",
              "      <td>3.0</td>\n",
              "      <td>25</td>\n",
              "      <td>12</td>\n",
              "      <td>110</td>\n",
              "    </tr>\n",
              "    <tr>\n",
              "      <th>1</th>\n",
              "      <td>6.25</td>\n",
              "      <td>3.0</td>\n",
              "      <td>25</td>\n",
              "      <td>0</td>\n",
              "      <td>115</td>\n",
              "    </tr>\n",
              "    <tr>\n",
              "      <th>2</th>\n",
              "      <td>6.30</td>\n",
              "      <td>3.0</td>\n",
              "      <td>25</td>\n",
              "      <td>0</td>\n",
              "      <td>122</td>\n",
              "    </tr>\n",
              "    <tr>\n",
              "      <th>3</th>\n",
              "      <td>6.20</td>\n",
              "      <td>3.3</td>\n",
              "      <td>25</td>\n",
              "      <td>3</td>\n",
              "      <td>121</td>\n",
              "    </tr>\n",
              "    <tr>\n",
              "      <th>4</th>\n",
              "      <td>6.25</td>\n",
              "      <td>3.3</td>\n",
              "      <td>25</td>\n",
              "      <td>0</td>\n",
              "      <td>129</td>\n",
              "    </tr>\n",
              "    <tr>\n",
              "      <th>5</th>\n",
              "      <td>6.30</td>\n",
              "      <td>3.3</td>\n",
              "      <td>25</td>\n",
              "      <td>0</td>\n",
              "      <td>136</td>\n",
              "    </tr>\n",
              "    <tr>\n",
              "      <th>6</th>\n",
              "      <td>6.20</td>\n",
              "      <td>3.0</td>\n",
              "      <td>40</td>\n",
              "      <td>234</td>\n",
              "      <td>134</td>\n",
              "    </tr>\n",
              "    <tr>\n",
              "      <th>7</th>\n",
              "      <td>6.25</td>\n",
              "      <td>3.0</td>\n",
              "      <td>40</td>\n",
              "      <td>57</td>\n",
              "      <td>145</td>\n",
              "    </tr>\n",
              "    <tr>\n",
              "      <th>8</th>\n",
              "      <td>6.20</td>\n",
              "      <td>3.3</td>\n",
              "      <td>40</td>\n",
              "      <td>0</td>\n",
              "      <td>142</td>\n",
              "    </tr>\n",
              "    <tr>\n",
              "      <th>9</th>\n",
              "      <td>6.25</td>\n",
              "      <td>3.3</td>\n",
              "      <td>40</td>\n",
              "      <td>0</td>\n",
              "      <td>155</td>\n",
              "    </tr>\n",
              "  </tbody>\n",
              "</table>\n",
              "</div>"
            ],
            "text/plain": [
              "   linerate  voltage  temperature  errors  current\n",
              "0      6.20      3.0           25      12      110\n",
              "1      6.25      3.0           25       0      115\n",
              "2      6.30      3.0           25       0      122\n",
              "3      6.20      3.3           25       3      121\n",
              "4      6.25      3.3           25       0      129\n",
              "5      6.30      3.3           25       0      136\n",
              "6      6.20      3.0           40     234      134\n",
              "7      6.25      3.0           40      57      145\n",
              "8      6.20      3.3           40       0      142\n",
              "9      6.25      3.3           40       0      155"
            ]
          },
          "metadata": {
            "tags": []
          },
          "execution_count": 76
        }
      ]
    },
    {
      "cell_type": "markdown",
      "metadata": {
        "id": "Y5nX61XWGs3R",
        "colab_type": "text"
      },
      "source": [
        "### helper code\n",
        "creating `col_names` and `data` lists from `dict_of_tests`"
      ]
    },
    {
      "cell_type": "code",
      "metadata": {
        "id": "6Wr6wPplB9iW",
        "colab_type": "code",
        "colab": {}
      },
      "source": [
        "col_names = [name for name in dict_of_tests.keys()]\n",
        "data = [[] for _ in range(len(dict_of_tests[next(iter(dict_of_tests))]))]\n",
        "for values_col in dict_of_tests.values():\n",
        "    for data_row, value in zip(data, values_col):\n",
        "        data_row.append(value)"
      ],
      "execution_count": 0,
      "outputs": []
    },
    {
      "cell_type": "markdown",
      "metadata": {
        "id": "HwC6z8U5B_qd",
        "colab_type": "text"
      },
      "source": [
        "## creation from `list`"
      ]
    },
    {
      "cell_type": "code",
      "metadata": {
        "id": "peohq3FfGbPW",
        "colab_type": "code",
        "outputId": "095e52e3-4fbf-4bec-c2d9-9ed45ea92ba6",
        "colab": {
          "base_uri": "https://localhost:8080/",
          "height": 33
        }
      },
      "source": [
        "col_names"
      ],
      "execution_count": 78,
      "outputs": [
        {
          "output_type": "execute_result",
          "data": {
            "text/plain": [
              "['linerate', 'voltage', 'temperature', 'errors', 'current']"
            ]
          },
          "metadata": {
            "tags": []
          },
          "execution_count": 78
        }
      ]
    },
    {
      "cell_type": "code",
      "metadata": {
        "id": "LzewpHdiGbMe",
        "colab_type": "code",
        "outputId": "13ef10c7-38bd-446d-b10e-5f4deb486313",
        "colab": {
          "base_uri": "https://localhost:8080/",
          "height": 184
        }
      },
      "source": [
        "data"
      ],
      "execution_count": 79,
      "outputs": [
        {
          "output_type": "execute_result",
          "data": {
            "text/plain": [
              "[[6.2, 3, 25, 12, 110],\n",
              " [6.25, 3, 25, 0, 115],\n",
              " [6.3, 3, 25, 0, 122],\n",
              " [6.2, 3.3, 25, 3, 121],\n",
              " [6.25, 3.3, 25, 0, 129],\n",
              " [6.3, 3.3, 25, 0, 136],\n",
              " [6.2, 3, 40, 234, 134],\n",
              " [6.25, 3, 40, 57, 145],\n",
              " [6.2, 3.3, 40, 0, 142],\n",
              " [6.25, 3.3, 40, 0, 155]]"
            ]
          },
          "metadata": {
            "tags": []
          },
          "execution_count": 79
        }
      ]
    },
    {
      "cell_type": "code",
      "metadata": {
        "id": "wUDJyinOCuiM",
        "colab_type": "code",
        "outputId": "df0c1392-39ce-4477-a60f-bbcf48ec7dbf",
        "colab": {
          "base_uri": "https://localhost:8080/",
          "height": 345
        }
      },
      "source": [
        "pd.DataFrame(data) "
      ],
      "execution_count": 80,
      "outputs": [
        {
          "output_type": "execute_result",
          "data": {
            "text/html": [
              "<div>\n",
              "<style scoped>\n",
              "    .dataframe tbody tr th:only-of-type {\n",
              "        vertical-align: middle;\n",
              "    }\n",
              "\n",
              "    .dataframe tbody tr th {\n",
              "        vertical-align: top;\n",
              "    }\n",
              "\n",
              "    .dataframe thead th {\n",
              "        text-align: right;\n",
              "    }\n",
              "</style>\n",
              "<table border=\"1\" class=\"dataframe\">\n",
              "  <thead>\n",
              "    <tr style=\"text-align: right;\">\n",
              "      <th></th>\n",
              "      <th>0</th>\n",
              "      <th>1</th>\n",
              "      <th>2</th>\n",
              "      <th>3</th>\n",
              "      <th>4</th>\n",
              "    </tr>\n",
              "  </thead>\n",
              "  <tbody>\n",
              "    <tr>\n",
              "      <th>0</th>\n",
              "      <td>6.20</td>\n",
              "      <td>3.0</td>\n",
              "      <td>25</td>\n",
              "      <td>12</td>\n",
              "      <td>110</td>\n",
              "    </tr>\n",
              "    <tr>\n",
              "      <th>1</th>\n",
              "      <td>6.25</td>\n",
              "      <td>3.0</td>\n",
              "      <td>25</td>\n",
              "      <td>0</td>\n",
              "      <td>115</td>\n",
              "    </tr>\n",
              "    <tr>\n",
              "      <th>2</th>\n",
              "      <td>6.30</td>\n",
              "      <td>3.0</td>\n",
              "      <td>25</td>\n",
              "      <td>0</td>\n",
              "      <td>122</td>\n",
              "    </tr>\n",
              "    <tr>\n",
              "      <th>3</th>\n",
              "      <td>6.20</td>\n",
              "      <td>3.3</td>\n",
              "      <td>25</td>\n",
              "      <td>3</td>\n",
              "      <td>121</td>\n",
              "    </tr>\n",
              "    <tr>\n",
              "      <th>4</th>\n",
              "      <td>6.25</td>\n",
              "      <td>3.3</td>\n",
              "      <td>25</td>\n",
              "      <td>0</td>\n",
              "      <td>129</td>\n",
              "    </tr>\n",
              "    <tr>\n",
              "      <th>5</th>\n",
              "      <td>6.30</td>\n",
              "      <td>3.3</td>\n",
              "      <td>25</td>\n",
              "      <td>0</td>\n",
              "      <td>136</td>\n",
              "    </tr>\n",
              "    <tr>\n",
              "      <th>6</th>\n",
              "      <td>6.20</td>\n",
              "      <td>3.0</td>\n",
              "      <td>40</td>\n",
              "      <td>234</td>\n",
              "      <td>134</td>\n",
              "    </tr>\n",
              "    <tr>\n",
              "      <th>7</th>\n",
              "      <td>6.25</td>\n",
              "      <td>3.0</td>\n",
              "      <td>40</td>\n",
              "      <td>57</td>\n",
              "      <td>145</td>\n",
              "    </tr>\n",
              "    <tr>\n",
              "      <th>8</th>\n",
              "      <td>6.20</td>\n",
              "      <td>3.3</td>\n",
              "      <td>40</td>\n",
              "      <td>0</td>\n",
              "      <td>142</td>\n",
              "    </tr>\n",
              "    <tr>\n",
              "      <th>9</th>\n",
              "      <td>6.25</td>\n",
              "      <td>3.3</td>\n",
              "      <td>40</td>\n",
              "      <td>0</td>\n",
              "      <td>155</td>\n",
              "    </tr>\n",
              "  </tbody>\n",
              "</table>\n",
              "</div>"
            ],
            "text/plain": [
              "      0    1   2    3    4\n",
              "0  6.20  3.0  25   12  110\n",
              "1  6.25  3.0  25    0  115\n",
              "2  6.30  3.0  25    0  122\n",
              "3  6.20  3.3  25    3  121\n",
              "4  6.25  3.3  25    0  129\n",
              "5  6.30  3.3  25    0  136\n",
              "6  6.20  3.0  40  234  134\n",
              "7  6.25  3.0  40   57  145\n",
              "8  6.20  3.3  40    0  142\n",
              "9  6.25  3.3  40    0  155"
            ]
          },
          "metadata": {
            "tags": []
          },
          "execution_count": 80
        }
      ]
    },
    {
      "cell_type": "code",
      "metadata": {
        "id": "VjjSf5G12jAy",
        "colab_type": "code",
        "outputId": "ab15f76c-95d2-49df-df30-42ea13226449",
        "colab": {
          "base_uri": "https://localhost:8080/",
          "height": 345
        }
      },
      "source": [
        "pd.DataFrame(data, columns=col_names) "
      ],
      "execution_count": 81,
      "outputs": [
        {
          "output_type": "execute_result",
          "data": {
            "text/html": [
              "<div>\n",
              "<style scoped>\n",
              "    .dataframe tbody tr th:only-of-type {\n",
              "        vertical-align: middle;\n",
              "    }\n",
              "\n",
              "    .dataframe tbody tr th {\n",
              "        vertical-align: top;\n",
              "    }\n",
              "\n",
              "    .dataframe thead th {\n",
              "        text-align: right;\n",
              "    }\n",
              "</style>\n",
              "<table border=\"1\" class=\"dataframe\">\n",
              "  <thead>\n",
              "    <tr style=\"text-align: right;\">\n",
              "      <th></th>\n",
              "      <th>linerate</th>\n",
              "      <th>voltage</th>\n",
              "      <th>temperature</th>\n",
              "      <th>errors</th>\n",
              "      <th>current</th>\n",
              "    </tr>\n",
              "  </thead>\n",
              "  <tbody>\n",
              "    <tr>\n",
              "      <th>0</th>\n",
              "      <td>6.20</td>\n",
              "      <td>3.0</td>\n",
              "      <td>25</td>\n",
              "      <td>12</td>\n",
              "      <td>110</td>\n",
              "    </tr>\n",
              "    <tr>\n",
              "      <th>1</th>\n",
              "      <td>6.25</td>\n",
              "      <td>3.0</td>\n",
              "      <td>25</td>\n",
              "      <td>0</td>\n",
              "      <td>115</td>\n",
              "    </tr>\n",
              "    <tr>\n",
              "      <th>2</th>\n",
              "      <td>6.30</td>\n",
              "      <td>3.0</td>\n",
              "      <td>25</td>\n",
              "      <td>0</td>\n",
              "      <td>122</td>\n",
              "    </tr>\n",
              "    <tr>\n",
              "      <th>3</th>\n",
              "      <td>6.20</td>\n",
              "      <td>3.3</td>\n",
              "      <td>25</td>\n",
              "      <td>3</td>\n",
              "      <td>121</td>\n",
              "    </tr>\n",
              "    <tr>\n",
              "      <th>4</th>\n",
              "      <td>6.25</td>\n",
              "      <td>3.3</td>\n",
              "      <td>25</td>\n",
              "      <td>0</td>\n",
              "      <td>129</td>\n",
              "    </tr>\n",
              "    <tr>\n",
              "      <th>5</th>\n",
              "      <td>6.30</td>\n",
              "      <td>3.3</td>\n",
              "      <td>25</td>\n",
              "      <td>0</td>\n",
              "      <td>136</td>\n",
              "    </tr>\n",
              "    <tr>\n",
              "      <th>6</th>\n",
              "      <td>6.20</td>\n",
              "      <td>3.0</td>\n",
              "      <td>40</td>\n",
              "      <td>234</td>\n",
              "      <td>134</td>\n",
              "    </tr>\n",
              "    <tr>\n",
              "      <th>7</th>\n",
              "      <td>6.25</td>\n",
              "      <td>3.0</td>\n",
              "      <td>40</td>\n",
              "      <td>57</td>\n",
              "      <td>145</td>\n",
              "    </tr>\n",
              "    <tr>\n",
              "      <th>8</th>\n",
              "      <td>6.20</td>\n",
              "      <td>3.3</td>\n",
              "      <td>40</td>\n",
              "      <td>0</td>\n",
              "      <td>142</td>\n",
              "    </tr>\n",
              "    <tr>\n",
              "      <th>9</th>\n",
              "      <td>6.25</td>\n",
              "      <td>3.3</td>\n",
              "      <td>40</td>\n",
              "      <td>0</td>\n",
              "      <td>155</td>\n",
              "    </tr>\n",
              "  </tbody>\n",
              "</table>\n",
              "</div>"
            ],
            "text/plain": [
              "   linerate  voltage  temperature  errors  current\n",
              "0      6.20      3.0           25      12      110\n",
              "1      6.25      3.0           25       0      115\n",
              "2      6.30      3.0           25       0      122\n",
              "3      6.20      3.3           25       3      121\n",
              "4      6.25      3.3           25       0      129\n",
              "5      6.30      3.3           25       0      136\n",
              "6      6.20      3.0           40     234      134\n",
              "7      6.25      3.0           40      57      145\n",
              "8      6.20      3.3           40       0      142\n",
              "9      6.25      3.3           40       0      155"
            ]
          },
          "metadata": {
            "tags": []
          },
          "execution_count": 81
        }
      ]
    },
    {
      "cell_type": "markdown",
      "metadata": {
        "id": "7H5MQRXk3gN0",
        "colab_type": "text"
      },
      "source": [
        "Creating a `DataFrame` is so easy, that it may be done just for the nicely rendered `print`"
      ]
    },
    {
      "cell_type": "markdown",
      "metadata": {
        "id": "noAD_Cct5ebu",
        "colab_type": "text"
      },
      "source": [
        "# Frequently used methods"
      ]
    },
    {
      "cell_type": "markdown",
      "metadata": {
        "id": "12927m7A4LfG",
        "colab_type": "text"
      },
      "source": [
        "## `DataFrame.head()`\n",
        "for a quick glance on a large `DataFrame`"
      ]
    },
    {
      "cell_type": "code",
      "metadata": {
        "id": "JL0krLGG4Wo0",
        "colab_type": "code",
        "outputId": "900de60f-e41f-43e9-8a17-6a1bc0a17cb0",
        "colab": {
          "base_uri": "https://localhost:8080/",
          "height": 196
        }
      },
      "source": [
        "tests.head()"
      ],
      "execution_count": 82,
      "outputs": [
        {
          "output_type": "execute_result",
          "data": {
            "text/html": [
              "<div>\n",
              "<style scoped>\n",
              "    .dataframe tbody tr th:only-of-type {\n",
              "        vertical-align: middle;\n",
              "    }\n",
              "\n",
              "    .dataframe tbody tr th {\n",
              "        vertical-align: top;\n",
              "    }\n",
              "\n",
              "    .dataframe thead th {\n",
              "        text-align: right;\n",
              "    }\n",
              "</style>\n",
              "<table border=\"1\" class=\"dataframe\">\n",
              "  <thead>\n",
              "    <tr style=\"text-align: right;\">\n",
              "      <th></th>\n",
              "      <th>linerate</th>\n",
              "      <th>voltage</th>\n",
              "      <th>temperature</th>\n",
              "      <th>errors</th>\n",
              "      <th>current</th>\n",
              "    </tr>\n",
              "  </thead>\n",
              "  <tbody>\n",
              "    <tr>\n",
              "      <th>0</th>\n",
              "      <td>6.20</td>\n",
              "      <td>3.0</td>\n",
              "      <td>25</td>\n",
              "      <td>12</td>\n",
              "      <td>110</td>\n",
              "    </tr>\n",
              "    <tr>\n",
              "      <th>1</th>\n",
              "      <td>6.25</td>\n",
              "      <td>3.0</td>\n",
              "      <td>25</td>\n",
              "      <td>0</td>\n",
              "      <td>115</td>\n",
              "    </tr>\n",
              "    <tr>\n",
              "      <th>2</th>\n",
              "      <td>6.30</td>\n",
              "      <td>3.0</td>\n",
              "      <td>25</td>\n",
              "      <td>0</td>\n",
              "      <td>122</td>\n",
              "    </tr>\n",
              "    <tr>\n",
              "      <th>3</th>\n",
              "      <td>6.20</td>\n",
              "      <td>3.3</td>\n",
              "      <td>25</td>\n",
              "      <td>3</td>\n",
              "      <td>121</td>\n",
              "    </tr>\n",
              "    <tr>\n",
              "      <th>4</th>\n",
              "      <td>6.25</td>\n",
              "      <td>3.3</td>\n",
              "      <td>25</td>\n",
              "      <td>0</td>\n",
              "      <td>129</td>\n",
              "    </tr>\n",
              "  </tbody>\n",
              "</table>\n",
              "</div>"
            ],
            "text/plain": [
              "   linerate  voltage  temperature  errors  current\n",
              "0      6.20      3.0           25      12      110\n",
              "1      6.25      3.0           25       0      115\n",
              "2      6.30      3.0           25       0      122\n",
              "3      6.20      3.3           25       3      121\n",
              "4      6.25      3.3           25       0      129"
            ]
          },
          "metadata": {
            "tags": []
          },
          "execution_count": 82
        }
      ]
    },
    {
      "cell_type": "markdown",
      "metadata": {
        "id": "hisCsrsd4_zF",
        "colab_type": "text"
      },
      "source": [
        "## `DataFrame.T`\n",
        "Transpose index and columns"
      ]
    },
    {
      "cell_type": "code",
      "metadata": {
        "id": "8xHEycpr1-2d",
        "colab_type": "code",
        "outputId": "abc933d1-2ea1-4cfa-8ef3-02b310afc6a0",
        "colab": {
          "base_uri": "https://localhost:8080/",
          "height": 196
        }
      },
      "source": [
        "tests.T"
      ],
      "execution_count": 83,
      "outputs": [
        {
          "output_type": "execute_result",
          "data": {
            "text/html": [
              "<div>\n",
              "<style scoped>\n",
              "    .dataframe tbody tr th:only-of-type {\n",
              "        vertical-align: middle;\n",
              "    }\n",
              "\n",
              "    .dataframe tbody tr th {\n",
              "        vertical-align: top;\n",
              "    }\n",
              "\n",
              "    .dataframe thead th {\n",
              "        text-align: right;\n",
              "    }\n",
              "</style>\n",
              "<table border=\"1\" class=\"dataframe\">\n",
              "  <thead>\n",
              "    <tr style=\"text-align: right;\">\n",
              "      <th></th>\n",
              "      <th>0</th>\n",
              "      <th>1</th>\n",
              "      <th>2</th>\n",
              "      <th>3</th>\n",
              "      <th>4</th>\n",
              "      <th>5</th>\n",
              "      <th>6</th>\n",
              "      <th>7</th>\n",
              "      <th>8</th>\n",
              "      <th>9</th>\n",
              "    </tr>\n",
              "  </thead>\n",
              "  <tbody>\n",
              "    <tr>\n",
              "      <th>linerate</th>\n",
              "      <td>6.2</td>\n",
              "      <td>6.25</td>\n",
              "      <td>6.3</td>\n",
              "      <td>6.2</td>\n",
              "      <td>6.25</td>\n",
              "      <td>6.3</td>\n",
              "      <td>6.2</td>\n",
              "      <td>6.25</td>\n",
              "      <td>6.2</td>\n",
              "      <td>6.25</td>\n",
              "    </tr>\n",
              "    <tr>\n",
              "      <th>voltage</th>\n",
              "      <td>3.0</td>\n",
              "      <td>3.00</td>\n",
              "      <td>3.0</td>\n",
              "      <td>3.3</td>\n",
              "      <td>3.30</td>\n",
              "      <td>3.3</td>\n",
              "      <td>3.0</td>\n",
              "      <td>3.00</td>\n",
              "      <td>3.3</td>\n",
              "      <td>3.30</td>\n",
              "    </tr>\n",
              "    <tr>\n",
              "      <th>temperature</th>\n",
              "      <td>25.0</td>\n",
              "      <td>25.00</td>\n",
              "      <td>25.0</td>\n",
              "      <td>25.0</td>\n",
              "      <td>25.00</td>\n",
              "      <td>25.0</td>\n",
              "      <td>40.0</td>\n",
              "      <td>40.00</td>\n",
              "      <td>40.0</td>\n",
              "      <td>40.00</td>\n",
              "    </tr>\n",
              "    <tr>\n",
              "      <th>errors</th>\n",
              "      <td>12.0</td>\n",
              "      <td>0.00</td>\n",
              "      <td>0.0</td>\n",
              "      <td>3.0</td>\n",
              "      <td>0.00</td>\n",
              "      <td>0.0</td>\n",
              "      <td>234.0</td>\n",
              "      <td>57.00</td>\n",
              "      <td>0.0</td>\n",
              "      <td>0.00</td>\n",
              "    </tr>\n",
              "    <tr>\n",
              "      <th>current</th>\n",
              "      <td>110.0</td>\n",
              "      <td>115.00</td>\n",
              "      <td>122.0</td>\n",
              "      <td>121.0</td>\n",
              "      <td>129.00</td>\n",
              "      <td>136.0</td>\n",
              "      <td>134.0</td>\n",
              "      <td>145.00</td>\n",
              "      <td>142.0</td>\n",
              "      <td>155.00</td>\n",
              "    </tr>\n",
              "  </tbody>\n",
              "</table>\n",
              "</div>"
            ],
            "text/plain": [
              "                 0       1      2      3  ...      6       7      8       9\n",
              "linerate       6.2    6.25    6.3    6.2  ...    6.2    6.25    6.2    6.25\n",
              "voltage        3.0    3.00    3.0    3.3  ...    3.0    3.00    3.3    3.30\n",
              "temperature   25.0   25.00   25.0   25.0  ...   40.0   40.00   40.0   40.00\n",
              "errors        12.0    0.00    0.0    3.0  ...  234.0   57.00    0.0    0.00\n",
              "current      110.0  115.00  122.0  121.0  ...  134.0  145.00  142.0  155.00\n",
              "\n",
              "[5 rows x 10 columns]"
            ]
          },
          "metadata": {
            "tags": []
          },
          "execution_count": 83
        }
      ]
    },
    {
      "cell_type": "markdown",
      "metadata": {
        "id": "rvCjfhhzlbQa",
        "colab_type": "text"
      },
      "source": [
        "# Indexing"
      ]
    },
    {
      "cell_type": "code",
      "metadata": {
        "id": "xm21Llly5y_Z",
        "colab_type": "code",
        "outputId": "a60a01fa-e371-40e2-bd27-2355f8cd944a",
        "colab": {
          "base_uri": "https://localhost:8080/",
          "height": 345
        }
      },
      "source": [
        "tests"
      ],
      "execution_count": 84,
      "outputs": [
        {
          "output_type": "execute_result",
          "data": {
            "text/html": [
              "<div>\n",
              "<style scoped>\n",
              "    .dataframe tbody tr th:only-of-type {\n",
              "        vertical-align: middle;\n",
              "    }\n",
              "\n",
              "    .dataframe tbody tr th {\n",
              "        vertical-align: top;\n",
              "    }\n",
              "\n",
              "    .dataframe thead th {\n",
              "        text-align: right;\n",
              "    }\n",
              "</style>\n",
              "<table border=\"1\" class=\"dataframe\">\n",
              "  <thead>\n",
              "    <tr style=\"text-align: right;\">\n",
              "      <th></th>\n",
              "      <th>linerate</th>\n",
              "      <th>voltage</th>\n",
              "      <th>temperature</th>\n",
              "      <th>errors</th>\n",
              "      <th>current</th>\n",
              "    </tr>\n",
              "  </thead>\n",
              "  <tbody>\n",
              "    <tr>\n",
              "      <th>0</th>\n",
              "      <td>6.20</td>\n",
              "      <td>3.0</td>\n",
              "      <td>25</td>\n",
              "      <td>12</td>\n",
              "      <td>110</td>\n",
              "    </tr>\n",
              "    <tr>\n",
              "      <th>1</th>\n",
              "      <td>6.25</td>\n",
              "      <td>3.0</td>\n",
              "      <td>25</td>\n",
              "      <td>0</td>\n",
              "      <td>115</td>\n",
              "    </tr>\n",
              "    <tr>\n",
              "      <th>2</th>\n",
              "      <td>6.30</td>\n",
              "      <td>3.0</td>\n",
              "      <td>25</td>\n",
              "      <td>0</td>\n",
              "      <td>122</td>\n",
              "    </tr>\n",
              "    <tr>\n",
              "      <th>3</th>\n",
              "      <td>6.20</td>\n",
              "      <td>3.3</td>\n",
              "      <td>25</td>\n",
              "      <td>3</td>\n",
              "      <td>121</td>\n",
              "    </tr>\n",
              "    <tr>\n",
              "      <th>4</th>\n",
              "      <td>6.25</td>\n",
              "      <td>3.3</td>\n",
              "      <td>25</td>\n",
              "      <td>0</td>\n",
              "      <td>129</td>\n",
              "    </tr>\n",
              "    <tr>\n",
              "      <th>5</th>\n",
              "      <td>6.30</td>\n",
              "      <td>3.3</td>\n",
              "      <td>25</td>\n",
              "      <td>0</td>\n",
              "      <td>136</td>\n",
              "    </tr>\n",
              "    <tr>\n",
              "      <th>6</th>\n",
              "      <td>6.20</td>\n",
              "      <td>3.0</td>\n",
              "      <td>40</td>\n",
              "      <td>234</td>\n",
              "      <td>134</td>\n",
              "    </tr>\n",
              "    <tr>\n",
              "      <th>7</th>\n",
              "      <td>6.25</td>\n",
              "      <td>3.0</td>\n",
              "      <td>40</td>\n",
              "      <td>57</td>\n",
              "      <td>145</td>\n",
              "    </tr>\n",
              "    <tr>\n",
              "      <th>8</th>\n",
              "      <td>6.20</td>\n",
              "      <td>3.3</td>\n",
              "      <td>40</td>\n",
              "      <td>0</td>\n",
              "      <td>142</td>\n",
              "    </tr>\n",
              "    <tr>\n",
              "      <th>9</th>\n",
              "      <td>6.25</td>\n",
              "      <td>3.3</td>\n",
              "      <td>40</td>\n",
              "      <td>0</td>\n",
              "      <td>155</td>\n",
              "    </tr>\n",
              "  </tbody>\n",
              "</table>\n",
              "</div>"
            ],
            "text/plain": [
              "   linerate  voltage  temperature  errors  current\n",
              "0      6.20      3.0           25      12      110\n",
              "1      6.25      3.0           25       0      115\n",
              "2      6.30      3.0           25       0      122\n",
              "3      6.20      3.3           25       3      121\n",
              "4      6.25      3.3           25       0      129\n",
              "5      6.30      3.3           25       0      136\n",
              "6      6.20      3.0           40     234      134\n",
              "7      6.25      3.0           40      57      145\n",
              "8      6.20      3.3           40       0      142\n",
              "9      6.25      3.3           40       0      155"
            ]
          },
          "metadata": {
            "tags": []
          },
          "execution_count": 84
        }
      ]
    },
    {
      "cell_type": "markdown",
      "metadata": {
        "id": "USrHUNCS7W8t",
        "colab_type": "text"
      },
      "source": [
        "## `DataFrame[]`\n",
        "- `DataFrame[col_label]` --> `Series`\n",
        "- `DataFrame[list_of_labels]]` --> `DataFrame`\n"
      ]
    },
    {
      "cell_type": "code",
      "metadata": {
        "id": "XRVBztKj6rT2",
        "colab_type": "code",
        "outputId": "ed2cfdb5-4816-454a-dd9e-be278ca6797d",
        "colab": {
          "base_uri": "https://localhost:8080/",
          "height": 345
        }
      },
      "source": [
        "tests[[\"current\"]]"
      ],
      "execution_count": 85,
      "outputs": [
        {
          "output_type": "execute_result",
          "data": {
            "text/html": [
              "<div>\n",
              "<style scoped>\n",
              "    .dataframe tbody tr th:only-of-type {\n",
              "        vertical-align: middle;\n",
              "    }\n",
              "\n",
              "    .dataframe tbody tr th {\n",
              "        vertical-align: top;\n",
              "    }\n",
              "\n",
              "    .dataframe thead th {\n",
              "        text-align: right;\n",
              "    }\n",
              "</style>\n",
              "<table border=\"1\" class=\"dataframe\">\n",
              "  <thead>\n",
              "    <tr style=\"text-align: right;\">\n",
              "      <th></th>\n",
              "      <th>current</th>\n",
              "    </tr>\n",
              "  </thead>\n",
              "  <tbody>\n",
              "    <tr>\n",
              "      <th>0</th>\n",
              "      <td>110</td>\n",
              "    </tr>\n",
              "    <tr>\n",
              "      <th>1</th>\n",
              "      <td>115</td>\n",
              "    </tr>\n",
              "    <tr>\n",
              "      <th>2</th>\n",
              "      <td>122</td>\n",
              "    </tr>\n",
              "    <tr>\n",
              "      <th>3</th>\n",
              "      <td>121</td>\n",
              "    </tr>\n",
              "    <tr>\n",
              "      <th>4</th>\n",
              "      <td>129</td>\n",
              "    </tr>\n",
              "    <tr>\n",
              "      <th>5</th>\n",
              "      <td>136</td>\n",
              "    </tr>\n",
              "    <tr>\n",
              "      <th>6</th>\n",
              "      <td>134</td>\n",
              "    </tr>\n",
              "    <tr>\n",
              "      <th>7</th>\n",
              "      <td>145</td>\n",
              "    </tr>\n",
              "    <tr>\n",
              "      <th>8</th>\n",
              "      <td>142</td>\n",
              "    </tr>\n",
              "    <tr>\n",
              "      <th>9</th>\n",
              "      <td>155</td>\n",
              "    </tr>\n",
              "  </tbody>\n",
              "</table>\n",
              "</div>"
            ],
            "text/plain": [
              "   current\n",
              "0      110\n",
              "1      115\n",
              "2      122\n",
              "3      121\n",
              "4      129\n",
              "5      136\n",
              "6      134\n",
              "7      145\n",
              "8      142\n",
              "9      155"
            ]
          },
          "metadata": {
            "tags": []
          },
          "execution_count": 85
        }
      ]
    },
    {
      "cell_type": "markdown",
      "metadata": {
        "id": "jK3dT__t8C8d",
        "colab_type": "text"
      },
      "source": [
        "## DataFrame.loc[]\n",
        "- Labeled row and columns indexing\n",
        "- Boolean indexing"
      ]
    },
    {
      "cell_type": "code",
      "metadata": {
        "id": "UCrNaOQH6rQ9",
        "colab_type": "code",
        "outputId": "b235f4ab-10aa-4273-f13b-706261ea3271",
        "colab": {
          "base_uri": "https://localhost:8080/",
          "height": 137
        }
      },
      "source": [
        "rows = [1,2,3]\n",
        "cols = [\"errors\", \"current\"]\n",
        "tests.loc[rows, cols]"
      ],
      "execution_count": 86,
      "outputs": [
        {
          "output_type": "execute_result",
          "data": {
            "text/html": [
              "<div>\n",
              "<style scoped>\n",
              "    .dataframe tbody tr th:only-of-type {\n",
              "        vertical-align: middle;\n",
              "    }\n",
              "\n",
              "    .dataframe tbody tr th {\n",
              "        vertical-align: top;\n",
              "    }\n",
              "\n",
              "    .dataframe thead th {\n",
              "        text-align: right;\n",
              "    }\n",
              "</style>\n",
              "<table border=\"1\" class=\"dataframe\">\n",
              "  <thead>\n",
              "    <tr style=\"text-align: right;\">\n",
              "      <th></th>\n",
              "      <th>errors</th>\n",
              "      <th>current</th>\n",
              "    </tr>\n",
              "  </thead>\n",
              "  <tbody>\n",
              "    <tr>\n",
              "      <th>1</th>\n",
              "      <td>0</td>\n",
              "      <td>115</td>\n",
              "    </tr>\n",
              "    <tr>\n",
              "      <th>2</th>\n",
              "      <td>0</td>\n",
              "      <td>122</td>\n",
              "    </tr>\n",
              "    <tr>\n",
              "      <th>3</th>\n",
              "      <td>3</td>\n",
              "      <td>121</td>\n",
              "    </tr>\n",
              "  </tbody>\n",
              "</table>\n",
              "</div>"
            ],
            "text/plain": [
              "   errors  current\n",
              "1       0      115\n",
              "2       0      122\n",
              "3       3      121"
            ]
          },
          "metadata": {
            "tags": []
          },
          "execution_count": 86
        }
      ]
    },
    {
      "cell_type": "markdown",
      "metadata": {
        "id": "TC2RM1k58uPj",
        "colab_type": "text"
      },
      "source": [
        "### Boolean indexing\n",
        "Example: Get all rows with `errors > 0`"
      ]
    },
    {
      "cell_type": "code",
      "metadata": {
        "id": "HSuljpsL6rFk",
        "colab_type": "code",
        "outputId": "51a8b0a9-e78a-419b-f5cb-1d4e5180864c",
        "colab": {
          "base_uri": "https://localhost:8080/",
          "height": 201
        }
      },
      "source": [
        "tests[\"errors\"] > 0"
      ],
      "execution_count": 87,
      "outputs": [
        {
          "output_type": "execute_result",
          "data": {
            "text/plain": [
              "0     True\n",
              "1    False\n",
              "2    False\n",
              "3     True\n",
              "4    False\n",
              "5    False\n",
              "6     True\n",
              "7     True\n",
              "8    False\n",
              "9    False\n",
              "Name: errors, dtype: bool"
            ]
          },
          "metadata": {
            "tags": []
          },
          "execution_count": 87
        }
      ]
    },
    {
      "cell_type": "code",
      "metadata": {
        "id": "FsUfs98a6rCs",
        "colab_type": "code",
        "outputId": "07a0aebc-945b-47ff-f111-c021867dbb8c",
        "colab": {
          "base_uri": "https://localhost:8080/",
          "height": 166
        }
      },
      "source": [
        "tests.loc[tests[\"errors\"] > 0, :]"
      ],
      "execution_count": 88,
      "outputs": [
        {
          "output_type": "execute_result",
          "data": {
            "text/html": [
              "<div>\n",
              "<style scoped>\n",
              "    .dataframe tbody tr th:only-of-type {\n",
              "        vertical-align: middle;\n",
              "    }\n",
              "\n",
              "    .dataframe tbody tr th {\n",
              "        vertical-align: top;\n",
              "    }\n",
              "\n",
              "    .dataframe thead th {\n",
              "        text-align: right;\n",
              "    }\n",
              "</style>\n",
              "<table border=\"1\" class=\"dataframe\">\n",
              "  <thead>\n",
              "    <tr style=\"text-align: right;\">\n",
              "      <th></th>\n",
              "      <th>linerate</th>\n",
              "      <th>voltage</th>\n",
              "      <th>temperature</th>\n",
              "      <th>errors</th>\n",
              "      <th>current</th>\n",
              "    </tr>\n",
              "  </thead>\n",
              "  <tbody>\n",
              "    <tr>\n",
              "      <th>0</th>\n",
              "      <td>6.20</td>\n",
              "      <td>3.0</td>\n",
              "      <td>25</td>\n",
              "      <td>12</td>\n",
              "      <td>110</td>\n",
              "    </tr>\n",
              "    <tr>\n",
              "      <th>3</th>\n",
              "      <td>6.20</td>\n",
              "      <td>3.3</td>\n",
              "      <td>25</td>\n",
              "      <td>3</td>\n",
              "      <td>121</td>\n",
              "    </tr>\n",
              "    <tr>\n",
              "      <th>6</th>\n",
              "      <td>6.20</td>\n",
              "      <td>3.0</td>\n",
              "      <td>40</td>\n",
              "      <td>234</td>\n",
              "      <td>134</td>\n",
              "    </tr>\n",
              "    <tr>\n",
              "      <th>7</th>\n",
              "      <td>6.25</td>\n",
              "      <td>3.0</td>\n",
              "      <td>40</td>\n",
              "      <td>57</td>\n",
              "      <td>145</td>\n",
              "    </tr>\n",
              "  </tbody>\n",
              "</table>\n",
              "</div>"
            ],
            "text/plain": [
              "   linerate  voltage  temperature  errors  current\n",
              "0      6.20      3.0           25      12      110\n",
              "3      6.20      3.3           25       3      121\n",
              "6      6.20      3.0           40     234      134\n",
              "7      6.25      3.0           40      57      145"
            ]
          },
          "metadata": {
            "tags": []
          },
          "execution_count": 88
        }
      ]
    },
    {
      "cell_type": "markdown",
      "metadata": {
        "id": "0et5OI659MiY",
        "colab_type": "text"
      },
      "source": [
        "Very compact and readable code!"
      ]
    },
    {
      "cell_type": "code",
      "metadata": {
        "id": "xDj2jXWL9UP3",
        "colab_type": "code",
        "outputId": "524cd03b-85c6-4b1c-ae50-854fc51854c3",
        "colab": {
          "base_uri": "https://localhost:8080/",
          "height": 201
        }
      },
      "source": [
        "tests[\"errors\"] > 0"
      ],
      "execution_count": 89,
      "outputs": [
        {
          "output_type": "execute_result",
          "data": {
            "text/plain": [
              "0     True\n",
              "1    False\n",
              "2    False\n",
              "3     True\n",
              "4    False\n",
              "5    False\n",
              "6     True\n",
              "7     True\n",
              "8    False\n",
              "9    False\n",
              "Name: errors, dtype: bool"
            ]
          },
          "metadata": {
            "tags": []
          },
          "execution_count": 89
        }
      ]
    },
    {
      "cell_type": "markdown",
      "metadata": {
        "colab_type": "text",
        "id": "0mNnFdkw9YV4"
      },
      "source": [
        "## DataFrame.iloc[]\n",
        "Integer indexing is possible but not recommended for the sake of readability."
      ]
    },
    {
      "cell_type": "code",
      "metadata": {
        "id": "FCPZvu2u9l7f",
        "colab_type": "code",
        "outputId": "3fdf3bd3-72dc-45e5-be4c-3a692f263ea0",
        "colab": {
          "base_uri": "https://localhost:8080/",
          "height": 137
        }
      },
      "source": [
        "tests.iloc[:3, 1:-1]"
      ],
      "execution_count": 90,
      "outputs": [
        {
          "output_type": "execute_result",
          "data": {
            "text/html": [
              "<div>\n",
              "<style scoped>\n",
              "    .dataframe tbody tr th:only-of-type {\n",
              "        vertical-align: middle;\n",
              "    }\n",
              "\n",
              "    .dataframe tbody tr th {\n",
              "        vertical-align: top;\n",
              "    }\n",
              "\n",
              "    .dataframe thead th {\n",
              "        text-align: right;\n",
              "    }\n",
              "</style>\n",
              "<table border=\"1\" class=\"dataframe\">\n",
              "  <thead>\n",
              "    <tr style=\"text-align: right;\">\n",
              "      <th></th>\n",
              "      <th>voltage</th>\n",
              "      <th>temperature</th>\n",
              "      <th>errors</th>\n",
              "    </tr>\n",
              "  </thead>\n",
              "  <tbody>\n",
              "    <tr>\n",
              "      <th>0</th>\n",
              "      <td>3.0</td>\n",
              "      <td>25</td>\n",
              "      <td>12</td>\n",
              "    </tr>\n",
              "    <tr>\n",
              "      <th>1</th>\n",
              "      <td>3.0</td>\n",
              "      <td>25</td>\n",
              "      <td>0</td>\n",
              "    </tr>\n",
              "    <tr>\n",
              "      <th>2</th>\n",
              "      <td>3.0</td>\n",
              "      <td>25</td>\n",
              "      <td>0</td>\n",
              "    </tr>\n",
              "  </tbody>\n",
              "</table>\n",
              "</div>"
            ],
            "text/plain": [
              "   voltage  temperature  errors\n",
              "0      3.0           25      12\n",
              "1      3.0           25       0\n",
              "2      3.0           25       0"
            ]
          },
          "metadata": {
            "tags": []
          },
          "execution_count": 90
        }
      ]
    },
    {
      "cell_type": "markdown",
      "metadata": {
        "id": "canr_S9ZlbAu",
        "colab_type": "text"
      },
      "source": [
        "# `plot`"
      ]
    },
    {
      "cell_type": "code",
      "metadata": {
        "id": "Rwx8TU2i-Heo",
        "colab_type": "code",
        "outputId": "385b77cb-b959-42fb-82d2-bac6236176e3",
        "colab": {
          "base_uri": "https://localhost:8080/",
          "height": 265
        }
      },
      "source": [
        "tests.plot();"
      ],
      "execution_count": 91,
      "outputs": [
        {
          "output_type": "display_data",
          "data": {
            "image/png": "[encoded data removed]",
            "text/plain": [
              "<Figure size 432x288 with 1 Axes>"
            ]
          },
          "metadata": {
            "tags": [],
            "needs_background": "light"
          }
        }
      ]
    },
    {
      "cell_type": "code",
      "metadata": {
        "id": "lLTKnQKFgIBF",
        "colab_type": "code",
        "outputId": "6d867522-8fa2-46fb-9dcb-4fb70e0fe08d",
        "colab": {
          "base_uri": "https://localhost:8080/",
          "height": 262
        }
      },
      "source": [
        "tests[[\"current\", \"errors\"]].plot(kind=\"bar\");"
      ],
      "execution_count": 92,
      "outputs": [
        {
          "output_type": "display_data",
          "data": {
            "image/png": "[encoded data removed]",
            "text/plain": [
              "<Figure size 432x288 with 1 Axes>"
            ]
          },
          "metadata": {
            "tags": [],
            "needs_background": "light"
          }
        }
      ]
    },
    {
      "cell_type": "markdown",
      "metadata": {
        "id": "mJbc6nAd8hPz",
        "colab_type": "text"
      },
      "source": [
        "# `pivot_table`"
      ]
    },
    {
      "cell_type": "code",
      "metadata": {
        "id": "3pnDYG7MAxrC",
        "colab_type": "code",
        "outputId": "6d405d73-d653-4352-dc2c-a45e2c53e674",
        "colab": {
          "base_uri": "https://localhost:8080/",
          "height": 345
        }
      },
      "source": [
        "tests"
      ],
      "execution_count": 93,
      "outputs": [
        {
          "output_type": "execute_result",
          "data": {
            "text/html": [
              "<div>\n",
              "<style scoped>\n",
              "    .dataframe tbody tr th:only-of-type {\n",
              "        vertical-align: middle;\n",
              "    }\n",
              "\n",
              "    .dataframe tbody tr th {\n",
              "        vertical-align: top;\n",
              "    }\n",
              "\n",
              "    .dataframe thead th {\n",
              "        text-align: right;\n",
              "    }\n",
              "</style>\n",
              "<table border=\"1\" class=\"dataframe\">\n",
              "  <thead>\n",
              "    <tr style=\"text-align: right;\">\n",
              "      <th></th>\n",
              "      <th>linerate</th>\n",
              "      <th>voltage</th>\n",
              "      <th>temperature</th>\n",
              "      <th>errors</th>\n",
              "      <th>current</th>\n",
              "    </tr>\n",
              "  </thead>\n",
              "  <tbody>\n",
              "    <tr>\n",
              "      <th>0</th>\n",
              "      <td>6.20</td>\n",
              "      <td>3.0</td>\n",
              "      <td>25</td>\n",
              "      <td>12</td>\n",
              "      <td>110</td>\n",
              "    </tr>\n",
              "    <tr>\n",
              "      <th>1</th>\n",
              "      <td>6.25</td>\n",
              "      <td>3.0</td>\n",
              "      <td>25</td>\n",
              "      <td>0</td>\n",
              "      <td>115</td>\n",
              "    </tr>\n",
              "    <tr>\n",
              "      <th>2</th>\n",
              "      <td>6.30</td>\n",
              "      <td>3.0</td>\n",
              "      <td>25</td>\n",
              "      <td>0</td>\n",
              "      <td>122</td>\n",
              "    </tr>\n",
              "    <tr>\n",
              "      <th>3</th>\n",
              "      <td>6.20</td>\n",
              "      <td>3.3</td>\n",
              "      <td>25</td>\n",
              "      <td>3</td>\n",
              "      <td>121</td>\n",
              "    </tr>\n",
              "    <tr>\n",
              "      <th>4</th>\n",
              "      <td>6.25</td>\n",
              "      <td>3.3</td>\n",
              "      <td>25</td>\n",
              "      <td>0</td>\n",
              "      <td>129</td>\n",
              "    </tr>\n",
              "    <tr>\n",
              "      <th>5</th>\n",
              "      <td>6.30</td>\n",
              "      <td>3.3</td>\n",
              "      <td>25</td>\n",
              "      <td>0</td>\n",
              "      <td>136</td>\n",
              "    </tr>\n",
              "    <tr>\n",
              "      <th>6</th>\n",
              "      <td>6.20</td>\n",
              "      <td>3.0</td>\n",
              "      <td>40</td>\n",
              "      <td>234</td>\n",
              "      <td>134</td>\n",
              "    </tr>\n",
              "    <tr>\n",
              "      <th>7</th>\n",
              "      <td>6.25</td>\n",
              "      <td>3.0</td>\n",
              "      <td>40</td>\n",
              "      <td>57</td>\n",
              "      <td>145</td>\n",
              "    </tr>\n",
              "    <tr>\n",
              "      <th>8</th>\n",
              "      <td>6.20</td>\n",
              "      <td>3.3</td>\n",
              "      <td>40</td>\n",
              "      <td>0</td>\n",
              "      <td>142</td>\n",
              "    </tr>\n",
              "    <tr>\n",
              "      <th>9</th>\n",
              "      <td>6.25</td>\n",
              "      <td>3.3</td>\n",
              "      <td>40</td>\n",
              "      <td>0</td>\n",
              "      <td>155</td>\n",
              "    </tr>\n",
              "  </tbody>\n",
              "</table>\n",
              "</div>"
            ],
            "text/plain": [
              "   linerate  voltage  temperature  errors  current\n",
              "0      6.20      3.0           25      12      110\n",
              "1      6.25      3.0           25       0      115\n",
              "2      6.30      3.0           25       0      122\n",
              "3      6.20      3.3           25       3      121\n",
              "4      6.25      3.3           25       0      129\n",
              "5      6.30      3.3           25       0      136\n",
              "6      6.20      3.0           40     234      134\n",
              "7      6.25      3.0           40      57      145\n",
              "8      6.20      3.3           40       0      142\n",
              "9      6.25      3.3           40       0      155"
            ]
          },
          "metadata": {
            "tags": []
          },
          "execution_count": 93
        }
      ]
    },
    {
      "cell_type": "code",
      "metadata": {
        "id": "9e0rXA8ayXoa",
        "colab_type": "code",
        "outputId": "17c2534e-b5e8-4dab-a0ba-82d8a8629004",
        "colab": {
          "base_uri": "https://localhost:8080/",
          "height": 137
        }
      },
      "source": [
        "tests.pivot_table(index=\"voltage\", columns=\"linerate\", values=\"errors\", aggfunc=np.mean)"
      ],
      "execution_count": 94,
      "outputs": [
        {
          "output_type": "execute_result",
          "data": {
            "text/html": [
              "<div>\n",
              "<style scoped>\n",
              "    .dataframe tbody tr th:only-of-type {\n",
              "        vertical-align: middle;\n",
              "    }\n",
              "\n",
              "    .dataframe tbody tr th {\n",
              "        vertical-align: top;\n",
              "    }\n",
              "\n",
              "    .dataframe thead th {\n",
              "        text-align: right;\n",
              "    }\n",
              "</style>\n",
              "<table border=\"1\" class=\"dataframe\">\n",
              "  <thead>\n",
              "    <tr style=\"text-align: right;\">\n",
              "      <th>linerate</th>\n",
              "      <th>6.20</th>\n",
              "      <th>6.25</th>\n",
              "      <th>6.30</th>\n",
              "    </tr>\n",
              "    <tr>\n",
              "      <th>voltage</th>\n",
              "      <th></th>\n",
              "      <th></th>\n",
              "      <th></th>\n",
              "    </tr>\n",
              "  </thead>\n",
              "  <tbody>\n",
              "    <tr>\n",
              "      <th>3.0</th>\n",
              "      <td>123.0</td>\n",
              "      <td>28.5</td>\n",
              "      <td>0.0</td>\n",
              "    </tr>\n",
              "    <tr>\n",
              "      <th>3.3</th>\n",
              "      <td>1.5</td>\n",
              "      <td>0.0</td>\n",
              "      <td>0.0</td>\n",
              "    </tr>\n",
              "  </tbody>\n",
              "</table>\n",
              "</div>"
            ],
            "text/plain": [
              "linerate   6.20  6.25  6.30\n",
              "voltage                    \n",
              "3.0       123.0  28.5   0.0\n",
              "3.3         1.5   0.0   0.0"
            ]
          },
          "metadata": {
            "tags": []
          },
          "execution_count": 94
        }
      ]
    },
    {
      "cell_type": "code",
      "metadata": {
        "id": "xBiMJsApeBXu",
        "colab_type": "code",
        "outputId": "6945a705-5ab5-41c0-b840-0c2e949b638b",
        "colab": {
          "base_uri": "https://localhost:8080/",
          "height": 166
        }
      },
      "source": [
        "tests.pivot_table(index=\"linerate\", columns=\"temperature\", values=\"current\", \n",
        "                  aggfunc=np.mean, fill_value=None)"
      ],
      "execution_count": 95,
      "outputs": [
        {
          "output_type": "execute_result",
          "data": {
            "text/html": [
              "<div>\n",
              "<style scoped>\n",
              "    .dataframe tbody tr th:only-of-type {\n",
              "        vertical-align: middle;\n",
              "    }\n",
              "\n",
              "    .dataframe tbody tr th {\n",
              "        vertical-align: top;\n",
              "    }\n",
              "\n",
              "    .dataframe thead th {\n",
              "        text-align: right;\n",
              "    }\n",
              "</style>\n",
              "<table border=\"1\" class=\"dataframe\">\n",
              "  <thead>\n",
              "    <tr style=\"text-align: right;\">\n",
              "      <th>temperature</th>\n",
              "      <th>25</th>\n",
              "      <th>40</th>\n",
              "    </tr>\n",
              "    <tr>\n",
              "      <th>linerate</th>\n",
              "      <th></th>\n",
              "      <th></th>\n",
              "    </tr>\n",
              "  </thead>\n",
              "  <tbody>\n",
              "    <tr>\n",
              "      <th>6.20</th>\n",
              "      <td>115.5</td>\n",
              "      <td>138.0</td>\n",
              "    </tr>\n",
              "    <tr>\n",
              "      <th>6.25</th>\n",
              "      <td>122.0</td>\n",
              "      <td>150.0</td>\n",
              "    </tr>\n",
              "    <tr>\n",
              "      <th>6.30</th>\n",
              "      <td>129.0</td>\n",
              "      <td>NaN</td>\n",
              "    </tr>\n",
              "  </tbody>\n",
              "</table>\n",
              "</div>"
            ],
            "text/plain": [
              "temperature     25     40\n",
              "linerate                 \n",
              "6.20         115.5  138.0\n",
              "6.25         122.0  150.0\n",
              "6.30         129.0    NaN"
            ]
          },
          "metadata": {
            "tags": []
          },
          "execution_count": 95
        }
      ]
    }
  ]
}