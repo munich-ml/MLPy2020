{
  "nbformat": 4,
  "nbformat_minor": 0,
  "metadata": {
    "colab": {
      "name": "recap.ipynb",
      "provenance": [],
      "collapsed_sections": [],
      "authorship_tag": "ABX9TyMaRkDLQ/Skb6XUneoulWm4",
      "include_colab_link": true
    },
    "kernelspec": {
      "name": "python3",
      "display_name": "Python 3"
    }
  },
  "cells": [
    {
      "cell_type": "markdown",
      "metadata": {
        "id": "view-in-github",
        "colab_type": "text"
      },
      "source": [
        "<a href=\"https://colab.research.google.com/github/munich-ml/MLPy2020/blob/master/recap.ipynb\" target=\"_parent\"><img src=\"https://colab.research.google.com/assets/colab-badge.svg\" alt=\"Open In Colab\"/></a>"
      ]
    },
    {
      "cell_type": "markdown",
      "metadata": {
        "id": "-TQiw83eF8DZ",
        "colab_type": "text"
      },
      "source": [
        "# 2020-05-19"
      ]
    },
    {
      "cell_type": "markdown",
      "metadata": {
        "id": "C61L0o0XGHIZ",
        "colab_type": "text"
      },
      "source": [
        "## Progmming language popularity"
      ]
    },
    {
      "cell_type": "markdown",
      "metadata": {
        "id": "fwGJzL9XHXb7",
        "colab_type": "text"
      },
      "source": [
        "- [TOIBE popularity index](https://www.tiobe.com/tiobe-index/) ratings based on search quantities of 25 engines (Google, Baidu,.. but also Wikipedia)\n",
        "> 1. C\n",
        "> 1. Java\n",
        "> 1. **Python** \n",
        "- [PYPL](http://pypl.github.io/) measures how often language tutorials are googled by exploring Google Trends.\n",
        "> 1. **Python** \n",
        "> 1. Java\n",
        "> 1. JavaScript\n",
        "- [GitHub statistics](https://madnight.github.io/githut/#/pull_requests/2020/1) percentage pull-requests / commits / issues on GitHub.\n",
        "> 1. JavaScript\n",
        "> 1. **Python** \n",
        "- [Stackoverflow survey 2019](https://insights.stackoverflow.com/survey/2019): Key result #1: *Python, the fastest-growing major programming language, has risen in the ranks of programming languages in our survey yet again, edging out Java this year and standing as the second most loved language (behind Rust).*\n",
        "> 1. JavaScript\n",
        "> 1. HTML/CSS\n",
        "> 1. SQL\n",
        "> 1. **Python** "
      ]
    },
    {
      "cell_type": "markdown",
      "metadata": {
        "id": "HJHqMTyKGHDq",
        "colab_type": "text"
      },
      "source": [
        "## `str.format()` issue"
      ]
    },
    {
      "cell_type": "markdown",
      "metadata": {
        "id": "CJx48GBflUjo",
        "colab_type": "text"
      },
      "source": [
        "`str` concatanation within `print()`:"
      ]
    },
    {
      "cell_type": "code",
      "metadata": {
        "id": "qrftUv-7h9Q3",
        "colab_type": "code",
        "colab": {}
      },
      "source": [
        "line = \"header\"\n",
        "lineNo = 2\n",
        "print(\"'\" + line + \"' found in line no. \" + str(lineNo) + \"!\") "
      ],
      "execution_count": 0,
      "outputs": []
    },
    {
      "cell_type": "markdown",
      "metadata": {
        "id": "uqB25p1KoHIt",
        "colab_type": "text"
      },
      "source": [
        "Formatted string using `format()`"
      ]
    },
    {
      "cell_type": "code",
      "metadata": {
        "id": "Hj4tsFn8jIkF",
        "colab_type": "code",
        "colab": {}
      },
      "source": [
        "print(\"'{}' found in line no. {}!\".format(line, lineNo))"
      ],
      "execution_count": 0,
      "outputs": []
    },
    {
      "cell_type": "markdown",
      "metadata": {
        "id": "4nvjpC4prXZ6",
        "colab_type": "text"
      },
      "source": [
        "**Format specifiers** may be added"
      ]
    },
    {
      "cell_type": "code",
      "metadata": {
        "id": "Sg9LGppQlJ74",
        "colab_type": "code",
        "colab": {}
      },
      "source": [
        "print(\"'{}' found in line no. {:.1f}!\".format(line, lineNo))"
      ],
      "execution_count": 0,
      "outputs": []
    },
    {
      "cell_type": "markdown",
      "metadata": {
        "id": "kzmSaXMdqn4X",
        "colab_type": "text"
      },
      "source": [
        "Placeholders can be **blank `{}`** for automatic, **positional `{0}`** for manual numbering or referenced by **keyword `{keyword}`**: "
      ]
    },
    {
      "cell_type": "code",
      "metadata": {
        "id": "m1r7yiszkbgB",
        "colab_type": "code",
        "colab": {}
      },
      "source": [
        "print(\"'{0}' found in line no. {1:.0%}!\".format(line, lineNo))"
      ],
      "execution_count": 0,
      "outputs": []
    },
    {
      "cell_type": "markdown",
      "metadata": {
        "id": "_dWklqxHsvOW",
        "colab_type": "text"
      },
      "source": [
        "However, switching form automatic to manual numbering raises an exception:"
      ]
    },
    {
      "cell_type": "code",
      "metadata": {
        "id": "KLS_OLYXsbgx",
        "colab_type": "code",
        "colab": {}
      },
      "source": [
        "print(\"'{}' found in line no. {1:.0%}!\".format(line, lineNo))"
      ],
      "execution_count": 0,
      "outputs": []
    },
    {
      "cell_type": "markdown",
      "metadata": {
        "id": "JGGfJilXlswX",
        "colab_type": "text"
      },
      "source": [
        "**Further reading**: [format() tutorial](https://www.programiz.com/python-programming/methods/string/format)"
      ]
    },
    {
      "cell_type": "markdown",
      "metadata": {
        "id": "nrRkx4Fwm9Nb",
        "colab_type": "text"
      },
      "source": [
        "### f string available from Python 3.6"
      ]
    },
    {
      "cell_type": "code",
      "metadata": {
        "id": "YurPjjNPmux3",
        "colab_type": "code",
        "colab": {}
      },
      "source": [
        "print(f\"'{line}' found in line no. {lineNo:.1f}!\")"
      ],
      "execution_count": 0,
      "outputs": []
    },
    {
      "cell_type": "markdown",
      "metadata": {
        "id": "WjLeFbmfGHAa",
        "colab_type": "text"
      },
      "source": [
        "## scope issue"
      ]
    },
    {
      "cell_type": "markdown",
      "metadata": {
        "id": "j74aFTsEwM50",
        "colab_type": "text"
      },
      "source": [
        "Bug in `string_to_float` function: `item` wasn't defined locally:"
      ]
    },
    {
      "cell_type": "code",
      "metadata": {
        "id": "E44hai2ntUvt",
        "colab_type": "code",
        "colab": {}
      },
      "source": [
        "def string_to_float(s):\n",
        "    print(\"item: \" + str(item))"
      ],
      "execution_count": 0,
      "outputs": []
    },
    {
      "cell_type": "code",
      "metadata": {
        "id": "Eid9Fzr8u-9l",
        "colab_type": "code",
        "colab": {}
      },
      "source": [
        "some_str = \"12.3 Ohms\""
      ],
      "execution_count": 0,
      "outputs": []
    },
    {
      "cell_type": "code",
      "metadata": {
        "id": "mBxTJI4uvIQm",
        "colab_type": "code",
        "colab": {}
      },
      "source": [
        "string_to_float(some_str)"
      ],
      "execution_count": 0,
      "outputs": []
    },
    {
      "cell_type": "markdown",
      "metadata": {
        "id": "k1EglV9JxDkk",
        "colab_type": "text"
      },
      "source": [
        "### Get local scope with `dir()`\n",
        "Build-in function `dir()` returns the list of names in the current local scope. "
      ]
    },
    {
      "cell_type": "code",
      "metadata": {
        "id": "lzZy_46QvkZz",
        "colab_type": "code",
        "colab": {}
      },
      "source": [
        "dir()"
      ],
      "execution_count": 0,
      "outputs": []
    },
    {
      "cell_type": "code",
      "metadata": {
        "id": "iCObBtgmvkXb",
        "colab_type": "code",
        "colab": {}
      },
      "source": [
        "[v for v in dir() if not v.startswith(\"_\")]"
      ],
      "execution_count": 0,
      "outputs": []
    },
    {
      "cell_type": "code",
      "metadata": {
        "id": "LyQyVjey5k1u",
        "colab_type": "code",
        "colab": {}
      },
      "source": [
        ""
      ],
      "execution_count": 0,
      "outputs": []
    },
    {
      "cell_type": "markdown",
      "metadata": {
        "id": "4hNatI9MzPiY",
        "colab_type": "text"
      },
      "source": [
        "Redifine `string_to_float` to print the function's local scope:"
      ]
    },
    {
      "cell_type": "code",
      "metadata": {
        "id": "1YI4huCayQDF",
        "colab_type": "code",
        "colab": {}
      },
      "source": [
        "def string_to_float(s):\n",
        "    print(\"Local scope: \" + str([v for v in dir() if not v.startswith(\"_\")]))\n",
        "    print(\"item: \" + str(item))"
      ],
      "execution_count": 0,
      "outputs": []
    },
    {
      "cell_type": "code",
      "metadata": {
        "id": "FaUubIA1y9ac",
        "colab_type": "code",
        "colab": {}
      },
      "source": [
        "string_to_float(some_str)"
      ],
      "execution_count": 0,
      "outputs": []
    },
    {
      "cell_type": "markdown",
      "metadata": {
        "id": "r04Dn8_l0Epz",
        "colab_type": "text"
      },
      "source": [
        "**Exception** because `item` doesn't exist in local or global scope.\n",
        "\n",
        "No exception occurs, if `item` is defined in the global scope."
      ]
    },
    {
      "cell_type": "code",
      "metadata": {
        "id": "aTLkSe4ltezA",
        "colab_type": "code",
        "colab": {}
      },
      "source": [
        "for item in [\"4.67 mOhms\", \"1.23\"]:\n",
        "    string_to_float(item)"
      ],
      "execution_count": 0,
      "outputs": []
    },
    {
      "cell_type": "code",
      "metadata": {
        "id": "LC4B4nkqvkUo",
        "colab_type": "code",
        "colab": {}
      },
      "source": [
        "del item"
      ],
      "execution_count": 0,
      "outputs": []
    },
    {
      "cell_type": "markdown",
      "metadata": {
        "id": "2rh_wNxkvkSA",
        "colab_type": "text"
      },
      "source": [
        "### Static code analysis\n",
        "The use of static code analysis (e.y. Pylint) is highly recommended. "
      ]
    },
    {
      "cell_type": "markdown",
      "metadata": {
        "id": "EAw2FqzvG7Hw",
        "colab_type": "text"
      },
      "source": [
        "## `import` a module"
      ]
    },
    {
      "cell_type": "code",
      "metadata": {
        "id": "Yq-H5hBxvjQF",
        "colab_type": "code",
        "colab": {}
      },
      "source": [
        "np.pi"
      ],
      "execution_count": 0,
      "outputs": []
    },
    {
      "cell_type": "markdown",
      "metadata": {
        "id": "tYFtYiOL4l-V",
        "colab_type": "text"
      },
      "source": [
        "`np` must be defined first"
      ]
    },
    {
      "cell_type": "code",
      "metadata": {
        "id": "fVoVNzUGvjYk",
        "colab_type": "code",
        "colab": {}
      },
      "source": [
        "import numpy as np"
      ],
      "execution_count": 0,
      "outputs": []
    },
    {
      "cell_type": "code",
      "metadata": {
        "id": "r1N36oU211rj",
        "colab_type": "code",
        "colab": {}
      },
      "source": [
        "np.pi"
      ],
      "execution_count": 0,
      "outputs": []
    },
    {
      "cell_type": "markdown",
      "metadata": {
        "id": "4LCwvTDh4w0L",
        "colab_type": "text"
      },
      "source": [
        "Alternatively, import the functions that are specifically needed:"
      ]
    },
    {
      "cell_type": "code",
      "metadata": {
        "id": "pmtvNE0N2wM6",
        "colab_type": "code",
        "colab": {}
      },
      "source": [
        "from numpy import pi, eye"
      ],
      "execution_count": 0,
      "outputs": []
    },
    {
      "cell_type": "code",
      "metadata": {
        "id": "LlPve4Xf24N3",
        "colab_type": "code",
        "colab": {}
      },
      "source": [
        "pi"
      ],
      "execution_count": 0,
      "outputs": []
    },
    {
      "cell_type": "code",
      "metadata": {
        "id": "bYg-DIuX3Zwi",
        "colab_type": "code",
        "colab": {}
      },
      "source": [
        "del pi, eye"
      ],
      "execution_count": 0,
      "outputs": []
    },
    {
      "cell_type": "code",
      "metadata": {
        "id": "z9cWgxWm5BCD",
        "colab_type": "code",
        "colab": {}
      },
      "source": [
        ""
      ],
      "execution_count": 0,
      "outputs": []
    },
    {
      "cell_type": "code",
      "metadata": {
        "id": "tKGf9Rgn11t_",
        "colab_type": "code",
        "colab": {}
      },
      "source": [
        "dir(np)"
      ],
      "execution_count": 0,
      "outputs": []
    },
    {
      "cell_type": "code",
      "metadata": {
        "id": "ou2eVEn717yX",
        "colab_type": "code",
        "colab": {}
      },
      "source": [
        "dir()"
      ],
      "execution_count": 0,
      "outputs": []
    },
    {
      "cell_type": "markdown",
      "metadata": {
        "id": "dhOPMPAz5C2b",
        "colab_type": "text"
      },
      "source": [
        "**Antipattern:**"
      ]
    },
    {
      "cell_type": "code",
      "metadata": {
        "id": "9C-VrywS170e",
        "colab_type": "code",
        "colab": {}
      },
      "source": [
        "from numpy import *"
      ],
      "execution_count": 0,
      "outputs": []
    },
    {
      "cell_type": "code",
      "metadata": {
        "id": "UjWgv3ib3fp5",
        "colab_type": "code",
        "colab": {}
      },
      "source": [
        "pi"
      ],
      "execution_count": 0,
      "outputs": []
    },
    {
      "cell_type": "markdown",
      "metadata": {
        "id": "9X-CCdE15JAE",
        "colab_type": "text"
      },
      "source": [
        "That worked, **BUT**..."
      ]
    },
    {
      "cell_type": "code",
      "metadata": {
        "id": "EUMAMDPx1724",
        "colab_type": "code",
        "colab": {}
      },
      "source": [
        "dir()"
      ],
      "execution_count": 0,
      "outputs": []
    },
    {
      "cell_type": "markdown",
      "metadata": {
        "id": "lHLMqcAf36oo",
        "colab_type": "text"
      },
      "source": [
        "Import statement like `from MODULE import *` should be avoided!\n",
        "\n",
        "Detecting undefined names in the program becomes rather difficult. \n",
        "\n",
        "As a general best practice, import statements should be as specific as possible and should only import what they need."
      ]
    },
    {
      "cell_type": "markdown",
      "metadata": {
        "id": "OtmYkf56GG9O",
        "colab_type": "text"
      },
      "source": [
        "## `12_Logfile_challenge.ipynb` recap"
      ]
    },
    {
      "cell_type": "markdown",
      "metadata": {
        "id": "0T2LMUeVGG6T",
        "colab_type": "text"
      },
      "source": [
        "- `!git clone https://github.com/munich-ml/MLPy2020/` for getting `logfile.csv`\n",
        "- task: Parsing the logfile from `s`, `<type 'str'>`  \n",
        "- `lines = s.split(\"\\n\")`\n",
        "- `<type 'list'>` is iterable: `for line in lines:`\n",
        "- `<type 'dict'>` for key-value lookup, like `idxs = {'header': 2, 'measurements': 8}`\n",
        "- `<type 'set'>` for set operations like `union`, `diff`\n",
        "- 2-dim `data` became a list of lists: `data[row][col]`, that doesn't support matrix operations like element-wise multiplication or arbitrary indexing.\n"
      ]
    },
    {
      "cell_type": "code",
      "metadata": {
        "id": "gglWFuqi98NE",
        "colab_type": "code",
        "colab": {}
      },
      "source": [
        "data = [[0.1, 43], [0.2, 58]]\n",
        "data"
      ],
      "execution_count": 0,
      "outputs": []
    },
    {
      "cell_type": "markdown",
      "metadata": {
        "id": "g6lJ70irB7IZ",
        "colab_type": "text"
      },
      "source": [
        "# 2020-05-20"
      ]
    },
    {
      "cell_type": "markdown",
      "metadata": {
        "id": "C6u5mhV02DKZ",
        "colab_type": "text"
      },
      "source": [
        "## `15_NumPy.ipynb` recap"
      ]
    },
    {
      "cell_type": "markdown",
      "metadata": {
        "id": "b0RfBmZ32p1R",
        "colab_type": "text"
      },
      "source": [
        "**NumPy** is made for matrix math and very fast in that\n",
        "\n",
        "`numpy.array`\n",
        "- is the basic NumPy datatype\n",
        "- may have 1, 2 or N dimensions\n",
        "- all items have the same datatype\n",
        "- provide arbitrary indexing\n",
        "- provide element-wise operations\n",
        "\n",
        "NumPy provides various *concatanation methods*\n",
        "- `np.column_stack()` supports horizontal stacking of 2D and 1D arrays\n"
      ]
    },
    {
      "cell_type": "code",
      "metadata": {
        "id": "ymQbwhIWDHio",
        "colab_type": "code",
        "colab": {
          "base_uri": "https://localhost:8080/",
          "height": 50
        },
        "outputId": "18541a4d-af20-41c4-f3e0-c63c695e095b"
      },
      "source": [
        "import numpy as np\n",
        "np.column_stack(([[0.1, 5], [0.2, 7]],\n",
        "                 [3.3, 4.4]))"
      ],
      "execution_count": 7,
      "outputs": [
        {
          "output_type": "execute_result",
          "data": {
            "text/plain": [
              "array([[0.1, 5. , 3.3],\n",
              "       [0.2, 7. , 4.4]])"
            ]
          },
          "metadata": {
            "tags": []
          },
          "execution_count": 7
        }
      ]
    },
    {
      "cell_type": "markdown",
      "metadata": {
        "colab_type": "text",
        "id": "QoKTkgtk2REs"
      },
      "source": [
        "## `16_Matplotlib.ipynb` recap"
      ]
    },
    {
      "cell_type": "code",
      "metadata": {
        "id": "orVZJW46EX-L",
        "colab_type": "code",
        "colab": {
          "base_uri": "https://localhost:8080/",
          "height": 202
        },
        "outputId": "a8483052-564f-4f27-a7e4-7b02b292b8bc"
      },
      "source": [
        "import matplotlib.pyplot as plt\n",
        "\n",
        "exp = 5\n",
        "x = np.arange(-1, 1.5, 0.1)\n",
        "y = np.power(x, exp)\n",
        "\n",
        "plt.figure(figsize=([6, 2.5]))\n",
        "plt.plot(x, y, color=\"g\", marker=\"x\", label=\"$f(x)=x^{}$\".format(exp))\n",
        "plt.ylim([-1, 2])\n",
        "plt.xlabel(\"x\"), plt.ylabel(\"f(x)\")\n",
        "plt.grid()\n",
        "plt.legend();"
      ],
      "execution_count": 34,
      "outputs": [
        {
          "output_type": "display_data",
          "data": {
            "image/png": "[encoded data removed]",
            "text/plain": [
              "<Figure size 432x180 with 1 Axes>"
            ]
          },
          "metadata": {
            "tags": [],
            "needs_background": "light"
          }
        }
      ]
    },
    {
      "cell_type": "markdown",
      "metadata": {
        "id": "-t9RY7zc2qS2",
        "colab_type": "text"
      },
      "source": [
        "For more inspiration go to [Matplotlib website](https://matplotlib.org/)"
      ]
    },
    {
      "cell_type": "markdown",
      "metadata": {
        "id": "4NXAz9tEGSHq",
        "colab_type": "text"
      },
      "source": [
        "`%matplotlib` magic switches between:\n",
        "- static inline plots (default) with `%matplotlib inline`\n",
        "- interactive plots with `%matplotlib qt`"
      ]
    },
    {
      "cell_type": "markdown",
      "metadata": {
        "colab_type": "text",
        "id": "SQVBIX7Z2RMp"
      },
      "source": [
        "## `17_Pandas.ipynb` recap"
      ]
    },
    {
      "cell_type": "markdown",
      "metadata": {
        "id": "1Xy44gMl8rRm",
        "colab_type": "text"
      },
      "source": [
        "**Pandas** (alias `pd`) is a Python package providing fast, flexible, and expressive data\n",
        "structures designed to make working with \"labeled\" data both\n",
        "easy and intuitive. \n",
        "\n",
        "**`pd.DataFrame`** is a two-dimensional data structure with labeled axes, rows (`index`) and `column`. The data is often a `np.array`.\n",
        "\n",
        "**`pd.Series`** is the one-dimensional version of the `pd.DataFrame`."
      ]
    },
    {
      "cell_type": "code",
      "metadata": {
        "id": "o_RciJ6WI-eB",
        "colab_type": "code",
        "colab": {}
      },
      "source": [
        "import pandas as pd"
      ],
      "execution_count": 0,
      "outputs": []
    },
    {
      "cell_type": "code",
      "metadata": {
        "id": "eWZjVVWHJBmY",
        "colab_type": "code",
        "colab": {
          "base_uri": "https://localhost:8080/",
          "height": 137
        },
        "outputId": "7377879f-8d22-4ab1-df90-6bcbf9e2a3f8"
      },
      "source": [
        "data = [[22, 104], [48, 223], [31, 130]]\n",
        "cols = [\"temperature [°C]\", \"current [mA]\"]\n",
        "rows = [\"before\", \"during\", \"after\"]\n",
        "\n",
        "df = pd.DataFrame(data, columns=cols, index=rows)\n",
        "df"
      ],
      "execution_count": 41,
      "outputs": [
        {
          "output_type": "execute_result",
          "data": {
            "text/html": [
              "<div>\n",
              "<style scoped>\n",
              "    .dataframe tbody tr th:only-of-type {\n",
              "        vertical-align: middle;\n",
              "    }\n",
              "\n",
              "    .dataframe tbody tr th {\n",
              "        vertical-align: top;\n",
              "    }\n",
              "\n",
              "    .dataframe thead th {\n",
              "        text-align: right;\n",
              "    }\n",
              "</style>\n",
              "<table border=\"1\" class=\"dataframe\">\n",
              "  <thead>\n",
              "    <tr style=\"text-align: right;\">\n",
              "      <th></th>\n",
              "      <th>temperature [°C]</th>\n",
              "      <th>current [mA]</th>\n",
              "    </tr>\n",
              "  </thead>\n",
              "  <tbody>\n",
              "    <tr>\n",
              "      <th>before</th>\n",
              "      <td>22</td>\n",
              "      <td>104</td>\n",
              "    </tr>\n",
              "    <tr>\n",
              "      <th>during</th>\n",
              "      <td>48</td>\n",
              "      <td>223</td>\n",
              "    </tr>\n",
              "    <tr>\n",
              "      <th>after</th>\n",
              "      <td>31</td>\n",
              "      <td>130</td>\n",
              "    </tr>\n",
              "  </tbody>\n",
              "</table>\n",
              "</div>"
            ],
            "text/plain": [
              "        temperature [°C]  current [mA]\n",
              "before                22           104\n",
              "during                48           223\n",
              "after                 31           130"
            ]
          },
          "metadata": {
            "tags": []
          },
          "execution_count": 41
        }
      ]
    },
    {
      "cell_type": "code",
      "metadata": {
        "id": "MvZU8XzJKDMv",
        "colab_type": "code",
        "colab": {
          "base_uri": "https://localhost:8080/",
          "height": 265
        },
        "outputId": "4195aabd-b299-4669-a5e8-96a821e4d38e"
      },
      "source": [
        "df.plot(grid=True);"
      ],
      "execution_count": 46,
      "outputs": [
        {
          "output_type": "display_data",
          "data": {
            "image/png": "[encoded data removed]",
            "text/plain": [
              "<Figure size 432x288 with 1 Axes>"
            ]
          },
          "metadata": {
            "tags": [],
            "needs_background": "light"
          }
        }
      ]
    },
    {
      "cell_type": "markdown",
      "metadata": {
        "id": "X-7Mg3Vs2tNs",
        "colab_type": "text"
      },
      "source": [
        "# 2020-05-22"
      ]
    },
    {
      "cell_type": "markdown",
      "metadata": {
        "id": "WjVTyZ2t23eo",
        "colab_type": "text"
      },
      "source": [
        "- Review [`18_Logfiles_w_classes.ipynb`](https://colab.research.google.com/github/munich-ml/MLPy2020/blob/master/18_Logfiles_w_classes.ipynb) in Colab"
      ]
    },
    {
      "cell_type": "code",
      "metadata": {
        "id": "e21k4hLB2ksP",
        "colab_type": "code",
        "colab": {}
      },
      "source": [
        ""
      ],
      "execution_count": 0,
      "outputs": []
    }
  ]
}