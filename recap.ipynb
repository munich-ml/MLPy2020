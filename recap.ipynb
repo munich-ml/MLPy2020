{
  "nbformat": 4,
  "nbformat_minor": 0,
  "metadata": {
    "colab": {
      "name": "recap.ipynb",
      "provenance": [],
      "collapsed_sections": [],
      "toc_visible": true,
      "authorship_tag": "ABX9TyOqeXPjcgdkXNYMMzpxkzF9",
      "include_colab_link": true
    },
    "kernelspec": {
      "name": "python3",
      "display_name": "Python 3"
    }
  },
  "cells": [
    {
      "cell_type": "markdown",
      "metadata": {
        "id": "view-in-github",
        "colab_type": "text"
      },
      "source": [
        "<a href=\"https://colab.research.google.com/github/munich-ml/MLPy2020/blob/master/recap.ipynb\" target=\"_parent\"><img src=\"https://colab.research.google.com/assets/colab-badge.svg\" alt=\"Open In Colab\"/></a>"
      ]
    },
    {
      "cell_type": "markdown",
      "metadata": {
        "id": "-TQiw83eF8DZ",
        "colab_type": "text"
      },
      "source": [
        "# 2020-05-19"
      ]
    },
    {
      "cell_type": "markdown",
      "metadata": {
        "id": "C61L0o0XGHIZ",
        "colab_type": "text"
      },
      "source": [
        "## Progmming language popularity"
      ]
    },
    {
      "cell_type": "markdown",
      "metadata": {
        "id": "fwGJzL9XHXb7",
        "colab_type": "text"
      },
      "source": [
        "- [TOIBE popularity index](https://www.tiobe.com/tiobe-index/) ratings based on search quantities of 25 engines (Google, Baidu,.. but also Wikipedia)\n",
        "> 1. C\n",
        "> 1. Java\n",
        "> 1. **Python** \n",
        "- [PYPL](http://pypl.github.io/) measures how often language tutorials are googled by exploring Google Trends.\n",
        "> 1. **Python** \n",
        "> 1. Java\n",
        "> 1. JavaScript\n",
        "- [GitHub statistics](https://madnight.github.io/githut/#/pull_requests/2020/1) percentage pull-requests / commits / issues on GitHub.\n",
        "> 1. JavaScript\n",
        "> 1. **Python** \n",
        "- [Stackoverflow survey 2019](https://insights.stackoverflow.com/survey/2019): Key result #1: *Python, the fastest-growing major programming language, has risen in the ranks of programming languages in our survey yet again, edging out Java this year and standing as the second most loved language (behind Rust).*\n",
        "> 1. JavaScript\n",
        "> 1. HTML/CSS\n",
        "> 1. SQL\n",
        "> 1. **Python** "
      ]
    },
    {
      "cell_type": "markdown",
      "metadata": {
        "id": "HJHqMTyKGHDq",
        "colab_type": "text"
      },
      "source": [
        "## `str.format()` issue"
      ]
    },
    {
      "cell_type": "markdown",
      "metadata": {
        "id": "CJx48GBflUjo",
        "colab_type": "text"
      },
      "source": [
        "`str` concatanation within `print()`:"
      ]
    },
    {
      "cell_type": "code",
      "metadata": {
        "id": "qrftUv-7h9Q3",
        "colab_type": "code",
        "colab": {}
      },
      "source": [
        "line = \"header\"\n",
        "lineNo = 2\n",
        "print(\"'\" + line + \"' found in line no. \" + str(lineNo) + \"!\") "
      ],
      "execution_count": 0,
      "outputs": []
    },
    {
      "cell_type": "markdown",
      "metadata": {
        "id": "uqB25p1KoHIt",
        "colab_type": "text"
      },
      "source": [
        "Formatted string using `format()`"
      ]
    },
    {
      "cell_type": "code",
      "metadata": {
        "id": "Hj4tsFn8jIkF",
        "colab_type": "code",
        "colab": {}
      },
      "source": [
        "print(\"'{}' found in line no. {}!\".format(line, lineNo))"
      ],
      "execution_count": 0,
      "outputs": []
    },
    {
      "cell_type": "markdown",
      "metadata": {
        "id": "4nvjpC4prXZ6",
        "colab_type": "text"
      },
      "source": [
        "**Format specifiers** may be added"
      ]
    },
    {
      "cell_type": "code",
      "metadata": {
        "id": "Sg9LGppQlJ74",
        "colab_type": "code",
        "colab": {}
      },
      "source": [
        "print(\"'{}' found in line no. {:.1f}!\".format(line, lineNo))"
      ],
      "execution_count": 0,
      "outputs": []
    },
    {
      "cell_type": "markdown",
      "metadata": {
        "id": "kzmSaXMdqn4X",
        "colab_type": "text"
      },
      "source": [
        "Placeholders can be **blank `{}`** for automatic, **positional `{0}`** for manual numbering or referenced by **keyword `{keyword}`**: "
      ]
    },
    {
      "cell_type": "code",
      "metadata": {
        "id": "m1r7yiszkbgB",
        "colab_type": "code",
        "colab": {}
      },
      "source": [
        "print(\"'{0}' found in line no. {1:.0%}!\".format(line, lineNo))"
      ],
      "execution_count": 0,
      "outputs": []
    },
    {
      "cell_type": "markdown",
      "metadata": {
        "id": "_dWklqxHsvOW",
        "colab_type": "text"
      },
      "source": [
        "However, switching form automatic to manual numbering raises an exception:"
      ]
    },
    {
      "cell_type": "code",
      "metadata": {
        "id": "KLS_OLYXsbgx",
        "colab_type": "code",
        "colab": {}
      },
      "source": [
        "print(\"'{}' found in line no. {1:.0%}!\".format(line, lineNo))"
      ],
      "execution_count": 0,
      "outputs": []
    },
    {
      "cell_type": "markdown",
      "metadata": {
        "id": "JGGfJilXlswX",
        "colab_type": "text"
      },
      "source": [
        "**Further reading**: [format() tutorial](https://www.programiz.com/python-programming/methods/string/format)"
      ]
    },
    {
      "cell_type": "markdown",
      "metadata": {
        "id": "nrRkx4Fwm9Nb",
        "colab_type": "text"
      },
      "source": [
        "### f string available from Python 3.6"
      ]
    },
    {
      "cell_type": "code",
      "metadata": {
        "id": "YurPjjNPmux3",
        "colab_type": "code",
        "colab": {}
      },
      "source": [
        "print(f\"'{line}' found in line no. {lineNo:.1f}!\")"
      ],
      "execution_count": 0,
      "outputs": []
    },
    {
      "cell_type": "markdown",
      "metadata": {
        "id": "WjLeFbmfGHAa",
        "colab_type": "text"
      },
      "source": [
        "## scope issue"
      ]
    },
    {
      "cell_type": "markdown",
      "metadata": {
        "id": "j74aFTsEwM50",
        "colab_type": "text"
      },
      "source": [
        "Bug in `string_to_float` function: `item` wasn't defined locally:"
      ]
    },
    {
      "cell_type": "code",
      "metadata": {
        "id": "E44hai2ntUvt",
        "colab_type": "code",
        "colab": {}
      },
      "source": [
        "def string_to_float(s):\n",
        "    print(\"item: \" + str(item))"
      ],
      "execution_count": 0,
      "outputs": []
    },
    {
      "cell_type": "code",
      "metadata": {
        "id": "Eid9Fzr8u-9l",
        "colab_type": "code",
        "colab": {}
      },
      "source": [
        "some_str = \"12.3 Ohms\""
      ],
      "execution_count": 0,
      "outputs": []
    },
    {
      "cell_type": "code",
      "metadata": {
        "id": "mBxTJI4uvIQm",
        "colab_type": "code",
        "colab": {}
      },
      "source": [
        "string_to_float(some_str)"
      ],
      "execution_count": 0,
      "outputs": []
    },
    {
      "cell_type": "markdown",
      "metadata": {
        "id": "k1EglV9JxDkk",
        "colab_type": "text"
      },
      "source": [
        "### Get local scope with `dir()`\n",
        "Build-in function `dir()` returns the list of names in the current local scope. "
      ]
    },
    {
      "cell_type": "code",
      "metadata": {
        "id": "lzZy_46QvkZz",
        "colab_type": "code",
        "colab": {}
      },
      "source": [
        "dir()"
      ],
      "execution_count": 0,
      "outputs": []
    },
    {
      "cell_type": "code",
      "metadata": {
        "id": "iCObBtgmvkXb",
        "colab_type": "code",
        "colab": {}
      },
      "source": [
        "[v for v in dir() if not v.startswith(\"_\")]"
      ],
      "execution_count": 0,
      "outputs": []
    },
    {
      "cell_type": "code",
      "metadata": {
        "id": "LyQyVjey5k1u",
        "colab_type": "code",
        "colab": {}
      },
      "source": [
        ""
      ],
      "execution_count": 0,
      "outputs": []
    },
    {
      "cell_type": "markdown",
      "metadata": {
        "id": "4hNatI9MzPiY",
        "colab_type": "text"
      },
      "source": [
        "Redifine `string_to_float` to print the function's local scope:"
      ]
    },
    {
      "cell_type": "code",
      "metadata": {
        "id": "1YI4huCayQDF",
        "colab_type": "code",
        "colab": {}
      },
      "source": [
        "def string_to_float(s):\n",
        "    print(\"Local scope: \" + str([v for v in dir() if not v.startswith(\"_\")]))\n",
        "    print(\"item: \" + str(item))"
      ],
      "execution_count": 0,
      "outputs": []
    },
    {
      "cell_type": "code",
      "metadata": {
        "id": "FaUubIA1y9ac",
        "colab_type": "code",
        "colab": {}
      },
      "source": [
        "string_to_float(some_str)"
      ],
      "execution_count": 0,
      "outputs": []
    },
    {
      "cell_type": "markdown",
      "metadata": {
        "id": "r04Dn8_l0Epz",
        "colab_type": "text"
      },
      "source": [
        "**Exception** because `item` doesn't exist in local or global scope.\n",
        "\n",
        "No exception occurs, if `item` is defined in the global scope."
      ]
    },
    {
      "cell_type": "code",
      "metadata": {
        "id": "aTLkSe4ltezA",
        "colab_type": "code",
        "colab": {}
      },
      "source": [
        "for item in [\"4.67 mOhms\", \"1.23\"]:\n",
        "    string_to_float(item)"
      ],
      "execution_count": 0,
      "outputs": []
    },
    {
      "cell_type": "code",
      "metadata": {
        "id": "LC4B4nkqvkUo",
        "colab_type": "code",
        "colab": {}
      },
      "source": [
        "del item"
      ],
      "execution_count": 0,
      "outputs": []
    },
    {
      "cell_type": "markdown",
      "metadata": {
        "id": "2rh_wNxkvkSA",
        "colab_type": "text"
      },
      "source": [
        "### Static code analysis\n",
        "The use of static code analysis (e.y. Pylint) is highly recommended. "
      ]
    },
    {
      "cell_type": "markdown",
      "metadata": {
        "id": "EAw2FqzvG7Hw",
        "colab_type": "text"
      },
      "source": [
        "## `import` a module"
      ]
    },
    {
      "cell_type": "code",
      "metadata": {
        "id": "Yq-H5hBxvjQF",
        "colab_type": "code",
        "colab": {}
      },
      "source": [
        "np.pi"
      ],
      "execution_count": 0,
      "outputs": []
    },
    {
      "cell_type": "markdown",
      "metadata": {
        "id": "tYFtYiOL4l-V",
        "colab_type": "text"
      },
      "source": [
        "`np` must be defined first"
      ]
    },
    {
      "cell_type": "code",
      "metadata": {
        "id": "fVoVNzUGvjYk",
        "colab_type": "code",
        "colab": {}
      },
      "source": [
        "import numpy as np"
      ],
      "execution_count": 0,
      "outputs": []
    },
    {
      "cell_type": "code",
      "metadata": {
        "id": "r1N36oU211rj",
        "colab_type": "code",
        "colab": {}
      },
      "source": [
        "np.pi"
      ],
      "execution_count": 0,
      "outputs": []
    },
    {
      "cell_type": "markdown",
      "metadata": {
        "id": "4LCwvTDh4w0L",
        "colab_type": "text"
      },
      "source": [
        "Alternatively, import the functions that are specifically needed:"
      ]
    },
    {
      "cell_type": "code",
      "metadata": {
        "id": "pmtvNE0N2wM6",
        "colab_type": "code",
        "colab": {}
      },
      "source": [
        "from numpy import pi, eye"
      ],
      "execution_count": 0,
      "outputs": []
    },
    {
      "cell_type": "code",
      "metadata": {
        "id": "LlPve4Xf24N3",
        "colab_type": "code",
        "colab": {}
      },
      "source": [
        "pi"
      ],
      "execution_count": 0,
      "outputs": []
    },
    {
      "cell_type": "code",
      "metadata": {
        "id": "bYg-DIuX3Zwi",
        "colab_type": "code",
        "colab": {}
      },
      "source": [
        "del pi, eye"
      ],
      "execution_count": 0,
      "outputs": []
    },
    {
      "cell_type": "code",
      "metadata": {
        "id": "z9cWgxWm5BCD",
        "colab_type": "code",
        "colab": {}
      },
      "source": [
        ""
      ],
      "execution_count": 0,
      "outputs": []
    },
    {
      "cell_type": "code",
      "metadata": {
        "id": "tKGf9Rgn11t_",
        "colab_type": "code",
        "colab": {}
      },
      "source": [
        "dir(np)"
      ],
      "execution_count": 0,
      "outputs": []
    },
    {
      "cell_type": "code",
      "metadata": {
        "id": "ou2eVEn717yX",
        "colab_type": "code",
        "colab": {}
      },
      "source": [
        "dir()"
      ],
      "execution_count": 0,
      "outputs": []
    },
    {
      "cell_type": "markdown",
      "metadata": {
        "id": "dhOPMPAz5C2b",
        "colab_type": "text"
      },
      "source": [
        "**Antipattern:**"
      ]
    },
    {
      "cell_type": "code",
      "metadata": {
        "id": "9C-VrywS170e",
        "colab_type": "code",
        "colab": {}
      },
      "source": [
        "from numpy import *"
      ],
      "execution_count": 0,
      "outputs": []
    },
    {
      "cell_type": "code",
      "metadata": {
        "id": "UjWgv3ib3fp5",
        "colab_type": "code",
        "colab": {}
      },
      "source": [
        "pi"
      ],
      "execution_count": 0,
      "outputs": []
    },
    {
      "cell_type": "markdown",
      "metadata": {
        "id": "9X-CCdE15JAE",
        "colab_type": "text"
      },
      "source": [
        "That worked, **BUT**..."
      ]
    },
    {
      "cell_type": "code",
      "metadata": {
        "id": "EUMAMDPx1724",
        "colab_type": "code",
        "colab": {}
      },
      "source": [
        "dir()"
      ],
      "execution_count": 0,
      "outputs": []
    },
    {
      "cell_type": "markdown",
      "metadata": {
        "id": "lHLMqcAf36oo",
        "colab_type": "text"
      },
      "source": [
        "Import statement like `from MODULE import *` should be avoided!\n",
        "\n",
        "Detecting undefined names in the program becomes rather difficult. \n",
        "\n",
        "As a general best practice, import statements should be as specific as possible and should only import what they need."
      ]
    },
    {
      "cell_type": "markdown",
      "metadata": {
        "id": "OtmYkf56GG9O",
        "colab_type": "text"
      },
      "source": [
        "## `12_Logfile_challenge.ipynb` recap"
      ]
    },
    {
      "cell_type": "markdown",
      "metadata": {
        "id": "0T2LMUeVGG6T",
        "colab_type": "text"
      },
      "source": [
        "- `!git clone https://github.com/munich-ml/MLPy2020/` for getting `logfile.csv`\n",
        "- task: Parsing the logfile from `s`, `<type 'str'>`  \n",
        "- `lines = s.split(\"\\n\")`\n",
        "- `<type 'list'>` is iterable: `for line in lines:`\n",
        "- `<type 'dict'>` for key-value lookup, like `idxs = {'header': 2, 'measurements': 8}`\n",
        "- `<type 'set'>` for set operations like `union`, `diff`\n",
        "- 2-dim `data` became a list of lists: `data[row][col]`, that doesn't support matrix operations like element-wise multiplication or arbitrary indexing.\n"
      ]
    },
    {
      "cell_type": "code",
      "metadata": {
        "id": "gglWFuqi98NE",
        "colab_type": "code",
        "colab": {}
      },
      "source": [
        "data = [[0.1, 43], [0.2, 58]]\n",
        "data"
      ],
      "execution_count": 0,
      "outputs": []
    },
    {
      "cell_type": "code",
      "metadata": {
        "id": "UJ8rJ38oAkg3",
        "colab_type": "code",
        "colab": {}
      },
      "source": [
        "data[0][:]"
      ],
      "execution_count": 0,
      "outputs": []
    },
    {
      "cell_type": "markdown",
      "metadata": {
        "id": "g6lJ70irB7IZ",
        "colab_type": "text"
      },
      "source": [
        "# 2020-05-20"
      ]
    }
  ]
}