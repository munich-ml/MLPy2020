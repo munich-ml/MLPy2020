{
  "nbformat": 4,
  "nbformat_minor": 0,
  "metadata": {
    "colab": {
      "name": "recap.ipynb",
      "provenance": [],
      "collapsed_sections": [],
      "toc_visible": true,
      "authorship_tag": "ABX9TyMRbLOnMflxdyWaK/+xamU6",
      "include_colab_link": true
    },
    "kernelspec": {
      "name": "python3",
      "display_name": "Python 3"
    }
  },
  "cells": [
    {
      "cell_type": "markdown",
      "metadata": {
        "id": "view-in-github",
        "colab_type": "text"
      },
      "source": [
        "<a href=\"https://colab.research.google.com/github/munich-ml/MLPy2020/blob/master/recap.ipynb\" target=\"_parent\"><img src=\"https://colab.research.google.com/assets/colab-badge.svg\" alt=\"Open In Colab\"/></a>"
      ]
    },
    {
      "cell_type": "markdown",
      "metadata": {
        "id": "-TQiw83eF8DZ",
        "colab_type": "text"
      },
      "source": [
        "# 2020-05-19"
      ]
    },
    {
      "cell_type": "markdown",
      "metadata": {
        "id": "C61L0o0XGHIZ",
        "colab_type": "text"
      },
      "source": [
        "## Progmming language popularity"
      ]
    },
    {
      "cell_type": "markdown",
      "metadata": {
        "id": "fwGJzL9XHXb7",
        "colab_type": "text"
      },
      "source": [
        "- [TOIBE popularity index](https://www.tiobe.com/tiobe-index/) ratings based on search quantities of 25 engines (Google, Baidu,.. but also Wikipedia)\n",
        "> 1. C\n",
        "> 1. Java\n",
        "> 1. **Python** \n",
        "- [PYPL](http://pypl.github.io/) measures how often language tutorials are googled by exploring Google Trends.\n",
        "> 1. **Python** \n",
        "> 1. Java\n",
        "> 1. JavaScript\n",
        "- [GitHub statistics](https://madnight.github.io/githut/#/pull_requests/2020/1) percentage pull-requests / commits / issues on GitHub.\n",
        "> 1. JavaScript\n",
        "> 1. **Python** \n",
        "- [Stackoverflow survey 2019](https://insights.stackoverflow.com/survey/2019): Key result #1: *Python, the fastest-growing major programming language, has risen in the ranks of programming languages in our survey yet again, edging out Java this year and standing as the second most loved language (behind Rust).*\n",
        "> 1. JavaScript\n",
        "> 1. HTML/CSS\n",
        "> 1. SQL\n",
        "> 1. **Python** "
      ]
    },
    {
      "cell_type": "markdown",
      "metadata": {
        "id": "HJHqMTyKGHDq",
        "colab_type": "text"
      },
      "source": [
        "## `str.format()` issue"
      ]
    },
    {
      "cell_type": "markdown",
      "metadata": {
        "id": "CJx48GBflUjo",
        "colab_type": "text"
      },
      "source": [
        "`str` concatanation within `print()`:"
      ]
    },
    {
      "cell_type": "code",
      "metadata": {
        "id": "qrftUv-7h9Q3",
        "colab_type": "code",
        "colab": {}
      },
      "source": [
        "line = \"header\"\n",
        "lineNo = 2\n",
        "print(\"'\" + line + \"' found in line no. \" + str(lineNo) + \"!\") "
      ],
      "execution_count": 0,
      "outputs": []
    },
    {
      "cell_type": "markdown",
      "metadata": {
        "id": "uqB25p1KoHIt",
        "colab_type": "text"
      },
      "source": [
        "Formatted string using `format()`"
      ]
    },
    {
      "cell_type": "code",
      "metadata": {
        "id": "Hj4tsFn8jIkF",
        "colab_type": "code",
        "colab": {}
      },
      "source": [
        "print(\"'{}' found in line no. {}!\".format(line, lineNo))"
      ],
      "execution_count": 0,
      "outputs": []
    },
    {
      "cell_type": "markdown",
      "metadata": {
        "id": "4nvjpC4prXZ6",
        "colab_type": "text"
      },
      "source": [
        "**Format specifiers** may be added"
      ]
    },
    {
      "cell_type": "code",
      "metadata": {
        "id": "Sg9LGppQlJ74",
        "colab_type": "code",
        "colab": {}
      },
      "source": [
        "print(\"'{}' found in line no. {:.1f}!\".format(line, lineNo))"
      ],
      "execution_count": 0,
      "outputs": []
    },
    {
      "cell_type": "markdown",
      "metadata": {
        "id": "kzmSaXMdqn4X",
        "colab_type": "text"
      },
      "source": [
        "Placeholders can be **blank `{}`** for automatic, **positional `{0}`** for manual numbering or referenced by **keyword `{keyword}`**: "
      ]
    },
    {
      "cell_type": "code",
      "metadata": {
        "id": "m1r7yiszkbgB",
        "colab_type": "code",
        "colab": {}
      },
      "source": [
        "print(\"'{0}' found in line no. {1:.0%}!\".format(line, lineNo))"
      ],
      "execution_count": 0,
      "outputs": []
    },
    {
      "cell_type": "markdown",
      "metadata": {
        "id": "_dWklqxHsvOW",
        "colab_type": "text"
      },
      "source": [
        "However, switching form automatic to manual numbering raises an exception:"
      ]
    },
    {
      "cell_type": "code",
      "metadata": {
        "id": "KLS_OLYXsbgx",
        "colab_type": "code",
        "colab": {}
      },
      "source": [
        "try:\n",
        "    print(\"'{}' found in line no. {1:.0%}!\".format(line, lineNo))\n",
        "except ValueError as e:\n",
        "    print(\"ValueError:\", str(e))"
      ],
      "execution_count": 0,
      "outputs": []
    },
    {
      "cell_type": "markdown",
      "metadata": {
        "id": "JGGfJilXlswX",
        "colab_type": "text"
      },
      "source": [
        "**Further reading**: [format() tutorial](https://www.programiz.com/python-programming/methods/string/format)"
      ]
    },
    {
      "cell_type": "markdown",
      "metadata": {
        "id": "nrRkx4Fwm9Nb",
        "colab_type": "text"
      },
      "source": [
        "### f string available from Python 3.6"
      ]
    },
    {
      "cell_type": "code",
      "metadata": {
        "id": "YurPjjNPmux3",
        "colab_type": "code",
        "colab": {}
      },
      "source": [
        "print(f\"'{line}' found in line no. {lineNo:.1f}!\")"
      ],
      "execution_count": 0,
      "outputs": []
    },
    {
      "cell_type": "markdown",
      "metadata": {
        "id": "WjLeFbmfGHAa",
        "colab_type": "text"
      },
      "source": [
        "## scope issue"
      ]
    },
    {
      "cell_type": "markdown",
      "metadata": {
        "id": "j74aFTsEwM50",
        "colab_type": "text"
      },
      "source": [
        "Bug in `string_to_float` function: `item` wasn't defined locally:"
      ]
    },
    {
      "cell_type": "code",
      "metadata": {
        "id": "E44hai2ntUvt",
        "colab_type": "code",
        "colab": {}
      },
      "source": [
        "def string_to_float(s):\n",
        "    try:\n",
        "        print(\"item: \" + str(item))\n",
        "    except NameError as e:\n",
        "        print(\"NameError:\", str(e))"
      ],
      "execution_count": 0,
      "outputs": []
    },
    {
      "cell_type": "code",
      "metadata": {
        "id": "Eid9Fzr8u-9l",
        "colab_type": "code",
        "colab": {}
      },
      "source": [
        "some_str = \"12.3 Ohms\""
      ],
      "execution_count": 0,
      "outputs": []
    },
    {
      "cell_type": "code",
      "metadata": {
        "id": "mBxTJI4uvIQm",
        "colab_type": "code",
        "colab": {}
      },
      "source": [
        "string_to_float(some_str)"
      ],
      "execution_count": 0,
      "outputs": []
    },
    {
      "cell_type": "markdown",
      "metadata": {
        "id": "k1EglV9JxDkk",
        "colab_type": "text"
      },
      "source": [
        "### Get local scope with `dir()`\n",
        "Build-in function `dir()` returns the list of names in the current local scope. "
      ]
    },
    {
      "cell_type": "code",
      "metadata": {
        "id": "lzZy_46QvkZz",
        "colab_type": "code",
        "colab": {}
      },
      "source": [
        "dir()"
      ],
      "execution_count": 0,
      "outputs": []
    },
    {
      "cell_type": "code",
      "metadata": {
        "id": "iCObBtgmvkXb",
        "colab_type": "code",
        "colab": {}
      },
      "source": [
        "[v for v in dir() if not v.startswith(\"_\")]"
      ],
      "execution_count": 0,
      "outputs": []
    },
    {
      "cell_type": "markdown",
      "metadata": {
        "id": "4hNatI9MzPiY",
        "colab_type": "text"
      },
      "source": [
        "Redifine `string_to_float` to print the function's local scope:"
      ]
    },
    {
      "cell_type": "code",
      "metadata": {
        "id": "1YI4huCayQDF",
        "colab_type": "code",
        "colab": {}
      },
      "source": [
        "def string_to_float(s):\n",
        "    print(\"Local scope: \" + str([v for v in dir() if not v.startswith(\"_\")]))\n",
        "    try:\n",
        "        print(\"item: \" + str(item))\n",
        "    except NameError as e:\n",
        "        print(\"NameError:\", str(e))"
      ],
      "execution_count": 0,
      "outputs": []
    },
    {
      "cell_type": "code",
      "metadata": {
        "id": "FaUubIA1y9ac",
        "colab_type": "code",
        "colab": {}
      },
      "source": [
        "string_to_float(some_str)"
      ],
      "execution_count": 0,
      "outputs": []
    },
    {
      "cell_type": "markdown",
      "metadata": {
        "id": "r04Dn8_l0Epz",
        "colab_type": "text"
      },
      "source": [
        "**Exception** because `item` doesn't exist in local or global scope.\n",
        "\n",
        "No exception occurs, if `item` is defined in the global scope."
      ]
    },
    {
      "cell_type": "code",
      "metadata": {
        "id": "aTLkSe4ltezA",
        "colab_type": "code",
        "colab": {}
      },
      "source": [
        "for item in [\"4.67 mOhms\", \"1.23\"]:\n",
        "    string_to_float(item)"
      ],
      "execution_count": 0,
      "outputs": []
    },
    {
      "cell_type": "code",
      "metadata": {
        "id": "LC4B4nkqvkUo",
        "colab_type": "code",
        "colab": {}
      },
      "source": [
        "del item"
      ],
      "execution_count": 0,
      "outputs": []
    },
    {
      "cell_type": "markdown",
      "metadata": {
        "id": "2rh_wNxkvkSA",
        "colab_type": "text"
      },
      "source": [
        "### Static code analysis\n",
        "The use of static code analysis (e.y. Pylint) is highly recommended. "
      ]
    },
    {
      "cell_type": "markdown",
      "metadata": {
        "id": "EAw2FqzvG7Hw",
        "colab_type": "text"
      },
      "source": [
        "## `import` a module"
      ]
    },
    {
      "cell_type": "code",
      "metadata": {
        "id": "Yq-H5hBxvjQF",
        "colab_type": "code",
        "colab": {}
      },
      "source": [
        "try:\n",
        "    print(np.pi)\n",
        "except NameError as e:\n",
        "    print(\"NameError:\", str(e))"
      ],
      "execution_count": 0,
      "outputs": []
    },
    {
      "cell_type": "markdown",
      "metadata": {
        "id": "tYFtYiOL4l-V",
        "colab_type": "text"
      },
      "source": [
        "`np` must be defined first"
      ]
    },
    {
      "cell_type": "code",
      "metadata": {
        "id": "fVoVNzUGvjYk",
        "colab_type": "code",
        "colab": {}
      },
      "source": [
        "import numpy as np"
      ],
      "execution_count": 0,
      "outputs": []
    },
    {
      "cell_type": "code",
      "metadata": {
        "id": "r1N36oU211rj",
        "colab_type": "code",
        "colab": {}
      },
      "source": [
        "np.pi"
      ],
      "execution_count": 0,
      "outputs": []
    },
    {
      "cell_type": "markdown",
      "metadata": {
        "id": "4LCwvTDh4w0L",
        "colab_type": "text"
      },
      "source": [
        "Alternatively, import the functions that are specifically needed:"
      ]
    },
    {
      "cell_type": "code",
      "metadata": {
        "id": "pmtvNE0N2wM6",
        "colab_type": "code",
        "colab": {}
      },
      "source": [
        "from numpy import pi, eye"
      ],
      "execution_count": 0,
      "outputs": []
    },
    {
      "cell_type": "code",
      "metadata": {
        "id": "LlPve4Xf24N3",
        "colab_type": "code",
        "colab": {}
      },
      "source": [
        "pi"
      ],
      "execution_count": 0,
      "outputs": []
    },
    {
      "cell_type": "code",
      "metadata": {
        "id": "bYg-DIuX3Zwi",
        "colab_type": "code",
        "colab": {}
      },
      "source": [
        "del pi, eye"
      ],
      "execution_count": 0,
      "outputs": []
    },
    {
      "cell_type": "code",
      "metadata": {
        "id": "z9cWgxWm5BCD",
        "colab_type": "code",
        "colab": {}
      },
      "source": [
        ""
      ],
      "execution_count": 0,
      "outputs": []
    },
    {
      "cell_type": "code",
      "metadata": {
        "id": "tKGf9Rgn11t_",
        "colab_type": "code",
        "colab": {}
      },
      "source": [
        "dir(np)"
      ],
      "execution_count": 0,
      "outputs": []
    },
    {
      "cell_type": "code",
      "metadata": {
        "id": "ou2eVEn717yX",
        "colab_type": "code",
        "colab": {}
      },
      "source": [
        "dir()"
      ],
      "execution_count": 0,
      "outputs": []
    },
    {
      "cell_type": "markdown",
      "metadata": {
        "id": "dhOPMPAz5C2b",
        "colab_type": "text"
      },
      "source": [
        "**Antipattern:**"
      ]
    },
    {
      "cell_type": "code",
      "metadata": {
        "id": "9C-VrywS170e",
        "colab_type": "code",
        "colab": {}
      },
      "source": [
        "from numpy import *"
      ],
      "execution_count": 0,
      "outputs": []
    },
    {
      "cell_type": "code",
      "metadata": {
        "id": "UjWgv3ib3fp5",
        "colab_type": "code",
        "colab": {}
      },
      "source": [
        "pi"
      ],
      "execution_count": 0,
      "outputs": []
    },
    {
      "cell_type": "markdown",
      "metadata": {
        "id": "9X-CCdE15JAE",
        "colab_type": "text"
      },
      "source": [
        "That worked, **BUT**..."
      ]
    },
    {
      "cell_type": "code",
      "metadata": {
        "id": "EUMAMDPx1724",
        "colab_type": "code",
        "colab": {}
      },
      "source": [
        "dir()"
      ],
      "execution_count": 0,
      "outputs": []
    },
    {
      "cell_type": "markdown",
      "metadata": {
        "id": "lHLMqcAf36oo",
        "colab_type": "text"
      },
      "source": [
        "Import statement like `from MODULE import *` should be avoided!\n",
        "\n",
        "Detecting undefined names in the program becomes rather difficult. \n",
        "\n",
        "As a general best practice, import statements should be as specific as possible and should only import what they need."
      ]
    },
    {
      "cell_type": "markdown",
      "metadata": {
        "id": "OtmYkf56GG9O",
        "colab_type": "text"
      },
      "source": [
        "## `12_Logfile_challenge.ipynb` recap"
      ]
    },
    {
      "cell_type": "markdown",
      "metadata": {
        "id": "0T2LMUeVGG6T",
        "colab_type": "text"
      },
      "source": [
        "- `!git clone https://github.com/munich-ml/MLPy2020/` for getting `logfile.csv`\n",
        "- task: Parsing the logfile from `s`, `<type 'str'>`  \n",
        "- `lines = s.split(\"\\n\")`\n",
        "- `<type 'list'>` is iterable: `for line in lines:`\n",
        "- `<type 'dict'>` for key-value lookup, like `idxs = {'header': 2, 'measurements': 8}`\n",
        "- `<type 'set'>` for set operations like `union`, `diff`\n",
        "- 2-dim `data` became a list of lists: `data[row][col]`, that doesn't support matrix operations like element-wise multiplication or arbitrary indexing.\n"
      ]
    },
    {
      "cell_type": "code",
      "metadata": {
        "id": "gglWFuqi98NE",
        "colab_type": "code",
        "colab": {}
      },
      "source": [
        "data = [[0.1, 43], [0.2, 58]]\n",
        "data"
      ],
      "execution_count": 0,
      "outputs": []
    },
    {
      "cell_type": "markdown",
      "metadata": {
        "id": "g6lJ70irB7IZ",
        "colab_type": "text"
      },
      "source": [
        "# 2020-05-20"
      ]
    },
    {
      "cell_type": "markdown",
      "metadata": {
        "id": "C6u5mhV02DKZ",
        "colab_type": "text"
      },
      "source": [
        "## `15_NumPy.ipynb` recap"
      ]
    },
    {
      "cell_type": "markdown",
      "metadata": {
        "id": "b0RfBmZ32p1R",
        "colab_type": "text"
      },
      "source": [
        "**NumPy** is made for matrix math and is very fast\n",
        "\n",
        "`numpy.array`\n",
        "- is the basic NumPy datatype\n",
        "- may have 1, 2 or N dimensions\n",
        "- all items have the same datatype\n",
        "- provide arbitrary indexing\n",
        "- provide element-wise operations\n",
        "\n",
        "NumPy provides various *concatanation methods*\n",
        "- `np.column_stack()` supports horizontal stacking of 2D and 1D arrays\n"
      ]
    },
    {
      "cell_type": "code",
      "metadata": {
        "id": "ymQbwhIWDHio",
        "colab_type": "code",
        "colab": {}
      },
      "source": [
        "import numpy as np\n",
        "np.column_stack(([[0.1, 5], [0.2, 7]],\n",
        "                 [3.3, 4.4]))"
      ],
      "execution_count": 0,
      "outputs": []
    },
    {
      "cell_type": "markdown",
      "metadata": {
        "colab_type": "text",
        "id": "QoKTkgtk2REs"
      },
      "source": [
        "## `16_Matplotlib.ipynb` recap"
      ]
    },
    {
      "cell_type": "code",
      "metadata": {
        "id": "orVZJW46EX-L",
        "colab_type": "code",
        "colab": {}
      },
      "source": [
        "import matplotlib.pyplot as plt\n",
        "\n",
        "exp = 5\n",
        "x = np.arange(-1, 1.5, 0.1)\n",
        "y = np.power(x, exp)\n",
        "\n",
        "plt.figure(figsize=([6, 2.5]))\n",
        "plt.plot(x, y, color=\"g\", marker=\"x\", label=\"$f(x)=x^{}$\".format(exp))\n",
        "plt.ylim([-1, 2])\n",
        "plt.xlabel(\"x\"), plt.ylabel(\"f(x)\")\n",
        "plt.grid()\n",
        "plt.legend();"
      ],
      "execution_count": 0,
      "outputs": []
    },
    {
      "cell_type": "markdown",
      "metadata": {
        "id": "-t9RY7zc2qS2",
        "colab_type": "text"
      },
      "source": [
        "For more inspiration go to [Matplotlib website](https://matplotlib.org/)"
      ]
    },
    {
      "cell_type": "markdown",
      "metadata": {
        "id": "4NXAz9tEGSHq",
        "colab_type": "text"
      },
      "source": [
        "`%matplotlib` magic switches between:\n",
        "- static inline plots (default) with `%matplotlib inline`\n",
        "- interactive plots with `%matplotlib qt`"
      ]
    },
    {
      "cell_type": "markdown",
      "metadata": {
        "colab_type": "text",
        "id": "SQVBIX7Z2RMp"
      },
      "source": [
        "## `17_Pandas.ipynb` recap"
      ]
    },
    {
      "cell_type": "markdown",
      "metadata": {
        "id": "1Xy44gMl8rRm",
        "colab_type": "text"
      },
      "source": [
        "**Pandas** (alias `pd`) is a Python package providing fast, flexible, and expressive data\n",
        "structures designed to make working with \"labeled\" data both\n",
        "easy and intuitive. \n",
        "\n",
        "**`pd.DataFrame`** is a two-dimensional data structure with labeled axes, rows (`index`) and `column`. The data is often a `np.array`.\n",
        "\n",
        "**`pd.Series`** is the one-dimensional version of the `pd.DataFrame`."
      ]
    },
    {
      "cell_type": "code",
      "metadata": {
        "id": "o_RciJ6WI-eB",
        "colab_type": "code",
        "colab": {}
      },
      "source": [
        "import pandas as pd"
      ],
      "execution_count": 0,
      "outputs": []
    },
    {
      "cell_type": "code",
      "metadata": {
        "id": "eWZjVVWHJBmY",
        "colab_type": "code",
        "colab": {}
      },
      "source": [
        "data = [[22, 104], [48, 223], [31, 130]]\n",
        "cols = [\"temperature [°C]\", \"current [mA]\"]\n",
        "rows = [\"before\", \"during\", \"after\"]\n",
        "\n",
        "pd.DataFrame(data, columns=cols, index=rows)"
      ],
      "execution_count": 0,
      "outputs": []
    },
    {
      "cell_type": "code",
      "metadata": {
        "id": "MvZU8XzJKDMv",
        "colab_type": "code",
        "colab": {}
      },
      "source": [
        "pd.DataFrame(data, columns=cols, index=rows).plot(grid=True);"
      ],
      "execution_count": 0,
      "outputs": []
    },
    {
      "cell_type": "markdown",
      "metadata": {
        "id": "X-7Mg3Vs2tNs",
        "colab_type": "text"
      },
      "source": [
        "# 2020-05-22"
      ]
    },
    {
      "cell_type": "markdown",
      "metadata": {
        "id": "WjVTyZ2t23eo",
        "colab_type": "text"
      },
      "source": [
        "## [18_Logfiles_w_classes.ipynb](https://colab.research.google.com/github/munich-ml/MLPy2020/blob/master/18_Logfiles_w_classes.ipynb) \n",
        "\n"
      ]
    },
    {
      "cell_type": "markdown",
      "metadata": {
        "id": "6APBfbk0oQVg",
        "colab_type": "text"
      },
      "source": [
        "The object oriented implementation of the *logfile challenge* brings some advantages:\n",
        "\n",
        "**Functions (*methods*) and data bundled in one object**\n",
        "\n",
        "**Cleaner interfaces and namespace**, e.g. \n",
        "> - `log = Log(fn)`\n",
        "> - `log.plot(sig_names=[\"sig0_cal\"])`            \n",
        "\n",
        "versus\n",
        "            \n",
        "> - `log_data = parse_logfile_string_to_pandas(s)`\n",
        "> - `plot(log_data, sig_names=[\"sig0_cal\"])`\n",
        "\n",
        "**overwrite operators** like `__str__`, `__lt__`, ...\n"
      ]
    },
    {
      "cell_type": "markdown",
      "metadata": {
        "id": "uHPaQuOMTiQn",
        "colab_type": "text"
      },
      "source": [
        "## 21_first_machine_lerning_models.ipynb"
      ]
    },
    {
      "cell_type": "markdown",
      "metadata": {
        "id": "jnrlTMXlVhKA",
        "colab_type": "text"
      },
      "source": [
        "- **Scikit-learn** offers standard interfaces to its models, e.g. `model.fit(x_train, y_train)`, `model.predict(x_new)`\n",
        "- **RSME** or *root mean squared error* used as performance criterion for the **regression problem**\n",
        "\n",
        "- a model is supposed to **generalize** the training data, not to **memorize** it. \n",
        "- An **overfitting** model performs much worse *test data* than on the *training RSME*. \n",
        "- The common root cause is **too few training data** applied to a **too complex model**.\n",
        "- **Regularization** helps to avoids overfitting of complex models.\n",
        "- An **underfitting** model performs bad on both data sets. \n",
        "- **Linear regression model** and **Decision tree model**"
      ]
    },
    {
      "cell_type": "markdown",
      "metadata": {
        "id": "8jb1LksZ9gZ_",
        "colab_type": "text"
      },
      "source": [
        "## 22_end2end_ml_project.ipynb\n"
      ]
    },
    {
      "cell_type": "markdown",
      "metadata": {
        "id": "O0gnUiLV9tWT",
        "colab_type": "text"
      },
      "source": [
        "- `housing` dataset with 10 **attributes** and 20.640 samples\n",
        "- `median_house_value` will be the *target attribute*, also called **label**. The other attributes will be the **features**\n",
        "- the `median_house_value` distribution is odd, with an obvious cap at 500.000\n",
        "- 9 attributes are **numerical**, 1 is **categorical**\n",
        "- The `total_bedrooms` feature is incomplete / has *null* values\n",
        "- next step: Split data into training and test data"
      ]
    },
    {
      "cell_type": "markdown",
      "metadata": {
        "id": "LFf00U_mred8",
        "colab_type": "text"
      },
      "source": [
        "# 2020-05-29"
      ]
    },
    {
      "cell_type": "markdown",
      "metadata": {
        "id": "sk_MasJ44CdG",
        "colab_type": "text"
      },
      "source": [
        "## 22_end2end_ml_project.ipynb"
      ]
    },
    {
      "cell_type": "markdown",
      "metadata": {
        "id": "5_bEx4DX0u3l",
        "colab_type": "text"
      },
      "source": [
        "- Scikit-learn's **`train_test_split`** slits datasets randomly and reproducable into subsets (e.g. for training and testing)\n",
        "- **StratifiedShuffleSplit** ensures that the feature \n",
        "distributions are **representative** (w.r.t. a certain feature)\n",
        "- Pandas **`corr`** and **`scatter_matrix`** are useful tools for **dataset exploration**\n",
        "- **Feature combinations** can be more informative that the native features. Implemented as custom **`CombinedAttrAdder`** class\n",
        "- **Missing values** need to be handled, e.g. `dropna`, `fillna` or better Scikit-learn's **`SimpleImputer`**\n",
        "- **Categorical text features** are encoded using the **`OneHotEncoder`**\n",
        "- Features are scaled using **`StandardScaler`**. Alternatives: `MinMaxScaler`, `QuantileTransformer`\n",
        "- next step: **Transformation pipelines**"
      ]
    },
    {
      "cell_type": "markdown",
      "metadata": {
        "id": "w0YwSVWaa-80",
        "colab_type": "text"
      },
      "source": [
        "# Ressources"
      ]
    },
    {
      "cell_type": "markdown",
      "metadata": {
        "id": "G5KGUZyRbCqp",
        "colab_type": "text"
      },
      "source": [
        "- Harrison Kinsley's [PythonProgramming.net](https://pythonprogramming.net/) is a tutorials site with video & text based tutorials for Python programming.\n",
        "- Corey Schafer's [YouTube channel](https://www.youtube.com/user/schafer5)\n",
        "- [Kaggle](https://www.kaggle.com/), the data science community with datasets, notebooks, courses and competition\n",
        "- Michael Kennedy's [talk Python to me](https://talkpython.fm/) podcast\n",
        "-  Aurelien Geron _Hands-on Machine Learning with Scikit-learn, Keras & TensorFlow_ [Book on Amazon](https://www.amazon.de/Aur%C3%A9lien-G%C3%A9ron/dp/1492032646/ref=sr_1_3?__mk_de_DE=%C3%85M%C3%85%C5%BD%C3%95%C3%91&dchild=1&keywords=Hands-on+Machine+Learning+with+Scikit-learn%2C+Keras+%26+TensorFlow%2C+Aurelien+Geron%2C&qid=1589875241&sr=8-3)\n",
        "- Andreas Mueller: _Introduction to Machine Learning with Python_ [Book on Amazon](https://www.amazon.de/Introduction-Machine-Learning-Python-Scientists/dp/1449369413)\n",
        "- Andreas Mueller: [Applied ML spring semester 2020](https://www.cs.columbia.edu/~amueller/comsw4995s20/), with videos, slices and notebooks\n"
      ]
    }
  ]
}