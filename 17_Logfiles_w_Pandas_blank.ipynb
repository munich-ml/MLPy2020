{
  "nbformat": 4,
  "nbformat_minor": 0,
  "metadata": {
    "colab": {
      "name": "17_Logfiles_w_Pandas_blank.ipynb",
      "provenance": [],
      "collapsed_sections": [],
      "toc_visible": true,
      "authorship_tag": "ABX9TyPXhbg95yiJal2OxsEkSMo0",
      "include_colab_link": true
    },
    "kernelspec": {
      "name": "python3",
      "display_name": "Python 3"
    }
  },
  "cells": [
    {
      "cell_type": "markdown",
      "metadata": {
        "id": "view-in-github",
        "colab_type": "text"
      },
      "source": [
        "<a href=\"https://colab.research.google.com/github/munich-ml/MLPy2020/blob/master/17_Logfiles_w_Pandas_blank.ipynb\" target=\"_parent\"><img src=\"https://colab.research.google.com/assets/colab-badge.svg\" alt=\"Open In Colab\"/></a>"
      ]
    },
    {
      "cell_type": "markdown",
      "metadata": {
        "id": "827kwTxX0tuc",
        "colab_type": "text"
      },
      "source": [
        "# Logfile challenge"
      ]
    },
    {
      "cell_type": "markdown",
      "metadata": {
        "id": "z12MmBNm4fXJ",
        "colab_type": "text"
      },
      "source": [
        "## setup"
      ]
    },
    {
      "cell_type": "markdown",
      "metadata": {
        "id": "Wu8QLzNa0zNJ",
        "colab_type": "text"
      },
      "source": [
        "This following code block prepares the coding challenge:\n",
        "1. clone GitHub project `MLPy2020`\n",
        "1. import and execute `create_csv` helper function\n",
        "1. open file `logfile.csv` and store content into variable `s`\n"
      ]
    },
    {
      "cell_type": "code",
      "metadata": {
        "id": "7qFfDsKHO1DP",
        "colab_type": "code",
        "colab": {}
      },
      "source": [
        "import os\n",
        "import numpy as np\n",
        "import pandas as pd\n",
        "import matplotlib.pyplot as plt\n",
        "\n",
        "# Get munich-ml repo from GitHub\n",
        "if \"MLPy2020\" in os.listdir():\n",
        "    !git -C MLPy2020 pull\n",
        "else:\n",
        "    !git clone https://github.com/munich-ml/MLPy2020/\n",
        "\n",
        "from MLPy2020.MLPy_helper_funcs import parse_logfile_string\n",
        "\n",
        "with open(os.path.join(\"MLPy2020\", \"datasets\", \"logfile.csv\"), \"r\") as file:\n",
        "    s = file.read()\n",
        "\n",
        "    "
      ],
      "execution_count": 0,
      "outputs": []
    },
    {
      "cell_type": "markdown",
      "metadata": {
        "id": "7SzNLgBYD-ht",
        "colab_type": "text"
      },
      "source": [
        "# Reuse functions from **NumPy** session\n",
        "\n"
      ]
    },
    {
      "cell_type": "code",
      "metadata": {
        "id": "l27dr0FqRaT1",
        "colab_type": "code",
        "colab": {}
      },
      "source": [
        "def apply_calibration(log):\n",
        "    for param, cal_factor in log[\"params\"].items():\n",
        "        if \"calibration factor\" in param:\n",
        "            sig = param.split(\" \")[-1]\n",
        "            col_index = log[\"names\"].index(sig)\n",
        "\n",
        "            # append the new column with calibrated data to the right\n",
        "            new_col = log[\"data\"][:, col_index] * float(cal_factor)\n",
        "            log[\"data\"] = np.column_stack([log[\"data\"], new_col])\n",
        "\n",
        "            # also add the new name to the names list\n",
        "            log[\"names\"].append(sig + \"_cal\") "
      ],
      "execution_count": 0,
      "outputs": []
    },
    {
      "cell_type": "code",
      "metadata": {
        "id": "1ZNCRd5hZdpY",
        "colab_type": "code",
        "colab": {}
      },
      "source": [
        "def plot(log, sig_names):\n",
        "    x = log[\"data\"][:, log[\"names\"].index(\"x\")]\n",
        "    for sig_name in sig_names:\n",
        "        if sig_name in log[\"names\"]:\n",
        "            y = log[\"data\"][:, log[\"names\"].index(sig_name)]\n",
        "            plt.plot(x, y, \"o\", label=sig_name)\n",
        "        else:\n",
        "            print(\"Warning, '{}' is not in 'log['names']'!\".format(sig_name))\n",
        "    plt.grid(), plt.legend(), plt.tight_layout()"
      ],
      "execution_count": 0,
      "outputs": []
    },
    {
      "cell_type": "code",
      "metadata": {
        "id": "BCDRvxifmjX6",
        "colab_type": "code",
        "colab": {}
      },
      "source": [
        "def parse_logfile_string_to_numpy(s):\n",
        "    \"\"\"\n",
        "    Wraps 'parse_logfile_string' function and converts the \"data\" list of lists to an NumPy array\n",
        "    \"\"\"\n",
        "    log_dict = parse_logfile_string(s)\n",
        "    log_dict[\"data\"] = np.array(log_dict[\"data\"])\n",
        "    return log_dict"
      ],
      "execution_count": 0,
      "outputs": []
    },
    {
      "cell_type": "code",
      "metadata": {
        "id": "cJnr-XIJV_D9",
        "colab_type": "code",
        "colab": {}
      },
      "source": [
        "log = parse_logfile_string_to_numpy(s)\n",
        "\n",
        "print(\"data head before calibration:\")\n",
        "print(log[\"names\"])\n",
        "print(log[\"data\"][:3, :])\n",
        "\n",
        "apply_calibration(log)\n",
        "\n",
        "print(\"data head after calibration:\")\n",
        "print(log[\"names\"])\n",
        "print(log[\"data\"][:3, :])"
      ],
      "execution_count": 0,
      "outputs": []
    },
    {
      "cell_type": "code",
      "metadata": {
        "id": "cBeyyFUBa8WA",
        "colab_type": "code",
        "colab": {}
      },
      "source": [
        "plot(log, sig_names=[\"sig0_cal\", \"sig1_cal\", \"sig1\", \"sig42\", \"sig2_cal\"])"
      ],
      "execution_count": 0,
      "outputs": []
    },
    {
      "cell_type": "markdown",
      "metadata": {
        "id": "P3e5ZCb5p77Z",
        "colab_type": "text"
      },
      "source": [
        "... the NumPy version still works.\n",
        "\n",
        "Next, lets introduce **Pandas**..."
      ]
    },
    {
      "cell_type": "markdown",
      "metadata": {
        "id": "hAtXWdpbiVEE",
        "colab_type": "text"
      },
      "source": [
        "# Exercise\n",
        "1. Create a `parse_logfile_string_to_pandas` that returns `data` and `names` are in a `Pandas.DataFrame`\n",
        "1. Rework `apply_calibration` function to accept the new `DataFrame`\n",
        "1. Rework `plot` function to accept the new `DataFrame`"
      ]
    },
    {
      "cell_type": "markdown",
      "metadata": {
        "id": "yshFztRHtdhf",
        "colab_type": "text"
      },
      "source": [
        "## Testing `parse_logfile_string_to_pandas` "
      ]
    },
    {
      "cell_type": "code",
      "metadata": {
        "id": "6cniKzzYslbu",
        "colab_type": "code",
        "colab": {}
      },
      "source": [
        "def parse_logfile_string_to_pandas(s):\n",
        "    log = parse_logfile_string(s)\n",
        "    ...\n",
        "    return None"
      ],
      "execution_count": 0,
      "outputs": []
    },
    {
      "cell_type": "code",
      "metadata": {
        "id": "F0iTxPOmnFCo",
        "colab_type": "code",
        "colab": {}
      },
      "source": [
        "log = parse_logfile_string_to_pandas(s)\n",
        "log[\"data\"].head()"
      ],
      "execution_count": 0,
      "outputs": []
    },
    {
      "cell_type": "markdown",
      "metadata": {
        "colab_type": "text",
        "id": "GjJYuk9Wtw0D"
      },
      "source": [
        "## Testing `apply_calibration` "
      ]
    },
    {
      "cell_type": "code",
      "metadata": {
        "id": "sRRYxA4it2CP",
        "colab_type": "code",
        "colab": {}
      },
      "source": [
        "def apply_calibration(log):\n",
        "#  predecessor NumPy version\n",
        "#    for param, cal_factor in log[\"params\"].items():\n",
        "#        if \"calibration factor\" in param:\n",
        "#            sig = param.split(\" \")[-1]\n",
        "#            col_index = log[\"names\"].index(sig)\n",
        "#\n",
        "#            # append the new column with calibrated data to the right\n",
        "#            new_col = log[\"data\"][:, col_index] * float(cal_factor)\n",
        "#            log[\"data\"] = np.column_stack([log[\"data\"], new_col])\n",
        "#\n",
        "#            # also add the new name to the names list\n",
        "#            log[\"names\"].append(sig + \"_cal\") \n",
        "    \n",
        "    for param, cal_factor in log[\"params\"].items():\n",
        "        if \"calibration factor\" in param:\n",
        "            sig = param.split(\" \")[-1]\n",
        "            ..."
      ],
      "execution_count": 0,
      "outputs": []
    },
    {
      "cell_type": "code",
      "metadata": {
        "id": "yJCs8SDWt6fW",
        "colab_type": "code",
        "colab": {}
      },
      "source": [
        "apply_calibration(log)\n",
        "log[\"data\"].head()"
      ],
      "execution_count": 0,
      "outputs": []
    },
    {
      "cell_type": "markdown",
      "metadata": {
        "colab_type": "text",
        "id": "V39yKzm2wJ4D"
      },
      "source": [
        "## Testing `plot` "
      ]
    },
    {
      "cell_type": "code",
      "metadata": {
        "id": "uDVooCoPwNxn",
        "colab_type": "code",
        "colab": {}
      },
      "source": [
        "def plot(log, sig_names):\n",
        "#  predecessor NumPy version\n",
        "#    x = log[\"data\"][:, log[\"names\"].index(\"x\")]\n",
        "#    for sig_name in sig_names:\n",
        "#        if sig_name in log[\"names\"]:\n",
        "#            y = log[\"data\"][:, log[\"names\"].index(sig_name)]\n",
        "#            plt.plot(x, y, \"o\", label=sig_name)\n",
        "#        else:\n",
        "#            print(\"Warning, '{}' is not in 'log['names']'!\".format(sig_name))\n",
        "#    plt.grid(), plt.legend(), plt.tight_layout()\n",
        "\n",
        "    ...\n",
        "    \n",
        "    plt.grid(), plt.legend(), plt.tight_layout()\n",
        " "
      ],
      "execution_count": 0,
      "outputs": []
    },
    {
      "cell_type": "code",
      "metadata": {
        "id": "i8Mh9YZYwylg",
        "colab_type": "code",
        "colab": {}
      },
      "source": [
        "plot(log, sig_names=[\"sig0_cal\", \"sig1_cal\", \"sig1\", \"sig42\", \"sig2_cal\"])"
      ],
      "execution_count": 0,
      "outputs": []
    },
    {
      "cell_type": "markdown",
      "metadata": {
        "id": "qiyOZZ2hwzQ-",
        "colab_type": "text"
      },
      "source": [
        "# ToDo: Object orientation"
      ]
    }
  ]
}