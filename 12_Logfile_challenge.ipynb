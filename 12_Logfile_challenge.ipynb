{
  "nbformat": 4,
  "nbformat_minor": 0,
  "metadata": {
    "colab": {
      "name": "12_Logfile_challenge.ipynb",
      "provenance": [],
      "collapsed_sections": [],
      "toc_visible": true,
      "authorship_tag": "ABX9TyO8mwtavxN/M481DmIDyA2Q",
      "include_colab_link": true
    },
    "kernelspec": {
      "name": "python3",
      "display_name": "Python 3"
    }
  },
  "cells": [
    {
      "cell_type": "markdown",
      "metadata": {
        "id": "view-in-github",
        "colab_type": "text"
      },
      "source": [
        "<a href=\"https://colab.research.google.com/github/munich-ml/MLPy2020/blob/master/12_Logfile_challenge.ipynb\" target=\"_parent\"><img src=\"https://colab.research.google.com/assets/colab-badge.svg\" alt=\"Open In Colab\"/></a>"
      ]
    },
    {
      "cell_type": "markdown",
      "metadata": {
        "id": "827kwTxX0tuc",
        "colab_type": "text"
      },
      "source": [
        "# Logfile challenge"
      ]
    },
    {
      "cell_type": "markdown",
      "metadata": {
        "id": "z12MmBNm4fXJ",
        "colab_type": "text"
      },
      "source": [
        "## setup"
      ]
    },
    {
      "cell_type": "markdown",
      "metadata": {
        "id": "Wu8QLzNa0zNJ",
        "colab_type": "text"
      },
      "source": [
        "This following code block prepares the coding challenge:\n",
        "1. clone GitHub project `MLPy2020`\n",
        "1. import and execute `create_csv` helper function\n",
        "1. open file `logfile.csv` and store content into variable `s`\n"
      ]
    },
    {
      "cell_type": "code",
      "metadata": {
        "id": "7qFfDsKHO1DP",
        "colab_type": "code",
        "outputId": "112eae38-84cb-4cd9-9a13-8f23045e978e",
        "colab": {
          "base_uri": "https://localhost:8080/",
          "height": 134
        }
      },
      "source": [
        "import os\n",
        "\n",
        "# Get munich-ml repo from GitHub\n",
        "if \"MLPy2020\" in os.listdir():\n",
        "    !git -C MLPy2020 pull\n",
        "else:\n",
        "    !git clone https://github.com/munich-ml/MLPy2020/\n",
        "\n",
        "path = os.path.join(\"MLPy2020\", \"datasets\", \"logfile.csv\")\n",
        "\n",
        "with open(path, \"r\") as file:\n",
        "    s = file.read()"
      ],
      "execution_count": 0,
      "outputs": [
        {
          "output_type": "stream",
          "text": [
            "Cloning into 'MLPy2020'...\n",
            "remote: Enumerating objects: 113, done.\u001b[K\n",
            "remote: Counting objects: 100% (113/113), done.\u001b[K\n",
            "remote: Compressing objects: 100% (87/87), done.\u001b[K\n",
            "remote: Total 113 (delta 49), reused 63 (delta 18), pack-reused 0\u001b[K\n",
            "Receiving objects: 100% (113/113), 491.36 KiB | 11.98 MiB/s, done.\n",
            "Resolving deltas: 100% (49/49), done.\n"
          ],
          "name": "stdout"
        }
      ]
    },
    {
      "cell_type": "markdown",
      "metadata": {
        "id": "EGavNzl77n-k",
        "colab_type": "text"
      },
      "source": [
        "## The task"
      ]
    },
    {
      "cell_type": "markdown",
      "metadata": {
        "id": "TusQeM0e4XxB",
        "colab_type": "text"
      },
      "source": [
        "After executing the setup, the variable `s` should be available, holding the content of a logfile.\n",
        "\n",
        "The task is to **parse the logfile content**."
      ]
    },
    {
      "cell_type": "code",
      "metadata": {
        "id": "ECAVYUQq8uRJ",
        "colab_type": "code",
        "outputId": "4e9be257-48cb-4550-fa53-de4540e14a8b",
        "colab": {
          "base_uri": "https://localhost:8080/",
          "height": 686
        }
      },
      "source": [
        "print(s)"
      ],
      "execution_count": 0,
      "outputs": [
        {
          "output_type": "stream",
          "text": [
            "MLPy2020 logfile challenge\n",
            "\n",
            "header\n",
            "measurement date,2020-05-06\n",
            "measurement time,08:00:00\n",
            "calibration factor sig0,0.55\n",
            "calibration factor sig2,1.88\n",
            "\n",
            "measurements\n",
            "x,sig0,sig1,sig2\n",
            "5.17,6.40 Ohms,16.05 Ohms,10.61 Ohms\n",
            "9.47,34.21 Ohms,5.95 Ohms,293 mOhms\n",
            "7.65,21.11 Ohms,366 mOhms,4.80 Ohms\n",
            "2.82,36.06 Ohms,16.03 Ohms,6.39 Ohms\n",
            "2.21,30.50 Ohms,11.65 Ohms,4.36 Ohms\n",
            "6.86,6.92 Ohms,3.73 Ohms,7.39 Ohms\n",
            "1.67,21.43 Ohms,7.45 Ohms,2.67 Ohms\n",
            "3.92,28.49 Ohms,19.98 Ohms,9.47 Ohms\n",
            "6.18,324 mOhms,8.59 Ohms,9.24 Ohms\n",
            "4.12,25.24 Ohms,19.96 Ohms,9.84 Ohms\n",
            "0.02,6 mOhms,2 mOhms,1 mOhms\n",
            "8.84,36.11 Ohms,2.10 Ohms,1.35 Ohms\n",
            "8.85,36.14 Ohms,2.14 Ohms,1.33 Ohms\n",
            "3.00,36.36 Ohms,17.09 Ohms,6.98 Ohms\n",
            "5.90,108 mOhms,10.82 Ohms,9.82 Ohms\n",
            "9.78,30.57 Ohms,8.31 Ohms,49 mOhms\n",
            "8.45,33.44 Ohms,621 mOhms,2.33 Ohms\n",
            "0.65,4.06 Ohms,1.28 Ohms,438 mOhms\n",
            "2.95,36.34 Ohms,16.77 Ohms,6.79 Ohms\n",
            "2.88,36.22 Ohms,16.37 Ohms,6.57 Ohms\n",
            "8.22,30.69 Ohms,155 mOhms,2.98 Ohms\n",
            "6.26,679 mOhms,7.96 Ohms,9.05 Ohms\n",
            "1.10,10.87 Ohms,3.53 Ohms,1.23 Ohms\n",
            "0.01,0 mOhms,0 mOhms,0 mOhms\n",
            "9.42,34.62 Ohms,5.61 Ohms,347 mOhms\n",
            "1.42,16.57 Ohms,5.57 Ohms,1.97 Ohms\n",
            "4.22,23.51 Ohms,19.86 Ohms,10.01 Ohms\n",
            "3.46,34.25 Ohms,19.13 Ohms,8.35 Ohms\n",
            "8.70,35.46 Ohms,1.46 Ohms,1.68 Ohms\n",
            "4.29,22.22 Ohms,19.75 Ohms,10.11 Ohms\n"
          ],
          "name": "stdout"
        }
      ]
    },
    {
      "cell_type": "markdown",
      "metadata": {
        "id": "_p1udZjA5I1d",
        "colab_type": "text"
      },
      "source": [
        "# Python built-in functions"
      ]
    },
    {
      "cell_type": "markdown",
      "metadata": {
        "id": "_cHzailz5OlM",
        "colab_type": "text"
      },
      "source": [
        "The Python interpreter has a couple of functions build-in. They are available without any preparation. \n",
        "\n",
        "Complete list of built-in funcitons: https://docs.python.org/3/library/functions.html\n",
        "\n",
        "Some prominent examples:\n",
        "- `print`\n",
        "- `type`\n",
        "- `min`\n",
        "- `len`\n",
        "\n",
        "\n"
      ]
    },
    {
      "cell_type": "code",
      "metadata": {
        "id": "OSN93Gpq60fR",
        "colab_type": "code",
        "outputId": "9f18e1e3-926e-4e18-e521-902e7489ab18",
        "colab": {
          "base_uri": "https://localhost:8080/",
          "height": 33
        }
      },
      "source": [
        "type(s)"
      ],
      "execution_count": 0,
      "outputs": [
        {
          "output_type": "execute_result",
          "data": {
            "text/plain": [
              "str"
            ]
          },
          "metadata": {
            "tags": []
          },
          "execution_count": 3
        }
      ]
    },
    {
      "cell_type": "markdown",
      "metadata": {
        "id": "4bN5FJOE_MUJ",
        "colab_type": "text"
      },
      "source": [
        "... the datatype of the variable `s` is `str`, string. "
      ]
    },
    {
      "cell_type": "code",
      "metadata": {
        "id": "t8O6X4in5Nr3",
        "colab_type": "code",
        "outputId": "e2f1f500-92d6-4d89-80ea-71533a77b6af",
        "colab": {
          "base_uri": "https://localhost:8080/",
          "height": 33
        }
      },
      "source": [
        "len(s)"
      ],
      "execution_count": 0,
      "outputs": [
        {
          "output_type": "execute_result",
          "data": {
            "text/plain": [
              "1251"
            ]
          },
          "metadata": {
            "tags": []
          },
          "execution_count": 4
        }
      ]
    },
    {
      "cell_type": "code",
      "metadata": {
        "id": "a-rgU3OF5IEv",
        "colab_type": "code",
        "outputId": "db7b3d61-ff26-4d3d-fa79-fac271b3cd62",
        "colab": {
          "base_uri": "https://localhost:8080/",
          "height": 33
        }
      },
      "source": [
        "min(s)"
      ],
      "execution_count": 0,
      "outputs": [
        {
          "output_type": "execute_result",
          "data": {
            "text/plain": [
              "'\\n'"
            ]
          },
          "metadata": {
            "tags": []
          },
          "execution_count": 5
        }
      ]
    },
    {
      "cell_type": "markdown",
      "metadata": {
        "id": "BUEorZ5D_e7b",
        "colab_type": "text"
      },
      "source": [
        "`min` returns the smallest item of a collection. Maybe not very helpful for an `str` type object."
      ]
    },
    {
      "cell_type": "markdown",
      "metadata": {
        "id": "ZZHIKzriAGze",
        "colab_type": "text"
      },
      "source": [
        "# `str` object"
      ]
    },
    {
      "cell_type": "markdown",
      "metadata": {
        "id": "r9ldCe1HAT7X",
        "colab_type": "text"
      },
      "source": [
        "## Slicing"
      ]
    },
    {
      "cell_type": "markdown",
      "metadata": {
        "id": "hTz7aaq_auI2",
        "colab_type": "text"
      },
      "source": [
        "Single characters of the string can be accessed using their index in brakets `[index]`:\n",
        "\n",
        "\n"
      ]
    },
    {
      "cell_type": "code",
      "metadata": {
        "id": "Lpy-XJLtATil",
        "colab_type": "code",
        "outputId": "059b5f67-5844-4b40-b4b9-2ae397a8d7b4",
        "colab": {
          "base_uri": "https://localhost:8080/",
          "height": 33
        }
      },
      "source": [
        "s[0]"
      ],
      "execution_count": 0,
      "outputs": [
        {
          "output_type": "execute_result",
          "data": {
            "text/plain": [
              "'M'"
            ]
          },
          "metadata": {
            "tags": []
          },
          "execution_count": 6
        }
      ]
    },
    {
      "cell_type": "markdown",
      "metadata": {
        "id": "heHXnab424ID",
        "colab_type": "text"
      },
      "source": [
        ""
      ]
    },
    {
      "cell_type": "code",
      "metadata": {
        "id": "HjB5wBgOAoVv",
        "colab_type": "code",
        "outputId": "c0356cad-2d12-4d54-c72d-ddbe1111a4e3",
        "colab": {
          "base_uri": "https://localhost:8080/",
          "height": 33
        }
      },
      "source": [
        "s[-1]"
      ],
      "execution_count": 0,
      "outputs": [
        {
          "output_type": "execute_result",
          "data": {
            "text/plain": [
              "'s'"
            ]
          },
          "metadata": {
            "tags": []
          },
          "execution_count": 7
        }
      ]
    },
    {
      "cell_type": "markdown",
      "metadata": {
        "id": "yVIbnsk8eHQf",
        "colab_type": "text"
      },
      "source": [
        "Ranges can also be indexed by `[start_index : end_index]`.\n",
        "The `start_index` is included, the `end_index` not!"
      ]
    },
    {
      "cell_type": "code",
      "metadata": {
        "id": "4OT50QEGRQD0",
        "colab_type": "code",
        "outputId": "90edbb3e-206c-4ba8-88bd-f07fcfbbc79e",
        "colab": {
          "base_uri": "https://localhost:8080/",
          "height": 33
        }
      },
      "source": [
        "s[10:60]"
      ],
      "execution_count": 0,
      "outputs": [
        {
          "output_type": "execute_result",
          "data": {
            "text/plain": [
              "'ogfile challenge\\n\\nheader\\nmeasurement date,2020-05-'"
            ]
          },
          "metadata": {
            "tags": []
          },
          "execution_count": 8
        }
      ]
    },
    {
      "cell_type": "code",
      "metadata": {
        "id": "BW1BtJMyA5Wr",
        "colab_type": "code",
        "outputId": "08659087-b98f-44cf-9a55-bbb2c905bd65",
        "colab": {
          "base_uri": "https://localhost:8080/",
          "height": 33
        }
      },
      "source": [
        "first_line = s[:26]\n",
        "first_line"
      ],
      "execution_count": 0,
      "outputs": [
        {
          "output_type": "execute_result",
          "data": {
            "text/plain": [
              "'MLPy2020 logfile challenge'"
            ]
          },
          "metadata": {
            "tags": []
          },
          "execution_count": 9
        }
      ]
    },
    {
      "cell_type": "markdown",
      "metadata": {
        "id": "CTcC8LX_Bbxq",
        "colab_type": "text"
      },
      "source": [
        "## `str` methods"
      ]
    },
    {
      "cell_type": "markdown",
      "metadata": {
        "id": "gscHyb6KBj1c",
        "colab_type": "text"
      },
      "source": [
        "The `str` object not only contains **data**, it also contains **functions**, called **methods**."
      ]
    },
    {
      "cell_type": "code",
      "metadata": {
        "id": "Fmou7hfNBUO6",
        "colab_type": "code",
        "outputId": "31987a5f-26e1-4794-99e9-fa21e9b73527",
        "colab": {
          "base_uri": "https://localhost:8080/",
          "height": 33
        }
      },
      "source": [
        "first_line.upper()"
      ],
      "execution_count": 0,
      "outputs": [
        {
          "output_type": "execute_result",
          "data": {
            "text/plain": [
              "'MLPY2020 LOGFILE CHALLENGE'"
            ]
          },
          "metadata": {
            "tags": []
          },
          "execution_count": 10
        }
      ]
    },
    {
      "cell_type": "code",
      "metadata": {
        "id": "NWM52R7aCHLC",
        "colab_type": "code",
        "outputId": "3f9bf66e-71dc-4540-b53f-774cb012326b",
        "colab": {
          "base_uri": "https://localhost:8080/",
          "height": 33
        }
      },
      "source": [
        "first_line"
      ],
      "execution_count": 0,
      "outputs": [
        {
          "output_type": "execute_result",
          "data": {
            "text/plain": [
              "'MLPy2020 logfile challenge'"
            ]
          },
          "metadata": {
            "tags": []
          },
          "execution_count": 11
        }
      ]
    },
    {
      "cell_type": "code",
      "metadata": {
        "id": "Ot1zqJO5CM_P",
        "colab_type": "code",
        "colab": {}
      },
      "source": [
        "first_line = first_line.upper()"
      ],
      "execution_count": 0,
      "outputs": []
    },
    {
      "cell_type": "code",
      "metadata": {
        "id": "szyWMP8JCMuU",
        "colab_type": "code",
        "outputId": "040331e3-7268-43a9-804d-44c6d71cb677",
        "colab": {
          "base_uri": "https://localhost:8080/",
          "height": 33
        }
      },
      "source": [
        "first_line"
      ],
      "execution_count": 0,
      "outputs": [
        {
          "output_type": "execute_result",
          "data": {
            "text/plain": [
              "'MLPY2020 LOGFILE CHALLENGE'"
            ]
          },
          "metadata": {
            "tags": []
          },
          "execution_count": 13
        }
      ]
    },
    {
      "cell_type": "markdown",
      "metadata": {
        "id": "Yhtj3-U8Cai0",
        "colab_type": "text"
      },
      "source": [
        "`split` method"
      ]
    },
    {
      "cell_type": "code",
      "metadata": {
        "id": "Iq-YzE9ZCfZN",
        "colab_type": "code",
        "outputId": "4fbeecef-84d6-49b7-cce9-c26a54c5ff59",
        "colab": {
          "base_uri": "https://localhost:8080/",
          "height": 33
        }
      },
      "source": [
        "first_line.split(\" \")"
      ],
      "execution_count": 0,
      "outputs": [
        {
          "output_type": "execute_result",
          "data": {
            "text/plain": [
              "['MLPY2020', 'LOGFILE', 'CHALLENGE']"
            ]
          },
          "metadata": {
            "tags": []
          },
          "execution_count": 14
        }
      ]
    },
    {
      "cell_type": "markdown",
      "metadata": {
        "id": "erSbgTtqCxjd",
        "colab_type": "text"
      },
      "source": [
        "Split the logfile content `s` on the *new line character* `\\n`"
      ]
    },
    {
      "cell_type": "code",
      "metadata": {
        "id": "oCvAZiqURg40",
        "colab_type": "code",
        "outputId": "fa5d6389-766a-4353-9bfe-f2bee0944213",
        "colab": {
          "base_uri": "https://localhost:8080/",
          "height": 686
        }
      },
      "source": [
        "lines = s.split(\"\\n\")\n",
        "lines"
      ],
      "execution_count": 0,
      "outputs": [
        {
          "output_type": "execute_result",
          "data": {
            "text/plain": [
              "['MLPy2020 logfile challenge',\n",
              " '',\n",
              " 'header',\n",
              " 'measurement date,2020-05-06',\n",
              " 'measurement time,08:00:00',\n",
              " 'calibration factor sig0,0.55',\n",
              " 'calibration factor sig2,1.88',\n",
              " '',\n",
              " 'measurements',\n",
              " 'x,sig0,sig1,sig2',\n",
              " '5.17,6.40 Ohms,16.05 Ohms,10.61 Ohms',\n",
              " '9.47,34.21 Ohms,5.95 Ohms,293 mOhms',\n",
              " '7.65,21.11 Ohms,366 mOhms,4.80 Ohms',\n",
              " '2.82,36.06 Ohms,16.03 Ohms,6.39 Ohms',\n",
              " '2.21,30.50 Ohms,11.65 Ohms,4.36 Ohms',\n",
              " '6.86,6.92 Ohms,3.73 Ohms,7.39 Ohms',\n",
              " '1.67,21.43 Ohms,7.45 Ohms,2.67 Ohms',\n",
              " '3.92,28.49 Ohms,19.98 Ohms,9.47 Ohms',\n",
              " '6.18,324 mOhms,8.59 Ohms,9.24 Ohms',\n",
              " '4.12,25.24 Ohms,19.96 Ohms,9.84 Ohms',\n",
              " '0.02,6 mOhms,2 mOhms,1 mOhms',\n",
              " '8.84,36.11 Ohms,2.10 Ohms,1.35 Ohms',\n",
              " '8.85,36.14 Ohms,2.14 Ohms,1.33 Ohms',\n",
              " '3.00,36.36 Ohms,17.09 Ohms,6.98 Ohms',\n",
              " '5.90,108 mOhms,10.82 Ohms,9.82 Ohms',\n",
              " '9.78,30.57 Ohms,8.31 Ohms,49 mOhms',\n",
              " '8.45,33.44 Ohms,621 mOhms,2.33 Ohms',\n",
              " '0.65,4.06 Ohms,1.28 Ohms,438 mOhms',\n",
              " '2.95,36.34 Ohms,16.77 Ohms,6.79 Ohms',\n",
              " '2.88,36.22 Ohms,16.37 Ohms,6.57 Ohms',\n",
              " '8.22,30.69 Ohms,155 mOhms,2.98 Ohms',\n",
              " '6.26,679 mOhms,7.96 Ohms,9.05 Ohms',\n",
              " '1.10,10.87 Ohms,3.53 Ohms,1.23 Ohms',\n",
              " '0.01,0 mOhms,0 mOhms,0 mOhms',\n",
              " '9.42,34.62 Ohms,5.61 Ohms,347 mOhms',\n",
              " '1.42,16.57 Ohms,5.57 Ohms,1.97 Ohms',\n",
              " '4.22,23.51 Ohms,19.86 Ohms,10.01 Ohms',\n",
              " '3.46,34.25 Ohms,19.13 Ohms,8.35 Ohms',\n",
              " '8.70,35.46 Ohms,1.46 Ohms,1.68 Ohms',\n",
              " '4.29,22.22 Ohms,19.75 Ohms,10.11 Ohms']"
            ]
          },
          "metadata": {
            "tags": []
          },
          "execution_count": 15
        }
      ]
    },
    {
      "cell_type": "markdown",
      "metadata": {
        "id": "9TfP4cZ7DC3H",
        "colab_type": "text"
      },
      "source": [
        "# `list` object"
      ]
    },
    {
      "cell_type": "code",
      "metadata": {
        "id": "VxUVI99aEBLM",
        "colab_type": "code",
        "outputId": "fb433c59-ff24-46c9-d473-849f651394e6",
        "colab": {
          "base_uri": "https://localhost:8080/",
          "height": 33
        }
      },
      "source": [
        "type(lines)"
      ],
      "execution_count": 0,
      "outputs": [
        {
          "output_type": "execute_result",
          "data": {
            "text/plain": [
              "list"
            ]
          },
          "metadata": {
            "tags": []
          },
          "execution_count": 16
        }
      ]
    },
    {
      "cell_type": "code",
      "metadata": {
        "id": "66rfa2YsED5J",
        "colab_type": "code",
        "outputId": "49c62b88-1a50-4dfb-9517-1d0be2981189",
        "colab": {
          "base_uri": "https://localhost:8080/",
          "height": 33
        }
      },
      "source": [
        "len(lines)"
      ],
      "execution_count": 0,
      "outputs": [
        {
          "output_type": "execute_result",
          "data": {
            "text/plain": [
              "40"
            ]
          },
          "metadata": {
            "tags": []
          },
          "execution_count": 17
        }
      ]
    },
    {
      "cell_type": "code",
      "metadata": {
        "id": "1acpzNKTSVfq",
        "colab_type": "code",
        "outputId": "37da3925-36db-41a8-ea53-158fa6816858",
        "colab": {
          "base_uri": "https://localhost:8080/",
          "height": 33
        }
      },
      "source": [
        "lines[0]"
      ],
      "execution_count": 0,
      "outputs": [
        {
          "output_type": "execute_result",
          "data": {
            "text/plain": [
              "'MLPy2020 logfile challenge'"
            ]
          },
          "metadata": {
            "tags": []
          },
          "execution_count": 18
        }
      ]
    },
    {
      "cell_type": "markdown",
      "metadata": {
        "id": "wbKKAYGwEk4g",
        "colab_type": "text"
      },
      "source": [
        "... this seems better than counting the first lines's characters and slicing the string manually!"
      ]
    },
    {
      "cell_type": "markdown",
      "metadata": {
        "id": "NgvoX1N4FI0A",
        "colab_type": "text"
      },
      "source": [
        "`list` objects also support slicing:"
      ]
    },
    {
      "cell_type": "code",
      "metadata": {
        "id": "s5FxVd5zSqxD",
        "colab_type": "code",
        "outputId": "7687abbe-88fe-4ef6-b4af-cb8c871e889b",
        "colab": {
          "base_uri": "https://localhost:8080/",
          "height": 117
        }
      },
      "source": [
        "lines[2:8]"
      ],
      "execution_count": 0,
      "outputs": [
        {
          "output_type": "execute_result",
          "data": {
            "text/plain": [
              "['header',\n",
              " 'measurement date,2020-05-06',\n",
              " 'measurement time,08:00:00',\n",
              " 'calibration factor sig0,0.55',\n",
              " 'calibration factor sig2,1.88',\n",
              " '']"
            ]
          },
          "metadata": {
            "tags": []
          },
          "execution_count": 19
        }
      ]
    },
    {
      "cell_type": "code",
      "metadata": {
        "id": "oWUC9TcGSufO",
        "colab_type": "code",
        "outputId": "34cdc061-b799-4df5-908f-b657526e6761",
        "colab": {
          "base_uri": "https://localhost:8080/",
          "height": 552
        }
      },
      "source": [
        "lines[8:]"
      ],
      "execution_count": 0,
      "outputs": [
        {
          "output_type": "execute_result",
          "data": {
            "text/plain": [
              "['measurements',\n",
              " 'x,sig0,sig1,sig2',\n",
              " '5.17,6.40 Ohms,16.05 Ohms,10.61 Ohms',\n",
              " '9.47,34.21 Ohms,5.95 Ohms,293 mOhms',\n",
              " '7.65,21.11 Ohms,366 mOhms,4.80 Ohms',\n",
              " '2.82,36.06 Ohms,16.03 Ohms,6.39 Ohms',\n",
              " '2.21,30.50 Ohms,11.65 Ohms,4.36 Ohms',\n",
              " '6.86,6.92 Ohms,3.73 Ohms,7.39 Ohms',\n",
              " '1.67,21.43 Ohms,7.45 Ohms,2.67 Ohms',\n",
              " '3.92,28.49 Ohms,19.98 Ohms,9.47 Ohms',\n",
              " '6.18,324 mOhms,8.59 Ohms,9.24 Ohms',\n",
              " '4.12,25.24 Ohms,19.96 Ohms,9.84 Ohms',\n",
              " '0.02,6 mOhms,2 mOhms,1 mOhms',\n",
              " '8.84,36.11 Ohms,2.10 Ohms,1.35 Ohms',\n",
              " '8.85,36.14 Ohms,2.14 Ohms,1.33 Ohms',\n",
              " '3.00,36.36 Ohms,17.09 Ohms,6.98 Ohms',\n",
              " '5.90,108 mOhms,10.82 Ohms,9.82 Ohms',\n",
              " '9.78,30.57 Ohms,8.31 Ohms,49 mOhms',\n",
              " '8.45,33.44 Ohms,621 mOhms,2.33 Ohms',\n",
              " '0.65,4.06 Ohms,1.28 Ohms,438 mOhms',\n",
              " '2.95,36.34 Ohms,16.77 Ohms,6.79 Ohms',\n",
              " '2.88,36.22 Ohms,16.37 Ohms,6.57 Ohms',\n",
              " '8.22,30.69 Ohms,155 mOhms,2.98 Ohms',\n",
              " '6.26,679 mOhms,7.96 Ohms,9.05 Ohms',\n",
              " '1.10,10.87 Ohms,3.53 Ohms,1.23 Ohms',\n",
              " '0.01,0 mOhms,0 mOhms,0 mOhms',\n",
              " '9.42,34.62 Ohms,5.61 Ohms,347 mOhms',\n",
              " '1.42,16.57 Ohms,5.57 Ohms,1.97 Ohms',\n",
              " '4.22,23.51 Ohms,19.86 Ohms,10.01 Ohms',\n",
              " '3.46,34.25 Ohms,19.13 Ohms,8.35 Ohms',\n",
              " '8.70,35.46 Ohms,1.46 Ohms,1.68 Ohms',\n",
              " '4.29,22.22 Ohms,19.75 Ohms,10.11 Ohms']"
            ]
          },
          "metadata": {
            "tags": []
          },
          "execution_count": 20
        }
      ]
    },
    {
      "cell_type": "markdown",
      "metadata": {
        "id": "oqvnf_kEHnOT",
        "colab_type": "text"
      },
      "source": [
        "# `for` loops"
      ]
    },
    {
      "cell_type": "markdown",
      "metadata": {
        "id": "mpffp9oM6pZ1",
        "colab_type": "text"
      },
      "source": [
        "The next step in the *logfile challenge* requires looping. \n",
        "\n",
        "- **`for`, `in`** are keywords in Python, as well as\n",
        "- **`while`**,\n",
        "- and of course there are more keywords: [all Python keywords](https://docs.python.org/3/reference/lexical_analysis.html#keywords)\n",
        "\n",
        "For a *C-style* `for` loop such as:\n",
        "\n",
        ">`lines[0]`\n",
        ">\n",
        ">`lines[1]`\n",
        ">\n",
        ">`...`\n",
        "\n",
        "we need an index variable. \n"
      ]
    },
    {
      "cell_type": "code",
      "metadata": {
        "id": "dkxQjc0yIB2N",
        "colab_type": "code",
        "outputId": "6b398e56-7a5d-4f07-eaaf-0f27459d486d",
        "colab": {
          "base_uri": "https://localhost:8080/",
          "height": 67
        }
      },
      "source": [
        "for i in range(3):\n",
        "    print(i)"
      ],
      "execution_count": 0,
      "outputs": [
        {
          "output_type": "stream",
          "text": [
            "0\n",
            "1\n",
            "2\n"
          ],
          "name": "stdout"
        }
      ]
    },
    {
      "cell_type": "code",
      "metadata": {
        "id": "vreuesYvTKl5",
        "colab_type": "code",
        "outputId": "f8fc131e-ddfd-4bcd-b66b-c2f7a14da1f4",
        "colab": {
          "base_uri": "https://localhost:8080/",
          "height": 33
        }
      },
      "source": [
        "for i in range(len(lines)):\n",
        "    line = lines[i]\n",
        "    \n",
        "    if line == \"header\":\n",
        "        print(\"'\" + line + \"' found!\")"
      ],
      "execution_count": 0,
      "outputs": [
        {
          "output_type": "stream",
          "text": [
            "'header' found!\n"
          ],
          "name": "stdout"
        }
      ]
    },
    {
      "cell_type": "markdown",
      "metadata": {
        "id": "aLwcfUp4__Gg",
        "colab_type": "text"
      },
      "source": [
        "### `list` objects are iterable\n",
        "\n",
        "Iterable objects can be looped without using an index!"
      ]
    },
    {
      "cell_type": "code",
      "metadata": {
        "id": "zLycOgVnT8W2",
        "colab_type": "code",
        "outputId": "de0da521-192f-4ec2-87b9-6181daa223af",
        "colab": {
          "base_uri": "https://localhost:8080/",
          "height": 33
        }
      },
      "source": [
        "iter(lines)"
      ],
      "execution_count": 0,
      "outputs": [
        {
          "output_type": "execute_result",
          "data": {
            "text/plain": [
              "<list_iterator at 0x7fd8dcc2a358>"
            ]
          },
          "metadata": {
            "tags": []
          },
          "execution_count": 23
        }
      ]
    },
    {
      "cell_type": "code",
      "metadata": {
        "id": "eRZQSTEdT_Sp",
        "colab_type": "code",
        "outputId": "4b58c4ce-724d-4d8b-9cd5-bde911e5abe4",
        "colab": {
          "base_uri": "https://localhost:8080/",
          "height": 33
        }
      },
      "source": [
        "for line in lines:\n",
        "    \n",
        "    if line == \"header\":\n",
        "        print(\"'\" + line + \"' found!\")"
      ],
      "execution_count": 0,
      "outputs": [
        {
          "output_type": "stream",
          "text": [
            "'header' found!\n"
          ],
          "name": "stdout"
        }
      ]
    },
    {
      "cell_type": "markdown",
      "metadata": {
        "id": "HlH8JtKcAiCb",
        "colab_type": "text"
      },
      "source": [
        "Search for multiple keys, simultaniously:"
      ]
    },
    {
      "cell_type": "code",
      "metadata": {
        "id": "AZF7nYmBU54p",
        "colab_type": "code",
        "colab": {}
      },
      "source": [
        "keys = ['measurements', \"header\"]"
      ],
      "execution_count": 0,
      "outputs": []
    },
    {
      "cell_type": "code",
      "metadata": {
        "id": "z2iqeNOhVA-S",
        "colab_type": "code",
        "outputId": "15d82b45-7c31-480a-ebeb-7a4742174c44",
        "colab": {
          "base_uri": "https://localhost:8080/",
          "height": 33
        }
      },
      "source": [
        "\"0815\" in keys"
      ],
      "execution_count": 0,
      "outputs": [
        {
          "output_type": "execute_result",
          "data": {
            "text/plain": [
              "False"
            ]
          },
          "metadata": {
            "tags": []
          },
          "execution_count": 26
        }
      ]
    },
    {
      "cell_type": "code",
      "metadata": {
        "id": "abAh01oBVJ6j",
        "colab_type": "code",
        "outputId": "216d6e00-fd66-467e-b0aa-9c58b03cdee4",
        "colab": {
          "base_uri": "https://localhost:8080/",
          "height": 33
        }
      },
      "source": [
        "\"header\" in keys"
      ],
      "execution_count": 0,
      "outputs": [
        {
          "output_type": "execute_result",
          "data": {
            "text/plain": [
              "True"
            ]
          },
          "metadata": {
            "tags": []
          },
          "execution_count": 27
        }
      ]
    },
    {
      "cell_type": "code",
      "metadata": {
        "id": "f_Og10MyVPnz",
        "colab_type": "code",
        "outputId": "39b20e3f-5ad3-45b0-b39a-367e3a52db2b",
        "colab": {
          "base_uri": "https://localhost:8080/",
          "height": 50
        }
      },
      "source": [
        "for line in lines:\n",
        "    if line in keys:\n",
        "        print(\"'\" + line + \"' found!\")   "
      ],
      "execution_count": 0,
      "outputs": [
        {
          "output_type": "stream",
          "text": [
            "'header' found!\n",
            "'measurements' found!\n"
          ],
          "name": "stdout"
        }
      ]
    },
    {
      "cell_type": "markdown",
      "metadata": {
        "id": "RAowUwFjVh4y",
        "colab_type": "text"
      },
      "source": [
        "## `enumerate` operator"
      ]
    },
    {
      "cell_type": "markdown",
      "metadata": {
        "id": "MoNenA8sVovq",
        "colab_type": "text"
      },
      "source": [
        "if an index is required, use `enumerate`"
      ]
    },
    {
      "cell_type": "code",
      "metadata": {
        "id": "_CNBZdIgVxym",
        "colab_type": "code",
        "outputId": "831cdd33-5dfc-4164-ff80-70aaf134093a",
        "colab": {
          "base_uri": "https://localhost:8080/",
          "height": 134
        }
      },
      "source": [
        "bag_of_words = [\"Hello\", \"Team\", \"Python\"]\n",
        "\n",
        "for item in bag_of_words:\n",
        "    print(item)\n",
        "\n",
        "print(50*\"-\")\n",
        "\n",
        "for item in enumerate(bag_of_words):\n",
        "    print(item)"
      ],
      "execution_count": 0,
      "outputs": [
        {
          "output_type": "stream",
          "text": [
            "Hello\n",
            "Team\n",
            "Python\n",
            "--------------------------------------------------\n",
            "(0, 'Hello')\n",
            "(1, 'Team')\n",
            "(2, 'Python')\n"
          ],
          "name": "stdout"
        }
      ]
    },
    {
      "cell_type": "code",
      "metadata": {
        "id": "rfJG0kbUJZYk",
        "colab_type": "code",
        "outputId": "73a59373-559a-4086-c9ac-f2753b37d4ae",
        "colab": {
          "base_uri": "https://localhost:8080/",
          "height": 33
        }
      },
      "source": [
        "item"
      ],
      "execution_count": 0,
      "outputs": [
        {
          "output_type": "execute_result",
          "data": {
            "text/plain": [
              "(2, 'Python')"
            ]
          },
          "metadata": {
            "tags": []
          },
          "execution_count": 30
        }
      ]
    },
    {
      "cell_type": "code",
      "metadata": {
        "id": "sz4JJEh5V3Py",
        "colab_type": "code",
        "outputId": "66b2d4d3-8bb3-4792-8440-f6801daff26f",
        "colab": {
          "base_uri": "https://localhost:8080/",
          "height": 33
        }
      },
      "source": [
        "type(item)"
      ],
      "execution_count": 0,
      "outputs": [
        {
          "output_type": "execute_result",
          "data": {
            "text/plain": [
              "tuple"
            ]
          },
          "metadata": {
            "tags": []
          },
          "execution_count": 31
        }
      ]
    },
    {
      "cell_type": "markdown",
      "metadata": {
        "id": "u3b-YxDrB5AA",
        "colab_type": "text"
      },
      "source": [
        "**Tuples** are basic Python containers and similar to **lists**"
      ]
    },
    {
      "cell_type": "code",
      "metadata": {
        "id": "1ZFJrJpiWAqZ",
        "colab_type": "code",
        "outputId": "a96c7577-c441-4a7b-963e-5c1b8abb7cbd",
        "colab": {
          "base_uri": "https://localhost:8080/",
          "height": 33
        }
      },
      "source": [
        "i, value = item\n",
        "value"
      ],
      "execution_count": 0,
      "outputs": [
        {
          "output_type": "execute_result",
          "data": {
            "text/plain": [
              "'Python'"
            ]
          },
          "metadata": {
            "tags": []
          },
          "execution_count": 32
        }
      ]
    },
    {
      "cell_type": "code",
      "metadata": {
        "id": "p5Na0B1SWH8c",
        "colab_type": "code",
        "outputId": "ce1e5665-472a-48c7-dbdc-49919f163843",
        "colab": {
          "base_uri": "https://localhost:8080/",
          "height": 50
        }
      },
      "source": [
        "for lineNo, line in enumerate(lines):\n",
        "    if line in keys:\n",
        "        print(\"'\" + line + \"' found in line no. \" + str(lineNo))   "
      ],
      "execution_count": 0,
      "outputs": [
        {
          "output_type": "stream",
          "text": [
            "'header' found in line no. 2\n",
            "'measurements' found in line no. 8\n"
          ],
          "name": "stdout"
        }
      ]
    },
    {
      "cell_type": "markdown",
      "metadata": {
        "id": "1ybRI1GHKJKP",
        "colab_type": "text"
      },
      "source": [
        "Better using the `str.format()` method"
      ]
    },
    {
      "cell_type": "code",
      "metadata": {
        "id": "HBTj95CKWk94",
        "colab_type": "code",
        "outputId": "973ce30b-6354-47d7-c199-5a4f960224d5",
        "colab": {
          "base_uri": "https://localhost:8080/",
          "height": 33
        }
      },
      "source": [
        "\"'{}' fount in line no. {}\".format(\"world\", 1)"
      ],
      "execution_count": 0,
      "outputs": [
        {
          "output_type": "execute_result",
          "data": {
            "text/plain": [
              "\"'world' fount in line no. 1\""
            ]
          },
          "metadata": {
            "tags": []
          },
          "execution_count": 34
        }
      ]
    },
    {
      "cell_type": "code",
      "metadata": {
        "id": "Gmd7EywcW7wk",
        "colab_type": "code",
        "outputId": "6e44c983-2c84-4ecb-b197-1110a33ea3a3",
        "colab": {
          "base_uri": "https://localhost:8080/",
          "height": 50
        }
      },
      "source": [
        "for lineNo, line in enumerate(lines):\n",
        "    if line in keys:\n",
        "        print(\"'{}' fount in line no. {}\".format(line, lineNo))   "
      ],
      "execution_count": 0,
      "outputs": [
        {
          "output_type": "stream",
          "text": [
            "'header' fount in line no. 2\n",
            "'measurements' fount in line no. 8\n"
          ],
          "name": "stdout"
        }
      ]
    },
    {
      "cell_type": "code",
      "metadata": {
        "id": "N5e3O4-lXjDk",
        "colab_type": "code",
        "outputId": "66790966-a62d-43e3-f885-1f3d00f5dca0",
        "colab": {
          "base_uri": "https://localhost:8080/",
          "height": 686
        }
      },
      "source": [
        "lines"
      ],
      "execution_count": 0,
      "outputs": [
        {
          "output_type": "execute_result",
          "data": {
            "text/plain": [
              "['MLPy2020 logfile challenge',\n",
              " '',\n",
              " 'header',\n",
              " 'measurement date,2020-05-06',\n",
              " 'measurement time,08:00:00',\n",
              " 'calibration factor sig0,0.55',\n",
              " 'calibration factor sig2,1.88',\n",
              " '',\n",
              " 'measurements',\n",
              " 'x,sig0,sig1,sig2',\n",
              " '5.17,6.40 Ohms,16.05 Ohms,10.61 Ohms',\n",
              " '9.47,34.21 Ohms,5.95 Ohms,293 mOhms',\n",
              " '7.65,21.11 Ohms,366 mOhms,4.80 Ohms',\n",
              " '2.82,36.06 Ohms,16.03 Ohms,6.39 Ohms',\n",
              " '2.21,30.50 Ohms,11.65 Ohms,4.36 Ohms',\n",
              " '6.86,6.92 Ohms,3.73 Ohms,7.39 Ohms',\n",
              " '1.67,21.43 Ohms,7.45 Ohms,2.67 Ohms',\n",
              " '3.92,28.49 Ohms,19.98 Ohms,9.47 Ohms',\n",
              " '6.18,324 mOhms,8.59 Ohms,9.24 Ohms',\n",
              " '4.12,25.24 Ohms,19.96 Ohms,9.84 Ohms',\n",
              " '0.02,6 mOhms,2 mOhms,1 mOhms',\n",
              " '8.84,36.11 Ohms,2.10 Ohms,1.35 Ohms',\n",
              " '8.85,36.14 Ohms,2.14 Ohms,1.33 Ohms',\n",
              " '3.00,36.36 Ohms,17.09 Ohms,6.98 Ohms',\n",
              " '5.90,108 mOhms,10.82 Ohms,9.82 Ohms',\n",
              " '9.78,30.57 Ohms,8.31 Ohms,49 mOhms',\n",
              " '8.45,33.44 Ohms,621 mOhms,2.33 Ohms',\n",
              " '0.65,4.06 Ohms,1.28 Ohms,438 mOhms',\n",
              " '2.95,36.34 Ohms,16.77 Ohms,6.79 Ohms',\n",
              " '2.88,36.22 Ohms,16.37 Ohms,6.57 Ohms',\n",
              " '8.22,30.69 Ohms,155 mOhms,2.98 Ohms',\n",
              " '6.26,679 mOhms,7.96 Ohms,9.05 Ohms',\n",
              " '1.10,10.87 Ohms,3.53 Ohms,1.23 Ohms',\n",
              " '0.01,0 mOhms,0 mOhms,0 mOhms',\n",
              " '9.42,34.62 Ohms,5.61 Ohms,347 mOhms',\n",
              " '1.42,16.57 Ohms,5.57 Ohms,1.97 Ohms',\n",
              " '4.22,23.51 Ohms,19.86 Ohms,10.01 Ohms',\n",
              " '3.46,34.25 Ohms,19.13 Ohms,8.35 Ohms',\n",
              " '8.70,35.46 Ohms,1.46 Ohms,1.68 Ohms',\n",
              " '4.29,22.22 Ohms,19.75 Ohms,10.11 Ohms']"
            ]
          },
          "metadata": {
            "tags": []
          },
          "execution_count": 36
        }
      ]
    },
    {
      "cell_type": "markdown",
      "metadata": {
        "id": "2sPjqImpX1mw",
        "colab_type": "text"
      },
      "source": [
        "# Dictionary `dict`"
      ]
    },
    {
      "cell_type": "code",
      "metadata": {
        "id": "aQwpUGeiXwWO",
        "colab_type": "code",
        "colab": {}
      },
      "source": [
        "idxs = dict()"
      ],
      "execution_count": 0,
      "outputs": []
    },
    {
      "cell_type": "code",
      "metadata": {
        "id": "1xAuSr2TYApw",
        "colab_type": "code",
        "outputId": "4744af69-1d1a-4d0b-adb5-5e5f98da94b3",
        "colab": {
          "base_uri": "https://localhost:8080/",
          "height": 33
        }
      },
      "source": [
        "type(idxs)"
      ],
      "execution_count": 0,
      "outputs": [
        {
          "output_type": "execute_result",
          "data": {
            "text/plain": [
              "dict"
            ]
          },
          "metadata": {
            "tags": []
          },
          "execution_count": 38
        }
      ]
    },
    {
      "cell_type": "code",
      "metadata": {
        "id": "hxvV9yCBXjjM",
        "colab_type": "code",
        "colab": {}
      },
      "source": [
        "for lineNo, line in enumerate(lines):\n",
        "    if line in keys:\n",
        "        idxs[line] = lineNo "
      ],
      "execution_count": 0,
      "outputs": []
    },
    {
      "cell_type": "code",
      "metadata": {
        "id": "5o803dolYgpN",
        "colab_type": "code",
        "outputId": "bc946f55-071c-4ede-e5c9-fa2d0a6d8f27",
        "colab": {
          "base_uri": "https://localhost:8080/",
          "height": 33
        }
      },
      "source": [
        "idxs"
      ],
      "execution_count": 0,
      "outputs": [
        {
          "output_type": "execute_result",
          "data": {
            "text/plain": [
              "{'header': 2, 'measurements': 8}"
            ]
          },
          "metadata": {
            "tags": []
          },
          "execution_count": 40
        }
      ]
    },
    {
      "cell_type": "code",
      "metadata": {
        "id": "245fvpLvs_hq",
        "colab_type": "code",
        "outputId": "bc0f9733-427f-4aad-db68-a42a3020d993",
        "colab": {
          "base_uri": "https://localhost:8080/",
          "height": 33
        }
      },
      "source": [
        "idxs[\"measurements\"]"
      ],
      "execution_count": 0,
      "outputs": [
        {
          "output_type": "execute_result",
          "data": {
            "text/plain": [
              "8"
            ]
          },
          "metadata": {
            "tags": []
          },
          "execution_count": 41
        }
      ]
    },
    {
      "cell_type": "markdown",
      "metadata": {
        "id": "UlB0VJzZLMF4",
        "colab_type": "text"
      },
      "source": [
        "Adding more items to the dictionary"
      ]
    },
    {
      "cell_type": "code",
      "metadata": {
        "id": "3QzvwUoctIuq",
        "colab_type": "code",
        "outputId": "7f6ef739-123c-4673-fdd2-4c02f8553bdf",
        "colab": {
          "base_uri": "https://localhost:8080/",
          "height": 33
        }
      },
      "source": [
        "idxs[\"names\"] = idxs[\"measurements\"] + 1\n",
        "idxs"
      ],
      "execution_count": 0,
      "outputs": [
        {
          "output_type": "execute_result",
          "data": {
            "text/plain": [
              "{'header': 2, 'measurements': 8, 'names': 9}"
            ]
          },
          "metadata": {
            "tags": []
          },
          "execution_count": 42
        }
      ]
    },
    {
      "cell_type": "code",
      "metadata": {
        "id": "tZuVfPDxtWjT",
        "colab_type": "code",
        "colab": {}
      },
      "source": [
        "idxs[\"params_begin\"] = idxs[\"header\"] + 1\n",
        "idxs[\"params_end\"] = idxs[\"measurements\"] - 1\n",
        "idxs[\"data\"] = idxs[\"names\"] + 1"
      ],
      "execution_count": 0,
      "outputs": []
    },
    {
      "cell_type": "code",
      "metadata": {
        "id": "AfNHwKeEuCWZ",
        "colab_type": "code",
        "outputId": "8d8143a4-e218-412d-97f8-0f5919c4c776",
        "colab": {
          "base_uri": "https://localhost:8080/",
          "height": 117
        }
      },
      "source": [
        "idxs"
      ],
      "execution_count": 0,
      "outputs": [
        {
          "output_type": "execute_result",
          "data": {
            "text/plain": [
              "{'data': 10,\n",
              " 'header': 2,\n",
              " 'measurements': 8,\n",
              " 'names': 9,\n",
              " 'params_begin': 3,\n",
              " 'params_end': 7}"
            ]
          },
          "metadata": {
            "tags": []
          },
          "execution_count": 44
        }
      ]
    },
    {
      "cell_type": "code",
      "metadata": {
        "id": "3MpPSYJjuD6h",
        "colab_type": "code",
        "outputId": "626a2d75-576d-42d7-cc7c-167f5a6f4ed4",
        "colab": {
          "base_uri": "https://localhost:8080/",
          "height": 33
        }
      },
      "source": [
        "idxs.keys()"
      ],
      "execution_count": 0,
      "outputs": [
        {
          "output_type": "execute_result",
          "data": {
            "text/plain": [
              "dict_keys(['header', 'measurements', 'names', 'params_begin', 'params_end', 'data'])"
            ]
          },
          "metadata": {
            "tags": []
          },
          "execution_count": 45
        }
      ]
    },
    {
      "cell_type": "code",
      "metadata": {
        "id": "EOuJULK1ucE_",
        "colab_type": "code",
        "outputId": "262f38e4-eaf5-4096-b6f5-5acf34495178",
        "colab": {
          "base_uri": "https://localhost:8080/",
          "height": 33
        }
      },
      "source": [
        "idxs.values()"
      ],
      "execution_count": 0,
      "outputs": [
        {
          "output_type": "execute_result",
          "data": {
            "text/plain": [
              "dict_values([2, 8, 9, 3, 7, 10])"
            ]
          },
          "metadata": {
            "tags": []
          },
          "execution_count": 46
        }
      ]
    },
    {
      "cell_type": "code",
      "metadata": {
        "id": "A2ppWaekuf65",
        "colab_type": "code",
        "outputId": "6d63fabb-c135-482f-f60e-4d6e1be1ee78",
        "colab": {
          "base_uri": "https://localhost:8080/",
          "height": 33
        }
      },
      "source": [
        "idxs.items()"
      ],
      "execution_count": 0,
      "outputs": [
        {
          "output_type": "execute_result",
          "data": {
            "text/plain": [
              "dict_items([('header', 2), ('measurements', 8), ('names', 9), ('params_begin', 3), ('params_end', 7), ('data', 10)])"
            ]
          },
          "metadata": {
            "tags": []
          },
          "execution_count": 47
        }
      ]
    },
    {
      "cell_type": "code",
      "metadata": {
        "id": "ubghcG37uh06",
        "colab_type": "code",
        "outputId": "51c7a1ea-684d-4752-d0a0-72ea0565996f",
        "colab": {
          "base_uri": "https://localhost:8080/",
          "height": 33
        }
      },
      "source": [
        "item = next(iter(idxs.items()))\n",
        "item"
      ],
      "execution_count": 0,
      "outputs": [
        {
          "output_type": "execute_result",
          "data": {
            "text/plain": [
              "('header', 2)"
            ]
          },
          "metadata": {
            "tags": []
          },
          "execution_count": 48
        }
      ]
    },
    {
      "cell_type": "code",
      "metadata": {
        "id": "9Y_kdPM_u6NZ",
        "colab_type": "code",
        "outputId": "7797bafd-bfaf-40a8-d5db-1da00044ad3c",
        "colab": {
          "base_uri": "https://localhost:8080/",
          "height": 33
        }
      },
      "source": [
        "type(item)"
      ],
      "execution_count": 0,
      "outputs": [
        {
          "output_type": "execute_result",
          "data": {
            "text/plain": [
              "tuple"
            ]
          },
          "metadata": {
            "tags": []
          },
          "execution_count": 49
        }
      ]
    },
    {
      "cell_type": "code",
      "metadata": {
        "id": "qX3QR3Qtvnbd",
        "colab_type": "code",
        "outputId": "511bbb00-7cb6-4811-c379-a2e06f0ab16c",
        "colab": {
          "base_uri": "https://localhost:8080/",
          "height": 117
        }
      },
      "source": [
        "for x in idxs.keys():\n",
        "    print(type(x), x)"
      ],
      "execution_count": 0,
      "outputs": [
        {
          "output_type": "stream",
          "text": [
            "<class 'str'> header\n",
            "<class 'str'> measurements\n",
            "<class 'str'> names\n",
            "<class 'str'> params_begin\n",
            "<class 'str'> params_end\n",
            "<class 'str'> data\n"
          ],
          "name": "stdout"
        }
      ]
    },
    {
      "cell_type": "code",
      "metadata": {
        "id": "UoeZBQqovnMV",
        "colab_type": "code",
        "outputId": "00e50044-b1b4-4f11-8203-906d937038a0",
        "colab": {
          "base_uri": "https://localhost:8080/",
          "height": 117
        }
      },
      "source": [
        "for x in idxs.values():\n",
        "    print(type(x), x)"
      ],
      "execution_count": 0,
      "outputs": [
        {
          "output_type": "stream",
          "text": [
            "<class 'int'> 2\n",
            "<class 'int'> 8\n",
            "<class 'int'> 9\n",
            "<class 'int'> 3\n",
            "<class 'int'> 7\n",
            "<class 'int'> 10\n"
          ],
          "name": "stdout"
        }
      ]
    },
    {
      "cell_type": "code",
      "metadata": {
        "id": "PogfuJ2OuuP4",
        "colab_type": "code",
        "outputId": "f45629ec-b1d8-4629-dfd0-c61f66e303ee",
        "colab": {
          "base_uri": "https://localhost:8080/",
          "height": 117
        }
      },
      "source": [
        "for x in idxs.items():\n",
        "    print(type(x), x)"
      ],
      "execution_count": 0,
      "outputs": [
        {
          "output_type": "stream",
          "text": [
            "<class 'tuple'> ('header', 2)\n",
            "<class 'tuple'> ('measurements', 8)\n",
            "<class 'tuple'> ('names', 9)\n",
            "<class 'tuple'> ('params_begin', 3)\n",
            "<class 'tuple'> ('params_end', 7)\n",
            "<class 'tuple'> ('data', 10)\n"
          ],
          "name": "stdout"
        }
      ]
    },
    {
      "cell_type": "markdown",
      "metadata": {
        "id": "6DtLWLA-vxET",
        "colab_type": "text"
      },
      "source": [
        "The common way to loop over `dict` `items` is by **unpacking**:"
      ]
    },
    {
      "cell_type": "code",
      "metadata": {
        "id": "iFQyk2QMvSeH",
        "colab_type": "code",
        "outputId": "153d302b-7625-48aa-b710-1aa2fc59f2eb",
        "colab": {
          "base_uri": "https://localhost:8080/",
          "height": 117
        }
      },
      "source": [
        "for key, value in idxs.items():\n",
        "    print(\"key:{}, value:{}\".format(key, value))"
      ],
      "execution_count": 0,
      "outputs": [
        {
          "output_type": "stream",
          "text": [
            "key:header, value:2\n",
            "key:measurements, value:8\n",
            "key:names, value:9\n",
            "key:params_begin, value:3\n",
            "key:params_end, value:7\n",
            "key:data, value:10\n"
          ],
          "name": "stdout"
        }
      ]
    },
    {
      "cell_type": "markdown",
      "metadata": {
        "id": "Q-JmY8k2DYFu",
        "colab_type": "text"
      },
      "source": [
        "# Table of Python containers\n",
        "|Python container|list|tuple|set|dictionary|\n",
        "|---|---|---|---|---|\n",
        "|creation|`li = [1, 1, \"Hi!\"]`|`tup = (1, 1, \"Hi!\")`|`se = set([1, 1, \"Hi!\"])`|`d = {\"Musk\":\"Elon\", \"Bezos\":\"Jeff\"}`|\n",
        "|print return|`[1, 1, 'Hi!']`|`(1, 1, 'Hi!')`|`{1, 'Hi!'}`|`{'Musk': 'Elon', 'Bezos': 'Jeff'}`|\n",
        "|mutablility|mutable|**immutable**|mutable|mutable|\n",
        "|slicing|yes, `li[0]` --> `1`|no slicing|yes, `li[0]` --> `1`|no slicing|\n",
        "|primary usage|basic container with<br>`append()` method|use if data doesn't<br>change|- set operations: `union`, `diff`,<br>- get unique values|lookup table|\n",
        "\n"
      ]
    },
    {
      "cell_type": "code",
      "metadata": {
        "id": "J0lzinPUAkXw",
        "colab_type": "code",
        "outputId": "96d44289-5316-4b01-fad3-f82a5105d5a3",
        "colab": {
          "base_uri": "https://localhost:8080/",
          "height": 669
        }
      },
      "source": [
        "all_char = set(s)\n",
        "all_char"
      ],
      "execution_count": 0,
      "outputs": [
        {
          "output_type": "execute_result",
          "data": {
            "text/plain": [
              "{'\\n',\n",
              " ' ',\n",
              " ',',\n",
              " '-',\n",
              " '.',\n",
              " '0',\n",
              " '1',\n",
              " '2',\n",
              " '3',\n",
              " '4',\n",
              " '5',\n",
              " '6',\n",
              " '7',\n",
              " '8',\n",
              " '9',\n",
              " ':',\n",
              " 'L',\n",
              " 'M',\n",
              " 'O',\n",
              " 'P',\n",
              " 'a',\n",
              " 'b',\n",
              " 'c',\n",
              " 'd',\n",
              " 'e',\n",
              " 'f',\n",
              " 'g',\n",
              " 'h',\n",
              " 'i',\n",
              " 'l',\n",
              " 'm',\n",
              " 'n',\n",
              " 'o',\n",
              " 'r',\n",
              " 's',\n",
              " 't',\n",
              " 'u',\n",
              " 'x',\n",
              " 'y'}"
            ]
          },
          "metadata": {
            "tags": []
          },
          "execution_count": 54
        }
      ]
    },
    {
      "cell_type": "code",
      "metadata": {
        "id": "ocHl8aVqAxga",
        "colab_type": "code",
        "colab": {}
      },
      "source": [
        "FORBIDDEN_CHARS = \"LMNXYZ\""
      ],
      "execution_count": 0,
      "outputs": []
    },
    {
      "cell_type": "code",
      "metadata": {
        "id": "WNcHwv_UAxdS",
        "colab_type": "code",
        "outputId": "0c9bbd3a-afc4-4441-9d87-50fac565f271",
        "colab": {
          "base_uri": "https://localhost:8080/",
          "height": 33
        }
      },
      "source": [
        "all_char.intersection(set(FORBIDDEN_CHARS))"
      ],
      "execution_count": 0,
      "outputs": [
        {
          "output_type": "execute_result",
          "data": {
            "text/plain": [
              "{'L', 'M'}"
            ]
          },
          "metadata": {
            "tags": []
          },
          "execution_count": 56
        }
      ]
    },
    {
      "cell_type": "code",
      "metadata": {
        "id": "55UeOxrKAkUZ",
        "colab_type": "code",
        "colab": {}
      },
      "source": [
        ""
      ],
      "execution_count": 0,
      "outputs": []
    },
    {
      "cell_type": "markdown",
      "metadata": {
        "id": "MGbfJcp8wR_x",
        "colab_type": "text"
      },
      "source": [
        "# Return to the 'Logfile challenge'"
      ]
    },
    {
      "cell_type": "code",
      "metadata": {
        "id": "B70_ARG3wOI2",
        "colab_type": "code",
        "outputId": "ff499382-53d1-47fb-c9c2-293eafc4ce31",
        "colab": {
          "base_uri": "https://localhost:8080/",
          "height": 686
        }
      },
      "source": [
        "lines"
      ],
      "execution_count": 0,
      "outputs": [
        {
          "output_type": "execute_result",
          "data": {
            "text/plain": [
              "['MLPy2020 logfile challenge',\n",
              " '',\n",
              " 'header',\n",
              " 'measurement date,2020-05-06',\n",
              " 'measurement time,08:00:00',\n",
              " 'calibration factor sig0,0.55',\n",
              " 'calibration factor sig2,1.88',\n",
              " '',\n",
              " 'measurements',\n",
              " 'x,sig0,sig1,sig2',\n",
              " '5.17,6.40 Ohms,16.05 Ohms,10.61 Ohms',\n",
              " '9.47,34.21 Ohms,5.95 Ohms,293 mOhms',\n",
              " '7.65,21.11 Ohms,366 mOhms,4.80 Ohms',\n",
              " '2.82,36.06 Ohms,16.03 Ohms,6.39 Ohms',\n",
              " '2.21,30.50 Ohms,11.65 Ohms,4.36 Ohms',\n",
              " '6.86,6.92 Ohms,3.73 Ohms,7.39 Ohms',\n",
              " '1.67,21.43 Ohms,7.45 Ohms,2.67 Ohms',\n",
              " '3.92,28.49 Ohms,19.98 Ohms,9.47 Ohms',\n",
              " '6.18,324 mOhms,8.59 Ohms,9.24 Ohms',\n",
              " '4.12,25.24 Ohms,19.96 Ohms,9.84 Ohms',\n",
              " '0.02,6 mOhms,2 mOhms,1 mOhms',\n",
              " '8.84,36.11 Ohms,2.10 Ohms,1.35 Ohms',\n",
              " '8.85,36.14 Ohms,2.14 Ohms,1.33 Ohms',\n",
              " '3.00,36.36 Ohms,17.09 Ohms,6.98 Ohms',\n",
              " '5.90,108 mOhms,10.82 Ohms,9.82 Ohms',\n",
              " '9.78,30.57 Ohms,8.31 Ohms,49 mOhms',\n",
              " '8.45,33.44 Ohms,621 mOhms,2.33 Ohms',\n",
              " '0.65,4.06 Ohms,1.28 Ohms,438 mOhms',\n",
              " '2.95,36.34 Ohms,16.77 Ohms,6.79 Ohms',\n",
              " '2.88,36.22 Ohms,16.37 Ohms,6.57 Ohms',\n",
              " '8.22,30.69 Ohms,155 mOhms,2.98 Ohms',\n",
              " '6.26,679 mOhms,7.96 Ohms,9.05 Ohms',\n",
              " '1.10,10.87 Ohms,3.53 Ohms,1.23 Ohms',\n",
              " '0.01,0 mOhms,0 mOhms,0 mOhms',\n",
              " '9.42,34.62 Ohms,5.61 Ohms,347 mOhms',\n",
              " '1.42,16.57 Ohms,5.57 Ohms,1.97 Ohms',\n",
              " '4.22,23.51 Ohms,19.86 Ohms,10.01 Ohms',\n",
              " '3.46,34.25 Ohms,19.13 Ohms,8.35 Ohms',\n",
              " '8.70,35.46 Ohms,1.46 Ohms,1.68 Ohms',\n",
              " '4.29,22.22 Ohms,19.75 Ohms,10.11 Ohms']"
            ]
          },
          "metadata": {
            "tags": []
          },
          "execution_count": 57
        }
      ]
    },
    {
      "cell_type": "code",
      "metadata": {
        "id": "P0ljC3WgwYn-",
        "colab_type": "code",
        "outputId": "ee729dd1-ef20-4b00-b58d-ff511f030830",
        "colab": {
          "base_uri": "https://localhost:8080/",
          "height": 117
        }
      },
      "source": [
        "idxs"
      ],
      "execution_count": 0,
      "outputs": [
        {
          "output_type": "execute_result",
          "data": {
            "text/plain": [
              "{'data': 10,\n",
              " 'header': 2,\n",
              " 'measurements': 8,\n",
              " 'names': 9,\n",
              " 'params_begin': 3,\n",
              " 'params_end': 7}"
            ]
          },
          "metadata": {
            "tags": []
          },
          "execution_count": 58
        }
      ]
    },
    {
      "cell_type": "markdown",
      "metadata": {
        "id": "DvZbf2gNwdKP",
        "colab_type": "text"
      },
      "source": [
        "Now we can **slice** the `lines` to more handy variables:"
      ]
    },
    {
      "cell_type": "code",
      "metadata": {
        "id": "PZl-SmxywZ6H",
        "colab_type": "code",
        "outputId": "6c72742f-e0d5-411e-8ca4-176b9ab3e8cf",
        "colab": {
          "base_uri": "https://localhost:8080/",
          "height": 84
        }
      },
      "source": [
        "params_lines = lines[idxs[\"params_begin\"] : idxs[\"params_end\"]]\n",
        "params_lines"
      ],
      "execution_count": 0,
      "outputs": [
        {
          "output_type": "execute_result",
          "data": {
            "text/plain": [
              "['measurement date,2020-05-06',\n",
              " 'measurement time,08:00:00',\n",
              " 'calibration factor sig0,0.55',\n",
              " 'calibration factor sig2,1.88']"
            ]
          },
          "metadata": {
            "tags": []
          },
          "execution_count": 59
        }
      ]
    },
    {
      "cell_type": "code",
      "metadata": {
        "id": "D6GTgeE8xMuX",
        "colab_type": "code",
        "outputId": "e49152cb-48a9-4bd8-e6d8-dc38d67ac825",
        "colab": {
          "base_uri": "https://localhost:8080/",
          "height": 518
        }
      },
      "source": [
        "data_lines = lines[idxs[\"data\"] :]\n",
        "data_lines"
      ],
      "execution_count": 0,
      "outputs": [
        {
          "output_type": "execute_result",
          "data": {
            "text/plain": [
              "['5.17,6.40 Ohms,16.05 Ohms,10.61 Ohms',\n",
              " '9.47,34.21 Ohms,5.95 Ohms,293 mOhms',\n",
              " '7.65,21.11 Ohms,366 mOhms,4.80 Ohms',\n",
              " '2.82,36.06 Ohms,16.03 Ohms,6.39 Ohms',\n",
              " '2.21,30.50 Ohms,11.65 Ohms,4.36 Ohms',\n",
              " '6.86,6.92 Ohms,3.73 Ohms,7.39 Ohms',\n",
              " '1.67,21.43 Ohms,7.45 Ohms,2.67 Ohms',\n",
              " '3.92,28.49 Ohms,19.98 Ohms,9.47 Ohms',\n",
              " '6.18,324 mOhms,8.59 Ohms,9.24 Ohms',\n",
              " '4.12,25.24 Ohms,19.96 Ohms,9.84 Ohms',\n",
              " '0.02,6 mOhms,2 mOhms,1 mOhms',\n",
              " '8.84,36.11 Ohms,2.10 Ohms,1.35 Ohms',\n",
              " '8.85,36.14 Ohms,2.14 Ohms,1.33 Ohms',\n",
              " '3.00,36.36 Ohms,17.09 Ohms,6.98 Ohms',\n",
              " '5.90,108 mOhms,10.82 Ohms,9.82 Ohms',\n",
              " '9.78,30.57 Ohms,8.31 Ohms,49 mOhms',\n",
              " '8.45,33.44 Ohms,621 mOhms,2.33 Ohms',\n",
              " '0.65,4.06 Ohms,1.28 Ohms,438 mOhms',\n",
              " '2.95,36.34 Ohms,16.77 Ohms,6.79 Ohms',\n",
              " '2.88,36.22 Ohms,16.37 Ohms,6.57 Ohms',\n",
              " '8.22,30.69 Ohms,155 mOhms,2.98 Ohms',\n",
              " '6.26,679 mOhms,7.96 Ohms,9.05 Ohms',\n",
              " '1.10,10.87 Ohms,3.53 Ohms,1.23 Ohms',\n",
              " '0.01,0 mOhms,0 mOhms,0 mOhms',\n",
              " '9.42,34.62 Ohms,5.61 Ohms,347 mOhms',\n",
              " '1.42,16.57 Ohms,5.57 Ohms,1.97 Ohms',\n",
              " '4.22,23.51 Ohms,19.86 Ohms,10.01 Ohms',\n",
              " '3.46,34.25 Ohms,19.13 Ohms,8.35 Ohms',\n",
              " '8.70,35.46 Ohms,1.46 Ohms,1.68 Ohms',\n",
              " '4.29,22.22 Ohms,19.75 Ohms,10.11 Ohms']"
            ]
          },
          "metadata": {
            "tags": []
          },
          "execution_count": 60
        }
      ]
    },
    {
      "cell_type": "markdown",
      "metadata": {
        "id": "XQggzXG9xjkm",
        "colab_type": "text"
      },
      "source": [
        "Finally, let's slice the `names` line:"
      ]
    },
    {
      "cell_type": "code",
      "metadata": {
        "id": "jqO0aTrQwo08",
        "colab_type": "code",
        "outputId": "96e3bcdd-333c-4f9e-9db9-e215e3172847",
        "colab": {
          "base_uri": "https://localhost:8080/",
          "height": 33
        }
      },
      "source": [
        "lines[idxs[\"names\"]]"
      ],
      "execution_count": 0,
      "outputs": [
        {
          "output_type": "execute_result",
          "data": {
            "text/plain": [
              "'x,sig0,sig1,sig2'"
            ]
          },
          "metadata": {
            "tags": []
          },
          "execution_count": 61
        }
      ]
    },
    {
      "cell_type": "markdown",
      "metadata": {
        "id": "8zNlT9JYxswQ",
        "colab_type": "text"
      },
      "source": [
        "We can create a `names` `list` directy by splitting on ','"
      ]
    },
    {
      "cell_type": "code",
      "metadata": {
        "id": "CLdoJ06nxEkZ",
        "colab_type": "code",
        "outputId": "f3a220a8-b493-4779-915c-ee4d295be026",
        "colab": {
          "base_uri": "https://localhost:8080/",
          "height": 33
        }
      },
      "source": [
        "names = lines[idxs[\"names\"]].split(\",\")\n",
        "names"
      ],
      "execution_count": 0,
      "outputs": [
        {
          "output_type": "execute_result",
          "data": {
            "text/plain": [
              "['x', 'sig0', 'sig1', 'sig2']"
            ]
          },
          "metadata": {
            "tags": []
          },
          "execution_count": 62
        }
      ]
    },
    {
      "cell_type": "code",
      "metadata": {
        "id": "GrthEryKx7Ye",
        "colab_type": "code",
        "outputId": "3a3f9774-e085-4bae-be03-84b05a66ccb5",
        "colab": {
          "base_uri": "https://localhost:8080/",
          "height": 84
        }
      },
      "source": [
        "params_lines"
      ],
      "execution_count": 0,
      "outputs": [
        {
          "output_type": "execute_result",
          "data": {
            "text/plain": [
              "['measurement date,2020-05-06',\n",
              " 'measurement time,08:00:00',\n",
              " 'calibration factor sig0,0.55',\n",
              " 'calibration factor sig2,1.88']"
            ]
          },
          "metadata": {
            "tags": []
          },
          "execution_count": 63
        }
      ]
    },
    {
      "cell_type": "markdown",
      "metadata": {
        "id": "GAYlkbEwyJLI",
        "colab_type": "text"
      },
      "source": [
        "Storing the parameters is another perfect application for a dictionary"
      ]
    },
    {
      "cell_type": "code",
      "metadata": {
        "id": "wavV8ncEyGks",
        "colab_type": "code",
        "outputId": "05ffd560-9436-4962-fb50-ab6d89f45d19",
        "colab": {
          "base_uri": "https://localhost:8080/",
          "height": 84
        }
      },
      "source": [
        "params = dict()\n",
        "for line in params_lines:\n",
        "    key, value = line.split(\",\")\n",
        "    params[key] = value\n",
        "params"
      ],
      "execution_count": 0,
      "outputs": [
        {
          "output_type": "execute_result",
          "data": {
            "text/plain": [
              "{'calibration factor sig0': '0.55',\n",
              " 'calibration factor sig2': '1.88',\n",
              " 'measurement date': '2020-05-06',\n",
              " 'measurement time': '08:00:00'}"
            ]
          },
          "metadata": {
            "tags": []
          },
          "execution_count": 64
        }
      ]
    },
    {
      "cell_type": "markdown",
      "metadata": {
        "id": "JAzxRLq_3jrn",
        "colab_type": "text"
      },
      "source": [
        "perfect!\n",
        "\n",
        "... see how readable the code get's in the following:"
      ]
    },
    {
      "cell_type": "code",
      "metadata": {
        "id": "VBbl1BR8Ny-V",
        "colab_type": "code",
        "outputId": "b42e88ad-08d9-45e2-c206-381a2360ca04",
        "colab": {
          "base_uri": "https://localhost:8080/",
          "height": 33
        }
      },
      "source": [
        "params[\"measurement date\"]"
      ],
      "execution_count": 0,
      "outputs": [
        {
          "output_type": "execute_result",
          "data": {
            "text/plain": [
              "'2020-05-06'"
            ]
          },
          "metadata": {
            "tags": []
          },
          "execution_count": 65
        }
      ]
    },
    {
      "cell_type": "markdown",
      "metadata": {
        "colab_type": "text",
        "id": "a8XkLilGN9bn"
      },
      "source": [
        "There is yet one imperfection of the `params` dictionary: The `type` of all `values` is `str`. \n",
        "\n",
        "We will work on that later, after parsing the data."
      ]
    },
    {
      "cell_type": "code",
      "metadata": {
        "id": "450eZoU-1Ds8",
        "colab_type": "code",
        "outputId": "7089aa9f-66dc-45e2-b9a4-e98811ec22a5",
        "colab": {
          "base_uri": "https://localhost:8080/",
          "height": 518
        }
      },
      "source": [
        "data_lines"
      ],
      "execution_count": 0,
      "outputs": [
        {
          "output_type": "execute_result",
          "data": {
            "text/plain": [
              "['5.17,6.40 Ohms,16.05 Ohms,10.61 Ohms',\n",
              " '9.47,34.21 Ohms,5.95 Ohms,293 mOhms',\n",
              " '7.65,21.11 Ohms,366 mOhms,4.80 Ohms',\n",
              " '2.82,36.06 Ohms,16.03 Ohms,6.39 Ohms',\n",
              " '2.21,30.50 Ohms,11.65 Ohms,4.36 Ohms',\n",
              " '6.86,6.92 Ohms,3.73 Ohms,7.39 Ohms',\n",
              " '1.67,21.43 Ohms,7.45 Ohms,2.67 Ohms',\n",
              " '3.92,28.49 Ohms,19.98 Ohms,9.47 Ohms',\n",
              " '6.18,324 mOhms,8.59 Ohms,9.24 Ohms',\n",
              " '4.12,25.24 Ohms,19.96 Ohms,9.84 Ohms',\n",
              " '0.02,6 mOhms,2 mOhms,1 mOhms',\n",
              " '8.84,36.11 Ohms,2.10 Ohms,1.35 Ohms',\n",
              " '8.85,36.14 Ohms,2.14 Ohms,1.33 Ohms',\n",
              " '3.00,36.36 Ohms,17.09 Ohms,6.98 Ohms',\n",
              " '5.90,108 mOhms,10.82 Ohms,9.82 Ohms',\n",
              " '9.78,30.57 Ohms,8.31 Ohms,49 mOhms',\n",
              " '8.45,33.44 Ohms,621 mOhms,2.33 Ohms',\n",
              " '0.65,4.06 Ohms,1.28 Ohms,438 mOhms',\n",
              " '2.95,36.34 Ohms,16.77 Ohms,6.79 Ohms',\n",
              " '2.88,36.22 Ohms,16.37 Ohms,6.57 Ohms',\n",
              " '8.22,30.69 Ohms,155 mOhms,2.98 Ohms',\n",
              " '6.26,679 mOhms,7.96 Ohms,9.05 Ohms',\n",
              " '1.10,10.87 Ohms,3.53 Ohms,1.23 Ohms',\n",
              " '0.01,0 mOhms,0 mOhms,0 mOhms',\n",
              " '9.42,34.62 Ohms,5.61 Ohms,347 mOhms',\n",
              " '1.42,16.57 Ohms,5.57 Ohms,1.97 Ohms',\n",
              " '4.22,23.51 Ohms,19.86 Ohms,10.01 Ohms',\n",
              " '3.46,34.25 Ohms,19.13 Ohms,8.35 Ohms',\n",
              " '8.70,35.46 Ohms,1.46 Ohms,1.68 Ohms',\n",
              " '4.29,22.22 Ohms,19.75 Ohms,10.11 Ohms']"
            ]
          },
          "metadata": {
            "tags": []
          },
          "execution_count": 66
        }
      ]
    },
    {
      "cell_type": "code",
      "metadata": {
        "id": "qSEiSuet4Dmx",
        "colab_type": "code",
        "outputId": "94b6bed2-3285-416c-b8d4-24a446faa51e",
        "colab": {
          "base_uri": "https://localhost:8080/",
          "height": 33
        }
      },
      "source": [
        "names"
      ],
      "execution_count": 0,
      "outputs": [
        {
          "output_type": "execute_result",
          "data": {
            "text/plain": [
              "['x', 'sig0', 'sig1', 'sig2']"
            ]
          },
          "metadata": {
            "tags": []
          },
          "execution_count": 67
        }
      ]
    },
    {
      "cell_type": "code",
      "metadata": {
        "id": "GNl6Ue8z4LRE",
        "colab_type": "code",
        "outputId": "a33cfbe4-767c-445c-d547-5d19587a140e",
        "colab": {
          "base_uri": "https://localhost:8080/",
          "height": 33
        }
      },
      "source": [
        "data_lines[0].split(\",\")"
      ],
      "execution_count": 0,
      "outputs": [
        {
          "output_type": "execute_result",
          "data": {
            "text/plain": [
              "['5.17', '6.40 Ohms', '16.05 Ohms', '10.61 Ohms']"
            ]
          },
          "metadata": {
            "tags": []
          },
          "execution_count": 68
        }
      ]
    },
    {
      "cell_type": "markdown",
      "metadata": {
        "id": "ebTUEROM6RD2",
        "colab_type": "text"
      },
      "source": [
        "## Functions"
      ]
    },
    {
      "cell_type": "markdown",
      "metadata": {
        "id": "mBDAw97P6V8H",
        "colab_type": "text"
      },
      "source": [
        "A function is needs that:\n",
        "- takes a `str` input\n",
        "- converts the `str` to a `float`\n",
        "- removes `Ohms` text\n",
        "- removes `mOhms` text and divides the value by 1000\n",
        "\n",
        "Before programming the actual functionality, it is good practivce to write the test bench first:\n"
      ]
    },
    {
      "cell_type": "code",
      "metadata": {
        "id": "hUHIKsks7Mxg",
        "colab_type": "code",
        "outputId": "07abe106-3a1c-44b3-978b-63a6d3708f53",
        "colab": {
          "base_uri": "https://localhost:8080/",
          "height": 33
        }
      },
      "source": [
        "test_vector = data_lines[0].split(\",\")    # reuse the first data line as test vector\n",
        "test_vector[-1] = \"100 mOhms\"             # replace the last item, so there is a 'mOhms' item\n",
        "test_vector"
      ],
      "execution_count": 0,
      "outputs": [
        {
          "output_type": "execute_result",
          "data": {
            "text/plain": [
              "['5.17', '6.40 Ohms', '16.05 Ohms', '100 mOhms']"
            ]
          },
          "metadata": {
            "tags": []
          },
          "execution_count": 69
        }
      ]
    },
    {
      "cell_type": "code",
      "metadata": {
        "id": "h06PHeGn5vBh",
        "colab_type": "code",
        "outputId": "0888aeb2-5f02-4f85-c977-196f6c2eab16",
        "colab": {
          "base_uri": "https://localhost:8080/",
          "height": 84
        }
      },
      "source": [
        "def string_to_float(s):\n",
        "    return s + \" processed by 'string_to_float'\"\n",
        "\n",
        "for item in test_vector:\n",
        "    result = string_to_float(item)\n",
        "    print(type(result), result)"
      ],
      "execution_count": 0,
      "outputs": [
        {
          "output_type": "stream",
          "text": [
            "<class 'str'> 5.17 processed by 'string_to_float'\n",
            "<class 'str'> 6.40 Ohms processed by 'string_to_float'\n",
            "<class 'str'> 16.05 Ohms processed by 'string_to_float'\n",
            "<class 'str'> 100 mOhms processed by 'string_to_float'\n"
          ],
          "name": "stdout"
        }
      ]
    },
    {
      "cell_type": "markdown",
      "metadata": {
        "id": "4lqgh-KyHKMQ",
        "colab_type": "text"
      },
      "source": [
        ""
      ]
    },
    {
      "cell_type": "markdown",
      "metadata": {
        "id": "NW8C-G3478hr",
        "colab_type": "text"
      },
      "source": [
        "How to convert a `str` to a `float`?"
      ]
    },
    {
      "cell_type": "code",
      "metadata": {
        "id": "fYCZLCZx70Tm",
        "colab_type": "code",
        "outputId": "bccebb94-3b3d-47c4-e6e6-bc356893eae9",
        "colab": {
          "base_uri": "https://localhost:8080/",
          "height": 33
        }
      },
      "source": [
        "float(\"3.33\")"
      ],
      "execution_count": 0,
      "outputs": [
        {
          "output_type": "execute_result",
          "data": {
            "text/plain": [
              "3.33"
            ]
          },
          "metadata": {
            "tags": []
          },
          "execution_count": 71
        }
      ]
    },
    {
      "cell_type": "code",
      "metadata": {
        "id": "mAd0r5D38MPe",
        "colab_type": "code",
        "outputId": "e2827a07-6edd-412d-db6c-d56a295651bf",
        "colab": {
          "base_uri": "https://localhost:8080/",
          "height": 33
        }
      },
      "source": [
        "float(\"3.33 \")"
      ],
      "execution_count": 0,
      "outputs": [
        {
          "output_type": "execute_result",
          "data": {
            "text/plain": [
              "3.33"
            ]
          },
          "metadata": {
            "tags": []
          },
          "execution_count": 72
        }
      ]
    },
    {
      "cell_type": "code",
      "metadata": {
        "id": "8hYwhmFL8QyZ",
        "colab_type": "code",
        "colab": {}
      },
      "source": [
        "#float(\"3.33 Ohms\")"
      ],
      "execution_count": 0,
      "outputs": []
    },
    {
      "cell_type": "markdown",
      "metadata": {
        "id": "3empzlmm8udj",
        "colab_type": "text"
      },
      "source": [
        "Remove the \"Ohms\" first"
      ]
    },
    {
      "cell_type": "code",
      "metadata": {
        "id": "UGFUbvdp8U0M",
        "colab_type": "code",
        "outputId": "957d8238-6d29-4b63-8b7d-bbd60274c16e",
        "colab": {
          "base_uri": "https://localhost:8080/",
          "height": 84
        }
      },
      "source": [
        "for item in test_vector:\n",
        "    print(item, \"Ohms\" in item)"
      ],
      "execution_count": 0,
      "outputs": [
        {
          "output_type": "stream",
          "text": [
            "5.17 False\n",
            "6.40 Ohms True\n",
            "16.05 Ohms True\n",
            "100 mOhms True\n"
          ],
          "name": "stdout"
        }
      ]
    },
    {
      "cell_type": "markdown",
      "metadata": {
        "id": "iB1-yTTvQEt_",
        "colab_type": "text"
      },
      "source": [
        "... that would work.\n",
        "\n",
        "However, using the `str` methon `find` has the advantage of providing the **index** where it was found."
      ]
    },
    {
      "cell_type": "code",
      "metadata": {
        "id": "I3LNRT-19Bwr",
        "colab_type": "code",
        "outputId": "c87da822-7229-4df9-c2ac-39b11c653c3f",
        "colab": {
          "base_uri": "https://localhost:8080/",
          "height": 84
        }
      },
      "source": [
        "for item in test_vector:\n",
        "    print(item, item.find(\"Ohms\"))"
      ],
      "execution_count": 0,
      "outputs": [
        {
          "output_type": "stream",
          "text": [
            "5.17 -1\n",
            "6.40 Ohms 5\n",
            "16.05 Ohms 6\n",
            "100 mOhms 5\n"
          ],
          "name": "stdout"
        }
      ]
    },
    {
      "cell_type": "code",
      "metadata": {
        "id": "7RtcGJsf9Sdq",
        "colab_type": "code",
        "outputId": "42806a0f-18b6-4951-bb22-6a52117d359e",
        "colab": {
          "base_uri": "https://localhost:8080/",
          "height": 84
        }
      },
      "source": [
        "for item in test_vector:\n",
        "    idx = item.find(\"Ohms\")\n",
        "    if idx > 0:\n",
        "        prefix = item[idx-1]\n",
        "        mults = {\" \": 1, \"m\": 0.001}\n",
        "        print(item, mults[prefix])\n",
        "    else:\n",
        "        print(item)"
      ],
      "execution_count": 0,
      "outputs": [
        {
          "output_type": "stream",
          "text": [
            "5.17\n",
            "6.40 Ohms 1\n",
            "16.05 Ohms 1\n",
            "100 mOhms 0.001\n"
          ],
          "name": "stdout"
        }
      ]
    },
    {
      "cell_type": "markdown",
      "metadata": {
        "id": "4yBwcj5EQ5gb",
        "colab_type": "text"
      },
      "source": [
        "... almost done!\n",
        "\n",
        "Just to the *type casting* on the item and apply `mults`:"
      ]
    },
    {
      "cell_type": "code",
      "metadata": {
        "id": "hugf4UGzQrYl",
        "colab_type": "code",
        "colab": {}
      },
      "source": [
        "def string_to_float(s):\n",
        "    idx = s.find(\"Ohms\")\n",
        "    if idx > 0:\n",
        "        number = s.split(\" \")[0]\n",
        "        prefix = s[idx-1]\n",
        "        return float(number) * {\" \": 1, \"m\": 0.001}[prefix]\n",
        "\n",
        "    return float(s)"
      ],
      "execution_count": 0,
      "outputs": []
    },
    {
      "cell_type": "code",
      "metadata": {
        "id": "-n_C8yUQRjP4",
        "colab_type": "code",
        "outputId": "0c66e27a-dec8-48db-ecf6-dcf0596e3e70",
        "colab": {
          "base_uri": "https://localhost:8080/",
          "height": 33
        }
      },
      "source": [
        "test_vector"
      ],
      "execution_count": 0,
      "outputs": [
        {
          "output_type": "execute_result",
          "data": {
            "text/plain": [
              "['5.17', '6.40 Ohms', '16.05 Ohms', '100 mOhms']"
            ]
          },
          "metadata": {
            "tags": []
          },
          "execution_count": 78
        }
      ]
    },
    {
      "cell_type": "code",
      "metadata": {
        "id": "iYsa656IRhXr",
        "colab_type": "code",
        "outputId": "b04645ba-91cf-4f05-a28f-2e9e165ec227",
        "colab": {
          "base_uri": "https://localhost:8080/",
          "height": 84
        }
      },
      "source": [
        "for item in test_vector:\n",
        "    result = string_to_float(item)\n",
        "    print(type(result), result)"
      ],
      "execution_count": 0,
      "outputs": [
        {
          "output_type": "stream",
          "text": [
            "<class 'float'> 5.17\n",
            "<class 'float'> 6.4\n",
            "<class 'float'> 16.05\n",
            "<class 'float'> 0.1\n"
          ],
          "name": "stdout"
        }
      ]
    },
    {
      "cell_type": "markdown",
      "metadata": {
        "id": "_-TsKKbA_CWj",
        "colab_type": "text"
      },
      "source": [
        "Great, the function `string_to_float` works!\n",
        "\n",
        "Let's use it for parsing the data:"
      ]
    },
    {
      "cell_type": "code",
      "metadata": {
        "id": "18nUE0KkSfrh",
        "colab_type": "code",
        "outputId": "1cdc0344-aacc-40d5-f0ff-dc463073ccbc",
        "colab": {
          "base_uri": "https://localhost:8080/",
          "height": 518
        }
      },
      "source": [
        "data_lines"
      ],
      "execution_count": 0,
      "outputs": [
        {
          "output_type": "execute_result",
          "data": {
            "text/plain": [
              "['5.17,6.40 Ohms,16.05 Ohms,10.61 Ohms',\n",
              " '9.47,34.21 Ohms,5.95 Ohms,293 mOhms',\n",
              " '7.65,21.11 Ohms,366 mOhms,4.80 Ohms',\n",
              " '2.82,36.06 Ohms,16.03 Ohms,6.39 Ohms',\n",
              " '2.21,30.50 Ohms,11.65 Ohms,4.36 Ohms',\n",
              " '6.86,6.92 Ohms,3.73 Ohms,7.39 Ohms',\n",
              " '1.67,21.43 Ohms,7.45 Ohms,2.67 Ohms',\n",
              " '3.92,28.49 Ohms,19.98 Ohms,9.47 Ohms',\n",
              " '6.18,324 mOhms,8.59 Ohms,9.24 Ohms',\n",
              " '4.12,25.24 Ohms,19.96 Ohms,9.84 Ohms',\n",
              " '0.02,6 mOhms,2 mOhms,1 mOhms',\n",
              " '8.84,36.11 Ohms,2.10 Ohms,1.35 Ohms',\n",
              " '8.85,36.14 Ohms,2.14 Ohms,1.33 Ohms',\n",
              " '3.00,36.36 Ohms,17.09 Ohms,6.98 Ohms',\n",
              " '5.90,108 mOhms,10.82 Ohms,9.82 Ohms',\n",
              " '9.78,30.57 Ohms,8.31 Ohms,49 mOhms',\n",
              " '8.45,33.44 Ohms,621 mOhms,2.33 Ohms',\n",
              " '0.65,4.06 Ohms,1.28 Ohms,438 mOhms',\n",
              " '2.95,36.34 Ohms,16.77 Ohms,6.79 Ohms',\n",
              " '2.88,36.22 Ohms,16.37 Ohms,6.57 Ohms',\n",
              " '8.22,30.69 Ohms,155 mOhms,2.98 Ohms',\n",
              " '6.26,679 mOhms,7.96 Ohms,9.05 Ohms',\n",
              " '1.10,10.87 Ohms,3.53 Ohms,1.23 Ohms',\n",
              " '0.01,0 mOhms,0 mOhms,0 mOhms',\n",
              " '9.42,34.62 Ohms,5.61 Ohms,347 mOhms',\n",
              " '1.42,16.57 Ohms,5.57 Ohms,1.97 Ohms',\n",
              " '4.22,23.51 Ohms,19.86 Ohms,10.01 Ohms',\n",
              " '3.46,34.25 Ohms,19.13 Ohms,8.35 Ohms',\n",
              " '8.70,35.46 Ohms,1.46 Ohms,1.68 Ohms',\n",
              " '4.29,22.22 Ohms,19.75 Ohms,10.11 Ohms']"
            ]
          },
          "metadata": {
            "tags": []
          },
          "execution_count": 80
        }
      ]
    },
    {
      "cell_type": "markdown",
      "metadata": {
        "id": "x4640E3-_T3e",
        "colab_type": "text"
      },
      "source": [
        "The data is 2-dimensional: \n",
        "- 4 values per sample / row\n",
        "- N rows\n",
        "\n",
        "One potential solution for this application is a list of lists:"
      ]
    },
    {
      "cell_type": "code",
      "metadata": {
        "id": "xpmK8yNS_S0W",
        "colab_type": "code",
        "outputId": "b0f099d9-77cb-4d0f-8f3d-f42b759e68fd",
        "colab": {
          "base_uri": "https://localhost:8080/",
          "height": 518
        }
      },
      "source": [
        "data = list()\n",
        "\n",
        "for data_line in data_lines:\n",
        "    row = list()\n",
        "    for item in data_line.split(\",\"):\n",
        "        row.append(string_to_float(item))\n",
        "    data.append(row)\n",
        "\n",
        "data"
      ],
      "execution_count": 0,
      "outputs": [
        {
          "output_type": "execute_result",
          "data": {
            "text/plain": [
              "[[5.17, 6.4, 16.05, 10.61],\n",
              " [9.47, 34.21, 5.95, 0.293],\n",
              " [7.65, 21.11, 0.366, 4.8],\n",
              " [2.82, 36.06, 16.03, 6.39],\n",
              " [2.21, 30.5, 11.65, 4.36],\n",
              " [6.86, 6.92, 3.73, 7.39],\n",
              " [1.67, 21.43, 7.45, 2.67],\n",
              " [3.92, 28.49, 19.98, 9.47],\n",
              " [6.18, 0.324, 8.59, 9.24],\n",
              " [4.12, 25.24, 19.96, 9.84],\n",
              " [0.02, 0.006, 0.002, 0.001],\n",
              " [8.84, 36.11, 2.1, 1.35],\n",
              " [8.85, 36.14, 2.14, 1.33],\n",
              " [3.0, 36.36, 17.09, 6.98],\n",
              " [5.9, 0.108, 10.82, 9.82],\n",
              " [9.78, 30.57, 8.31, 0.049],\n",
              " [8.45, 33.44, 0.621, 2.33],\n",
              " [0.65, 4.06, 1.28, 0.438],\n",
              " [2.95, 36.34, 16.77, 6.79],\n",
              " [2.88, 36.22, 16.37, 6.57],\n",
              " [8.22, 30.69, 0.155, 2.98],\n",
              " [6.26, 0.679, 7.96, 9.05],\n",
              " [1.1, 10.87, 3.53, 1.23],\n",
              " [0.01, 0.0, 0.0, 0.0],\n",
              " [9.42, 34.62, 5.61, 0.34700000000000003],\n",
              " [1.42, 16.57, 5.57, 1.97],\n",
              " [4.22, 23.51, 19.86, 10.01],\n",
              " [3.46, 34.25, 19.13, 8.35],\n",
              " [8.7, 35.46, 1.46, 1.68],\n",
              " [4.29, 22.22, 19.75, 10.11]]"
            ]
          },
          "metadata": {
            "tags": []
          },
          "execution_count": 81
        }
      ]
    },
    {
      "cell_type": "markdown",
      "metadata": {
        "id": "qzvU3bGKEdTc",
        "colab_type": "text"
      },
      "source": [
        "**Status** on the logfile challenge. We got:\n",
        "- `data` in a list of lists (N x 4)\n",
        "- `names` list with column names\n",
        "- `params` parameter dictionary"
      ]
    },
    {
      "cell_type": "code",
      "metadata": {
        "id": "dStQT4z2D2tp",
        "colab_type": "code",
        "outputId": "c7d7cead-c433-4ad7-83c8-a092f2eeb098",
        "colab": {
          "base_uri": "https://localhost:8080/",
          "height": 33
        }
      },
      "source": [
        "names"
      ],
      "execution_count": 0,
      "outputs": [
        {
          "output_type": "execute_result",
          "data": {
            "text/plain": [
              "['x', 'sig0', 'sig1', 'sig2']"
            ]
          },
          "metadata": {
            "tags": []
          },
          "execution_count": 82
        }
      ]
    },
    {
      "cell_type": "code",
      "metadata": {
        "id": "8fOV5m7CD3z-",
        "colab_type": "code",
        "outputId": "21e803a2-d7a8-4a05-a926-710f75c31f0e",
        "colab": {
          "base_uri": "https://localhost:8080/",
          "height": 84
        }
      },
      "source": [
        "params"
      ],
      "execution_count": 0,
      "outputs": [
        {
          "output_type": "execute_result",
          "data": {
            "text/plain": [
              "{'calibration factor sig0': '0.55',\n",
              " 'calibration factor sig2': '1.88',\n",
              " 'measurement date': '2020-05-06',\n",
              " 'measurement time': '08:00:00'}"
            ]
          },
          "metadata": {
            "tags": []
          },
          "execution_count": 83
        }
      ]
    },
    {
      "cell_type": "markdown",
      "metadata": {
        "id": "x5beVw0O2Ka7",
        "colab_type": "text"
      },
      "source": [
        "# Complete `parse_logfile_string` function"
      ]
    },
    {
      "cell_type": "markdown",
      "metadata": {
        "id": "V1LtpkIKGAmK",
        "colab_type": "text"
      },
      "source": [
        "Let's summarize the functionality we got so far, into a function `parse_logfile_string` that:\n",
        "- takes the logfile string `s` as input and\n",
        "- returns `params`, `names` and `data`"
      ]
    },
    {
      "cell_type": "code",
      "metadata": {
        "id": "l0_yrdsCD5v4",
        "colab_type": "code",
        "colab": {}
      },
      "source": [
        "def parse_logfile_string(s):\n",
        "    # split the input string on \"\\n\" new line\n",
        "    lines = s.split(\"\\n\")\n",
        "\n",
        "    # create a look-up table of sections and line numbers\n",
        "    idxs = dict()\n",
        "    for lineNo, line in enumerate(lines):\n",
        "        if line in ['measurements', \"header\"]:\n",
        "            idxs[line] = lineNo \n",
        "    idxs[\"names\"] = idxs[\"measurements\"] + 1\n",
        "    idxs[\"params_begin\"] = idxs[\"header\"] + 1\n",
        "    idxs[\"params_end\"] = idxs[\"measurements\"] - 1\n",
        "    idxs[\"data\"] = idxs[\"names\"] + 1\n",
        "\n",
        "    # parse the column \n",
        "    names = lines[idxs[\"names\"]].split(\",\")\n",
        "\n",
        "    # parse the params_lines list(str) into params dict{param: value}\n",
        "    params = dict()\n",
        "    for line in lines[idxs[\"params_begin\"] : idxs[\"params_end\"]]:\n",
        "        key, value = line.split(\",\")\n",
        "        params[key] = value\n",
        "\n",
        "    # converts str to float incl. \"Ohms\" removal\n",
        "    def string_to_float(s):\n",
        "        idx = s.find(\"Ohms\")\n",
        "        if idx > 0:\n",
        "            number = s.split(\" \")[0]\n",
        "            prefix = s[idx-1]\n",
        "            return float(number) * {\" \": 1, \"m\": 0.001}[prefix]\n",
        "        return float(s)\n",
        "\n",
        "    # parse data_lines list(str) into data list(list(floats))\n",
        "    data = list()\n",
        "    for data_line in lines[idxs[\"data\"] :]:\n",
        "        row = list()\n",
        "        for item in data_line.split(\",\"):\n",
        "            row.append(string_to_float(item))\n",
        "        data.append(row)\n",
        "\n",
        "    return {\"params\": params, \"names\": names, \"data\":data}"
      ],
      "execution_count": 0,
      "outputs": []
    },
    {
      "cell_type": "code",
      "metadata": {
        "id": "ZEVZCuaTKvfn",
        "colab_type": "code",
        "outputId": "8edd2fe8-9b64-4211-9348-244e1fa88577",
        "colab": {
          "base_uri": "https://localhost:8080/",
          "height": 602
        }
      },
      "source": [
        "log = parse_logfile_string(s)\n",
        "log"
      ],
      "execution_count": 0,
      "outputs": [
        {
          "output_type": "execute_result",
          "data": {
            "text/plain": [
              "{'data': [[5.17, 6.4, 16.05, 10.61],\n",
              "  [9.47, 34.21, 5.95, 0.293],\n",
              "  [7.65, 21.11, 0.366, 4.8],\n",
              "  [2.82, 36.06, 16.03, 6.39],\n",
              "  [2.21, 30.5, 11.65, 4.36],\n",
              "  [6.86, 6.92, 3.73, 7.39],\n",
              "  [1.67, 21.43, 7.45, 2.67],\n",
              "  [3.92, 28.49, 19.98, 9.47],\n",
              "  [6.18, 0.324, 8.59, 9.24],\n",
              "  [4.12, 25.24, 19.96, 9.84],\n",
              "  [0.02, 0.006, 0.002, 0.001],\n",
              "  [8.84, 36.11, 2.1, 1.35],\n",
              "  [8.85, 36.14, 2.14, 1.33],\n",
              "  [3.0, 36.36, 17.09, 6.98],\n",
              "  [5.9, 0.108, 10.82, 9.82],\n",
              "  [9.78, 30.57, 8.31, 0.049],\n",
              "  [8.45, 33.44, 0.621, 2.33],\n",
              "  [0.65, 4.06, 1.28, 0.438],\n",
              "  [2.95, 36.34, 16.77, 6.79],\n",
              "  [2.88, 36.22, 16.37, 6.57],\n",
              "  [8.22, 30.69, 0.155, 2.98],\n",
              "  [6.26, 0.679, 7.96, 9.05],\n",
              "  [1.1, 10.87, 3.53, 1.23],\n",
              "  [0.01, 0.0, 0.0, 0.0],\n",
              "  [9.42, 34.62, 5.61, 0.34700000000000003],\n",
              "  [1.42, 16.57, 5.57, 1.97],\n",
              "  [4.22, 23.51, 19.86, 10.01],\n",
              "  [3.46, 34.25, 19.13, 8.35],\n",
              "  [8.7, 35.46, 1.46, 1.68],\n",
              "  [4.29, 22.22, 19.75, 10.11]],\n",
              " 'names': ['x', 'sig0', 'sig1', 'sig2'],\n",
              " 'params': {'calibration factor sig0': '0.55',\n",
              "  'calibration factor sig2': '1.88',\n",
              "  'measurement date': '2020-05-06',\n",
              "  'measurement time': '08:00:00'}}"
            ]
          },
          "metadata": {
            "tags": []
          },
          "execution_count": 85
        }
      ]
    },
    {
      "cell_type": "code",
      "metadata": {
        "id": "Y_g23RwrmVBY",
        "colab_type": "code",
        "outputId": "7c00e74b-cc03-4c9d-9370-7dfc9607f4e7",
        "colab": {
          "base_uri": "https://localhost:8080/",
          "height": 33
        }
      },
      "source": [
        "log.keys()"
      ],
      "execution_count": 0,
      "outputs": [
        {
          "output_type": "execute_result",
          "data": {
            "text/plain": [
              "dict_keys(['params', 'names', 'data'])"
            ]
          },
          "metadata": {
            "tags": []
          },
          "execution_count": 86
        }
      ]
    },
    {
      "cell_type": "markdown",
      "metadata": {
        "id": "34gQJ7YFmP5P",
        "colab_type": "text"
      },
      "source": [
        "done!\n",
        "\n",
        "We successfully created a **function** `parse_logfile_string(s)` that parses the input text string `s` and returns a `dict` with \n",
        "- the header parameters `params`, \n",
        "- the actual data `data`,\n",
        "- the data column names `names` "
      ]
    },
    {
      "cell_type": "markdown",
      "metadata": {
        "id": "YZEpKAzdnW6k",
        "colab_type": "text"
      },
      "source": [
        "# Limitations of Python basic containers"
      ]
    },
    {
      "cell_type": "markdown",
      "metadata": {
        "id": "8eYv_6x9oCzj",
        "colab_type": "text"
      },
      "source": [
        "The Python general purpose container `list` worked great for reading and appending items from file. However, for further mathematical processing it's non-ideal, as we will see,..."
      ]
    },
    {
      "cell_type": "markdown",
      "metadata": {
        "id": "r5LywYlan6ET",
        "colab_type": "text"
      },
      "source": [
        "## Apply calibration factors"
      ]
    },
    {
      "cell_type": "markdown",
      "metadata": {
        "id": "c4z_qmXHoDTA",
        "colab_type": "text"
      },
      "source": [
        "The task:\n",
        "- search the `params` for `calibration factor sig?` keys\n",
        "- multiply all column values of `sig?` with the respective `calibration factor`\n"
      ]
    },
    {
      "cell_type": "code",
      "metadata": {
        "id": "hWro944AKxyB",
        "colab_type": "code",
        "colab": {}
      },
      "source": [
        "log = parse_logfile_string(s)\n",
        "params = log[\"params\"]\n",
        "data = log[\"data\"]\n",
        "names = log[\"names\"]"
      ],
      "execution_count": 0,
      "outputs": []
    },
    {
      "cell_type": "code",
      "metadata": {
        "id": "cmSqBSSDkxqn",
        "colab_type": "code",
        "outputId": "09ed7673-3c9e-4e5e-81bf-78413fca1c94",
        "colab": {
          "base_uri": "https://localhost:8080/",
          "height": 50
        }
      },
      "source": [
        "for param, cal_factor in params.items():\n",
        "    if \"calibration factor\" in param:\n",
        "        sig = param.split(\" \")[-1]\n",
        "        print(\"Signal={}, cal_factor={}\".format(sig, cal_factor))"
      ],
      "execution_count": 0,
      "outputs": [
        {
          "output_type": "stream",
          "text": [
            "Signal=sig0, cal_factor=0.55\n",
            "Signal=sig2, cal_factor=1.88\n"
          ],
          "name": "stdout"
        }
      ]
    },
    {
      "cell_type": "markdown",
      "metadata": {
        "id": "BUpemlqqrSNU",
        "colab_type": "text"
      },
      "source": [
        "Next step is to index the data: Get all rows of a specific column..."
      ]
    },
    {
      "cell_type": "code",
      "metadata": {
        "id": "_UNkeB4ptUvZ",
        "colab_type": "code",
        "outputId": "e9e0a7c7-e758-4f58-944e-65e10b963775",
        "colab": {
          "base_uri": "https://localhost:8080/",
          "height": 33
        }
      },
      "source": [
        "names"
      ],
      "execution_count": 0,
      "outputs": [
        {
          "output_type": "execute_result",
          "data": {
            "text/plain": [
              "['x', 'sig0', 'sig1', 'sig2']"
            ]
          },
          "metadata": {
            "tags": []
          },
          "execution_count": 89
        }
      ]
    },
    {
      "cell_type": "code",
      "metadata": {
        "id": "jmLb18LrtAN9",
        "colab_type": "code",
        "outputId": "e204c9db-d555-40a8-f056-90af927025e8",
        "colab": {
          "base_uri": "https://localhost:8080/",
          "height": 33
        }
      },
      "source": [
        "names.index(\"sig0\")"
      ],
      "execution_count": 0,
      "outputs": [
        {
          "output_type": "execute_result",
          "data": {
            "text/plain": [
              "1"
            ]
          },
          "metadata": {
            "tags": []
          },
          "execution_count": 90
        }
      ]
    },
    {
      "cell_type": "code",
      "metadata": {
        "id": "usrGOJSXtW5w",
        "colab_type": "code",
        "outputId": "458ff406-e3a4-45b2-837e-4acc6452791d",
        "colab": {
          "base_uri": "https://localhost:8080/",
          "height": 50
        }
      },
      "source": [
        "for param, cal_factor in params.items():\n",
        "    if \"calibration factor\" in param:\n",
        "        sig = param.split(\" \")[-1]\n",
        "        col_index = names.index(sig)\n",
        "        print(\"Signal={}, col_index={}, cal_factor={}\".format(sig, col_index, cal_factor))"
      ],
      "execution_count": 0,
      "outputs": [
        {
          "output_type": "stream",
          "text": [
            "Signal=sig0, col_index=1, cal_factor=0.55\n",
            "Signal=sig2, col_index=3, cal_factor=1.88\n"
          ],
          "name": "stdout"
        }
      ]
    },
    {
      "cell_type": "markdown",
      "metadata": {
        "id": "BNCEgULauC02",
        "colab_type": "text"
      },
      "source": [
        "Next, we need to index all rows of the col_index..."
      ]
    },
    {
      "cell_type": "code",
      "metadata": {
        "id": "z47ge9F6re5x",
        "colab_type": "code",
        "outputId": "dd40d381-3671-49b8-a240-943ed0aec262",
        "colab": {
          "base_uri": "https://localhost:8080/",
          "height": 33
        }
      },
      "source": [
        "data[0]"
      ],
      "execution_count": 0,
      "outputs": [
        {
          "output_type": "execute_result",
          "data": {
            "text/plain": [
              "[5.17, 6.4, 16.05, 10.61]"
            ]
          },
          "metadata": {
            "tags": []
          },
          "execution_count": 92
        }
      ]
    },
    {
      "cell_type": "code",
      "metadata": {
        "id": "pjkyUOnurCol",
        "colab_type": "code",
        "outputId": "c1531423-2fe7-4d0b-e54b-d1f095b64c63",
        "colab": {
          "base_uri": "https://localhost:8080/",
          "height": 33
        }
      },
      "source": [
        "data[0][col_index]"
      ],
      "execution_count": 0,
      "outputs": [
        {
          "output_type": "execute_result",
          "data": {
            "text/plain": [
              "10.61"
            ]
          },
          "metadata": {
            "tags": []
          },
          "execution_count": 93
        }
      ]
    },
    {
      "cell_type": "markdown",
      "metadata": {
        "id": "uHMtSMkluXmP",
        "colab_type": "text"
      },
      "source": [
        "The `list[rows][cols]` can't be sliced in `cols` first!\n",
        "\n",
        "As a solution, we can iterate over the rows and access the `col_index` within each row:"
      ]
    },
    {
      "cell_type": "code",
      "metadata": {
        "id": "WRP5twlFstKd",
        "colab_type": "code",
        "outputId": "9941b448-5687-421f-ba47-770430c86f4d",
        "colab": {
          "base_uri": "https://localhost:8080/",
          "height": 518
        }
      },
      "source": [
        "for data_row in data:\n",
        "    val = data_row[col_index]\n",
        "    print(val)"
      ],
      "execution_count": 0,
      "outputs": [
        {
          "output_type": "stream",
          "text": [
            "10.61\n",
            "0.293\n",
            "4.8\n",
            "6.39\n",
            "4.36\n",
            "7.39\n",
            "2.67\n",
            "9.47\n",
            "9.24\n",
            "9.84\n",
            "0.001\n",
            "1.35\n",
            "1.33\n",
            "6.98\n",
            "9.82\n",
            "0.049\n",
            "2.33\n",
            "0.438\n",
            "6.79\n",
            "6.57\n",
            "2.98\n",
            "9.05\n",
            "1.23\n",
            "0.0\n",
            "0.34700000000000003\n",
            "1.97\n",
            "10.01\n",
            "8.35\n",
            "1.68\n",
            "10.11\n"
          ],
          "name": "stdout"
        }
      ]
    },
    {
      "cell_type": "markdown",
      "metadata": {
        "id": "LKw6lVpivG7q",
        "colab_type": "text"
      },
      "source": [
        "Put it all together:\n"
      ]
    },
    {
      "cell_type": "code",
      "metadata": {
        "id": "9NirTuDLwxLu",
        "colab_type": "code",
        "outputId": "25360e44-3499-4816-8fe0-4a3f76c20ebb",
        "colab": {
          "base_uri": "https://localhost:8080/",
          "height": 67
        }
      },
      "source": [
        "data[:3]"
      ],
      "execution_count": 0,
      "outputs": [
        {
          "output_type": "execute_result",
          "data": {
            "text/plain": [
              "[[5.17, 6.4, 16.05, 10.61],\n",
              " [9.47, 34.21, 5.95, 0.293],\n",
              " [7.65, 21.11, 0.366, 4.8]]"
            ]
          },
          "metadata": {
            "tags": []
          },
          "execution_count": 95
        }
      ]
    },
    {
      "cell_type": "code",
      "metadata": {
        "id": "MsqnaTbDu-0d",
        "colab_type": "code",
        "colab": {}
      },
      "source": [
        "for param, cal_factor in params.items():\n",
        "    if \"calibration factor\" in param:\n",
        "        sig = param.split(\" \")[-1]\n",
        "        col_index = names.index(sig)\n",
        "\n",
        "        for data_row in data:\n",
        "            data_row[col_index] *= float(cal_factor)"
      ],
      "execution_count": 0,
      "outputs": []
    },
    {
      "cell_type": "code",
      "metadata": {
        "id": "ZHfSv1rGwMlP",
        "colab_type": "code",
        "outputId": "885c5cff-bfe0-4931-c8cb-7248ee9982af",
        "colab": {
          "base_uri": "https://localhost:8080/",
          "height": 67
        }
      },
      "source": [
        "data[:3]"
      ],
      "execution_count": 0,
      "outputs": [
        {
          "output_type": "execute_result",
          "data": {
            "text/plain": [
              "[[5.17, 3.5200000000000005, 16.05, 19.946799999999996],\n",
              " [9.47, 18.815500000000004, 5.95, 0.5508399999999999],\n",
              " [7.65, 11.6105, 0.366, 9.024]]"
            ]
          },
          "metadata": {
            "tags": []
          },
          "execution_count": 97
        }
      ]
    },
    {
      "cell_type": "markdown",
      "metadata": {
        "id": "_5R_HkgJxNvB",
        "colab_type": "text"
      },
      "source": [
        "This worked, **BUT**\n",
        "\n",
        "it would be much more convenient and readable to have something like \n",
        "\n",
        "`data[:, col_index] *= cal_factor`\n",
        "\n",
        "What we want is **arbitrary indexing** and **element-wise operations**!\n",
        "\n",
        "\n",
        "\n"
      ]
    },
    {
      "cell_type": "markdown",
      "metadata": {
        "id": "1Cfi5HWmz6lA",
        "colab_type": "text"
      },
      "source": [
        "Maybe we even want **labeled indexing** like\n",
        "\n",
        "`data[:, sig] *= cal_factor`"
      ]
    },
    {
      "cell_type": "markdown",
      "metadata": {
        "id": "hCnKHAO20SDM",
        "colab_type": "text"
      },
      "source": [
        "## Array slicing for visualization"
      ]
    },
    {
      "cell_type": "markdown",
      "metadata": {
        "id": "VdOlQ2F_z-pT",
        "colab_type": "text"
      },
      "source": [
        "Another common usage is **arbitrary array slicing** for data visualization (e.g. using `matplotlib`)\n"
      ]
    },
    {
      "cell_type": "code",
      "metadata": {
        "id": "zbq3kjcSymLH",
        "colab_type": "code",
        "outputId": "7f0e4172-5236-4a5a-e267-99a94381d0b8",
        "colab": {
          "base_uri": "https://localhost:8080/",
          "height": 33
        }
      },
      "source": [
        "names"
      ],
      "execution_count": 0,
      "outputs": [
        {
          "output_type": "execute_result",
          "data": {
            "text/plain": [
              "['x', 'sig0', 'sig1', 'sig2']"
            ]
          },
          "metadata": {
            "tags": []
          },
          "execution_count": 98
        }
      ]
    },
    {
      "cell_type": "code",
      "metadata": {
        "id": "UQ8DJZvWxmlI",
        "colab_type": "code",
        "colab": {}
      },
      "source": [
        "x, y = list(), list()\n",
        "for data_row in data:\n",
        "    x.append(data_row[names.index(\"x\")])\n",
        "    y.append(data_row[names.index(\"sig0\")])"
      ],
      "execution_count": 0,
      "outputs": []
    },
    {
      "cell_type": "code",
      "metadata": {
        "id": "MXOSEVRJw1hT",
        "colab_type": "code",
        "outputId": "94dbf310-04ab-4dd0-a3cd-1d3f748b5f24",
        "colab": {
          "base_uri": "https://localhost:8080/",
          "height": 265
        }
      },
      "source": [
        "import matplotlib.pyplot as plt\n",
        "plt.plot(x, y, \"o\");"
      ],
      "execution_count": 0,
      "outputs": [
        {
          "output_type": "display_data",
          "data": {
            "image/png": "[encoded data removed]",
            "text/plain": [
              "<Figure size 432x288 with 1 Axes>"
            ]
          },
          "metadata": {
            "tags": [],
            "needs_background": "light"
          }
        }
      ]
    }
  ]
}