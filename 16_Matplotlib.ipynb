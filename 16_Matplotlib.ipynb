{
  "nbformat": 4,
  "nbformat_minor": 0,
  "metadata": {
    "colab": {
      "name": "16_Matplotlib.ipynb",
      "provenance": [],
      "collapsed_sections": [],
      "toc_visible": true,
      "authorship_tag": "ABX9TyNg8YT8QAtkW7xct+lyMeg1",
      "include_colab_link": true
    },
    "kernelspec": {
      "name": "python3",
      "display_name": "Python 3"
    },
    "widgets": {
      "application/vnd.jupyter.widget-state+json": {
        "c0623a8706a84bafa2fc05729487a692": {
          "model_module": "@jupyter-widgets/controls",
          "model_name": "VBoxModel",
          "state": {
            "_view_name": "VBoxView",
            "_dom_classes": [
              "widget-interact"
            ],
            "_model_name": "VBoxModel",
            "_view_module": "@jupyter-widgets/controls",
            "_model_module_version": "1.5.0",
            "_view_count": null,
            "_view_module_version": "1.5.0",
            "box_style": "",
            "layout": "IPY_MODEL_018fad68608e4668ae42e3016822a05d",
            "_model_module": "@jupyter-widgets/controls",
            "children": [
              "IPY_MODEL_a36ae70d5c7f49cea2ca9260536e563f",
              "IPY_MODEL_796bf77f456d44edbb4155b00b3eacb8",
              "IPY_MODEL_3c953a333c8743f0b16bad9be81063e7",
              "IPY_MODEL_dd0c272808c543bfaf8ca9a2c49980f3"
            ]
          }
        },
        "018fad68608e4668ae42e3016822a05d": {
          "model_module": "@jupyter-widgets/base",
          "model_name": "LayoutModel",
          "state": {
            "_view_name": "LayoutView",
            "grid_template_rows": null,
            "right": null,
            "justify_content": null,
            "_view_module": "@jupyter-widgets/base",
            "overflow": null,
            "_model_module_version": "1.2.0",
            "_view_count": null,
            "flex_flow": null,
            "width": null,
            "min_width": null,
            "border": null,
            "align_items": null,
            "bottom": null,
            "_model_module": "@jupyter-widgets/base",
            "top": null,
            "grid_column": null,
            "overflow_y": null,
            "overflow_x": null,
            "grid_auto_flow": null,
            "grid_area": null,
            "grid_template_columns": null,
            "flex": null,
            "_model_name": "LayoutModel",
            "justify_items": null,
            "grid_row": null,
            "max_height": null,
            "align_content": null,
            "visibility": null,
            "align_self": null,
            "height": null,
            "min_height": null,
            "padding": null,
            "grid_auto_rows": null,
            "grid_gap": null,
            "max_width": null,
            "order": null,
            "_view_module_version": "1.2.0",
            "grid_template_areas": null,
            "object_position": null,
            "object_fit": null,
            "grid_auto_columns": null,
            "margin": null,
            "display": null,
            "left": null
          }
        },
        "a36ae70d5c7f49cea2ca9260536e563f": {
          "model_module": "@jupyter-widgets/controls",
          "model_name": "CheckboxModel",
          "state": {
            "_view_name": "CheckboxView",
            "style": "IPY_MODEL_527ea1d2a6cf4d5990f035608940700b",
            "_dom_classes": [],
            "description": "show_reference",
            "_model_name": "CheckboxModel",
            "_view_module": "@jupyter-widgets/controls",
            "_model_module_version": "1.5.0",
            "value": false,
            "_view_count": null,
            "disabled": false,
            "_view_module_version": "1.5.0",
            "indent": true,
            "description_tooltip": null,
            "_model_module": "@jupyter-widgets/controls",
            "layout": "IPY_MODEL_c33556925023445ab1580b00fa6250cc"
          }
        },
        "796bf77f456d44edbb4155b00b3eacb8": {
          "model_module": "@jupyter-widgets/controls",
          "model_name": "IntSliderModel",
          "state": {
            "_view_name": "IntSliderView",
            "style": "IPY_MODEL_f84129906f4f4733b99089477b0f51b9",
            "_dom_classes": [],
            "description": "exp",
            "step": 1,
            "_model_name": "IntSliderModel",
            "orientation": "horizontal",
            "max": 5,
            "_view_module": "@jupyter-widgets/controls",
            "_model_module_version": "1.5.0",
            "value": 2,
            "_view_count": null,
            "disabled": false,
            "_view_module_version": "1.5.0",
            "min": 1,
            "continuous_update": true,
            "readout_format": "d",
            "description_tooltip": null,
            "readout": true,
            "_model_module": "@jupyter-widgets/controls",
            "layout": "IPY_MODEL_e80b678f0a6a41059ba77ba125918a50"
          }
        },
        "3c953a333c8743f0b16bad9be81063e7": {
          "model_module": "@jupyter-widgets/controls",
          "model_name": "DropdownModel",
          "state": {
            "_options_labels": [
              "-",
              ".",
              "o-"
            ],
            "_view_name": "DropdownView",
            "style": "IPY_MODEL_62010db525594d1ea21a47fdde700291",
            "_dom_classes": [],
            "description": "style",
            "_model_name": "DropdownModel",
            "index": 0,
            "_view_module": "@jupyter-widgets/controls",
            "_model_module_version": "1.5.0",
            "_view_count": null,
            "disabled": false,
            "_view_module_version": "1.5.0",
            "description_tooltip": null,
            "_model_module": "@jupyter-widgets/controls",
            "layout": "IPY_MODEL_79a609fcc3a04b529b636837bcb8ca3a"
          }
        },
        "dd0c272808c543bfaf8ca9a2c49980f3": {
          "model_module": "@jupyter-widgets/output",
          "model_name": "OutputModel",
          "state": {
            "_view_name": "OutputView",
            "msg_id": "",
            "_dom_classes": [],
            "_model_name": "OutputModel",
            "outputs": [
              {
                "output_type": "display_data",
                "metadata": {
                  "tags": [],
                  "needs_background": "light"
                },
                "image/png": "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\n",
                "text/plain": "<Figure size 432x288 with 1 Axes>"
              }
            ],
            "_view_module": "@jupyter-widgets/output",
            "_model_module_version": "1.0.0",
            "_view_count": null,
            "_view_module_version": "1.0.0",
            "layout": "IPY_MODEL_7e9d27f67b8648ac8904520329684562",
            "_model_module": "@jupyter-widgets/output"
          }
        },
        "527ea1d2a6cf4d5990f035608940700b": {
          "model_module": "@jupyter-widgets/controls",
          "model_name": "DescriptionStyleModel",
          "state": {
            "_view_name": "StyleView",
            "_model_name": "DescriptionStyleModel",
            "description_width": "",
            "_view_module": "@jupyter-widgets/base",
            "_model_module_version": "1.5.0",
            "_view_count": null,
            "_view_module_version": "1.2.0",
            "_model_module": "@jupyter-widgets/controls"
          }
        },
        "c33556925023445ab1580b00fa6250cc": {
          "model_module": "@jupyter-widgets/base",
          "model_name": "LayoutModel",
          "state": {
            "_view_name": "LayoutView",
            "grid_template_rows": null,
            "right": null,
            "justify_content": null,
            "_view_module": "@jupyter-widgets/base",
            "overflow": null,
            "_model_module_version": "1.2.0",
            "_view_count": null,
            "flex_flow": null,
            "width": null,
            "min_width": null,
            "border": null,
            "align_items": null,
            "bottom": null,
            "_model_module": "@jupyter-widgets/base",
            "top": null,
            "grid_column": null,
            "overflow_y": null,
            "overflow_x": null,
            "grid_auto_flow": null,
            "grid_area": null,
            "grid_template_columns": null,
            "flex": null,
            "_model_name": "LayoutModel",
            "justify_items": null,
            "grid_row": null,
            "max_height": null,
            "align_content": null,
            "visibility": null,
            "align_self": null,
            "height": null,
            "min_height": null,
            "padding": null,
            "grid_auto_rows": null,
            "grid_gap": null,
            "max_width": null,
            "order": null,
            "_view_module_version": "1.2.0",
            "grid_template_areas": null,
            "object_position": null,
            "object_fit": null,
            "grid_auto_columns": null,
            "margin": null,
            "display": null,
            "left": null
          }
        },
        "f84129906f4f4733b99089477b0f51b9": {
          "model_module": "@jupyter-widgets/controls",
          "model_name": "SliderStyleModel",
          "state": {
            "_view_name": "StyleView",
            "handle_color": null,
            "_model_name": "SliderStyleModel",
            "description_width": "",
            "_view_module": "@jupyter-widgets/base",
            "_model_module_version": "1.5.0",
            "_view_count": null,
            "_view_module_version": "1.2.0",
            "_model_module": "@jupyter-widgets/controls"
          }
        },
        "e80b678f0a6a41059ba77ba125918a50": {
          "model_module": "@jupyter-widgets/base",
          "model_name": "LayoutModel",
          "state": {
            "_view_name": "LayoutView",
            "grid_template_rows": null,
            "right": null,
            "justify_content": null,
            "_view_module": "@jupyter-widgets/base",
            "overflow": null,
            "_model_module_version": "1.2.0",
            "_view_count": null,
            "flex_flow": null,
            "width": null,
            "min_width": null,
            "border": null,
            "align_items": null,
            "bottom": null,
            "_model_module": "@jupyter-widgets/base",
            "top": null,
            "grid_column": null,
            "overflow_y": null,
            "overflow_x": null,
            "grid_auto_flow": null,
            "grid_area": null,
            "grid_template_columns": null,
            "flex": null,
            "_model_name": "LayoutModel",
            "justify_items": null,
            "grid_row": null,
            "max_height": null,
            "align_content": null,
            "visibility": null,
            "align_self": null,
            "height": null,
            "min_height": null,
            "padding": null,
            "grid_auto_rows": null,
            "grid_gap": null,
            "max_width": null,
            "order": null,
            "_view_module_version": "1.2.0",
            "grid_template_areas": null,
            "object_position": null,
            "object_fit": null,
            "grid_auto_columns": null,
            "margin": null,
            "display": null,
            "left": null
          }
        },
        "62010db525594d1ea21a47fdde700291": {
          "model_module": "@jupyter-widgets/controls",
          "model_name": "DescriptionStyleModel",
          "state": {
            "_view_name": "StyleView",
            "_model_name": "DescriptionStyleModel",
            "description_width": "",
            "_view_module": "@jupyter-widgets/base",
            "_model_module_version": "1.5.0",
            "_view_count": null,
            "_view_module_version": "1.2.0",
            "_model_module": "@jupyter-widgets/controls"
          }
        },
        "79a609fcc3a04b529b636837bcb8ca3a": {
          "model_module": "@jupyter-widgets/base",
          "model_name": "LayoutModel",
          "state": {
            "_view_name": "LayoutView",
            "grid_template_rows": null,
            "right": null,
            "justify_content": null,
            "_view_module": "@jupyter-widgets/base",
            "overflow": null,
            "_model_module_version": "1.2.0",
            "_view_count": null,
            "flex_flow": null,
            "width": null,
            "min_width": null,
            "border": null,
            "align_items": null,
            "bottom": null,
            "_model_module": "@jupyter-widgets/base",
            "top": null,
            "grid_column": null,
            "overflow_y": null,
            "overflow_x": null,
            "grid_auto_flow": null,
            "grid_area": null,
            "grid_template_columns": null,
            "flex": null,
            "_model_name": "LayoutModel",
            "justify_items": null,
            "grid_row": null,
            "max_height": null,
            "align_content": null,
            "visibility": null,
            "align_self": null,
            "height": null,
            "min_height": null,
            "padding": null,
            "grid_auto_rows": null,
            "grid_gap": null,
            "max_width": null,
            "order": null,
            "_view_module_version": "1.2.0",
            "grid_template_areas": null,
            "object_position": null,
            "object_fit": null,
            "grid_auto_columns": null,
            "margin": null,
            "display": null,
            "left": null
          }
        },
        "7e9d27f67b8648ac8904520329684562": {
          "model_module": "@jupyter-widgets/base",
          "model_name": "LayoutModel",
          "state": {
            "_view_name": "LayoutView",
            "grid_template_rows": null,
            "right": null,
            "justify_content": null,
            "_view_module": "@jupyter-widgets/base",
            "overflow": null,
            "_model_module_version": "1.2.0",
            "_view_count": null,
            "flex_flow": null,
            "width": null,
            "min_width": null,
            "border": null,
            "align_items": null,
            "bottom": null,
            "_model_module": "@jupyter-widgets/base",
            "top": null,
            "grid_column": null,
            "overflow_y": null,
            "overflow_x": null,
            "grid_auto_flow": null,
            "grid_area": null,
            "grid_template_columns": null,
            "flex": null,
            "_model_name": "LayoutModel",
            "justify_items": null,
            "grid_row": null,
            "max_height": null,
            "align_content": null,
            "visibility": null,
            "align_self": null,
            "height": null,
            "min_height": null,
            "padding": null,
            "grid_auto_rows": null,
            "grid_gap": null,
            "max_width": null,
            "order": null,
            "_view_module_version": "1.2.0",
            "grid_template_areas": null,
            "object_position": null,
            "object_fit": null,
            "grid_auto_columns": null,
            "margin": null,
            "display": null,
            "left": null
          }
        }
      }
    }
  },
  "cells": [
    {
      "cell_type": "markdown",
      "metadata": {
        "id": "view-in-github",
        "colab_type": "text"
      },
      "source": [
        "<a href=\"https://colab.research.google.com/github/munich-ml/MLPy2020/blob/master/16_Matplotlib.ipynb\" target=\"_parent\"><img src=\"https://colab.research.google.com/assets/colab-badge.svg\" alt=\"Open In Colab\"/></a>"
      ]
    },
    {
      "cell_type": "markdown",
      "metadata": {
        "id": "aBXgd3JwCT7x",
        "colab_type": "text"
      },
      "source": [
        "# Imports"
      ]
    },
    {
      "cell_type": "markdown",
      "metadata": {
        "id": "pVl3XZ4uDBAQ",
        "colab_type": "text"
      },
      "source": [
        "- By convention the actual plot libraty `matplotlib.pyplot` is importet as **`plt`**.\n",
        "- For global settings, `matplotlib` altogether may be imported as **`mpl`**."
      ]
    },
    {
      "cell_type": "code",
      "metadata": {
        "id": "mWqB6Fwu_T1z",
        "colab_type": "code",
        "colab": {}
      },
      "source": [
        "import numpy as np\n",
        "import matplotlib.pyplot as plt\n",
        "import matplotlib as mpl"
      ],
      "execution_count": 0,
      "outputs": []
    },
    {
      "cell_type": "code",
      "metadata": {
        "id": "WkBvsMHkhcg9",
        "colab_type": "code",
        "colab": {}
      },
      "source": [
        "mpl.rcParams['axes.labelsize'] = 14\n",
        "mpl.rcParams['xtick.labelsize'] = 12\n",
        "mpl.rcParams['ytick.labelsize'] = 12"
      ],
      "execution_count": 0,
      "outputs": []
    },
    {
      "cell_type": "markdown",
      "metadata": {
        "id": "H78qfdpBqIvq",
        "colab_type": "text"
      },
      "source": [
        "Switch style to **dark** for usage in **dark theme** IDEs"
      ]
    },
    {
      "cell_type": "code",
      "metadata": {
        "id": "qqxay1QDqYJy",
        "colab_type": "code",
        "colab": {}
      },
      "source": [
        "#plt.style.available\n",
        "#plt.style.use('dark_background')"
      ],
      "execution_count": 0,
      "outputs": []
    },
    {
      "cell_type": "markdown",
      "metadata": {
        "id": "Y6LPOSPEEHDg",
        "colab_type": "text"
      },
      "source": [
        "# Inline plots"
      ]
    },
    {
      "cell_type": "markdown",
      "metadata": {
        "id": "ENtXwZ3yE-0g",
        "colab_type": "text"
      },
      "source": [
        "The **magic command `%matplotlib`** controlls the plot output. Normally, it is set to `inline`."
      ]
    },
    {
      "cell_type": "code",
      "metadata": {
        "id": "nNasaAMgFdhY",
        "colab_type": "code",
        "colab": {}
      },
      "source": [
        "%matplotlib inline"
      ],
      "execution_count": 0,
      "outputs": []
    },
    {
      "cell_type": "markdown",
      "metadata": {
        "id": "_3EjNoIVGGmh",
        "colab_type": "text"
      },
      "source": [
        "# Plot to interactive Qt console"
      ]
    },
    {
      "cell_type": "code",
      "metadata": {
        "id": "43OCd9PG70m0",
        "colab_type": "code",
        "colab": {
          "base_uri": "https://localhost:8080/",
          "height": 33
        },
        "outputId": "2a59f559-0a4d-4f8a-d238-fc105d08367d"
      },
      "source": [
        "try:\n",
        "    #import qtconsole\n",
        "    from IPython import qt\n",
        "    %matplotlib qt\n",
        "\n",
        "except Exception as e:\n",
        "    print(e)\n",
        "\n",
        "else:\n",
        "    x = np.arange(-1, 1.5, 0.01)\n",
        "    plt.plot(x, np.power(x, 2))\n",
        "    plt.show()"
      ],
      "execution_count": 34,
      "outputs": [
        {
          "output_type": "stream",
          "text": [
            "Failed to import any qt binding\n"
          ],
          "name": "stdout"
        }
      ]
    },
    {
      "cell_type": "markdown",
      "metadata": {
        "id": "LPDvFbvOLNYh",
        "colab_type": "text"
      },
      "source": [
        "Switch back to inline for the rest of this notebook:"
      ]
    },
    {
      "cell_type": "code",
      "metadata": {
        "id": "aYW68qQHLNs3",
        "colab_type": "code",
        "colab": {}
      },
      "source": [
        "%matplotlib inline"
      ],
      "execution_count": 0,
      "outputs": []
    },
    {
      "cell_type": "markdown",
      "metadata": {
        "id": "E8QxofRjHBEx",
        "colab_type": "text"
      },
      "source": [
        "# Create plots"
      ]
    },
    {
      "cell_type": "markdown",
      "metadata": {
        "id": "PgFBMfgHHUaQ",
        "colab_type": "text"
      },
      "source": [
        "Firstly we'll define a function (`plot_example_funcs`) and then custmize it further."
      ]
    },
    {
      "cell_type": "code",
      "metadata": {
        "id": "1H8GaOrT8hTt",
        "colab_type": "code",
        "colab": {
          "base_uri": "https://localhost:8080/",
          "height": 268
        },
        "outputId": "bbfb935a-67f1-4465-b1a6-18d1d311e916"
      },
      "source": [
        "def plot_example_funcs():\n",
        "    x = np.arange(-1, 1.5, 0.01)\n",
        "    for exp in range(1, 4):\n",
        "        plt.plot(x, np.power(x, exp), \"-\", label=\"$f(x)=x^{}$\".format(exp))\n",
        "    \n",
        "plot_example_funcs()"
      ],
      "execution_count": 36,
      "outputs": [
        {
          "output_type": "display_data",
          "data": {
            "image/png": "[encoded data removed]",
            "text/plain": [
              "<Figure size 432x288 with 1 Axes>"
            ]
          },
          "metadata": {
            "tags": [],
            "needs_background": "light"
          }
        }
      ]
    },
    {
      "cell_type": "markdown",
      "metadata": {
        "id": "GoJr6DHGBiJd",
        "colab_type": "text"
      },
      "source": [
        "## Add grid lines"
      ]
    },
    {
      "cell_type": "code",
      "metadata": {
        "id": "VFPwLf8-AHT6",
        "colab_type": "code",
        "colab": {
          "base_uri": "https://localhost:8080/",
          "height": 268
        },
        "outputId": "b4a34f03-7c1b-43ee-a743-6d079a14af7e"
      },
      "source": [
        "plot_example_funcs()\n",
        "plt.grid();"
      ],
      "execution_count": 37,
      "outputs": [
        {
          "output_type": "display_data",
          "data": {
            "image/png": "[encoded data removed]",
            "text/plain": [
              "<Figure size 432x288 with 1 Axes>"
            ]
          },
          "metadata": {
            "tags": [],
            "needs_background": "light"
          }
        }
      ]
    },
    {
      "cell_type": "markdown",
      "metadata": {
        "colab_type": "text",
        "id": "9VxiJ2JVBtrO"
      },
      "source": [
        "## Add a legend"
      ]
    },
    {
      "cell_type": "code",
      "metadata": {
        "colab_type": "code",
        "id": "bfRuczUEBa3F",
        "colab": {
          "base_uri": "https://localhost:8080/",
          "height": 268
        },
        "outputId": "7623abf2-35d4-46ea-8e21-bb6c9fab6646"
      },
      "source": [
        "plot_example_funcs()\n",
        "plt.legend();"
      ],
      "execution_count": 38,
      "outputs": [
        {
          "output_type": "display_data",
          "data": {
            "image/png": "[encoded data removed]",
            "text/plain": [
              "<Figure size 432x288 with 1 Axes>"
            ]
          },
          "metadata": {
            "tags": [],
            "needs_background": "light"
          }
        }
      ]
    },
    {
      "cell_type": "markdown",
      "metadata": {
        "colab_type": "text",
        "id": "aJ7xzPokH4gK"
      },
      "source": [
        "## Set X and Y limits"
      ]
    },
    {
      "cell_type": "code",
      "metadata": {
        "colab_type": "code",
        "id": "aORftH6LH4gL",
        "colab": {
          "base_uri": "https://localhost:8080/",
          "height": 273
        },
        "outputId": "f5c95bf4-df81-4091-a970-80285c0511c7"
      },
      "source": [
        "plot_example_funcs()\n",
        "plt.xlim([-1, 1.5]), plt.ylim([-1, 2]);"
      ],
      "execution_count": 39,
      "outputs": [
        {
          "output_type": "display_data",
          "data": {
            "image/png": "[encoded data removed]",
            "text/plain": [
              "<Figure size 432x288 with 1 Axes>"
            ]
          },
          "metadata": {
            "tags": [],
            "needs_background": "light"
          }
        }
      ]
    },
    {
      "cell_type": "markdown",
      "metadata": {
        "colab_type": "text",
        "id": "xt97Zj_SIP8W"
      },
      "source": [
        "## Set X and Y labels"
      ]
    },
    {
      "cell_type": "code",
      "metadata": {
        "colab_type": "code",
        "id": "Gfg2n-fhIP8c",
        "colab": {
          "base_uri": "https://localhost:8080/",
          "height": 286
        },
        "outputId": "36ada5eb-7c39-47b4-a359-bf702aaab130"
      },
      "source": [
        "plot_example_funcs()\n",
        "plt.xlabel(\"x\"), plt.ylabel(\"f(x)\");"
      ],
      "execution_count": 40,
      "outputs": [
        {
          "output_type": "display_data",
          "data": {
            "image/png": "[encoded data removed]",
            "text/plain": [
              "<Figure size 432x288 with 1 Axes>"
            ]
          },
          "metadata": {
            "tags": [],
            "needs_background": "light"
          }
        }
      ]
    },
    {
      "cell_type": "markdown",
      "metadata": {
        "colab_type": "text",
        "id": "ijHf1YWGJPHj"
      },
      "source": [
        "## Define a figure size\n"
      ]
    },
    {
      "cell_type": "markdown",
      "metadata": {
        "id": "XnsuMYdTNJoB",
        "colab_type": "text"
      },
      "source": [
        "The figure size has to be set, when creating the figure with `plt.figure()`.\n",
        "\n",
        "Additionally, `plt.tight_layout()` should always be set, in order to use the complete plotting area."
      ]
    },
    {
      "cell_type": "code",
      "metadata": {
        "colab_type": "code",
        "id": "S1a370xnJPHm",
        "colab": {
          "base_uri": "https://localhost:8080/",
          "height": 297
        },
        "outputId": "1aa5d817-c5e2-4e33-ac89-fe22198f5579"
      },
      "source": [
        "plt.figure(figsize=([10, 4]))\n",
        "plot_example_funcs()\n",
        "plt.tight_layout();"
      ],
      "execution_count": 41,
      "outputs": [
        {
          "output_type": "display_data",
          "data": {
            "image/png": "[encoded data removed]",
            "text/plain": [
              "<Figure size 720x288 with 1 Axes>"
            ]
          },
          "metadata": {
            "tags": [],
            "needs_background": "light"
          }
        }
      ]
    },
    {
      "cell_type": "markdown",
      "metadata": {
        "colab_type": "text",
        "id": "Ukgk_hgVH5c-"
      },
      "source": [
        "## The complete plot\n"
      ]
    },
    {
      "cell_type": "code",
      "metadata": {
        "colab_type": "code",
        "id": "bHAVbm3SMyyu",
        "colab": {
          "base_uri": "https://localhost:8080/",
          "height": 297
        },
        "outputId": "8da78493-3955-4154-bf5d-67758be94c0a"
      },
      "source": [
        "plt.figure(figsize=([10, 4]))\n",
        "plot_example_funcs()\n",
        "plt.xlim([-1, 1.5]), plt.ylim([-1, 2])\n",
        "plt.xlabel(\"x\"), plt.ylabel(\"f(x)\")\n",
        "plt.grid(), plt.legend(), plt.tight_layout();"
      ],
      "execution_count": 42,
      "outputs": [
        {
          "output_type": "display_data",
          "data": {
            "image/png": "[encoded data removed]",
            "text/plain": [
              "<Figure size 720x288 with 1 Axes>"
            ]
          },
          "metadata": {
            "tags": [],
            "needs_background": "light"
          }
        }
      ]
    },
    {
      "cell_type": "markdown",
      "metadata": {
        "id": "ILOCrHpVOahf",
        "colab_type": "text"
      },
      "source": [
        "# Interactivity in Jupyter Notebooks"
      ]
    },
    {
      "cell_type": "markdown",
      "metadata": {
        "id": "ZTZoCvzwUITH",
        "colab_type": "text"
      },
      "source": [
        "Additional imports are required:"
      ]
    },
    {
      "cell_type": "code",
      "metadata": {
        "id": "3cqLOGDUOkSB",
        "colab_type": "code",
        "colab": {}
      },
      "source": [
        "from ipywidgets import interact\n",
        "from ipykernel.pylab.backend_inline import flush_figures"
      ],
      "execution_count": 0,
      "outputs": []
    },
    {
      "cell_type": "markdown",
      "metadata": {
        "id": "_pRk9xd1UcH1",
        "colab_type": "text"
      },
      "source": [
        "In order to add interactivity, the actual plotting function must have parameters. "
      ]
    },
    {
      "cell_type": "code",
      "metadata": {
        "id": "rJzXEw3DOxe9",
        "colab_type": "code",
        "colab": {}
      },
      "source": [
        "def plot_interactive_func(show_reference=True, exp=2, style=\"-\"):\n",
        "    x = np.arange(-1, 1.5, 0.1)\n",
        "    plt.plot(x, np.power(x, exp), style, label=\"$f(x)=x^{}$\".format(exp))\n",
        "    if show_reference:\n",
        "        plt.plot(x, x, \"-\", label=\"reference\")\n",
        "    plt.grid(), plt.legend(), plt.tight_layout()\n",
        "    flush_figures()"
      ],
      "execution_count": 0,
      "outputs": []
    },
    {
      "cell_type": "markdown",
      "metadata": {
        "id": "y52jwik7VSHN",
        "colab_type": "text"
      },
      "source": [
        "The interactivity widget depends on the type of the input\n",
        "\n",
        "- `bool` --> checkbox\n",
        "- `int` --> slider\n",
        "- `list` or `dict` --> combobox"
      ]
    },
    {
      "cell_type": "code",
      "metadata": {
        "id": "KVFkiypGUWHe",
        "colab_type": "code",
        "colab": {
          "base_uri": "https://localhost:8080/",
          "height": 393,
          "referenced_widgets": [
            "c0623a8706a84bafa2fc05729487a692",
            "018fad68608e4668ae42e3016822a05d",
            "a36ae70d5c7f49cea2ca9260536e563f",
            "796bf77f456d44edbb4155b00b3eacb8",
            "3c953a333c8743f0b16bad9be81063e7",
            "dd0c272808c543bfaf8ca9a2c49980f3",
            "527ea1d2a6cf4d5990f035608940700b",
            "c33556925023445ab1580b00fa6250cc",
            "f84129906f4f4733b99089477b0f51b9",
            "e80b678f0a6a41059ba77ba125918a50",
            "62010db525594d1ea21a47fdde700291",
            "79a609fcc3a04b529b636837bcb8ca3a",
            "7e9d27f67b8648ac8904520329684562"
          ]
        },
        "outputId": "96dcaad8-c9e8-47b5-efe1-b5553c544996"
      },
      "source": [
        "interact(plot_interactive_func, show_reference=False, \n",
        "                                exp=(1, 5, 1), \n",
        "                                style=[\"-\", \".\", \"o-\"]);"
      ],
      "execution_count": 45,
      "outputs": [
        {
          "output_type": "display_data",
          "data": {
            "application/vnd.jupyter.widget-view+json": {
              "model_id": "c0623a8706a84bafa2fc05729487a692",
              "version_minor": 0,
              "version_major": 2
            },
            "text/plain": [
              "interactive(children=(Checkbox(value=False, description='show_reference'), IntSlider(value=2, description='exp…"
            ]
          },
          "metadata": {
            "tags": []
          }
        }
      ]
    },
    {
      "cell_type": "markdown",
      "metadata": {
        "id": "nkzHpZXn2GMl",
        "colab_type": "text"
      },
      "source": [
        "# `fig` and `ax` objects\n"
      ]
    },
    {
      "cell_type": "code",
      "metadata": {
        "id": "7NkckCFO2NqV",
        "colab_type": "code",
        "colab": {}
      },
      "source": [
        "x = np.arange(-1, 1.5, 0.01)\n",
        "y = np.power(x, 3)"
      ],
      "execution_count": 0,
      "outputs": []
    },
    {
      "cell_type": "code",
      "metadata": {
        "id": "Lgybu3h_4AFW",
        "colab_type": "code",
        "colab": {
          "base_uri": "https://localhost:8080/",
          "height": 297
        },
        "outputId": "b3aed3d6-c7e9-4457-febe-25444aa26408"
      },
      "source": [
        "fig = plt.figure(figsize=[8, 4]) \n",
        "axes = fig.subplots(nrows=1, ncols=2)\n",
        "axes[0].plot(x, y, label=\"$f(x)=x^3$\")\n",
        "axes[1].plot(x, -y, label=\"$f(x)=-x^3$\")\n",
        "for ax in axes:\n",
        "    ax.grid(which=\"both\")\n",
        "    ax.legend()\n",
        "    ax.set_xlabel(\"x\")\n",
        "    ax.set_ylabel(\"f(x)\")\n",
        "fig.tight_layout()"
      ],
      "execution_count": 47,
      "outputs": [
        {
          "output_type": "display_data",
          "data": {
            "image/png": "[encoded data removed]",
            "text/plain": [
              "<Figure size 576x288 with 2 Axes>"
            ]
          },
          "metadata": {
            "tags": [],
            "needs_background": "light"
          }
        }
      ]
    },
    {
      "cell_type": "markdown",
      "metadata": {
        "id": "-GdHJCgaLAk5",
        "colab_type": "text"
      },
      "source": [
        "# Contour "
      ]
    },
    {
      "cell_type": "markdown",
      "metadata": {
        "id": "Rk2OFfRFLVra",
        "colab_type": "text"
      },
      "source": [
        "- `matplotlib.pyplot.contour` creates contour plots\n",
        "- `matplotlib.pyplot.contourf` creates filled contour plots\n"
      ]
    },
    {
      "cell_type": "code",
      "metadata": {
        "id": "17c1uO2_8jpr",
        "colab_type": "code",
        "colab": {
          "base_uri": "https://localhost:8080/",
          "height": 273
        },
        "outputId": "778885e9-16b1-47d1-ac69-10065b427c86"
      },
      "source": [
        "x = np.arange(1, 10)\n",
        "y = x.reshape(-1, 1)\n",
        "h = x * y\n",
        "\n",
        "cs = plt.contourf(h, levels=[10, 30, 50],\n",
        "    colors=['grey', 'lightgrey'], extend='both')\n",
        "cs.cmap.set_over('red')\n",
        "cs.cmap.set_under('green')\n",
        "cs.changed()"
      ],
      "execution_count": 48,
      "outputs": [
        {
          "output_type": "display_data",
          "data": {
            "image/png": "[encoded data removed]",
            "text/plain": [
              "<Figure size 432x288 with 1 Axes>"
            ]
          },
          "metadata": {
            "tags": [],
            "needs_background": "light"
          }
        }
      ]
    },
    {
      "cell_type": "markdown",
      "metadata": {
        "id": "Osg0ms7SX0rl",
        "colab_type": "text"
      },
      "source": [
        "# more examples\n",
        "Go to [Matplotlib website](https://matplotlib.org/)"
      ]
    }
  ]
}