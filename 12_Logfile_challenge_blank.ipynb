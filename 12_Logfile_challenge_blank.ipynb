{
  "nbformat": 4,
  "nbformat_minor": 0,
  "metadata": {
    "colab": {
      "name": "12_Logfile_challenge_blank.ipynb",
      "provenance": [],
      "collapsed_sections": [],
      "toc_visible": true,
      "authorship_tag": "ABX9TyOaPZ1R0PBrZ+duGCeKBIY9",
      "include_colab_link": true
    },
    "kernelspec": {
      "name": "python3",
      "display_name": "Python 3"
    }
  },
  "cells": [
    {
      "cell_type": "markdown",
      "metadata": {
        "id": "view-in-github",
        "colab_type": "text"
      },
      "source": [
        "<a href=\"https://colab.research.google.com/github/munich-ml/MLPy2020/blob/master/12_Logfile_challenge_blank.ipynb\" target=\"_parent\"><img src=\"https://colab.research.google.com/assets/colab-badge.svg\" alt=\"Open In Colab\"/></a>"
      ]
    },
    {
      "cell_type": "markdown",
      "metadata": {
        "id": "827kwTxX0tuc",
        "colab_type": "text"
      },
      "source": [
        "# Logfile challenge"
      ]
    },
    {
      "cell_type": "markdown",
      "metadata": {
        "id": "z12MmBNm4fXJ",
        "colab_type": "text"
      },
      "source": [
        "## setup"
      ]
    },
    {
      "cell_type": "markdown",
      "metadata": {
        "id": "Wu8QLzNa0zNJ",
        "colab_type": "text"
      },
      "source": [
        "This following code block prepares the coding challenge:\n",
        "1. clone GitHub project `MLPy2020`\n",
        "1. import and execute `create_csv` helper function\n",
        "1. open file `logfile.csv` and store content into variable `s`\n"
      ]
    },
    {
      "cell_type": "code",
      "metadata": {
        "id": "7qFfDsKHO1DP",
        "colab_type": "code",
        "colab": {}
      },
      "source": [
        "import os\n",
        "\n",
        "# Get munich-ml repo from GitHub\n",
        "if \"MLPy2020\" in os.listdir():\n",
        "    !git -C MLPy2020 pull\n",
        "else:\n",
        "    !git clone https://github.com/munich-ml/MLPy2020/\n",
        "\n",
        "path = os.path.join(\"MLPy2020\", \"datasets\", \"logfile.csv\")\n",
        "\n",
        "with open(path, \"r\") as file:\n",
        "    s = file.read()"
      ],
      "execution_count": 0,
      "outputs": []
    },
    {
      "cell_type": "markdown",
      "metadata": {
        "id": "EGavNzl77n-k",
        "colab_type": "text"
      },
      "source": [
        "## The task"
      ]
    },
    {
      "cell_type": "markdown",
      "metadata": {
        "id": "TusQeM0e4XxB",
        "colab_type": "text"
      },
      "source": [
        "After executing the setup, the variable `s` should be available, holding the content of a logfile.\n",
        "\n",
        "The task is to **parse the logfile content**."
      ]
    },
    {
      "cell_type": "code",
      "metadata": {
        "id": "ECAVYUQq8uRJ",
        "colab_type": "code",
        "colab": {}
      },
      "source": [
        "print(s)"
      ],
      "execution_count": 0,
      "outputs": []
    },
    {
      "cell_type": "markdown",
      "metadata": {
        "id": "_p1udZjA5I1d",
        "colab_type": "text"
      },
      "source": [
        "# Python built-in functions"
      ]
    },
    {
      "cell_type": "markdown",
      "metadata": {
        "id": "_cHzailz5OlM",
        "colab_type": "text"
      },
      "source": [
        "The Python interpreter has a couple of functions build-in. They are available without any preparation. \n",
        "\n",
        "Complete list of built-in funcitons: https://docs.python.org/3/library/functions.html\n",
        "\n",
        "Some prominent examples:\n",
        "- `print`\n",
        "- `type`\n",
        "- `min`\n",
        "- `len`\n",
        "\n",
        "\n"
      ]
    },
    {
      "cell_type": "code",
      "metadata": {
        "id": "dkiHI0bBxjJJ",
        "colab_type": "code",
        "colab": {}
      },
      "source": [
        ""
      ],
      "execution_count": 0,
      "outputs": []
    },
    {
      "cell_type": "markdown",
      "metadata": {
        "id": "ZZHIKzriAGze",
        "colab_type": "text"
      },
      "source": [
        "# `str` object"
      ]
    },
    {
      "cell_type": "markdown",
      "metadata": {
        "id": "r9ldCe1HAT7X",
        "colab_type": "text"
      },
      "source": [
        "## Slicing"
      ]
    },
    {
      "cell_type": "markdown",
      "metadata": {
        "id": "hTz7aaq_auI2",
        "colab_type": "text"
      },
      "source": [
        "Single characters of the string can be accessed using their index in brakets `[index]`:\n",
        "\n",
        "\n"
      ]
    },
    {
      "cell_type": "code",
      "metadata": {
        "id": "_Ggs0Ttbxpz2",
        "colab_type": "code",
        "colab": {}
      },
      "source": [
        ""
      ],
      "execution_count": 0,
      "outputs": []
    },
    {
      "cell_type": "markdown",
      "metadata": {
        "id": "yVIbnsk8eHQf",
        "colab_type": "text"
      },
      "source": [
        "Ranges can also be indexed by `[start_index : end_index]`.\n",
        "The `start_index` is included, the `end_index` not!"
      ]
    },
    {
      "cell_type": "code",
      "metadata": {
        "id": "4G3z40tRxxSB",
        "colab_type": "code",
        "colab": {}
      },
      "source": [
        ""
      ],
      "execution_count": 0,
      "outputs": []
    },
    {
      "cell_type": "markdown",
      "metadata": {
        "id": "CTcC8LX_Bbxq",
        "colab_type": "text"
      },
      "source": [
        "## `str` methods"
      ]
    },
    {
      "cell_type": "markdown",
      "metadata": {
        "id": "gscHyb6KBj1c",
        "colab_type": "text"
      },
      "source": [
        "The `str` object not only contains **data**, it also contains **functions**, called **methods**."
      ]
    },
    {
      "cell_type": "code",
      "metadata": {
        "id": "YAEvoIwAx_0B",
        "colab_type": "code",
        "colab": {}
      },
      "source": [
        ""
      ],
      "execution_count": 0,
      "outputs": []
    },
    {
      "cell_type": "markdown",
      "metadata": {
        "id": "erSbgTtqCxjd",
        "colab_type": "text"
      },
      "source": [
        "Split the logfile content `s` on the *new line character* `\\n`"
      ]
    },
    {
      "cell_type": "code",
      "metadata": {
        "id": "4p_PFzDMyEnS",
        "colab_type": "code",
        "colab": {}
      },
      "source": [
        ""
      ],
      "execution_count": 0,
      "outputs": []
    },
    {
      "cell_type": "markdown",
      "metadata": {
        "id": "9TfP4cZ7DC3H",
        "colab_type": "text"
      },
      "source": [
        "# `list` object"
      ]
    },
    {
      "cell_type": "code",
      "metadata": {
        "id": "rczNvDukyHop",
        "colab_type": "code",
        "colab": {}
      },
      "source": [
        ""
      ],
      "execution_count": 0,
      "outputs": []
    },
    {
      "cell_type": "markdown",
      "metadata": {
        "id": "NgvoX1N4FI0A",
        "colab_type": "text"
      },
      "source": [
        "`list` objects also support slicing"
      ]
    },
    {
      "cell_type": "code",
      "metadata": {
        "id": "HwyJV9NDyTop",
        "colab_type": "code",
        "colab": {}
      },
      "source": [
        ""
      ],
      "execution_count": 0,
      "outputs": []
    },
    {
      "cell_type": "markdown",
      "metadata": {
        "id": "oqvnf_kEHnOT",
        "colab_type": "text"
      },
      "source": [
        "# `for` loops"
      ]
    },
    {
      "cell_type": "markdown",
      "metadata": {
        "id": "mpffp9oM6pZ1",
        "colab_type": "text"
      },
      "source": [
        "The next step in the *logfile challenge* requires looping. \n",
        "\n",
        "- **`for`, `in`** are keywords in Python, as well as\n",
        "- **`while`**,\n",
        "- and of course there are more keywords: [all Python keywords](https://docs.python.org/3/reference/lexical_analysis.html#keywords)\n",
        "\n",
        "For a *C-style* `for` loop such as:\n",
        "\n",
        ">`lines[0]`\n",
        ">\n",
        ">`lines[1]`\n",
        ">\n",
        ">`...`\n",
        "\n",
        "we need an `index` variable. \n"
      ]
    },
    {
      "cell_type": "code",
      "metadata": {
        "id": "inHo3h4czHUp",
        "colab_type": "code",
        "colab": {}
      },
      "source": [
        ""
      ],
      "execution_count": 0,
      "outputs": []
    },
    {
      "cell_type": "markdown",
      "metadata": {
        "id": "aLwcfUp4__Gg",
        "colab_type": "text"
      },
      "source": [
        "### `list` objects are iterable\n",
        "\n",
        "Iterable objects can be looped without using an index!"
      ]
    },
    {
      "cell_type": "code",
      "metadata": {
        "id": "Ehzs8U6GzUHn",
        "colab_type": "code",
        "colab": {}
      },
      "source": [
        ""
      ],
      "execution_count": 0,
      "outputs": []
    },
    {
      "cell_type": "markdown",
      "metadata": {
        "id": "RAowUwFjVh4y",
        "colab_type": "text"
      },
      "source": [
        "## `enumerate` operator"
      ]
    },
    {
      "cell_type": "markdown",
      "metadata": {
        "id": "MoNenA8sVovq",
        "colab_type": "text"
      },
      "source": [
        "if an index is required, use `enumerate`"
      ]
    },
    {
      "cell_type": "code",
      "metadata": {
        "id": "piVGHu7y0I-q",
        "colab_type": "code",
        "colab": {}
      },
      "source": [
        ""
      ],
      "execution_count": 0,
      "outputs": []
    },
    {
      "cell_type": "markdown",
      "metadata": {
        "id": "2sPjqImpX1mw",
        "colab_type": "text"
      },
      "source": [
        "# Dictionary `dict`"
      ]
    },
    {
      "cell_type": "code",
      "metadata": {
        "id": "aQwpUGeiXwWO",
        "colab_type": "code",
        "colab": {}
      },
      "source": [
        "idxs = dict()"
      ],
      "execution_count": 0,
      "outputs": []
    },
    {
      "cell_type": "code",
      "metadata": {
        "id": "1xAuSr2TYApw",
        "colab_type": "code",
        "colab": {}
      },
      "source": [
        "type(idxs)"
      ],
      "execution_count": 0,
      "outputs": []
    },
    {
      "cell_type": "code",
      "metadata": {
        "id": "D8QTaejb0uF7",
        "colab_type": "code",
        "colab": {}
      },
      "source": [
        ""
      ],
      "execution_count": 0,
      "outputs": []
    },
    {
      "cell_type": "markdown",
      "metadata": {
        "id": "UlB0VJzZLMF4",
        "colab_type": "text"
      },
      "source": [
        "Adding more items to the dictionary"
      ]
    },
    {
      "cell_type": "code",
      "metadata": {
        "id": "xPw2S35605G5",
        "colab_type": "code",
        "colab": {}
      },
      "source": [
        ""
      ],
      "execution_count": 0,
      "outputs": []
    },
    {
      "cell_type": "markdown",
      "metadata": {
        "id": "Q-JmY8k2DYFu",
        "colab_type": "text"
      },
      "source": [
        "# Table of Python containers\n",
        "|Python container|list|tuple|set|dictionary|\n",
        "|---|---|---|---|---|\n",
        "|creation|`li = [1, 1, \"Hi!\"]`|`tup = (1, 1, \"Hi!\")`|`se = set([1, 1, \"Hi!\"])`|`d = {\"Musk\":\"Elon\", \"Bezos\":\"Jeff\"}`|\n",
        "|print return|`[1, 1, 'Hi!']`|`(1, 1, 'Hi!')`|`{1, 'Hi!'}`|`{'Musk': 'Elon', 'Bezos': 'Jeff'}`|\n",
        "|mutablility|mutable|**immutable**|mutable|mutable|\n",
        "|slicing|yes, `li[0]` --> `1`|no slicing|yes, `li[0]` --> `1`|no slicing|\n",
        "|primary usage|basic container with<br>`append()` method|use if data doesn't<br>change|- set operations: `union`, `diff`,<br>- get unique values|lookup table|\n",
        "\n"
      ]
    },
    {
      "cell_type": "markdown",
      "metadata": {
        "id": "MGbfJcp8wR_x",
        "colab_type": "text"
      },
      "source": [
        "# Return to the 'Logfile challenge'"
      ]
    },
    {
      "cell_type": "code",
      "metadata": {
        "id": "lzSZhk9E1Bdx",
        "colab_type": "code",
        "colab": {}
      },
      "source": [
        ""
      ],
      "execution_count": 0,
      "outputs": []
    },
    {
      "cell_type": "markdown",
      "metadata": {
        "id": "ebTUEROM6RD2",
        "colab_type": "text"
      },
      "source": [
        "## Functions"
      ]
    },
    {
      "cell_type": "markdown",
      "metadata": {
        "id": "mBDAw97P6V8H",
        "colab_type": "text"
      },
      "source": [
        "A function is needs that:\n",
        "- takes a `str` input\n",
        "- converts the `str` to a `float`\n",
        "- removes `Ohms` text\n",
        "- removes `mOhms` text and divides the value by 1000\n",
        "\n",
        "Before programming the actual functionality, it is good practivce to write the test bench first:\n"
      ]
    },
    {
      "cell_type": "code",
      "metadata": {
        "id": "2G-7vpAp1hm7",
        "colab_type": "code",
        "colab": {}
      },
      "source": [
        ""
      ],
      "execution_count": 0,
      "outputs": []
    },
    {
      "cell_type": "markdown",
      "metadata": {
        "id": "NW8C-G3478hr",
        "colab_type": "text"
      },
      "source": [
        "How to convert a `str` to a `float`?"
      ]
    },
    {
      "cell_type": "code",
      "metadata": {
        "id": "fYCZLCZx70Tm",
        "colab_type": "code",
        "colab": {}
      },
      "source": [
        "float(\"3.33\")"
      ],
      "execution_count": 0,
      "outputs": []
    },
    {
      "cell_type": "code",
      "metadata": {
        "id": "S9148mNk1vDV",
        "colab_type": "code",
        "colab": {}
      },
      "source": [
        ""
      ],
      "execution_count": 0,
      "outputs": []
    },
    {
      "cell_type": "markdown",
      "metadata": {
        "id": "qzvU3bGKEdTc",
        "colab_type": "text"
      },
      "source": [
        "**Status** on the logfile challenge. We got:\n",
        "- `data` in a list of lists (N x 4)\n",
        "- `names` list with column names\n",
        "- `params` parameter dictionary"
      ]
    },
    {
      "cell_type": "code",
      "metadata": {
        "id": "EtmOR8B-24nt",
        "colab_type": "code",
        "colab": {}
      },
      "source": [
        ""
      ],
      "execution_count": 0,
      "outputs": []
    },
    {
      "cell_type": "markdown",
      "metadata": {
        "id": "x5beVw0O2Ka7",
        "colab_type": "text"
      },
      "source": [
        "# Complete `parse_logfile_string` function"
      ]
    },
    {
      "cell_type": "markdown",
      "metadata": {
        "id": "V1LtpkIKGAmK",
        "colab_type": "text"
      },
      "source": [
        "Let's summarize the functionality we got so far, into a function `parse_logfile_string` that:\n",
        "- takes the logfile string `s` as input and\n",
        "- returns `params`, `names` and `data`"
      ]
    },
    {
      "cell_type": "code",
      "metadata": {
        "id": "l0_yrdsCD5v4",
        "colab_type": "code",
        "colab": {}
      },
      "source": [
        "def parse_logfile_string(s):\n",
        "    # split the input string on \"\\n\" new line\n",
        "    lines = s.split(\"\\n\")\n",
        "\n",
        "    # create a look-up table of sections and line numbers\n",
        "    idxs = dict()\n",
        "    for lineNo, line in enumerate(lines):\n",
        "        if line in ['measurements', \"header\"]:\n",
        "            idxs[line] = lineNo \n",
        "    idxs[\"names\"] = idxs[\"measurements\"] + 1\n",
        "    idxs[\"params_begin\"] = idxs[\"header\"] + 1\n",
        "    idxs[\"params_end\"] = idxs[\"measurements\"] - 1\n",
        "    idxs[\"data\"] = idxs[\"names\"] + 1\n",
        "\n",
        "    # parse the column \n",
        "    names = lines[idxs[\"names\"]].split(\",\")\n",
        "\n",
        "    # parse the params_lines list(str) into params dict{param: value}\n",
        "    params = dict()\n",
        "    for line in lines[idxs[\"params_begin\"] : idxs[\"params_end\"]]:\n",
        "        key, value = line.split(\",\")\n",
        "        params[key] = value\n",
        "\n",
        "    # converts str to float incl. \"Ohms\" removal\n",
        "    def string_to_float(s):\n",
        "        idx = s.find(\"Ohms\")\n",
        "        if idx > 0:\n",
        "            number = item.split(\" \")[0]\n",
        "            prefix = s[idx-1]\n",
        "            return float(number) * {\" \": 1, \"m\": 0.001}[prefix]\n",
        "        return float(item)\n",
        "\n",
        "    # parse data_lines list(str) into data list(list(floats))\n",
        "    data = list()\n",
        "    for data_line in lines[idxs[\"data\"] :]:\n",
        "        row = list()\n",
        "        for item in data_line.split(\",\"):\n",
        "            row.append(string_to_float(item))\n",
        "        data.append(row)\n",
        "\n",
        "    return {\"params\": params, \"names\": names, \"data\":data}"
      ],
      "execution_count": 0,
      "outputs": []
    },
    {
      "cell_type": "code",
      "metadata": {
        "id": "ZEVZCuaTKvfn",
        "colab_type": "code",
        "colab": {}
      },
      "source": [
        "log = parse_logfile_string(s)\n",
        "log"
      ],
      "execution_count": 0,
      "outputs": []
    },
    {
      "cell_type": "code",
      "metadata": {
        "id": "Y_g23RwrmVBY",
        "colab_type": "code",
        "colab": {}
      },
      "source": [
        "log.keys()"
      ],
      "execution_count": 0,
      "outputs": []
    },
    {
      "cell_type": "markdown",
      "metadata": {
        "id": "34gQJ7YFmP5P",
        "colab_type": "text"
      },
      "source": [
        "done!\n",
        "\n",
        "We successfully created a **function** `parse_logfile_string(s)` that parses the input text string `s` and returns a `dict` with \n",
        "- the header parameters `params`, \n",
        "- the actual data `data`,\n",
        "- the data column names `names` "
      ]
    },
    {
      "cell_type": "markdown",
      "metadata": {
        "id": "YZEpKAzdnW6k",
        "colab_type": "text"
      },
      "source": [
        "# Limitations of Python basic containers"
      ]
    },
    {
      "cell_type": "markdown",
      "metadata": {
        "id": "8eYv_6x9oCzj",
        "colab_type": "text"
      },
      "source": [
        "The Python general purpose container `list` worked great for reading and appending items from file. However, for further mathematical processing it's non-ideal, as we will see,..."
      ]
    },
    {
      "cell_type": "markdown",
      "metadata": {
        "id": "r5LywYlan6ET",
        "colab_type": "text"
      },
      "source": [
        "## Apply calibration factors"
      ]
    },
    {
      "cell_type": "markdown",
      "metadata": {
        "id": "c4z_qmXHoDTA",
        "colab_type": "text"
      },
      "source": [
        "The task:\n",
        "- search the `params` for `calibration factor sig?` keys\n",
        "- multiply all column values of `sig?` with the respective `calibration factor`\n"
      ]
    },
    {
      "cell_type": "code",
      "metadata": {
        "id": "hWro944AKxyB",
        "colab_type": "code",
        "colab": {}
      },
      "source": [
        "log = parse_logfile_string(s)\n",
        "params = log[\"params\"]\n",
        "data = log[\"data\"]\n",
        "names = log[\"names\"]"
      ],
      "execution_count": 0,
      "outputs": []
    },
    {
      "cell_type": "code",
      "metadata": {
        "id": "cmSqBSSDkxqn",
        "colab_type": "code",
        "colab": {}
      },
      "source": [
        "for param, cal_factor in params.items():\n",
        "    if \"calibration factor\" in param:\n",
        "        sig = param.split(\" \")[-1]\n",
        "        print(\"Signal={}, cal_factor={}\".format(sig, cal_factor))"
      ],
      "execution_count": 0,
      "outputs": []
    },
    {
      "cell_type": "markdown",
      "metadata": {
        "id": "BUpemlqqrSNU",
        "colab_type": "text"
      },
      "source": [
        "Next step is to index the data: Get all rows of a specific column..."
      ]
    },
    {
      "cell_type": "code",
      "metadata": {
        "id": "ODQSgLj93HfK",
        "colab_type": "code",
        "colab": {}
      },
      "source": [
        ""
      ],
      "execution_count": 0,
      "outputs": []
    },
    {
      "cell_type": "markdown",
      "metadata": {
        "id": "hCnKHAO20SDM",
        "colab_type": "text"
      },
      "source": [
        "## Array slicing for visualization"
      ]
    },
    {
      "cell_type": "markdown",
      "metadata": {
        "id": "VdOlQ2F_z-pT",
        "colab_type": "text"
      },
      "source": [
        "Another common usage is **arbitrary array slicing** for data visualization (e.g. using `matplotlib`)\n"
      ]
    },
    {
      "cell_type": "code",
      "metadata": {
        "id": "OklnWfTb3T3t",
        "colab_type": "code",
        "colab": {}
      },
      "source": [
        ""
      ],
      "execution_count": 0,
      "outputs": []
    }
  ]
}