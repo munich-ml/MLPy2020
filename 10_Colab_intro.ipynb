{
  "nbformat": 4,
  "nbformat_minor": 0,
  "metadata": {
    "colab": {
      "name": "10_Colab_intro.ipynb",
      "provenance": [],
      "collapsed_sections": [],
      "toc_visible": true,
      "authorship_tag": "ABX9TyMa4juvXClX6Uke8jJKBnVy",
      "include_colab_link": true
    },
    "kernelspec": {
      "name": "python3",
      "display_name": "Python 3"
    }
  },
  "cells": [
    {
      "cell_type": "markdown",
      "metadata": {
        "id": "view-in-github",
        "colab_type": "text"
      },
      "source": [
        "<a href=\"https://colab.research.google.com/github/munich-ml/MLPy2020/blob/master/10_Colab_intro.ipynb\" target=\"_parent\"><img src=\"https://colab.research.google.com/assets/colab-badge.svg\" alt=\"Open In Colab\"/></a>"
      ]
    },
    {
      "cell_type": "markdown",
      "metadata": {
        "id": "QUTlfg6jbu51",
        "colab_type": "text"
      },
      "source": [
        "# Google Colab\n",
        "- **Colab** (Google Collaboratory) executes **Jupyter Notebooks** (`.ipynb` extension)\n",
        "- The notebooks consitst of **cells**, like \n",
        "> - **text cells** containing **Markdown text**, and\n",
        "> - **`code cells`** containing e.g. **`Python code`** or **`system commands`** \n",
        "\n",
        "- some important **shortcuts**:\n",
        ">- **`Ctrl`+`Shift`+`p`** opens the *command palette*\n",
        ">- **`Ctrl`+`Enter`** runs the cell \n",
        ">- **`Shift`+`Enter`** runs the cell and moves focus to the next cell \n",
        ">- **`Alt`+`Enter`** runs the cell and inserts a new code cell below\n",
        "\n",
        "\n",
        "\n",
        "\n",
        "\n"
      ]
    },
    {
      "cell_type": "markdown",
      "metadata": {
        "id": "M0wEEmS8LBgH",
        "colab_type": "text"
      },
      "source": [
        "# first `Python code`"
      ]
    },
    {
      "cell_type": "code",
      "metadata": {
        "id": "v5p5K6hWXnIa",
        "colab_type": "code",
        "colab": {}
      },
      "source": [
        "message = \"Hello world\"\n",
        "print(message)"
      ],
      "execution_count": 0,
      "outputs": []
    },
    {
      "cell_type": "markdown",
      "metadata": {
        "id": "4xmJaN2XZ2TH",
        "colab_type": "text"
      },
      "source": [
        "Jupyter automatically prints the return value of the last line, thus `print` could be omitted."
      ]
    },
    {
      "cell_type": "code",
      "metadata": {
        "id": "K_Kt7oRyaCzp",
        "colab_type": "code",
        "colab": {}
      },
      "source": [
        "message"
      ],
      "execution_count": 0,
      "outputs": []
    },
    {
      "cell_type": "code",
      "metadata": {
        "id": "dog855tp_CVS",
        "colab_type": "code",
        "colab": {}
      },
      "source": [
        "type(message)"
      ],
      "execution_count": 0,
      "outputs": []
    },
    {
      "cell_type": "markdown",
      "metadata": {
        "id": "W25gLOnQZO7Z",
        "colab_type": "text"
      },
      "source": [
        "Strings start and end with `\"` or `'` and multiline strings with `\"\"\"` or `'''`\n",
        "\n"
      ]
    },
    {
      "cell_type": "code",
      "metadata": {
        "id": "pMlL_0BH_GGU",
        "colab_type": "code",
        "colab": {}
      },
      "source": [
        "a = 5 * 3.1"
      ],
      "execution_count": 0,
      "outputs": []
    },
    {
      "cell_type": "code",
      "metadata": {
        "id": "jwL_IJqg_VBm",
        "colab_type": "code",
        "colab": {}
      },
      "source": [
        "print(\"a:\", type(a), a)"
      ],
      "execution_count": 0,
      "outputs": []
    },
    {
      "cell_type": "markdown",
      "metadata": {
        "id": "8rBzh7J7mitN",
        "colab_type": "text"
      },
      "source": [
        "# Markdown text"
      ]
    },
    {
      "cell_type": "markdown",
      "metadata": {
        "id": "3CUu-k3B1vm9",
        "colab_type": "text"
      },
      "source": [
        "[Markdown on wiki](https://de.wikipedia.org/wiki/Markdown)\n"
      ]
    },
    {
      "cell_type": "markdown",
      "metadata": {
        "id": "crDpRnkEjjhV",
        "colab_type": "text"
      },
      "source": [
        "### Styles\n",
        "\\**italics*\\* or \\__italics\\__\n",
        "\n",
        "**\\*\\*bold\\*\\*** or __\\_\\_bold\\_\\___\n",
        "\n",
        "\\~\\~~~strikethrough~~\\~\\~\n",
        "\n",
        "\\``monospace`\\`"
      ]
    },
    {
      "cell_type": "markdown",
      "metadata": {
        "id": "WfP8vEICi17g",
        "colab_type": "text"
      },
      "source": [
        "### Indentation\n",
        "No indent\n",
        ">\\>One level of indentation\n",
        ">>\\>\\>Two levels of indentation\n",
        "\n"
      ]
    },
    {
      "cell_type": "markdown",
      "metadata": {
        "id": "OzJpIcJci43z",
        "colab_type": "text"
      },
      "source": [
        "### Lists\n",
        "- One\n",
        "- Two\n",
        "\n"
      ]
    },
    {
      "cell_type": "markdown",
      "metadata": {
        "id": "tOYOeDmwi95c",
        "colab_type": "text"
      },
      "source": [
        "\n",
        "### Links\n",
        "- A naked URL: https://google.com\n",
        "- Linked URL: \\[[Colaboratory](https://research.google.com/colaboratory)]\n",
        "- An inline image: ![](https://colab.research.google.com/assets/colab-badge.svg)\n",
        "\n"
      ]
    },
    {
      "cell_type": "markdown",
      "metadata": {
        "id": "tFQ9i5kCjLJA",
        "colab_type": "text"
      },
      "source": [
        "### Equations\n",
        "\n",
        "$y=x^2$\n",
        "\n",
        "$e^{i\\pi} + \\sqrt{1} = 0$\n",
        "\n",
        "$e^x=\\sum_{i=0}^\\infty \\frac{1}{i!}x^i$\n",
        "\n",
        "$\\frac{n!}{k!(n-k)!} = {n \\choose k}$\n",
        "\n",
        "$A_{m,n} =\n",
        " \\begin{pmatrix}\n",
        "  a_{1,1} & a_{1,2} & \\cdots & a_{1,n} \\\\\n",
        "  a_{2,1} & a_{2,2} & \\cdots & a_{2,n} \\\\\n",
        "  \\vdots  & \\vdots  & \\ddots & \\vdots  \\\\\n",
        "  a_{m,1} & a_{m,2} & \\cdots & a_{m,n}\n",
        " \\end{pmatrix}$\n",
        "\n"
      ]
    },
    {
      "cell_type": "markdown",
      "metadata": {
        "id": "g6d5qUKIjN6d",
        "colab_type": "text"
      },
      "source": [
        "### Tables\n",
        "First column name | Second column name\n",
        "--- | ---\n",
        "Row 1, Col 1 | Row 1, Col 2\n",
        "Row 2, Col 1 | Row 2, Col 2\n",
        "\n",
        "\n",
        "\n",
        "\n"
      ]
    },
    {
      "cell_type": "markdown",
      "metadata": {
        "id": "iwLlBFOE6SC3",
        "colab_type": "text"
      },
      "source": [
        "# Shell commands"
      ]
    },
    {
      "cell_type": "markdown",
      "metadata": {
        "id": "5Buq3cj-hIbL",
        "colab_type": "text"
      },
      "source": [
        "**Shell commands** can be executed directly from the Colab / \n",
        "IPython terminal. Anything appearing after ! on a line will be executed not by the Python kernel, but by the system command-line."
      ]
    },
    {
      "cell_type": "code",
      "metadata": {
        "id": "tl8GvRUQeXaG",
        "colab_type": "code",
        "outputId": "9dce0bfb-255a-4535-b996-88e88f63175c",
        "colab": {
          "base_uri": "https://localhost:8080/",
          "height": 33
        }
      },
      "source": [
        "!pwd"
      ],
      "execution_count": 0,
      "outputs": [
        {
          "output_type": "stream",
          "text": [
            "/content\n"
          ],
          "name": "stdout"
        }
      ]
    },
    {
      "cell_type": "code",
      "metadata": {
        "id": "FJH4ghOCeeTB",
        "colab_type": "code",
        "outputId": "d50a7627-d07d-408a-df78-720f7e4479d9",
        "colab": {
          "base_uri": "https://localhost:8080/",
          "height": 33
        }
      },
      "source": [
        "!ls"
      ],
      "execution_count": 0,
      "outputs": [
        {
          "output_type": "stream",
          "text": [
            "sample_data\n"
          ],
          "name": "stdout"
        }
      ]
    },
    {
      "cell_type": "markdown",
      "metadata": {
        "id": "PqKtoLitlk1e",
        "colab_type": "text"
      },
      "source": [
        "## GIT clone"
      ]
    },
    {
      "cell_type": "code",
      "metadata": {
        "id": "gH4_FtS78PHs",
        "colab_type": "code",
        "colab": {}
      },
      "source": [
        "!git clone https://github.com/munich-ml/MLPy2020/"
      ],
      "execution_count": 0,
      "outputs": []
    },
    {
      "cell_type": "code",
      "metadata": {
        "id": "xEMw30TxenxJ",
        "colab_type": "code",
        "colab": {}
      },
      "source": [
        "!ls"
      ],
      "execution_count": 0,
      "outputs": []
    }
  ]
}