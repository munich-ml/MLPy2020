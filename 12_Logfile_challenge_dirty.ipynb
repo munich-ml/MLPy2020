{
  "nbformat": 4,
  "nbformat_minor": 0,
  "metadata": {
    "colab": {
      "name": "12_Logfile_challenge_dirty.ipynb",
      "provenance": [],
      "collapsed_sections": [],
      "toc_visible": true,
      "include_colab_link": true
    },
    "kernelspec": {
      "name": "python3",
      "display_name": "Python 3"
    }
  },
  "cells": [
    {
      "cell_type": "markdown",
      "metadata": {
        "id": "view-in-github",
        "colab_type": "text"
      },
      "source": [
        "<a href=\"https://colab.research.google.com/github/munich-ml/MLPy2020/blob/master/12_Logfile_challenge_dirty.ipynb\" target=\"_parent\"><img src=\"https://colab.research.google.com/assets/colab-badge.svg\" alt=\"Open In Colab\"/></a>"
      ]
    },
    {
      "cell_type": "markdown",
      "metadata": {
        "id": "827kwTxX0tuc",
        "colab_type": "text"
      },
      "source": [
        "# Logfile challenge"
      ]
    },
    {
      "cell_type": "markdown",
      "metadata": {
        "id": "z12MmBNm4fXJ",
        "colab_type": "text"
      },
      "source": [
        "## setup"
      ]
    },
    {
      "cell_type": "markdown",
      "metadata": {
        "id": "Wu8QLzNa0zNJ",
        "colab_type": "text"
      },
      "source": [
        "This following code block prepares the coding challenge:\n",
        "1. clone GitHub project `MLPy2020`\n",
        "1. import and execute `create_csv` helper function\n",
        "1. open file `logfile.csv` and store content into variable `s`\n"
      ]
    },
    {
      "cell_type": "code",
      "metadata": {
        "id": "7qFfDsKHO1DP",
        "colab_type": "code",
        "outputId": "126536a8-3f5d-4cf2-81f4-c8396b407d5d",
        "colab": {
          "base_uri": "https://localhost:8080/",
          "height": 33
        }
      },
      "source": [
        "import os\n",
        "\n",
        "# Get munich-ml repo from GitHub\n",
        "if \"MLPy2020\" in os.listdir():\n",
        "    !git -C MLPy2020 pull\n",
        "else:\n",
        "    !git clone https://github.com/munich-ml/MLPy2020/\n",
        "\n",
        "path = os.path.join(\"MLPy2020\", \"datasets\", \"logfile.csv\")\n",
        "\n",
        "with open(path, \"r\") as file:\n",
        "    s = file.read()"
      ],
      "execution_count": 0,
      "outputs": [
        {
          "output_type": "stream",
          "text": [
            "Already up to date.\n"
          ],
          "name": "stdout"
        }
      ]
    },
    {
      "cell_type": "markdown",
      "metadata": {
        "id": "EGavNzl77n-k",
        "colab_type": "text"
      },
      "source": [
        "## The task"
      ]
    },
    {
      "cell_type": "markdown",
      "metadata": {
        "id": "TusQeM0e4XxB",
        "colab_type": "text"
      },
      "source": [
        "After executing the setup, the variable `s` should be available, holding the content of a logfile.\n",
        "\n",
        "The task is to **parse the logfile content**."
      ]
    },
    {
      "cell_type": "code",
      "metadata": {
        "id": "ECAVYUQq8uRJ",
        "colab_type": "code",
        "outputId": "6790661e-f670-4bc5-962b-bacb5088d6ca",
        "colab": {
          "base_uri": "https://localhost:8080/",
          "height": 686
        }
      },
      "source": [
        "print(s)"
      ],
      "execution_count": 0,
      "outputs": [
        {
          "output_type": "stream",
          "text": [
            "MLPy2020 logfile challenge\n",
            "\n",
            "header\n",
            "measurement date,2020-05-06\n",
            "measurement time,08:00:00\n",
            "calibration factor sig0,0.55\n",
            "calibration factor sig2,1.88\n",
            "\n",
            "measurements\n",
            "x,sig0,sig1,sig2\n",
            "5.17,6.40 Ohms,16.05 Ohms,10.61 Ohms\n",
            "9.47,34.21 Ohms,5.95 Ohms,293 mOhms\n",
            "7.65,21.11 Ohms,366 mOhms,4.80 Ohms\n",
            "2.82,36.06 Ohms,16.03 Ohms,6.39 Ohms\n",
            "2.21,30.50 Ohms,11.65 Ohms,4.36 Ohms\n",
            "6.86,6.92 Ohms,3.73 Ohms,7.39 Ohms\n",
            "1.67,21.43 Ohms,7.45 Ohms,2.67 Ohms\n",
            "3.92,28.49 Ohms,19.98 Ohms,9.47 Ohms\n",
            "6.18,324 mOhms,8.59 Ohms,9.24 Ohms\n",
            "4.12,25.24 Ohms,19.96 Ohms,9.84 Ohms\n",
            "0.02,6 mOhms,2 mOhms,1 mOhms\n",
            "8.84,36.11 Ohms,2.10 Ohms,1.35 Ohms\n",
            "8.85,36.14 Ohms,2.14 Ohms,1.33 Ohms\n",
            "3.00,36.36 Ohms,17.09 Ohms,6.98 Ohms\n",
            "5.90,108 mOhms,10.82 Ohms,9.82 Ohms\n",
            "9.78,30.57 Ohms,8.31 Ohms,49 mOhms\n",
            "8.45,33.44 Ohms,621 mOhms,2.33 Ohms\n",
            "0.65,4.06 Ohms,1.28 Ohms,438 mOhms\n",
            "2.95,36.34 Ohms,16.77 Ohms,6.79 Ohms\n",
            "2.88,36.22 Ohms,16.37 Ohms,6.57 Ohms\n",
            "8.22,30.69 Ohms,155 mOhms,2.98 Ohms\n",
            "6.26,679 mOhms,7.96 Ohms,9.05 Ohms\n",
            "1.10,10.87 Ohms,3.53 Ohms,1.23 Ohms\n",
            "0.01,0 mOhms,0 mOhms,0 mOhms\n",
            "9.42,34.62 Ohms,5.61 Ohms,347 mOhms\n",
            "1.42,16.57 Ohms,5.57 Ohms,1.97 Ohms\n",
            "4.22,23.51 Ohms,19.86 Ohms,10.01 Ohms\n",
            "3.46,34.25 Ohms,19.13 Ohms,8.35 Ohms\n",
            "8.70,35.46 Ohms,1.46 Ohms,1.68 Ohms\n",
            "4.29,22.22 Ohms,19.75 Ohms,10.11 Ohms\n"
          ],
          "name": "stdout"
        }
      ]
    },
    {
      "cell_type": "markdown",
      "metadata": {
        "id": "_p1udZjA5I1d",
        "colab_type": "text"
      },
      "source": [
        "# Python built-in functions"
      ]
    },
    {
      "cell_type": "markdown",
      "metadata": {
        "id": "_cHzailz5OlM",
        "colab_type": "text"
      },
      "source": [
        "The Python interpreter has a couple of functions build-in. They are available without any preparation. \n",
        "\n",
        "Complete list of built-in funcitons: https://docs.python.org/3/library/functions.html\n",
        "\n",
        "Some prominent examples:\n",
        "- `print`\n",
        "- `type`\n",
        "- `min`\n",
        "- `len`\n",
        "\n",
        "\n"
      ]
    },
    {
      "cell_type": "code",
      "metadata": {
        "id": "dkiHI0bBxjJJ",
        "colab_type": "code",
        "outputId": "0f75781f-0a7e-4b14-8359-445ec27bbb57",
        "colab": {
          "base_uri": "https://localhost:8080/",
          "height": 33
        }
      },
      "source": [
        "type(len)"
      ],
      "execution_count": 0,
      "outputs": [
        {
          "output_type": "execute_result",
          "data": {
            "text/plain": [
              "builtin_function_or_method"
            ]
          },
          "metadata": {
            "tags": []
          },
          "execution_count": 191
        }
      ]
    },
    {
      "cell_type": "code",
      "metadata": {
        "id": "FpCW0Jf_1woa",
        "colab_type": "code",
        "outputId": "23150414-22a1-44e4-ee72-2374c50c6de9",
        "colab": {
          "base_uri": "https://localhost:8080/",
          "height": 33
        }
      },
      "source": [
        "type(s) == str"
      ],
      "execution_count": 0,
      "outputs": [
        {
          "output_type": "execute_result",
          "data": {
            "text/plain": [
              "True"
            ]
          },
          "metadata": {
            "tags": []
          },
          "execution_count": 192
        }
      ]
    },
    {
      "cell_type": "code",
      "metadata": {
        "id": "MnvwhPR_1pyI",
        "colab_type": "code",
        "outputId": "d08dcda1-b46a-4c10-c2fd-0de7d1e6df68",
        "colab": {
          "base_uri": "https://localhost:8080/",
          "height": 33
        }
      },
      "source": [
        "len(s)"
      ],
      "execution_count": 0,
      "outputs": [
        {
          "output_type": "execute_result",
          "data": {
            "text/plain": [
              "1251"
            ]
          },
          "metadata": {
            "tags": []
          },
          "execution_count": 193
        }
      ]
    },
    {
      "cell_type": "code",
      "metadata": {
        "id": "nBge1rkV1r8Q",
        "colab_type": "code",
        "outputId": "f4fa9df1-f16f-4b6e-dbcc-37101d415237",
        "colab": {
          "base_uri": "https://localhost:8080/",
          "height": 33
        }
      },
      "source": [
        "min(s)"
      ],
      "execution_count": 0,
      "outputs": [
        {
          "output_type": "execute_result",
          "data": {
            "text/plain": [
              "'\\n'"
            ]
          },
          "metadata": {
            "tags": []
          },
          "execution_count": 194
        }
      ]
    },
    {
      "cell_type": "code",
      "metadata": {
        "id": "qqdCafg31u4j",
        "colab_type": "code",
        "outputId": "a38fc97f-e623-49a5-bc48-193dd51a1634",
        "colab": {
          "base_uri": "https://localhost:8080/",
          "height": 53
        }
      },
      "source": [
        "s"
      ],
      "execution_count": 0,
      "outputs": [
        {
          "output_type": "execute_result",
          "data": {
            "text/plain": [
              "'MLPy2020 logfile challenge\\n\\nheader\\nmeasurement date,2020-05-06\\nmeasurement time,08:00:00\\ncalibration factor sig0,0.55\\ncalibration factor sig2,1.88\\n\\nmeasurements\\nx,sig0,sig1,sig2\\n5.17,6.40 Ohms,16.05 Ohms,10.61 Ohms\\n9.47,34.21 Ohms,5.95 Ohms,293 mOhms\\n7.65,21.11 Ohms,366 mOhms,4.80 Ohms\\n2.82,36.06 Ohms,16.03 Ohms,6.39 Ohms\\n2.21,30.50 Ohms,11.65 Ohms,4.36 Ohms\\n6.86,6.92 Ohms,3.73 Ohms,7.39 Ohms\\n1.67,21.43 Ohms,7.45 Ohms,2.67 Ohms\\n3.92,28.49 Ohms,19.98 Ohms,9.47 Ohms\\n6.18,324 mOhms,8.59 Ohms,9.24 Ohms\\n4.12,25.24 Ohms,19.96 Ohms,9.84 Ohms\\n0.02,6 mOhms,2 mOhms,1 mOhms\\n8.84,36.11 Ohms,2.10 Ohms,1.35 Ohms\\n8.85,36.14 Ohms,2.14 Ohms,1.33 Ohms\\n3.00,36.36 Ohms,17.09 Ohms,6.98 Ohms\\n5.90,108 mOhms,10.82 Ohms,9.82 Ohms\\n9.78,30.57 Ohms,8.31 Ohms,49 mOhms\\n8.45,33.44 Ohms,621 mOhms,2.33 Ohms\\n0.65,4.06 Ohms,1.28 Ohms,438 mOhms\\n2.95,36.34 Ohms,16.77 Ohms,6.79 Ohms\\n2.88,36.22 Ohms,16.37 Ohms,6.57 Ohms\\n8.22,30.69 Ohms,155 mOhms,2.98 Ohms\\n6.26,679 mOhms,7.96 Ohms,9.05 Ohms\\n1.10,10.87 Ohms,3.53 Ohms,1.23 Ohms\\n0.01,0 mOhms,0 mOhms,0 mOhms\\n9.42,34.62 Ohms,5.61 Ohms,347 mOhms\\n1.42,16.57 Ohms,5.57 Ohms,1.97 Ohms\\n4.22,23.51 Ohms,19.86 Ohms,10.01 Ohms\\n3.46,34.25 Ohms,19.13 Ohms,8.35 Ohms\\n8.70,35.46 Ohms,1.46 Ohms,1.68 Ohms\\n4.29,22.22 Ohms,19.75 Ohms,10.11 Ohms'"
            ]
          },
          "metadata": {
            "tags": []
          },
          "execution_count": 195
        }
      ]
    },
    {
      "cell_type": "markdown",
      "metadata": {
        "id": "ZZHIKzriAGze",
        "colab_type": "text"
      },
      "source": [
        "# `str` object"
      ]
    },
    {
      "cell_type": "markdown",
      "metadata": {
        "id": "r9ldCe1HAT7X",
        "colab_type": "text"
      },
      "source": [
        "## Slicing"
      ]
    },
    {
      "cell_type": "markdown",
      "metadata": {
        "id": "hTz7aaq_auI2",
        "colab_type": "text"
      },
      "source": [
        "Single characters of the string can be accessed using their index in brakets `[index]`:\n",
        "\n",
        "\n"
      ]
    },
    {
      "cell_type": "code",
      "metadata": {
        "id": "_Ggs0Ttbxpz2",
        "colab_type": "code",
        "outputId": "80da4aca-569c-4d90-96c2-c20a98d49ddf",
        "colab": {
          "base_uri": "https://localhost:8080/",
          "height": 33
        }
      },
      "source": [
        "s[-1]"
      ],
      "execution_count": 0,
      "outputs": [
        {
          "output_type": "execute_result",
          "data": {
            "text/plain": [
              "'s'"
            ]
          },
          "metadata": {
            "tags": []
          },
          "execution_count": 196
        }
      ]
    },
    {
      "cell_type": "markdown",
      "metadata": {
        "id": "yVIbnsk8eHQf",
        "colab_type": "text"
      },
      "source": [
        "Ranges can also be indexed by `[start_index : end_index]`.\n",
        "The `start_index` is included, the `end_index` not!"
      ]
    },
    {
      "cell_type": "code",
      "metadata": {
        "id": "4G3z40tRxxSB",
        "colab_type": "code",
        "outputId": "9b5e7703-a4d8-47f0-abdb-edd8869ae15a",
        "colab": {
          "base_uri": "https://localhost:8080/",
          "height": 33
        }
      },
      "source": [
        "s[0:20]"
      ],
      "execution_count": 0,
      "outputs": [
        {
          "output_type": "execute_result",
          "data": {
            "text/plain": [
              "'MLPy2020 logfile cha'"
            ]
          },
          "metadata": {
            "tags": []
          },
          "execution_count": 197
        }
      ]
    },
    {
      "cell_type": "code",
      "metadata": {
        "id": "xItJLjSe27RZ",
        "colab_type": "code",
        "outputId": "940d545c-f396-43e2-b2b4-67e1d32afc49",
        "colab": {
          "base_uri": "https://localhost:8080/",
          "height": 33
        }
      },
      "source": [
        "s[20:40]"
      ],
      "execution_count": 0,
      "outputs": [
        {
          "output_type": "execute_result",
          "data": {
            "text/plain": [
              "'llenge\\n\\nheader\\nmeasu'"
            ]
          },
          "metadata": {
            "tags": []
          },
          "execution_count": 198
        }
      ]
    },
    {
      "cell_type": "code",
      "metadata": {
        "id": "Fz7LzRoe3LCy",
        "colab_type": "code",
        "outputId": "b1ef8aa6-5ff0-4679-dc88-afb22862ea63",
        "colab": {
          "base_uri": "https://localhost:8080/",
          "height": 33
        }
      },
      "source": [
        "first_line = s[:26]\n",
        "first_line"
      ],
      "execution_count": 0,
      "outputs": [
        {
          "output_type": "execute_result",
          "data": {
            "text/plain": [
              "'MLPy2020 logfile challenge'"
            ]
          },
          "metadata": {
            "tags": []
          },
          "execution_count": 199
        }
      ]
    },
    {
      "cell_type": "markdown",
      "metadata": {
        "id": "CTcC8LX_Bbxq",
        "colab_type": "text"
      },
      "source": [
        "## `str` methods"
      ]
    },
    {
      "cell_type": "markdown",
      "metadata": {
        "id": "gscHyb6KBj1c",
        "colab_type": "text"
      },
      "source": [
        "The `str` object not only contains **data**, it also contains **functions**, called **methods**."
      ]
    },
    {
      "cell_type": "code",
      "metadata": {
        "id": "YAEvoIwAx_0B",
        "colab_type": "code",
        "outputId": "a25e5e47-4e79-4125-f40c-8aa5a9b92e37",
        "colab": {
          "base_uri": "https://localhost:8080/",
          "height": 33
        }
      },
      "source": [
        "print(first_line)"
      ],
      "execution_count": 0,
      "outputs": [
        {
          "output_type": "stream",
          "text": [
            "MLPy2020 logfile challenge\n"
          ],
          "name": "stdout"
        }
      ]
    },
    {
      "cell_type": "code",
      "metadata": {
        "id": "N1h-6WeO3loc",
        "colab_type": "code",
        "outputId": "822758ee-4ab1-464d-b942-de6f77e3e774",
        "colab": {
          "base_uri": "https://localhost:8080/",
          "height": 33
        }
      },
      "source": [
        "first_line.lower()"
      ],
      "execution_count": 0,
      "outputs": [
        {
          "output_type": "execute_result",
          "data": {
            "text/plain": [
              "'mlpy2020 logfile challenge'"
            ]
          },
          "metadata": {
            "tags": []
          },
          "execution_count": 201
        }
      ]
    },
    {
      "cell_type": "code",
      "metadata": {
        "id": "K-xkZG4Z33v9",
        "colab_type": "code",
        "outputId": "a337f569-358d-4d6b-dc6a-cf8e4bd8197d",
        "colab": {
          "base_uri": "https://localhost:8080/",
          "height": 33
        }
      },
      "source": [
        "\"Holger Steffens\".split(\"e\")"
      ],
      "execution_count": 0,
      "outputs": [
        {
          "output_type": "execute_result",
          "data": {
            "text/plain": [
              "['Holg', 'r St', 'ff', 'ns']"
            ]
          },
          "metadata": {
            "tags": []
          },
          "execution_count": 202
        }
      ]
    },
    {
      "cell_type": "code",
      "metadata": {
        "id": "bm-YwYbd33tK",
        "colab_type": "code",
        "colab": {}
      },
      "source": [
        ""
      ],
      "execution_count": 0,
      "outputs": []
    },
    {
      "cell_type": "code",
      "metadata": {
        "id": "bLQZYBA833qI",
        "colab_type": "code",
        "colab": {}
      },
      "source": [
        ""
      ],
      "execution_count": 0,
      "outputs": []
    },
    {
      "cell_type": "markdown",
      "metadata": {
        "id": "erSbgTtqCxjd",
        "colab_type": "text"
      },
      "source": [
        "Split the logfile content `s` on the *new line character* `\\n`"
      ]
    },
    {
      "cell_type": "code",
      "metadata": {
        "id": "4p_PFzDMyEnS",
        "colab_type": "code",
        "outputId": "34b9bdd3-7b3d-43ef-ccbb-1f0c0ee800b7",
        "colab": {
          "base_uri": "https://localhost:8080/",
          "height": 686
        }
      },
      "source": [
        "lines = s.split(\"\\n\")\n",
        "lines"
      ],
      "execution_count": 0,
      "outputs": [
        {
          "output_type": "execute_result",
          "data": {
            "text/plain": [
              "['MLPy2020 logfile challenge',\n",
              " '',\n",
              " 'header',\n",
              " 'measurement date,2020-05-06',\n",
              " 'measurement time,08:00:00',\n",
              " 'calibration factor sig0,0.55',\n",
              " 'calibration factor sig2,1.88',\n",
              " '',\n",
              " 'measurements',\n",
              " 'x,sig0,sig1,sig2',\n",
              " '5.17,6.40 Ohms,16.05 Ohms,10.61 Ohms',\n",
              " '9.47,34.21 Ohms,5.95 Ohms,293 mOhms',\n",
              " '7.65,21.11 Ohms,366 mOhms,4.80 Ohms',\n",
              " '2.82,36.06 Ohms,16.03 Ohms,6.39 Ohms',\n",
              " '2.21,30.50 Ohms,11.65 Ohms,4.36 Ohms',\n",
              " '6.86,6.92 Ohms,3.73 Ohms,7.39 Ohms',\n",
              " '1.67,21.43 Ohms,7.45 Ohms,2.67 Ohms',\n",
              " '3.92,28.49 Ohms,19.98 Ohms,9.47 Ohms',\n",
              " '6.18,324 mOhms,8.59 Ohms,9.24 Ohms',\n",
              " '4.12,25.24 Ohms,19.96 Ohms,9.84 Ohms',\n",
              " '0.02,6 mOhms,2 mOhms,1 mOhms',\n",
              " '8.84,36.11 Ohms,2.10 Ohms,1.35 Ohms',\n",
              " '8.85,36.14 Ohms,2.14 Ohms,1.33 Ohms',\n",
              " '3.00,36.36 Ohms,17.09 Ohms,6.98 Ohms',\n",
              " '5.90,108 mOhms,10.82 Ohms,9.82 Ohms',\n",
              " '9.78,30.57 Ohms,8.31 Ohms,49 mOhms',\n",
              " '8.45,33.44 Ohms,621 mOhms,2.33 Ohms',\n",
              " '0.65,4.06 Ohms,1.28 Ohms,438 mOhms',\n",
              " '2.95,36.34 Ohms,16.77 Ohms,6.79 Ohms',\n",
              " '2.88,36.22 Ohms,16.37 Ohms,6.57 Ohms',\n",
              " '8.22,30.69 Ohms,155 mOhms,2.98 Ohms',\n",
              " '6.26,679 mOhms,7.96 Ohms,9.05 Ohms',\n",
              " '1.10,10.87 Ohms,3.53 Ohms,1.23 Ohms',\n",
              " '0.01,0 mOhms,0 mOhms,0 mOhms',\n",
              " '9.42,34.62 Ohms,5.61 Ohms,347 mOhms',\n",
              " '1.42,16.57 Ohms,5.57 Ohms,1.97 Ohms',\n",
              " '4.22,23.51 Ohms,19.86 Ohms,10.01 Ohms',\n",
              " '3.46,34.25 Ohms,19.13 Ohms,8.35 Ohms',\n",
              " '8.70,35.46 Ohms,1.46 Ohms,1.68 Ohms',\n",
              " '4.29,22.22 Ohms,19.75 Ohms,10.11 Ohms']"
            ]
          },
          "metadata": {
            "tags": []
          },
          "execution_count": 203
        }
      ]
    },
    {
      "cell_type": "code",
      "metadata": {
        "id": "wDIf_LjI4ZvS",
        "colab_type": "code",
        "outputId": "bdfe61b0-de0a-4b81-db7d-c6122de8362c",
        "colab": {
          "base_uri": "https://localhost:8080/",
          "height": 33
        }
      },
      "source": [
        "len(lines)"
      ],
      "execution_count": 0,
      "outputs": [
        {
          "output_type": "execute_result",
          "data": {
            "text/plain": [
              "40"
            ]
          },
          "metadata": {
            "tags": []
          },
          "execution_count": 204
        }
      ]
    },
    {
      "cell_type": "markdown",
      "metadata": {
        "id": "9TfP4cZ7DC3H",
        "colab_type": "text"
      },
      "source": [
        "# `list` object"
      ]
    },
    {
      "cell_type": "code",
      "metadata": {
        "id": "rczNvDukyHop",
        "colab_type": "code",
        "outputId": "8987be24-34e2-4861-ae0b-a1d8d5f6209c",
        "colab": {
          "base_uri": "https://localhost:8080/",
          "height": 33
        }
      },
      "source": [
        "lines[1]"
      ],
      "execution_count": 0,
      "outputs": [
        {
          "output_type": "execute_result",
          "data": {
            "text/plain": [
              "''"
            ]
          },
          "metadata": {
            "tags": []
          },
          "execution_count": 205
        }
      ]
    },
    {
      "cell_type": "markdown",
      "metadata": {
        "id": "NgvoX1N4FI0A",
        "colab_type": "text"
      },
      "source": [
        "`list` objects also support slicing"
      ]
    },
    {
      "cell_type": "code",
      "metadata": {
        "id": "HwyJV9NDyTop",
        "colab_type": "code",
        "colab": {}
      },
      "source": [
        ""
      ],
      "execution_count": 0,
      "outputs": []
    },
    {
      "cell_type": "markdown",
      "metadata": {
        "id": "oqvnf_kEHnOT",
        "colab_type": "text"
      },
      "source": [
        "# `for` loops"
      ]
    },
    {
      "cell_type": "markdown",
      "metadata": {
        "id": "mpffp9oM6pZ1",
        "colab_type": "text"
      },
      "source": [
        "The next step in the *logfile challenge* requires looping. \n",
        "\n",
        "- **`for`, `in`** are keywords in Python, as well as\n",
        "- **`while`**,\n",
        "- and of course there are more keywords: [all Python keywords](https://docs.python.org/3/reference/lexical_analysis.html#keywords)\n",
        "\n",
        "For a *C-style* `for` loop such as:\n",
        "\n",
        ">`lines[0]`\n",
        ">\n",
        ">`lines[1]`\n",
        ">\n",
        ">`...`\n",
        "\n",
        "we need an `index` variable. \n"
      ]
    },
    {
      "cell_type": "code",
      "metadata": {
        "id": "eWaCk2An4vbt",
        "colab_type": "code",
        "outputId": "c75a6e01-30fa-40b5-b1c0-0a5a5fccf6f3",
        "colab": {
          "base_uri": "https://localhost:8080/",
          "height": 117
        }
      },
      "source": [
        "name = \"Holger\"\n",
        "for i in range(len(name)):\n",
        "    print(i, name[i])"
      ],
      "execution_count": 0,
      "outputs": [
        {
          "output_type": "stream",
          "text": [
            "0 H\n",
            "1 o\n",
            "2 l\n",
            "3 g\n",
            "4 e\n",
            "5 r\n"
          ],
          "name": "stdout"
        }
      ]
    },
    {
      "cell_type": "code",
      "metadata": {
        "id": "fKG1FEIC4vZd",
        "colab_type": "code",
        "colab": {}
      },
      "source": [
        "if name == \"Holgers\":\n",
        "    print(\"Yes\")"
      ],
      "execution_count": 0,
      "outputs": []
    },
    {
      "cell_type": "markdown",
      "metadata": {
        "id": "9EuFqlHy5mww",
        "colab_type": "text"
      },
      "source": [
        "loop over `lines`\n",
        "\n",
        "compare each line with \"header\"\n",
        "\n",
        "if True, print line number"
      ]
    },
    {
      "cell_type": "code",
      "metadata": {
        "id": "ROtaQ7bw6J_h",
        "colab_type": "code",
        "outputId": "fb0e8c50-633b-41f9-be37-2fff08634afe",
        "colab": {
          "base_uri": "https://localhost:8080/",
          "height": 33
        }
      },
      "source": [
        "for i in range(len(lines)):\n",
        "    line = lines[i]\n",
        "\n",
        "    if line == \"header\":\n",
        "        print(\"Header found in line \" + str(i))"
      ],
      "execution_count": 0,
      "outputs": [
        {
          "output_type": "stream",
          "text": [
            "Header found in line 2\n"
          ],
          "name": "stdout"
        }
      ]
    },
    {
      "cell_type": "code",
      "metadata": {
        "id": "inHo3h4czHUp",
        "colab_type": "code",
        "colab": {}
      },
      "source": [
        ""
      ],
      "execution_count": 0,
      "outputs": []
    },
    {
      "cell_type": "markdown",
      "metadata": {
        "id": "aLwcfUp4__Gg",
        "colab_type": "text"
      },
      "source": [
        "### `list` objects are iterable\n",
        "\n",
        "Iterable objects can be looped without using an index!"
      ]
    },
    {
      "cell_type": "code",
      "metadata": {
        "id": "Ehzs8U6GzUHn",
        "colab_type": "code",
        "outputId": "9d173be7-3915-42a0-df61-c8848dfacc1c",
        "colab": {
          "base_uri": "https://localhost:8080/",
          "height": 33
        }
      },
      "source": [
        "iter(lines)"
      ],
      "execution_count": 0,
      "outputs": [
        {
          "output_type": "execute_result",
          "data": {
            "text/plain": [
              "<list_iterator at 0x7f4ab656e0f0>"
            ]
          },
          "metadata": {
            "tags": []
          },
          "execution_count": 209
        }
      ]
    },
    {
      "cell_type": "code",
      "metadata": {
        "id": "7Rzo4AVp6wwX",
        "colab_type": "code",
        "outputId": "aeb7ded6-2394-4809-d603-9a236a041966",
        "colab": {
          "base_uri": "https://localhost:8080/",
          "height": 33
        }
      },
      "source": [
        "for line in lines:\n",
        "\n",
        "    if line == \"header\":\n",
        "        print(\"Header found in line \")"
      ],
      "execution_count": 0,
      "outputs": [
        {
          "output_type": "stream",
          "text": [
            "Header found in line \n"
          ],
          "name": "stdout"
        }
      ]
    },
    {
      "cell_type": "code",
      "metadata": {
        "id": "wNlU2P2g6wp0",
        "colab_type": "code",
        "colab": {}
      },
      "source": [
        ""
      ],
      "execution_count": 0,
      "outputs": []
    },
    {
      "cell_type": "markdown",
      "metadata": {
        "id": "RAowUwFjVh4y",
        "colab_type": "text"
      },
      "source": [
        "## `enumerate` operator"
      ]
    },
    {
      "cell_type": "markdown",
      "metadata": {
        "id": "MoNenA8sVovq",
        "colab_type": "text"
      },
      "source": [
        "if an index is required, use `enumerate`"
      ]
    },
    {
      "cell_type": "code",
      "metadata": {
        "id": "piVGHu7y0I-q",
        "colab_type": "code",
        "outputId": "06194314-aadd-48c0-e4ac-78016fae53d1",
        "colab": {
          "base_uri": "https://localhost:8080/",
          "height": 33
        }
      },
      "source": [
        "for i, line in enumerate(lines):\n",
        "\n",
        "    if line == \"header\":\n",
        "        print(\"Header found in line \" + str(i))"
      ],
      "execution_count": 0,
      "outputs": [
        {
          "output_type": "stream",
          "text": [
            "Header found in line 2\n"
          ],
          "name": "stdout"
        }
      ]
    },
    {
      "cell_type": "markdown",
      "metadata": {
        "id": "2sPjqImpX1mw",
        "colab_type": "text"
      },
      "source": [
        "# Dictionary `dict`"
      ]
    },
    {
      "cell_type": "code",
      "metadata": {
        "id": "aQwpUGeiXwWO",
        "colab_type": "code",
        "colab": {}
      },
      "source": [
        "idxs = dict()"
      ],
      "execution_count": 0,
      "outputs": []
    },
    {
      "cell_type": "code",
      "metadata": {
        "id": "4KcJQz6c8h8E",
        "colab_type": "code",
        "colab": {}
      },
      "source": [
        "idxs = {}"
      ],
      "execution_count": 0,
      "outputs": []
    },
    {
      "cell_type": "code",
      "metadata": {
        "id": "1xAuSr2TYApw",
        "colab_type": "code",
        "outputId": "0d0c0c89-94ad-4b10-dced-79c16c00df5e",
        "colab": {
          "base_uri": "https://localhost:8080/",
          "height": 33
        }
      },
      "source": [
        "idxs"
      ],
      "execution_count": 0,
      "outputs": [
        {
          "output_type": "execute_result",
          "data": {
            "text/plain": [
              "{}"
            ]
          },
          "metadata": {
            "tags": []
          },
          "execution_count": 214
        }
      ]
    },
    {
      "cell_type": "code",
      "metadata": {
        "id": "Hm0rickv7jKf",
        "colab_type": "code",
        "colab": {}
      },
      "source": [
        " keys = ['header','measurements']"
      ],
      "execution_count": 0,
      "outputs": []
    },
    {
      "cell_type": "code",
      "metadata": {
        "id": "ZosD48Be7jHq",
        "colab_type": "code",
        "outputId": "991d2ff8-b2af-4b03-d19e-bfebef9e3134",
        "colab": {
          "base_uri": "https://localhost:8080/",
          "height": 33
        }
      },
      "source": [
        "type(keys)"
      ],
      "execution_count": 0,
      "outputs": [
        {
          "output_type": "execute_result",
          "data": {
            "text/plain": [
              "list"
            ]
          },
          "metadata": {
            "tags": []
          },
          "execution_count": 216
        }
      ]
    },
    {
      "cell_type": "code",
      "metadata": {
        "id": "D8QTaejb0uF7",
        "colab_type": "code",
        "outputId": "9599793d-2d43-489e-acea-de6ba2c23f1b",
        "colab": {
          "base_uri": "https://localhost:8080/",
          "height": 50
        }
      },
      "source": [
        "for i, line in enumerate(lines):\n",
        "\n",
        "    if line in keys:\n",
        "        idxs[line] = i\n",
        "        print(line + \" found in line \" + str(i))"
      ],
      "execution_count": 0,
      "outputs": [
        {
          "output_type": "stream",
          "text": [
            "header found in line 2\n",
            "measurements found in line 8\n"
          ],
          "name": "stdout"
        }
      ]
    },
    {
      "cell_type": "code",
      "metadata": {
        "id": "bOLLrliO8DVW",
        "colab_type": "code",
        "outputId": "bf281dae-bfa9-46cd-e75f-3b3f94d88c5b",
        "colab": {
          "base_uri": "https://localhost:8080/",
          "height": 33
        }
      },
      "source": [
        "idxs"
      ],
      "execution_count": 0,
      "outputs": [
        {
          "output_type": "execute_result",
          "data": {
            "text/plain": [
              "{'header': 2, 'measurements': 8}"
            ]
          },
          "metadata": {
            "tags": []
          },
          "execution_count": 218
        }
      ]
    },
    {
      "cell_type": "code",
      "metadata": {
        "id": "xPw2S35605G5",
        "colab_type": "code",
        "outputId": "8c577b99-b297-4e48-9515-ea4f07ea258c",
        "colab": {
          "base_uri": "https://localhost:8080/",
          "height": 33
        }
      },
      "source": [
        "idxs[\"header\"]"
      ],
      "execution_count": 0,
      "outputs": [
        {
          "output_type": "execute_result",
          "data": {
            "text/plain": [
              "2"
            ]
          },
          "metadata": {
            "tags": []
          },
          "execution_count": 219
        }
      ]
    },
    {
      "cell_type": "code",
      "metadata": {
        "id": "AJUrPgDF8_EG",
        "colab_type": "code",
        "outputId": "b711c654-f3d1-4e3f-9493-8361db2cdcf0",
        "colab": {
          "base_uri": "https://localhost:8080/",
          "height": 686
        }
      },
      "source": [
        "lines"
      ],
      "execution_count": 0,
      "outputs": [
        {
          "output_type": "execute_result",
          "data": {
            "text/plain": [
              "['MLPy2020 logfile challenge',\n",
              " '',\n",
              " 'header',\n",
              " 'measurement date,2020-05-06',\n",
              " 'measurement time,08:00:00',\n",
              " 'calibration factor sig0,0.55',\n",
              " 'calibration factor sig2,1.88',\n",
              " '',\n",
              " 'measurements',\n",
              " 'x,sig0,sig1,sig2',\n",
              " '5.17,6.40 Ohms,16.05 Ohms,10.61 Ohms',\n",
              " '9.47,34.21 Ohms,5.95 Ohms,293 mOhms',\n",
              " '7.65,21.11 Ohms,366 mOhms,4.80 Ohms',\n",
              " '2.82,36.06 Ohms,16.03 Ohms,6.39 Ohms',\n",
              " '2.21,30.50 Ohms,11.65 Ohms,4.36 Ohms',\n",
              " '6.86,6.92 Ohms,3.73 Ohms,7.39 Ohms',\n",
              " '1.67,21.43 Ohms,7.45 Ohms,2.67 Ohms',\n",
              " '3.92,28.49 Ohms,19.98 Ohms,9.47 Ohms',\n",
              " '6.18,324 mOhms,8.59 Ohms,9.24 Ohms',\n",
              " '4.12,25.24 Ohms,19.96 Ohms,9.84 Ohms',\n",
              " '0.02,6 mOhms,2 mOhms,1 mOhms',\n",
              " '8.84,36.11 Ohms,2.10 Ohms,1.35 Ohms',\n",
              " '8.85,36.14 Ohms,2.14 Ohms,1.33 Ohms',\n",
              " '3.00,36.36 Ohms,17.09 Ohms,6.98 Ohms',\n",
              " '5.90,108 mOhms,10.82 Ohms,9.82 Ohms',\n",
              " '9.78,30.57 Ohms,8.31 Ohms,49 mOhms',\n",
              " '8.45,33.44 Ohms,621 mOhms,2.33 Ohms',\n",
              " '0.65,4.06 Ohms,1.28 Ohms,438 mOhms',\n",
              " '2.95,36.34 Ohms,16.77 Ohms,6.79 Ohms',\n",
              " '2.88,36.22 Ohms,16.37 Ohms,6.57 Ohms',\n",
              " '8.22,30.69 Ohms,155 mOhms,2.98 Ohms',\n",
              " '6.26,679 mOhms,7.96 Ohms,9.05 Ohms',\n",
              " '1.10,10.87 Ohms,3.53 Ohms,1.23 Ohms',\n",
              " '0.01,0 mOhms,0 mOhms,0 mOhms',\n",
              " '9.42,34.62 Ohms,5.61 Ohms,347 mOhms',\n",
              " '1.42,16.57 Ohms,5.57 Ohms,1.97 Ohms',\n",
              " '4.22,23.51 Ohms,19.86 Ohms,10.01 Ohms',\n",
              " '3.46,34.25 Ohms,19.13 Ohms,8.35 Ohms',\n",
              " '8.70,35.46 Ohms,1.46 Ohms,1.68 Ohms',\n",
              " '4.29,22.22 Ohms,19.75 Ohms,10.11 Ohms']"
            ]
          },
          "metadata": {
            "tags": []
          },
          "execution_count": 220
        }
      ]
    },
    {
      "cell_type": "code",
      "metadata": {
        "id": "DSg-7UNL8_Bi",
        "colab_type": "code",
        "outputId": "aa5cfa16-2c66-4c7d-d76e-d37e63685eea",
        "colab": {
          "base_uri": "https://localhost:8080/",
          "height": 33
        }
      },
      "source": [
        "idxs[\"names\"] = idxs[\"measurements\"] + 1\n",
        "idxs"
      ],
      "execution_count": 0,
      "outputs": [
        {
          "output_type": "execute_result",
          "data": {
            "text/plain": [
              "{'header': 2, 'measurements': 8, 'names': 9}"
            ]
          },
          "metadata": {
            "tags": []
          },
          "execution_count": 221
        }
      ]
    },
    {
      "cell_type": "code",
      "metadata": {
        "id": "WoKtLfzj8-94",
        "colab_type": "code",
        "outputId": "7f776845-ae52-4b21-b301-68112ed7e924",
        "colab": {
          "base_uri": "https://localhost:8080/",
          "height": 33
        }
      },
      "source": [
        "lines[idxs[\"names\"]]"
      ],
      "execution_count": 0,
      "outputs": [
        {
          "output_type": "execute_result",
          "data": {
            "text/plain": [
              "'x,sig0,sig1,sig2'"
            ]
          },
          "metadata": {
            "tags": []
          },
          "execution_count": 222
        }
      ]
    },
    {
      "cell_type": "code",
      "metadata": {
        "id": "llw7pqAT9dvA",
        "colab_type": "code",
        "colab": {}
      },
      "source": [
        "idxs[\"params_begin\"] = idxs[\"header\"] + 1\n",
        "idxs[\"params_end\"] = idxs[\"measurements\"] - 1\n",
        "idxs[\"data\"] = idxs[\"names\"] + 1"
      ],
      "execution_count": 0,
      "outputs": []
    },
    {
      "cell_type": "code",
      "metadata": {
        "id": "xxQfsKEB9dfN",
        "colab_type": "code",
        "outputId": "749405ee-d431-4bb6-a807-3389a88ab848",
        "colab": {
          "base_uri": "https://localhost:8080/",
          "height": 117
        }
      },
      "source": [
        "idxs"
      ],
      "execution_count": 0,
      "outputs": [
        {
          "output_type": "execute_result",
          "data": {
            "text/plain": [
              "{'data': 10,\n",
              " 'header': 2,\n",
              " 'measurements': 8,\n",
              " 'names': 9,\n",
              " 'params_begin': 3,\n",
              " 'params_end': 7}"
            ]
          },
          "metadata": {
            "tags": []
          },
          "execution_count": 224
        }
      ]
    },
    {
      "cell_type": "code",
      "metadata": {
        "id": "ppq9-3qU92t8",
        "colab_type": "code",
        "outputId": "dc4f34a4-8461-4915-ca26-44f815622320",
        "colab": {
          "base_uri": "https://localhost:8080/",
          "height": 33
        }
      },
      "source": [
        "idxs.keys()"
      ],
      "execution_count": 0,
      "outputs": [
        {
          "output_type": "execute_result",
          "data": {
            "text/plain": [
              "dict_keys(['header', 'measurements', 'names', 'params_begin', 'params_end', 'data'])"
            ]
          },
          "metadata": {
            "tags": []
          },
          "execution_count": 225
        }
      ]
    },
    {
      "cell_type": "code",
      "metadata": {
        "id": "mtCXYPrU92d7",
        "colab_type": "code",
        "outputId": "f9e53ad9-7af2-43fe-f67c-91eaeeaf51cc",
        "colab": {
          "base_uri": "https://localhost:8080/",
          "height": 33
        }
      },
      "source": [
        "idxs.values()"
      ],
      "execution_count": 0,
      "outputs": [
        {
          "output_type": "execute_result",
          "data": {
            "text/plain": [
              "dict_values([2, 8, 9, 3, 7, 10])"
            ]
          },
          "metadata": {
            "tags": []
          },
          "execution_count": 226
        }
      ]
    },
    {
      "cell_type": "code",
      "metadata": {
        "id": "iBqfFGrK92bm",
        "colab_type": "code",
        "outputId": "ce7e9450-5aa3-40a9-8cb8-2af135a8d999",
        "colab": {
          "base_uri": "https://localhost:8080/",
          "height": 33
        }
      },
      "source": [
        "idxs.items()"
      ],
      "execution_count": 0,
      "outputs": [
        {
          "output_type": "execute_result",
          "data": {
            "text/plain": [
              "dict_items([('header', 2), ('measurements', 8), ('names', 9), ('params_begin', 3), ('params_end', 7), ('data', 10)])"
            ]
          },
          "metadata": {
            "tags": []
          },
          "execution_count": 227
        }
      ]
    },
    {
      "cell_type": "code",
      "metadata": {
        "id": "QZb6uqRD92YK",
        "colab_type": "code",
        "colab": {}
      },
      "source": [
        "items = idxs.items()"
      ],
      "execution_count": 0,
      "outputs": []
    },
    {
      "cell_type": "code",
      "metadata": {
        "id": "lfS0c8EM-Mwr",
        "colab_type": "code",
        "outputId": "3d723d95-409e-4309-df1f-368f25c7c705",
        "colab": {
          "base_uri": "https://localhost:8080/",
          "height": 33
        }
      },
      "source": [
        "type(items)"
      ],
      "execution_count": 0,
      "outputs": [
        {
          "output_type": "execute_result",
          "data": {
            "text/plain": [
              "dict_items"
            ]
          },
          "metadata": {
            "tags": []
          },
          "execution_count": 229
        }
      ]
    },
    {
      "cell_type": "code",
      "metadata": {
        "id": "RSW8cZC5-Qwr",
        "colab_type": "code",
        "outputId": "42287ca7-9be4-4e86-f95d-f6cc4565fade",
        "colab": {
          "base_uri": "https://localhost:8080/",
          "height": 117
        }
      },
      "source": [
        "for item in idxs.items():\n",
        "    print(item)"
      ],
      "execution_count": 0,
      "outputs": [
        {
          "output_type": "stream",
          "text": [
            "('header', 2)\n",
            "('measurements', 8)\n",
            "('names', 9)\n",
            "('params_begin', 3)\n",
            "('params_end', 7)\n",
            "('data', 10)\n"
          ],
          "name": "stdout"
        }
      ]
    },
    {
      "cell_type": "code",
      "metadata": {
        "id": "8tfNOBXL-Qt4",
        "colab_type": "code",
        "outputId": "20617c33-eb00-4ee5-eb9e-8ab7caecfbc7",
        "colab": {
          "base_uri": "https://localhost:8080/",
          "height": 33
        }
      },
      "source": [
        "type(item)"
      ],
      "execution_count": 0,
      "outputs": [
        {
          "output_type": "execute_result",
          "data": {
            "text/plain": [
              "tuple"
            ]
          },
          "metadata": {
            "tags": []
          },
          "execution_count": 231
        }
      ]
    },
    {
      "cell_type": "code",
      "metadata": {
        "id": "mELmppj69dbM",
        "colab_type": "code",
        "colab": {}
      },
      "source": [
        ""
      ],
      "execution_count": 0,
      "outputs": []
    },
    {
      "cell_type": "markdown",
      "metadata": {
        "id": "Q-JmY8k2DYFu",
        "colab_type": "text"
      },
      "source": [
        "# Table of Python containers\n",
        "|Python container|list|tuple|set|dictionary|\n",
        "|---|---|---|---|---|\n",
        "|creation|`li = [1, 1, \"Hi!\"]`|`tup = (1, 1, \"Hi!\")`|`se = set([1, 1, \"Hi!\"])`|`d = {\"Musk\":\"Elon\", \"Bezos\":\"Jeff\"}`|\n",
        "|print return|`[1, 1, 'Hi!']`|`(1, 1, 'Hi!')`|`{1, 'Hi!'}`|`{'Musk': 'Elon', 'Bezos': 'Jeff'}`|\n",
        "|mutablility|mutable|**immutable**|mutable|mutable|\n",
        "|slicing|yes, `li[0]` --> `1`|no slicing|yes, `li[0]` --> `1`|no slicing|\n",
        "|primary usage|basic container with<br>`append()` method|use if data doesn't<br>change|- set operations: `union`, `diff`,<br>- get unique values|lookup table|\n",
        "\n"
      ]
    },
    {
      "cell_type": "code",
      "metadata": {
        "id": "sNiHxhW3BfG1",
        "colab_type": "code",
        "outputId": "95b96748-87ef-463c-ddb9-d3c6f9c1781b",
        "colab": {
          "base_uri": "https://localhost:8080/",
          "height": 33
        }
      },
      "source": [
        "li = [1, 1, \"Hi!\"]\n",
        "li.append(42)\n",
        "li"
      ],
      "execution_count": 0,
      "outputs": [
        {
          "output_type": "execute_result",
          "data": {
            "text/plain": [
              "[1, 1, 'Hi!', 42]"
            ]
          },
          "metadata": {
            "tags": []
          },
          "execution_count": 232
        }
      ]
    },
    {
      "cell_type": "code",
      "metadata": {
        "id": "tUOEmBfd_gK0",
        "colab_type": "code",
        "outputId": "7dd2d041-47a2-453e-fba6-663aee2855dc",
        "colab": {
          "base_uri": "https://localhost:8080/",
          "height": 33
        }
      },
      "source": [
        "set(li)"
      ],
      "execution_count": 0,
      "outputs": [
        {
          "output_type": "execute_result",
          "data": {
            "text/plain": [
              "{1, 42, 'Hi!'}"
            ]
          },
          "metadata": {
            "tags": []
          },
          "execution_count": 233
        }
      ]
    },
    {
      "cell_type": "code",
      "metadata": {
        "id": "QyNlY44nCr4g",
        "colab_type": "code",
        "outputId": "0efc9b28-6b7b-426c-ae54-6eedd03046d6",
        "colab": {
          "base_uri": "https://localhost:8080/",
          "height": 669
        }
      },
      "source": [
        "all_char = set(s)\n",
        "all_char"
      ],
      "execution_count": 0,
      "outputs": [
        {
          "output_type": "execute_result",
          "data": {
            "text/plain": [
              "{'\\n',\n",
              " ' ',\n",
              " ',',\n",
              " '-',\n",
              " '.',\n",
              " '0',\n",
              " '1',\n",
              " '2',\n",
              " '3',\n",
              " '4',\n",
              " '5',\n",
              " '6',\n",
              " '7',\n",
              " '8',\n",
              " '9',\n",
              " ':',\n",
              " 'L',\n",
              " 'M',\n",
              " 'O',\n",
              " 'P',\n",
              " 'a',\n",
              " 'b',\n",
              " 'c',\n",
              " 'd',\n",
              " 'e',\n",
              " 'f',\n",
              " 'g',\n",
              " 'h',\n",
              " 'i',\n",
              " 'l',\n",
              " 'm',\n",
              " 'n',\n",
              " 'o',\n",
              " 'r',\n",
              " 's',\n",
              " 't',\n",
              " 'u',\n",
              " 'x',\n",
              " 'y'}"
            ]
          },
          "metadata": {
            "tags": []
          },
          "execution_count": 234
        }
      ]
    },
    {
      "cell_type": "code",
      "metadata": {
        "id": "qQi60xjVCr9q",
        "colab_type": "code",
        "colab": {}
      },
      "source": [
        "FORBIDDEN_CHAR = \"LMNXYZ\""
      ],
      "execution_count": 0,
      "outputs": []
    },
    {
      "cell_type": "code",
      "metadata": {
        "id": "HCsWoH9WC9qm",
        "colab_type": "code",
        "outputId": "65ec7168-09e8-42bb-ac3d-96a82f27f9d5",
        "colab": {
          "base_uri": "https://localhost:8080/",
          "height": 33
        }
      },
      "source": [
        "all_char.intersection(set(FORBIDDEN_CHAR))"
      ],
      "execution_count": 0,
      "outputs": [
        {
          "output_type": "execute_result",
          "data": {
            "text/plain": [
              "{'L', 'M'}"
            ]
          },
          "metadata": {
            "tags": []
          },
          "execution_count": 236
        }
      ]
    },
    {
      "cell_type": "code",
      "metadata": {
        "id": "0M3ldKg5CsA4",
        "colab_type": "code",
        "colab": {}
      },
      "source": [
        ""
      ],
      "execution_count": 0,
      "outputs": []
    },
    {
      "cell_type": "markdown",
      "metadata": {
        "id": "MGbfJcp8wR_x",
        "colab_type": "text"
      },
      "source": [
        "# Return to the 'Logfile challenge'"
      ]
    },
    {
      "cell_type": "code",
      "metadata": {
        "id": "Le_cV3L5DiJR",
        "colab_type": "code",
        "outputId": "9a260b5e-2cad-48d2-e096-dd6044424811",
        "colab": {
          "base_uri": "https://localhost:8080/",
          "height": 686
        }
      },
      "source": [
        "lines"
      ],
      "execution_count": 0,
      "outputs": [
        {
          "output_type": "execute_result",
          "data": {
            "text/plain": [
              "['MLPy2020 logfile challenge',\n",
              " '',\n",
              " 'header',\n",
              " 'measurement date,2020-05-06',\n",
              " 'measurement time,08:00:00',\n",
              " 'calibration factor sig0,0.55',\n",
              " 'calibration factor sig2,1.88',\n",
              " '',\n",
              " 'measurements',\n",
              " 'x,sig0,sig1,sig2',\n",
              " '5.17,6.40 Ohms,16.05 Ohms,10.61 Ohms',\n",
              " '9.47,34.21 Ohms,5.95 Ohms,293 mOhms',\n",
              " '7.65,21.11 Ohms,366 mOhms,4.80 Ohms',\n",
              " '2.82,36.06 Ohms,16.03 Ohms,6.39 Ohms',\n",
              " '2.21,30.50 Ohms,11.65 Ohms,4.36 Ohms',\n",
              " '6.86,6.92 Ohms,3.73 Ohms,7.39 Ohms',\n",
              " '1.67,21.43 Ohms,7.45 Ohms,2.67 Ohms',\n",
              " '3.92,28.49 Ohms,19.98 Ohms,9.47 Ohms',\n",
              " '6.18,324 mOhms,8.59 Ohms,9.24 Ohms',\n",
              " '4.12,25.24 Ohms,19.96 Ohms,9.84 Ohms',\n",
              " '0.02,6 mOhms,2 mOhms,1 mOhms',\n",
              " '8.84,36.11 Ohms,2.10 Ohms,1.35 Ohms',\n",
              " '8.85,36.14 Ohms,2.14 Ohms,1.33 Ohms',\n",
              " '3.00,36.36 Ohms,17.09 Ohms,6.98 Ohms',\n",
              " '5.90,108 mOhms,10.82 Ohms,9.82 Ohms',\n",
              " '9.78,30.57 Ohms,8.31 Ohms,49 mOhms',\n",
              " '8.45,33.44 Ohms,621 mOhms,2.33 Ohms',\n",
              " '0.65,4.06 Ohms,1.28 Ohms,438 mOhms',\n",
              " '2.95,36.34 Ohms,16.77 Ohms,6.79 Ohms',\n",
              " '2.88,36.22 Ohms,16.37 Ohms,6.57 Ohms',\n",
              " '8.22,30.69 Ohms,155 mOhms,2.98 Ohms',\n",
              " '6.26,679 mOhms,7.96 Ohms,9.05 Ohms',\n",
              " '1.10,10.87 Ohms,3.53 Ohms,1.23 Ohms',\n",
              " '0.01,0 mOhms,0 mOhms,0 mOhms',\n",
              " '9.42,34.62 Ohms,5.61 Ohms,347 mOhms',\n",
              " '1.42,16.57 Ohms,5.57 Ohms,1.97 Ohms',\n",
              " '4.22,23.51 Ohms,19.86 Ohms,10.01 Ohms',\n",
              " '3.46,34.25 Ohms,19.13 Ohms,8.35 Ohms',\n",
              " '8.70,35.46 Ohms,1.46 Ohms,1.68 Ohms',\n",
              " '4.29,22.22 Ohms,19.75 Ohms,10.11 Ohms']"
            ]
          },
          "metadata": {
            "tags": []
          },
          "execution_count": 237
        }
      ]
    },
    {
      "cell_type": "code",
      "metadata": {
        "id": "No_YsiE_DiGV",
        "colab_type": "code",
        "outputId": "cae6c1e3-1dd5-4f2f-a1d4-eaa3d0f1e6f1",
        "colab": {
          "base_uri": "https://localhost:8080/",
          "height": 117
        }
      },
      "source": [
        "idxs"
      ],
      "execution_count": 0,
      "outputs": [
        {
          "output_type": "execute_result",
          "data": {
            "text/plain": [
              "{'data': 10,\n",
              " 'header': 2,\n",
              " 'measurements': 8,\n",
              " 'names': 9,\n",
              " 'params_begin': 3,\n",
              " 'params_end': 7}"
            ]
          },
          "metadata": {
            "tags": []
          },
          "execution_count": 238
        }
      ]
    },
    {
      "cell_type": "code",
      "metadata": {
        "id": "RsIXu585Dm5U",
        "colab_type": "code",
        "outputId": "218a31df-4be5-480f-8ded-9ef9dd347316",
        "colab": {
          "base_uri": "https://localhost:8080/",
          "height": 84
        }
      },
      "source": [
        "param_lines = lines[idxs['params_begin'] : idxs['params_end']]\n",
        "param_lines"
      ],
      "execution_count": 0,
      "outputs": [
        {
          "output_type": "execute_result",
          "data": {
            "text/plain": [
              "['measurement date,2020-05-06',\n",
              " 'measurement time,08:00:00',\n",
              " 'calibration factor sig0,0.55',\n",
              " 'calibration factor sig2,1.88']"
            ]
          },
          "metadata": {
            "tags": []
          },
          "execution_count": 239
        }
      ]
    },
    {
      "cell_type": "code",
      "metadata": {
        "id": "TFkXtTdUDm2p",
        "colab_type": "code",
        "colab": {}
      },
      "source": [
        "data_lines = lines[idxs['data'] : ]"
      ],
      "execution_count": 0,
      "outputs": []
    },
    {
      "cell_type": "code",
      "metadata": {
        "id": "snBTMAvhDiC1",
        "colab_type": "code",
        "outputId": "023b72f4-ca1e-4096-c39a-e82029de2489",
        "colab": {
          "base_uri": "https://localhost:8080/",
          "height": 33
        }
      },
      "source": [
        "names = lines[idxs[\"names\"]].split(\",\")\n",
        "names"
      ],
      "execution_count": 0,
      "outputs": [
        {
          "output_type": "execute_result",
          "data": {
            "text/plain": [
              "['x', 'sig0', 'sig1', 'sig2']"
            ]
          },
          "metadata": {
            "tags": []
          },
          "execution_count": 241
        }
      ]
    },
    {
      "cell_type": "code",
      "metadata": {
        "id": "JYFdTOMZEJ96",
        "colab_type": "code",
        "outputId": "f2b02c39-f73c-4738-e3c8-a8e098234888",
        "colab": {
          "base_uri": "https://localhost:8080/",
          "height": 84
        }
      },
      "source": [
        "param_lines"
      ],
      "execution_count": 0,
      "outputs": [
        {
          "output_type": "execute_result",
          "data": {
            "text/plain": [
              "['measurement date,2020-05-06',\n",
              " 'measurement time,08:00:00',\n",
              " 'calibration factor sig0,0.55',\n",
              " 'calibration factor sig2,1.88']"
            ]
          },
          "metadata": {
            "tags": []
          },
          "execution_count": 242
        }
      ]
    },
    {
      "cell_type": "code",
      "metadata": {
        "id": "kvSqPctAEJ4u",
        "colab_type": "code",
        "colab": {}
      },
      "source": [
        "params = dict()\n",
        "for line in param_lines:\n",
        "    key, value = line.split(\",\")\n",
        "    params[key] = value"
      ],
      "execution_count": 0,
      "outputs": []
    },
    {
      "cell_type": "code",
      "metadata": {
        "id": "yvr9_R-WErIE",
        "colab_type": "code",
        "outputId": "a4c64f04-edd0-40ef-86e4-b93630572451",
        "colab": {
          "base_uri": "https://localhost:8080/",
          "height": 84
        }
      },
      "source": [
        "params"
      ],
      "execution_count": 0,
      "outputs": [
        {
          "output_type": "execute_result",
          "data": {
            "text/plain": [
              "{'calibration factor sig0': '0.55',\n",
              " 'calibration factor sig2': '1.88',\n",
              " 'measurement date': '2020-05-06',\n",
              " 'measurement time': '08:00:00'}"
            ]
          },
          "metadata": {
            "tags": []
          },
          "execution_count": 244
        }
      ]
    },
    {
      "cell_type": "code",
      "metadata": {
        "id": "DmTUV81dEJ05",
        "colab_type": "code",
        "outputId": "e15e521f-ff4c-4164-a488-0fbfd9ea7d51",
        "colab": {
          "base_uri": "https://localhost:8080/",
          "height": 33
        }
      },
      "source": [
        "params[\"measurement time\"]"
      ],
      "execution_count": 0,
      "outputs": [
        {
          "output_type": "execute_result",
          "data": {
            "text/plain": [
              "'08:00:00'"
            ]
          },
          "metadata": {
            "tags": []
          },
          "execution_count": 245
        }
      ]
    },
    {
      "cell_type": "code",
      "metadata": {
        "id": "tIuX81f3E-IL",
        "colab_type": "code",
        "outputId": "9c71c35c-d4d1-4328-893e-133b7e4fad4d",
        "colab": {
          "base_uri": "https://localhost:8080/",
          "height": 33
        }
      },
      "source": [
        "data_line = data_lines[0]\n",
        "data_line"
      ],
      "execution_count": 0,
      "outputs": [
        {
          "output_type": "execute_result",
          "data": {
            "text/plain": [
              "'5.17,6.40 Ohms,16.05 Ohms,10.61 Ohms'"
            ]
          },
          "metadata": {
            "tags": []
          },
          "execution_count": 246
        }
      ]
    },
    {
      "cell_type": "code",
      "metadata": {
        "id": "OIc9c1ZDE-Fs",
        "colab_type": "code",
        "outputId": "e8f75cca-2a42-4ebb-9bc8-c8afe4875426",
        "colab": {
          "base_uri": "https://localhost:8080/",
          "height": 33
        }
      },
      "source": [
        "data_line.split(\",\")"
      ],
      "execution_count": 0,
      "outputs": [
        {
          "output_type": "execute_result",
          "data": {
            "text/plain": [
              "['5.17', '6.40 Ohms', '16.05 Ohms', '10.61 Ohms']"
            ]
          },
          "metadata": {
            "tags": []
          },
          "execution_count": 247
        }
      ]
    },
    {
      "cell_type": "code",
      "metadata": {
        "id": "lzSZhk9E1Bdx",
        "colab_type": "code",
        "outputId": "e375d125-2665-4ce0-a533-5cb4c1c76e52",
        "colab": {
          "base_uri": "https://localhost:8080/",
          "height": 245
        }
      },
      "source": [
        "for item in data_line.split(\",\"):\n",
        "    print(item)\n",
        "    print(float(item))"
      ],
      "execution_count": 0,
      "outputs": [
        {
          "output_type": "stream",
          "text": [
            "5.17\n",
            "5.17\n",
            "6.40 Ohms\n"
          ],
          "name": "stdout"
        },
        {
          "output_type": "error",
          "ename": "ValueError",
          "evalue": "ignored",
          "traceback": [
            "\u001b[0;31m---------------------------------------------------------------------------\u001b[0m",
            "\u001b[0;31mValueError\u001b[0m                                Traceback (most recent call last)",
            "\u001b[0;32m<ipython-input-249-44c37eb49bff>\u001b[0m in \u001b[0;36m<module>\u001b[0;34m()\u001b[0m\n\u001b[1;32m      1\u001b[0m \u001b[0;32mfor\u001b[0m \u001b[0mitem\u001b[0m \u001b[0;32min\u001b[0m \u001b[0mdata_line\u001b[0m\u001b[0;34m.\u001b[0m\u001b[0msplit\u001b[0m\u001b[0;34m(\u001b[0m\u001b[0;34m\",\"\u001b[0m\u001b[0;34m)\u001b[0m\u001b[0;34m:\u001b[0m\u001b[0;34m\u001b[0m\u001b[0;34m\u001b[0m\u001b[0m\n\u001b[1;32m      2\u001b[0m     \u001b[0mprint\u001b[0m\u001b[0;34m(\u001b[0m\u001b[0mitem\u001b[0m\u001b[0;34m)\u001b[0m\u001b[0;34m\u001b[0m\u001b[0;34m\u001b[0m\u001b[0m\n\u001b[0;32m----> 3\u001b[0;31m     \u001b[0mprint\u001b[0m\u001b[0;34m(\u001b[0m\u001b[0mfloat\u001b[0m\u001b[0;34m(\u001b[0m\u001b[0mitem\u001b[0m\u001b[0;34m)\u001b[0m\u001b[0;34m)\u001b[0m\u001b[0;34m\u001b[0m\u001b[0;34m\u001b[0m\u001b[0m\n\u001b[0m",
            "\u001b[0;31mValueError\u001b[0m: could not convert string to float: '6.40 Ohms'"
          ]
        }
      ]
    },
    {
      "cell_type": "code",
      "metadata": {
        "id": "UM6EFpeoFjmA",
        "colab_type": "code",
        "colab": {}
      },
      "source": [
        "\"Ohms\" in item "
      ],
      "execution_count": 0,
      "outputs": []
    },
    {
      "cell_type": "code",
      "metadata": {
        "id": "LreyDJUyFjPD",
        "colab_type": "code",
        "colab": {}
      },
      "source": [
        ""
      ],
      "execution_count": 0,
      "outputs": []
    },
    {
      "cell_type": "markdown",
      "metadata": {
        "id": "ebTUEROM6RD2",
        "colab_type": "text"
      },
      "source": [
        "## Functions"
      ]
    },
    {
      "cell_type": "markdown",
      "metadata": {
        "id": "mBDAw97P6V8H",
        "colab_type": "text"
      },
      "source": [
        "A function is needs that:\n",
        "- takes a `str` input\n",
        "- converts the `str` to a `float`\n",
        "- removes `Ohms` text\n",
        "- removes `mOhms` text and divides the value by 1000\n",
        "\n",
        "Before programming the actual functionality, it is good practivce to write the test bench first:\n"
      ]
    },
    {
      "cell_type": "code",
      "metadata": {
        "id": "Nf9BzBWhF3qR",
        "colab_type": "code",
        "colab": {}
      },
      "source": [
        "data_line += \",987 mOhms\"\n",
        "data_line"
      ],
      "execution_count": 0,
      "outputs": []
    },
    {
      "cell_type": "code",
      "metadata": {
        "id": "x11lrnvoJ_E2",
        "colab_type": "code",
        "colab": {}
      },
      "source": [
        "'6.40 Ohms'.split(\" \")[0]"
      ],
      "execution_count": 0,
      "outputs": []
    },
    {
      "cell_type": "code",
      "metadata": {
        "id": "SblopmkdJ_A0",
        "colab_type": "code",
        "colab": {}
      },
      "source": [
        ""
      ],
      "execution_count": 0,
      "outputs": []
    },
    {
      "cell_type": "code",
      "metadata": {
        "id": "uRVzbMZUGHpj",
        "colab_type": "code",
        "colab": {}
      },
      "source": [
        "# dummy\n",
        "def string_to_float(s):\n",
        "    return s"
      ],
      "execution_count": 0,
      "outputs": []
    },
    {
      "cell_type": "code",
      "metadata": {
        "id": "oeLK7jf3Kwty",
        "colab_type": "code",
        "colab": {}
      },
      "source": [
        "def string_to_float(s):\n",
        "    idx = s.find(\"Ohms\")\n",
        "    if idx > 0:\n",
        "        number = s.split(\" \")[0]\n",
        "        prefix = s[idx-1]\n",
        "        return float(number) * {\" \": 1, \"m\": 0.001}[prefix]\n",
        "\n",
        "    else:\n",
        "        return float(s)"
      ],
      "execution_count": 0,
      "outputs": []
    },
    {
      "cell_type": "code",
      "metadata": {
        "id": "NvdhirJzGHfT",
        "colab_type": "code",
        "colab": {}
      },
      "source": [
        "for s in data_line.split(\",\"):\n",
        "    v = string_to_float(s)\n",
        "    print(type(v), v)"
      ],
      "execution_count": 0,
      "outputs": []
    },
    {
      "cell_type": "code",
      "metadata": {
        "id": "7_olHMYJGHQJ",
        "colab_type": "code",
        "colab": {}
      },
      "source": [
        "data_lines"
      ],
      "execution_count": 0,
      "outputs": []
    },
    {
      "cell_type": "code",
      "metadata": {
        "id": "v4xqnfd5F3nA",
        "colab_type": "code",
        "colab": {}
      },
      "source": [
        "data = list()\n",
        "for data_line in data_lines:\n",
        "    row = list()\n",
        "    for item in data_line.split(\",\"):\n",
        "        value = string_to_float(item)\n",
        "        row.append(value)\n",
        "    data.append(row)"
      ],
      "execution_count": 0,
      "outputs": []
    },
    {
      "cell_type": "code",
      "metadata": {
        "id": "2G-7vpAp1hm7",
        "colab_type": "code",
        "colab": {}
      },
      "source": [
        "data"
      ],
      "execution_count": 0,
      "outputs": []
    },
    {
      "cell_type": "code",
      "metadata": {
        "id": "U-NFE3pYQx1X",
        "colab_type": "code",
        "colab": {}
      },
      "source": [
        "len(data) == len(data_lines)"
      ],
      "execution_count": 0,
      "outputs": []
    },
    {
      "cell_type": "markdown",
      "metadata": {
        "id": "qzvU3bGKEdTc",
        "colab_type": "text"
      },
      "source": [
        "**Status** on the logfile challenge. We got:\n",
        "- `data` in a list of lists (N x 4)\n",
        "- `names` list with column names\n",
        "- `params` parameter dictionary"
      ]
    },
    {
      "cell_type": "code",
      "metadata": {
        "id": "EtmOR8B-24nt",
        "colab_type": "code",
        "colab": {}
      },
      "source": [
        "params"
      ],
      "execution_count": 0,
      "outputs": []
    },
    {
      "cell_type": "markdown",
      "metadata": {
        "id": "x5beVw0O2Ka7",
        "colab_type": "text"
      },
      "source": [
        "# Complete `parse_logfile_string` function"
      ]
    },
    {
      "cell_type": "markdown",
      "metadata": {
        "id": "V1LtpkIKGAmK",
        "colab_type": "text"
      },
      "source": [
        "Let's summarize the functionality we got so far, into a function `parse_logfile_string` that:\n",
        "- takes the logfile string `s` as input and\n",
        "- returns `params`, `names` and `data`"
      ]
    },
    {
      "cell_type": "code",
      "metadata": {
        "id": "l0_yrdsCD5v4",
        "colab_type": "code",
        "colab": {}
      },
      "source": [
        "from collections import OrderedDict\n",
        "\n",
        "def parse_logfile_string(s):\n",
        "    # split the input string on \"\\n\" new line\n",
        "    lines = s.split(\"\\n\")\n",
        "\n",
        "    # create a look-up table of sections and line numbers\n",
        "    idxs = dict()\n",
        "    for lineNo, line in enumerate(lines):\n",
        "        if line in ['measurements', \"header\"]:\n",
        "            idxs[line] = lineNo \n",
        "    idxs[\"names\"] = idxs[\"measurements\"] + 1\n",
        "    idxs[\"params_begin\"] = idxs[\"header\"] + 1\n",
        "    idxs[\"params_end\"] = idxs[\"measurements\"] - 1\n",
        "    idxs[\"data\"] = idxs[\"names\"] + 1\n",
        "\n",
        "    # parse the column \n",
        "    names = lines[idxs[\"names\"]].split(\",\")\n",
        "\n",
        "    # parse the params_lines list(str) into params dict{param: value}\n",
        "    params = OrderedDict()\n",
        "    for line in lines[idxs[\"params_begin\"] : idxs[\"params_end\"]]:\n",
        "        key, value = line.split(\",\")\n",
        "        params[key] = value\n",
        "\n",
        "    # converts str to float incl. \"Ohms\" removal\n",
        "    def string_to_float(s):\n",
        "        idx = s.find(\"Ohms\")\n",
        "        if idx > 0:\n",
        "            number = s.split(\" \")[0]\n",
        "            prefix = s[idx-1]\n",
        "            return float(number) * {\" \": 1, \"m\": 0.001}[prefix]\n",
        "        return float(s)\n",
        "\n",
        "    # parse data_lines list(str) into data list(list(floats))\n",
        "    data = list()\n",
        "    for data_line in lines[idxs[\"data\"] :]:\n",
        "        row = list()\n",
        "        for item in data_line.split(\",\"):\n",
        "            row.append(string_to_float(item))\n",
        "        data.append(row)\n",
        "\n",
        "    return {\"params\": params, \"names\": names, \"data\":data}"
      ],
      "execution_count": 0,
      "outputs": []
    },
    {
      "cell_type": "code",
      "metadata": {
        "id": "ZEVZCuaTKvfn",
        "colab_type": "code",
        "outputId": "074b6214-4749-4d7a-e29a-64d495288d09",
        "colab": {
          "base_uri": "https://localhost:8080/",
          "height": 602
        }
      },
      "source": [
        "log = parse_logfile_string(s)\n",
        "log"
      ],
      "execution_count": 0,
      "outputs": [
        {
          "output_type": "execute_result",
          "data": {
            "text/plain": [
              "{'data': [[5.17, 6.4, 16.05, 10.61],\n",
              "  [9.47, 34.21, 5.95, 0.293],\n",
              "  [7.65, 21.11, 0.366, 4.8],\n",
              "  [2.82, 36.06, 16.03, 6.39],\n",
              "  [2.21, 30.5, 11.65, 4.36],\n",
              "  [6.86, 6.92, 3.73, 7.39],\n",
              "  [1.67, 21.43, 7.45, 2.67],\n",
              "  [3.92, 28.49, 19.98, 9.47],\n",
              "  [6.18, 0.324, 8.59, 9.24],\n",
              "  [4.12, 25.24, 19.96, 9.84],\n",
              "  [0.02, 0.006, 0.002, 0.001],\n",
              "  [8.84, 36.11, 2.1, 1.35],\n",
              "  [8.85, 36.14, 2.14, 1.33],\n",
              "  [3.0, 36.36, 17.09, 6.98],\n",
              "  [5.9, 0.108, 10.82, 9.82],\n",
              "  [9.78, 30.57, 8.31, 0.049],\n",
              "  [8.45, 33.44, 0.621, 2.33],\n",
              "  [0.65, 4.06, 1.28, 0.438],\n",
              "  [2.95, 36.34, 16.77, 6.79],\n",
              "  [2.88, 36.22, 16.37, 6.57],\n",
              "  [8.22, 30.69, 0.155, 2.98],\n",
              "  [6.26, 0.679, 7.96, 9.05],\n",
              "  [1.1, 10.87, 3.53, 1.23],\n",
              "  [0.01, 0.0, 0.0, 0.0],\n",
              "  [9.42, 34.62, 5.61, 0.34700000000000003],\n",
              "  [1.42, 16.57, 5.57, 1.97],\n",
              "  [4.22, 23.51, 19.86, 10.01],\n",
              "  [3.46, 34.25, 19.13, 8.35],\n",
              "  [8.7, 35.46, 1.46, 1.68],\n",
              "  [4.29, 22.22, 19.75, 10.11]],\n",
              " 'names': ['x', 'sig0', 'sig1', 'sig2'],\n",
              " 'params': OrderedDict([('measurement date', '2020-05-06'),\n",
              "              ('measurement time', '08:00:00'),\n",
              "              ('calibration factor sig0', '0.55'),\n",
              "              ('calibration factor sig2', '1.88')])}"
            ]
          },
          "metadata": {
            "tags": []
          },
          "execution_count": 253
        }
      ]
    },
    {
      "cell_type": "code",
      "metadata": {
        "id": "Y_g23RwrmVBY",
        "colab_type": "code",
        "outputId": "0fa64f57-ae0b-40e7-db55-453d4b943561",
        "colab": {
          "base_uri": "https://localhost:8080/",
          "height": 33
        }
      },
      "source": [
        "log.keys()"
      ],
      "execution_count": 0,
      "outputs": [
        {
          "output_type": "execute_result",
          "data": {
            "text/plain": [
              "dict_keys(['params', 'names', 'data'])"
            ]
          },
          "metadata": {
            "tags": []
          },
          "execution_count": 254
        }
      ]
    },
    {
      "cell_type": "markdown",
      "metadata": {
        "id": "34gQJ7YFmP5P",
        "colab_type": "text"
      },
      "source": [
        "done!\n",
        "\n",
        "We successfully created a **function** `parse_logfile_string(s)` that parses the input text string `s` and returns a `dict` with \n",
        "- the header parameters `params`, \n",
        "- the actual data `data`,\n",
        "- the data column names `names` "
      ]
    },
    {
      "cell_type": "markdown",
      "metadata": {
        "id": "YZEpKAzdnW6k",
        "colab_type": "text"
      },
      "source": [
        "# Limitations of Python basic containers"
      ]
    },
    {
      "cell_type": "markdown",
      "metadata": {
        "id": "8eYv_6x9oCzj",
        "colab_type": "text"
      },
      "source": [
        "The Python general purpose container `list` worked great for reading and appending items from file. However, for further mathematical processing it's non-ideal, as we will see,..."
      ]
    },
    {
      "cell_type": "markdown",
      "metadata": {
        "id": "r5LywYlan6ET",
        "colab_type": "text"
      },
      "source": [
        "## Apply calibration factors"
      ]
    },
    {
      "cell_type": "markdown",
      "metadata": {
        "id": "c4z_qmXHoDTA",
        "colab_type": "text"
      },
      "source": [
        "The task:\n",
        "- search the `params` for `calibration factor sig?` keys\n",
        "- multiply all column values of `sig?` with the respective `calibration factor`\n"
      ]
    },
    {
      "cell_type": "code",
      "metadata": {
        "id": "hWro944AKxyB",
        "colab_type": "code",
        "colab": {}
      },
      "source": [
        "log = parse_logfile_string(s)\n",
        "params = log[\"params\"]\n",
        "data = log[\"data\"]\n",
        "names = log[\"names\"]"
      ],
      "execution_count": 0,
      "outputs": []
    },
    {
      "cell_type": "code",
      "metadata": {
        "id": "cmSqBSSDkxqn",
        "colab_type": "code",
        "outputId": "9545eefd-6185-44fb-8572-2117b9cf71a1",
        "colab": {
          "base_uri": "https://localhost:8080/",
          "height": 84
        }
      },
      "source": [
        "for param, cal_factor in params.items():\n",
        "    if \"calibration factor\" in param:\n",
        "        sig = param.split(\" \")[-1]\n",
        "        print(\"1.Signal=\" + str(sig) + \", cal_factor=\" + str(cal_factor))\n",
        "        print(\"2.Signal={}, cal_factor={}\".format(sig, cal_factor))"
      ],
      "execution_count": 0,
      "outputs": [
        {
          "output_type": "stream",
          "text": [
            "1.Signal=sig0, cal_factor=0.55\n",
            "2.Signal=sig0, cal_factor=0.55\n",
            "1.Signal=sig2, cal_factor=1.88\n",
            "2.Signal=sig2, cal_factor=1.88\n"
          ],
          "name": "stdout"
        }
      ]
    },
    {
      "cell_type": "markdown",
      "metadata": {
        "id": "BUpemlqqrSNU",
        "colab_type": "text"
      },
      "source": [
        "Next step is to index the data: Get all rows of a specific column..."
      ]
    },
    {
      "cell_type": "code",
      "metadata": {
        "id": "nncmiJIrUvPS",
        "colab_type": "code",
        "outputId": "05520fc1-bd08-4d0d-a8d3-87eb76483466",
        "colab": {
          "base_uri": "https://localhost:8080/",
          "height": 33
        }
      },
      "source": [
        "names.index(\"sig2\")"
      ],
      "execution_count": 0,
      "outputs": [
        {
          "output_type": "execute_result",
          "data": {
            "text/plain": [
              "3"
            ]
          },
          "metadata": {
            "tags": []
          },
          "execution_count": 269
        }
      ]
    },
    {
      "cell_type": "code",
      "metadata": {
        "id": "VbkPvqCqVA0V",
        "colab_type": "code",
        "outputId": "82cc4e1b-3f0f-4e2a-ada1-b8f114586f0a",
        "colab": {
          "base_uri": "https://localhost:8080/",
          "height": 33
        }
      },
      "source": [
        "data[:2]"
      ],
      "execution_count": 0,
      "outputs": [
        {
          "output_type": "execute_result",
          "data": {
            "text/plain": [
              "[[5.17, 6.4, 16.05, 10.61], [9.47, 34.21, 5.95, 0.293]]"
            ]
          },
          "metadata": {
            "tags": []
          },
          "execution_count": 270
        }
      ]
    },
    {
      "cell_type": "code",
      "metadata": {
        "id": "8hNuVu6NVbFC",
        "colab_type": "code",
        "outputId": "a8463af0-5006-43b9-8c20-6a6ffdea8e7a",
        "colab": {
          "base_uri": "https://localhost:8080/",
          "height": 67
        }
      },
      "source": [
        "data[:3]"
      ],
      "execution_count": 0,
      "outputs": [
        {
          "output_type": "execute_result",
          "data": {
            "text/plain": [
              "[[5.17, 6.4, 16.05, 10.61],\n",
              " [9.47, 34.21, 5.95, 0.293],\n",
              " [7.65, 21.11, 0.366, 4.8]]"
            ]
          },
          "metadata": {
            "tags": []
          },
          "execution_count": 274
        }
      ]
    },
    {
      "cell_type": "code",
      "metadata": {
        "id": "I7fu62OrVpKj",
        "colab_type": "code",
        "outputId": "8b951bdd-6f02-4e21-a1d7-9c6b622e4d22",
        "colab": {
          "base_uri": "https://localhost:8080/",
          "height": 184
        }
      },
      "source": [
        "for param, cal_factor in params.items():\n",
        "    if \"calibration factor\" in param:\n",
        "        sig = param.split(\" \")[-1]\n",
        "        col_idx = names.index(sig)\n",
        "        print(sig, col_idx, cal_factor)\n",
        "        print(\"before\")\n",
        "        print(data_row)\n",
        "        for data_row in data[:3]:\n",
        "            data_row[col_idx] *= float(cal_factor)\n",
        "        print(\"after\")\n",
        "        print(data_row)"
      ],
      "execution_count": 0,
      "outputs": [
        {
          "output_type": "stream",
          "text": [
            "sig0 1 0.55\n",
            "before\n",
            "[7.65, 11.6105, 0.366, 9.024]\n",
            "after\n",
            "[7.65, 6.385775000000001, 0.366, 9.024]\n",
            "sig2 3 1.88\n",
            "before\n",
            "[7.65, 6.385775000000001, 0.366, 9.024]\n",
            "after\n",
            "[7.65, 6.385775000000001, 0.366, 16.96512]\n"
          ],
          "name": "stdout"
        }
      ]
    },
    {
      "cell_type": "code",
      "metadata": {
        "id": "_mXitim4UvDd",
        "colab_type": "code",
        "outputId": "8fdd5401-f9f5-4d1e-9fb2-060ccc3c38dd",
        "colab": {
          "base_uri": "https://localhost:8080/",
          "height": 67
        }
      },
      "source": [
        ""
      ],
      "execution_count": 0,
      "outputs": [
        {
          "output_type": "stream",
          "text": [
            "10.61\n",
            "0.293\n",
            "4.8\n"
          ],
          "name": "stdout"
        }
      ]
    },
    {
      "cell_type": "code",
      "metadata": {
        "id": "yV5ZLgtIW-b4",
        "colab_type": "code",
        "outputId": "311feef2-1639-4964-d1ce-d4ae23fae1fe",
        "colab": {
          "base_uri": "https://localhost:8080/",
          "height": 67
        }
      },
      "source": [
        "data[:3]"
      ],
      "execution_count": 0,
      "outputs": [
        {
          "output_type": "execute_result",
          "data": {
            "text/plain": [
              "[[5.17, 6.4, 16.05, 10.61],\n",
              " [9.47, 34.21, 5.95, 0.293],\n",
              " [7.65, 21.11, 0.366, 4.8]]"
            ]
          },
          "metadata": {
            "tags": []
          },
          "execution_count": 279
        }
      ]
    },
    {
      "cell_type": "code",
      "metadata": {
        "id": "DY-TJ7xuW7te",
        "colab_type": "code",
        "colab": {}
      },
      "source": [
        "for param, cal_factor in params.items():\n",
        "    if \"calibration factor\" in param:\n",
        "        sig = param.split(\" \")[-1]\n",
        "        col_index = names.index(sig)\n",
        "\n",
        "        for data_row in data:\n",
        "            data_row[col_index] *= float(cal_factor)"
      ],
      "execution_count": 0,
      "outputs": []
    },
    {
      "cell_type": "code",
      "metadata": {
        "id": "ODQSgLj93HfK",
        "colab_type": "code",
        "outputId": "511e172f-896e-4dab-868c-812afe6e7194",
        "colab": {
          "base_uri": "https://localhost:8080/",
          "height": 67
        }
      },
      "source": [
        "data[:3]"
      ],
      "execution_count": 0,
      "outputs": [
        {
          "output_type": "execute_result",
          "data": {
            "text/plain": [
              "[[5.17, 0.5856400000000002, 16.05, 132.53994344959997],\n",
              " [9.47, 3.1304288125000013, 5.95, 3.6601511244799982],\n",
              " [7.65, 1.9316969375000004, 0.366, 59.96152012799999]]"
            ]
          },
          "metadata": {
            "tags": []
          },
          "execution_count": 286
        }
      ]
    },
    {
      "cell_type": "markdown",
      "metadata": {
        "id": "hCnKHAO20SDM",
        "colab_type": "text"
      },
      "source": [
        "## Array slicing for visualization"
      ]
    },
    {
      "cell_type": "markdown",
      "metadata": {
        "id": "VdOlQ2F_z-pT",
        "colab_type": "text"
      },
      "source": [
        "Another common usage is **arbitrary array slicing** for data visualization (e.g. using `matplotlib`)\n"
      ]
    },
    {
      "cell_type": "code",
      "metadata": {
        "id": "OklnWfTb3T3t",
        "colab_type": "code",
        "outputId": "8c19333d-c4fe-4a94-db91-6480af6ed87b",
        "colab": {
          "base_uri": "https://localhost:8080/",
          "height": 84
        }
      },
      "source": [
        "data[:4]"
      ],
      "execution_count": 0,
      "outputs": [
        {
          "output_type": "execute_result",
          "data": {
            "text/plain": [
              "[[5.17, 3.5200000000000005, 16.05, 19.946799999999996],\n",
              " [9.47, 18.815500000000004, 5.95, 0.5508399999999999],\n",
              " [7.65, 11.6105, 0.366, 9.024],\n",
              " [2.82, 19.833000000000002, 16.03, 12.0132]]"
            ]
          },
          "metadata": {
            "tags": []
          },
          "execution_count": 289
        }
      ]
    },
    {
      "cell_type": "code",
      "metadata": {
        "id": "VqSiRgh2X4E1",
        "colab_type": "code",
        "colab": {}
      },
      "source": [
        "data[:][0]"
      ],
      "execution_count": 0,
      "outputs": []
    },
    {
      "cell_type": "code",
      "metadata": {
        "id": "BYa61HIhYEf1",
        "colab_type": "code",
        "outputId": "a1bfd548-1c10-4024-b71f-6a71e2df2916",
        "colab": {
          "base_uri": "https://localhost:8080/",
          "height": 33
        }
      },
      "source": [
        "names"
      ],
      "execution_count": 0,
      "outputs": [
        {
          "output_type": "execute_result",
          "data": {
            "text/plain": [
              "['x', 'sig0', 'sig1', 'sig2']"
            ]
          },
          "metadata": {
            "tags": []
          },
          "execution_count": 290
        }
      ]
    },
    {
      "cell_type": "code",
      "metadata": {
        "id": "QMbu9zXwYFTl",
        "colab_type": "code",
        "colab": {}
      },
      "source": [
        "x, y = list(), list()\n",
        "for data_row in data:\n",
        "    x.append(data_row[names.index(\"x\")])\n",
        "    y.append(data_row[names.index(\"sig0\")])"
      ],
      "execution_count": 0,
      "outputs": []
    },
    {
      "cell_type": "code",
      "metadata": {
        "id": "7P17aYC_YIBT",
        "colab_type": "code",
        "colab": {}
      },
      "source": [
        "x"
      ],
      "execution_count": 0,
      "outputs": []
    },
    {
      "cell_type": "code",
      "metadata": {
        "id": "KYM6D3L_YYgR",
        "colab_type": "code",
        "colab": {}
      },
      "source": [
        "import numpy as np"
      ],
      "execution_count": 0,
      "outputs": []
    },
    {
      "cell_type": "code",
      "metadata": {
        "id": "m4-1tVbzYZD8",
        "colab_type": "code",
        "outputId": "c1e40e90-b7ac-48d5-be33-08061042ebb9",
        "colab": {
          "base_uri": "https://localhost:8080/",
          "height": 33
        }
      },
      "source": [
        "np.pi"
      ],
      "execution_count": 0,
      "outputs": [
        {
          "output_type": "execute_result",
          "data": {
            "text/plain": [
              "3.141592653589793"
            ]
          },
          "metadata": {
            "tags": []
          },
          "execution_count": 299
        }
      ]
    },
    {
      "cell_type": "code",
      "metadata": {
        "id": "eDbC-zN9YqFi",
        "colab_type": "code",
        "colab": {}
      },
      "source": [
        ""
      ],
      "execution_count": 0,
      "outputs": []
    },
    {
      "cell_type": "code",
      "metadata": {
        "id": "31_dkDuCYR2a",
        "colab_type": "code",
        "colab": {}
      },
      "source": [
        "import matplotlib.pyplot as plt\n"
      ],
      "execution_count": 0,
      "outputs": []
    },
    {
      "cell_type": "code",
      "metadata": {
        "id": "d1lrdacdY7xV",
        "colab_type": "code",
        "outputId": "daffd600-d6a4-4287-cb44-2cce5c0871d0",
        "colab": {
          "base_uri": "https://localhost:8080/",
          "height": 281
        }
      },
      "source": [
        "plt.plot(x, y, \"o\")"
      ],
      "execution_count": 0,
      "outputs": [
        {
          "output_type": "execute_result",
          "data": {
            "text/plain": [
              "[<matplotlib.lines.Line2D at 0x7f4ab5b26da0>]"
            ]
          },
          "metadata": {
            "tags": []
          },
          "execution_count": 302
        },
        {
          "output_type": "display_data",
          "data": {
            "image/png": "[encoded data removed]",
            "text/plain": [
              "<Figure size 432x288 with 1 Axes>"
            ]
          },
          "metadata": {
            "tags": [],
            "needs_background": "light"
          }
        }
      ]
    },
    {
      "cell_type": "code",
      "metadata": {
        "id": "zmeLLLUWY-zP",
        "colab_type": "code",
        "colab": {}
      },
      "source": [
        ""
      ],
      "execution_count": 0,
      "outputs": []
    }
  ]
}