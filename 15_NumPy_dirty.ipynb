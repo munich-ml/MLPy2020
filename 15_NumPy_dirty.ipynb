{
  "nbformat": 4,
  "nbformat_minor": 0,
  "metadata": {
    "colab": {
      "name": "15_NumPy_dirty.ipynb",
      "provenance": [],
      "collapsed_sections": [
        "GzLRaElQ3Q80",
        "oCMLt8pbO-qt",
        "6vvsjkVaQj7w",
        "ioXiTLQqJQ-z"
      ],
      "toc_visible": true,
      "authorship_tag": "ABX9TyOgkneDIzsA2CfVO6aUX4tG",
      "include_colab_link": true
    },
    "kernelspec": {
      "name": "python3",
      "display_name": "Python 3"
    }
  },
  "cells": [
    {
      "cell_type": "markdown",
      "metadata": {
        "id": "view-in-github",
        "colab_type": "text"
      },
      "source": [
        "<a href=\"https://colab.research.google.com/github/munich-ml/MLPy2020/blob/master/15_NumPy_dirty.ipynb\" target=\"_parent\"><img src=\"https://colab.research.google.com/assets/colab-badge.svg\" alt=\"Open In Colab\"/></a>"
      ]
    },
    {
      "cell_type": "markdown",
      "metadata": {
        "id": "e2piuI4C-TVp",
        "colab_type": "text"
      },
      "source": [
        "# Intro"
      ]
    },
    {
      "cell_type": "markdown",
      "metadata": {
        "id": "S9gWcLiqviYB",
        "colab_type": "text"
      },
      "source": [
        "NumPy is an array proessing package for Python. "
      ]
    },
    {
      "cell_type": "markdown",
      "metadata": {
        "id": "9ci_bXUrP10A",
        "colab_type": "text"
      },
      "source": [
        "NumPy is written an C what makes computations with NumPy very fast.\n",
        "\n",
        "NumPy is usually imported as **np** (alias):"
      ]
    },
    {
      "cell_type": "code",
      "metadata": {
        "id": "i5gz6p4NNCYT",
        "colab_type": "code",
        "colab": {}
      },
      "source": [
        "import numpy as np   "
      ],
      "execution_count": 0,
      "outputs": []
    },
    {
      "cell_type": "markdown",
      "metadata": {
        "id": "-twLPTrQyPfV",
        "colab_type": "text"
      },
      "source": [
        "The basic NumPy datatype is the NumPy array:"
      ]
    },
    {
      "cell_type": "code",
      "metadata": {
        "id": "BpOIppHUxhn2",
        "colab_type": "code",
        "outputId": "6f87c218-b863-47b0-f394-ddc97a76a667",
        "colab": {
          "base_uri": "https://localhost:8080/",
          "height": 33
        }
      },
      "source": [
        "z = np.array([2, 4, 7])\n",
        "z"
      ],
      "execution_count": 0,
      "outputs": [
        {
          "output_type": "execute_result",
          "data": {
            "text/plain": [
              "array([2, 4, 7])"
            ]
          },
          "metadata": {
            "tags": []
          },
          "execution_count": 2
        }
      ]
    },
    {
      "cell_type": "code",
      "metadata": {
        "id": "giIk2Yvk3y4_",
        "colab_type": "code",
        "outputId": "720c3da3-97ac-4770-9e10-5392c9cbb3ad",
        "colab": {
          "base_uri": "https://localhost:8080/",
          "height": 33
        }
      },
      "source": [
        "type(z)"
      ],
      "execution_count": 0,
      "outputs": [
        {
          "output_type": "execute_result",
          "data": {
            "text/plain": [
              "numpy.ndarray"
            ]
          },
          "metadata": {
            "tags": []
          },
          "execution_count": 3
        }
      ]
    },
    {
      "cell_type": "markdown",
      "metadata": {
        "id": "87cP8Vd50x6x",
        "colab_type": "text"
      },
      "source": [
        "## NumPy arrays vs. lists"
      ]
    },
    {
      "cell_type": "markdown",
      "metadata": {
        "id": "c-9A_rtQ2hUC",
        "colab_type": "text"
      },
      "source": [
        "### Similarities"
      ]
    },
    {
      "cell_type": "markdown",
      "metadata": {
        "id": "4dFXyV1f09Oo",
        "colab_type": "text"
      },
      "source": [
        "NumPy arrays share many properties with Python lists, e.g. slicing: "
      ]
    },
    {
      "cell_type": "code",
      "metadata": {
        "id": "LAdkExjd1uOL",
        "colab_type": "code",
        "colab": {}
      },
      "source": [
        "a = [2, 7, 5, 1]"
      ],
      "execution_count": 0,
      "outputs": []
    },
    {
      "cell_type": "code",
      "metadata": {
        "id": "5fN2Pc1W11t2",
        "colab_type": "code",
        "outputId": "36b23344-b26b-41ad-ab7a-49b87ebf33c3",
        "colab": {
          "base_uri": "https://localhost:8080/",
          "height": 33
        }
      },
      "source": [
        "a[1:-1]"
      ],
      "execution_count": 0,
      "outputs": [
        {
          "output_type": "execute_result",
          "data": {
            "text/plain": [
              "[7, 5]"
            ]
          },
          "metadata": {
            "tags": []
          },
          "execution_count": 5
        }
      ]
    },
    {
      "cell_type": "code",
      "metadata": {
        "id": "xFvrur-C186b",
        "colab_type": "code",
        "colab": {}
      },
      "source": [
        "z = np.array(a)\n",
        "z"
      ],
      "execution_count": 0,
      "outputs": []
    },
    {
      "cell_type": "code",
      "metadata": {
        "id": "7D81b5NYl53A",
        "colab_type": "code",
        "outputId": "1456657c-6f26-4784-f240-d904a518b021",
        "colab": {
          "base_uri": "https://localhost:8080/",
          "height": 33
        }
      },
      "source": [
        "z[1:-1]"
      ],
      "execution_count": 0,
      "outputs": [
        {
          "output_type": "execute_result",
          "data": {
            "text/plain": [
              "array([7, 5])"
            ]
          },
          "metadata": {
            "tags": []
          },
          "execution_count": 7
        }
      ]
    },
    {
      "cell_type": "markdown",
      "metadata": {
        "id": "M0v_mApq2lqH",
        "colab_type": "text"
      },
      "source": [
        "### Differences"
      ]
    },
    {
      "cell_type": "markdown",
      "metadata": {
        "id": "aeY0yAVezmjf",
        "colab_type": "text"
      },
      "source": [
        "#### Data types\n",
        "- Python lists may contain multiple data types, while\n",
        "- NumPy arrays are **constant type**:"
      ]
    },
    {
      "cell_type": "code",
      "metadata": {
        "id": "-ywI410nz2KB",
        "colab_type": "code",
        "outputId": "6a0761ec-0b95-43a9-e368-164c2a89fd5c",
        "colab": {
          "base_uri": "https://localhost:8080/",
          "height": 33
        }
      },
      "source": [
        "a = [2, 7, 1]\n",
        "z = np.array(a)\n",
        "z.dtype"
      ],
      "execution_count": 0,
      "outputs": [
        {
          "output_type": "execute_result",
          "data": {
            "text/plain": [
              "dtype('int64')"
            ]
          },
          "metadata": {
            "tags": []
          },
          "execution_count": 8
        }
      ]
    },
    {
      "cell_type": "code",
      "metadata": {
        "id": "Xvrh92oBmb9d",
        "colab_type": "code",
        "outputId": "deeb2d93-8a38-4a08-b5b9-c3544efc4054",
        "colab": {
          "base_uri": "https://localhost:8080/",
          "height": 33
        }
      },
      "source": [
        "a = [2, \"sevaskdfölashdgöaisgöiagöoiaen\", 1]\n",
        "z = np.array(a)\n",
        "z"
      ],
      "execution_count": 0,
      "outputs": [
        {
          "output_type": "execute_result",
          "data": {
            "text/plain": [
              "array(['2', 'sevaskdfölashdgöaisgöiagöoiaen', '1'], dtype='<U30')"
            ]
          },
          "metadata": {
            "tags": []
          },
          "execution_count": 10
        }
      ]
    },
    {
      "cell_type": "markdown",
      "metadata": {
        "id": "wbQhiailpGDW",
        "colab_type": "text"
      },
      "source": [
        "... all items are converted to text. `U` for unicode and `21` describes the memory allocation for each item. "
      ]
    },
    {
      "cell_type": "markdown",
      "metadata": {
        "colab_type": "text",
        "id": "GzLRaElQ3Q80"
      },
      "source": [
        "#### Element-wise operations\n",
        "- **list** objects don't support element-wise operations:\n"
      ]
    },
    {
      "cell_type": "code",
      "metadata": {
        "id": "R1f3oIiTSuev",
        "colab_type": "code",
        "colab": {}
      },
      "source": [
        "a = [1, 3, 4] \n",
        "b = [1, 3, 5]"
      ],
      "execution_count": 0,
      "outputs": []
    },
    {
      "cell_type": "code",
      "metadata": {
        "id": "7Zb4mIEw5d-_",
        "colab_type": "code",
        "outputId": "66da40d7-abad-4bd1-9318-f65956a4836f",
        "colab": {
          "base_uri": "https://localhost:8080/",
          "height": 161
        }
      },
      "source": [
        "a * b"
      ],
      "execution_count": 0,
      "outputs": [
        {
          "output_type": "error",
          "ename": "TypeError",
          "evalue": "ignored",
          "traceback": [
            "\u001b[0;31m---------------------------------------------------------------------------\u001b[0m",
            "\u001b[0;31mTypeError\u001b[0m                                 Traceback (most recent call last)",
            "\u001b[0;32m<ipython-input-20-9bc1a869709f>\u001b[0m in \u001b[0;36m<module>\u001b[0;34m()\u001b[0m\n\u001b[0;32m----> 1\u001b[0;31m \u001b[0ma\u001b[0m \u001b[0;34m*\u001b[0m \u001b[0mb\u001b[0m\u001b[0;34m\u001b[0m\u001b[0;34m\u001b[0m\u001b[0m\n\u001b[0m",
            "\u001b[0;31mTypeError\u001b[0m: can't multiply sequence by non-int of type 'list'"
          ]
        }
      ]
    },
    {
      "cell_type": "code",
      "metadata": {
        "id": "FHqmdzEYqbg-",
        "colab_type": "code",
        "outputId": "f849f170-84c8-4816-8f4a-928180e5520c",
        "colab": {
          "base_uri": "https://localhost:8080/",
          "height": 212
        }
      },
      "source": [
        "try:\n",
        "    a + ff\n",
        "except TypeError as e:\n",
        "    print(\"TypeError: \", e)"
      ],
      "execution_count": 0,
      "outputs": [
        {
          "output_type": "error",
          "ename": "NameError",
          "evalue": "ignored",
          "traceback": [
            "\u001b[0;31m---------------------------------------------------------------------------\u001b[0m",
            "\u001b[0;31mNameError\u001b[0m                                 Traceback (most recent call last)",
            "\u001b[0;32m<ipython-input-19-ae534eaddd6a>\u001b[0m in \u001b[0;36m<module>\u001b[0;34m()\u001b[0m\n\u001b[1;32m      1\u001b[0m \u001b[0;32mtry\u001b[0m\u001b[0;34m:\u001b[0m\u001b[0;34m\u001b[0m\u001b[0;34m\u001b[0m\u001b[0m\n\u001b[0;32m----> 2\u001b[0;31m     \u001b[0ma\u001b[0m \u001b[0;34m+\u001b[0m \u001b[0mff\u001b[0m\u001b[0;34m\u001b[0m\u001b[0;34m\u001b[0m\u001b[0m\n\u001b[0m\u001b[1;32m      3\u001b[0m \u001b[0;32mexcept\u001b[0m \u001b[0mTypeError\u001b[0m \u001b[0;32mas\u001b[0m \u001b[0me\u001b[0m\u001b[0;34m:\u001b[0m\u001b[0;34m\u001b[0m\u001b[0;34m\u001b[0m\u001b[0m\n\u001b[1;32m      4\u001b[0m     \u001b[0mprint\u001b[0m\u001b[0;34m(\u001b[0m\u001b[0;34m\"TypeError: \"\u001b[0m\u001b[0;34m,\u001b[0m \u001b[0me\u001b[0m\u001b[0;34m)\u001b[0m\u001b[0;34m\u001b[0m\u001b[0;34m\u001b[0m\u001b[0m\n",
            "\u001b[0;31mNameError\u001b[0m: name 'ff' is not defined"
          ]
        }
      ]
    },
    {
      "cell_type": "markdown",
      "metadata": {
        "id": "H2NDTAv4QT9w",
        "colab_type": "text"
      },
      "source": [
        "- **NumPy arrays** are made for element-wise operations:"
      ]
    },
    {
      "cell_type": "code",
      "metadata": {
        "id": "4rtvw3XtusRo",
        "colab_type": "code",
        "outputId": "153b7a08-7ecf-4b1c-8150-3f6d3eea379f",
        "colab": {
          "base_uri": "https://localhost:8080/",
          "height": 33
        }
      },
      "source": [
        "np.array(a) * np.array(b)"
      ],
      "execution_count": 0,
      "outputs": [
        {
          "output_type": "execute_result",
          "data": {
            "text/plain": [
              "array([ 1,  9, 20])"
            ]
          },
          "metadata": {
            "tags": []
          },
          "execution_count": 21
        }
      ]
    },
    {
      "cell_type": "markdown",
      "metadata": {
        "id": "6C6FoK5K7GrX",
        "colab_type": "text"
      },
      "source": [
        "## Initializing arrays"
      ]
    },
    {
      "cell_type": "markdown",
      "metadata": {
        "id": "_XrRXJrS7lZ5",
        "colab_type": "text"
      },
      "source": [
        "Initializing **all zeros**:"
      ]
    },
    {
      "cell_type": "code",
      "metadata": {
        "id": "HqMlyq_y9xMo",
        "colab_type": "code",
        "colab": {}
      },
      "source": [
        "np.zeros()"
      ],
      "execution_count": 0,
      "outputs": []
    },
    {
      "cell_type": "code",
      "metadata": {
        "id": "u_NmyfpQ7L9y",
        "colab_type": "code",
        "outputId": "871c5735-d2cd-4543-e1a8-8349f0d3446f",
        "colab": {
          "base_uri": "https://localhost:8080/",
          "height": 33
        }
      },
      "source": [
        "shape = 2\n",
        "np.zeros(shape)"
      ],
      "execution_count": 0,
      "outputs": [
        {
          "output_type": "execute_result",
          "data": {
            "text/plain": [
              "array([0., 0.])"
            ]
          },
          "metadata": {
            "tags": []
          },
          "execution_count": 24
        }
      ]
    },
    {
      "cell_type": "markdown",
      "metadata": {
        "colab_type": "text",
        "id": "QfMDwTc97tQo"
      },
      "source": [
        "Initializing **all ones** with specific data type:"
      ]
    },
    {
      "cell_type": "code",
      "metadata": {
        "colab_type": "code",
        "id": "yHXzkvCU7tQx",
        "colab": {}
      },
      "source": [
        "shape = (2, 4)\n",
        "np.ones(shape, dtype=\"int32\")"
      ],
      "execution_count": 0,
      "outputs": []
    },
    {
      "cell_type": "markdown",
      "metadata": {
        "colab_type": "text",
        "id": "ZiEQnUa08A62"
      },
      "source": [
        "Initializing with **arbitraty value**:"
      ]
    },
    {
      "cell_type": "code",
      "metadata": {
        "colab_type": "code",
        "id": "JgIuEFE78A65",
        "colab": {}
      },
      "source": [
        "np.full(shape=(2, 3), fill_value=1.33)"
      ],
      "execution_count": 0,
      "outputs": []
    },
    {
      "cell_type": "markdown",
      "metadata": {
        "id": "WJyxlx1d8uPx",
        "colab_type": "text"
      },
      "source": [
        "### Initalizing with **random numers**"
      ]
    },
    {
      "cell_type": "markdown",
      "metadata": {
        "id": "OxcQ4VUh909T",
        "colab_type": "text"
      },
      "source": [
        "Random **float** values \n"
      ]
    },
    {
      "cell_type": "code",
      "metadata": {
        "id": "RjZkgAD5-VVR",
        "colab_type": "code",
        "colab": {}
      },
      "source": [
        "np.random.random_sample?"
      ],
      "execution_count": 0,
      "outputs": []
    },
    {
      "cell_type": "code",
      "metadata": {
        "id": "FBQqj3ZZ8vtx",
        "colab_type": "code",
        "outputId": "b327bd61-8006-41bd-d632-3ecd67fabca3",
        "colab": {
          "base_uri": "https://localhost:8080/",
          "height": 100
        }
      },
      "source": [
        "np.random.random_sample(size=(2, 2, 4))"
      ],
      "execution_count": 0,
      "outputs": [
        {
          "output_type": "execute_result",
          "data": {
            "text/plain": [
              "array([[[0.13084352, 0.58501905, 0.7589726 , 0.85484471],\n",
              "        [0.52301876, 0.69002302, 0.1168958 , 0.57490502]],\n",
              "\n",
              "       [[0.33802261, 0.41312452, 0.72377849, 0.81805454],\n",
              "        [0.85552329, 0.468919  , 0.48472468, 0.53246007]]])"
            ]
          },
          "metadata": {
            "tags": []
          },
          "execution_count": 27
        }
      ]
    },
    {
      "cell_type": "markdown",
      "metadata": {
        "id": "h2Hw-BbA-wZR",
        "colab_type": "text"
      },
      "source": [
        "Random **integers**"
      ]
    },
    {
      "cell_type": "code",
      "metadata": {
        "id": "hxxA8kpl9jDy",
        "colab_type": "code",
        "outputId": "331324ca-b238-45e3-addf-7e2f308b5b08",
        "colab": {
          "base_uri": "https://localhost:8080/",
          "height": 33
        }
      },
      "source": [
        "np.random.randint(low=3, high=7, size=(15,))"
      ],
      "execution_count": 0,
      "outputs": [
        {
          "output_type": "execute_result",
          "data": {
            "text/plain": [
              "array([3, 6, 6, 5, 4, 6, 3, 6, 6, 4, 3, 3, 5, 6, 3])"
            ]
          },
          "metadata": {
            "tags": []
          },
          "execution_count": 28
        }
      ]
    },
    {
      "cell_type": "markdown",
      "metadata": {
        "id": "mHbW2Pqmvw_4",
        "colab_type": "text"
      },
      "source": [
        "Set the random **seed** prior to sample generation for reproducable results."
      ]
    },
    {
      "cell_type": "code",
      "metadata": {
        "id": "PiDp0yE1uuJ7",
        "colab_type": "code",
        "colab": {}
      },
      "source": [
        "np.random.seed(seed=42)"
      ],
      "execution_count": 0,
      "outputs": []
    },
    {
      "cell_type": "code",
      "metadata": {
        "colab_type": "code",
        "id": "ekbkdkPquvJD",
        "outputId": "924be6e7-5129-4e3f-978d-36afe2661fbb",
        "colab": {
          "base_uri": "https://localhost:8080/",
          "height": 50
        }
      },
      "source": [
        "np.random.random_sample(size=(2, 4))"
      ],
      "execution_count": 0,
      "outputs": [
        {
          "output_type": "execute_result",
          "data": {
            "text/plain": [
              "array([[0.37454012, 0.95071431, 0.73199394, 0.59865848],\n",
              "       [0.15601864, 0.15599452, 0.05808361, 0.86617615]])"
            ]
          },
          "metadata": {
            "tags": []
          },
          "execution_count": 36
        }
      ]
    },
    {
      "cell_type": "markdown",
      "metadata": {
        "id": "fS644B0awOv1",
        "colab_type": "text"
      },
      "source": [
        "# NumPy math"
      ]
    },
    {
      "cell_type": "markdown",
      "metadata": {
        "id": "rC61Pv1KA8SB",
        "colab_type": "text"
      },
      "source": [
        "## Element-wise operations"
      ]
    },
    {
      "cell_type": "code",
      "metadata": {
        "id": "kvLoDIbc-kIo",
        "colab_type": "code",
        "colab": {}
      },
      "source": [
        "z = np.array([1, 2, 3, 4])"
      ],
      "execution_count": 0,
      "outputs": []
    },
    {
      "cell_type": "code",
      "metadata": {
        "id": "rcBJZbaIAyrQ",
        "colab_type": "code",
        "outputId": "7c36f00e-baf4-4bd1-ddbc-8861f5cc41e5",
        "colab": {
          "base_uri": "https://localhost:8080/",
          "height": 33
        }
      },
      "source": [
        "z + 4"
      ],
      "execution_count": 0,
      "outputs": [
        {
          "output_type": "execute_result",
          "data": {
            "text/plain": [
              "array([5, 6, 7, 8])"
            ]
          },
          "metadata": {
            "tags": []
          },
          "execution_count": 38
        }
      ]
    },
    {
      "cell_type": "code",
      "metadata": {
        "id": "-FejUjXjA0wF",
        "colab_type": "code",
        "colab": {}
      },
      "source": [
        "z = z / 2"
      ],
      "execution_count": 0,
      "outputs": []
    },
    {
      "cell_type": "code",
      "metadata": {
        "id": "d6X2W1lxHSc5",
        "colab_type": "code",
        "outputId": "ebfe564a-281e-4820-c3bd-8583bb90a1ce",
        "colab": {
          "base_uri": "https://localhost:8080/",
          "height": 33
        }
      },
      "source": [
        "z"
      ],
      "execution_count": 0,
      "outputs": [
        {
          "output_type": "execute_result",
          "data": {
            "text/plain": [
              "array([0.5, 1. , 1.5, 2. ])"
            ]
          },
          "metadata": {
            "tags": []
          },
          "execution_count": 42
        }
      ]
    },
    {
      "cell_type": "code",
      "metadata": {
        "id": "6bVbvoeg_g4i",
        "colab_type": "code",
        "outputId": "291d6ee5-d7b9-4d53-f4ec-abc5e416650c",
        "colab": {
          "base_uri": "https://localhost:8080/",
          "height": 33
        }
      },
      "source": [
        "np.sin( z/4 * np.pi)"
      ],
      "execution_count": 0,
      "outputs": [
        {
          "output_type": "execute_result",
          "data": {
            "text/plain": [
              "array([7.07106781e-01, 1.00000000e+00, 7.07106781e-01, 1.22464680e-16])"
            ]
          },
          "metadata": {
            "tags": []
          },
          "execution_count": 45
        }
      ]
    },
    {
      "cell_type": "code",
      "metadata": {
        "id": "s-_d9nUCA5Na",
        "colab_type": "code",
        "outputId": "f1fa4d3d-4556-469b-9241-3ae7984fbd2e",
        "colab": {
          "base_uri": "https://localhost:8080/",
          "height": 33
        }
      },
      "source": [
        "np.round(np.sin( z/4 * np.pi), decimals=3)"
      ],
      "execution_count": 0,
      "outputs": [
        {
          "output_type": "execute_result",
          "data": {
            "text/plain": [
              "array([0.707, 1.   , 0.707, 0.   ])"
            ]
          },
          "metadata": {
            "tags": []
          },
          "execution_count": 44
        }
      ]
    },
    {
      "cell_type": "markdown",
      "metadata": {
        "id": "ugoh41uAC-hd",
        "colab_type": "text"
      },
      "source": [
        "## Matrix multiplication"
      ]
    },
    {
      "cell_type": "code",
      "metadata": {
        "id": "OYlP0OYrBRpu",
        "colab_type": "code",
        "outputId": "a2b56b31-cbab-4ab9-9b63-2d539943874e",
        "colab": {
          "base_uri": "https://localhost:8080/",
          "height": 50
        }
      },
      "source": [
        "z = np.ones(shape=(2,3))\n",
        "z"
      ],
      "execution_count": 0,
      "outputs": [
        {
          "output_type": "execute_result",
          "data": {
            "text/plain": [
              "array([[1., 1., 1.],\n",
              "       [1., 1., 1.]])"
            ]
          },
          "metadata": {
            "tags": []
          },
          "execution_count": 46
        }
      ]
    },
    {
      "cell_type": "code",
      "metadata": {
        "id": "1lsCND4XBtcx",
        "colab_type": "code",
        "outputId": "e5a19fea-b693-4a55-f464-182cbf5220e1",
        "colab": {
          "base_uri": "https://localhost:8080/",
          "height": 67
        }
      },
      "source": [
        "y = np.full(shape=(3,2), fill_value=2)\n",
        "y"
      ],
      "execution_count": 0,
      "outputs": [
        {
          "output_type": "execute_result",
          "data": {
            "text/plain": [
              "array([[2, 2],\n",
              "       [2, 2],\n",
              "       [2, 2]])"
            ]
          },
          "metadata": {
            "tags": []
          },
          "execution_count": 47
        }
      ]
    },
    {
      "cell_type": "code",
      "metadata": {
        "id": "my5gMLHnCaKw",
        "colab_type": "code",
        "colab": {}
      },
      "source": [
        "try:\n",
        "    z * y\n",
        "except Exception as e:\n",
        "    print(e)"
      ],
      "execution_count": 0,
      "outputs": []
    },
    {
      "cell_type": "markdown",
      "metadata": {
        "id": "jfWyDdWlCcRH",
        "colab_type": "text"
      },
      "source": [
        "... `z * y` tries element-wise multiplications, which failes because of the different shapes. \n",
        "\n",
        "For matrix multiplication use `np.matmul` instead:"
      ]
    },
    {
      "cell_type": "code",
      "metadata": {
        "id": "54ibMHZ5B7lq",
        "colab_type": "code",
        "outputId": "f98858fd-0ea4-41f7-a092-4d2affba3974",
        "colab": {
          "base_uri": "https://localhost:8080/",
          "height": 50
        }
      },
      "source": [
        "np.matmul(z, y)"
      ],
      "execution_count": 0,
      "outputs": [
        {
          "output_type": "execute_result",
          "data": {
            "text/plain": [
              "array([[6., 6.],\n",
              "       [6., 6.]])"
            ]
          },
          "metadata": {
            "tags": []
          },
          "execution_count": 50
        }
      ]
    },
    {
      "cell_type": "code",
      "metadata": {
        "id": "pyja-BiXCAOr",
        "colab_type": "code",
        "outputId": "b8e9875f-e5c5-4fe1-eb5a-ba68d1b8c04f",
        "colab": {
          "base_uri": "https://localhost:8080/",
          "height": 67
        }
      },
      "source": [
        "np.matmul(y, z)"
      ],
      "execution_count": 0,
      "outputs": [
        {
          "output_type": "execute_result",
          "data": {
            "text/plain": [
              "array([[4., 4., 4.],\n",
              "       [4., 4., 4.],\n",
              "       [4., 4., 4.]])"
            ]
          },
          "metadata": {
            "tags": []
          },
          "execution_count": 51
        }
      ]
    },
    {
      "cell_type": "markdown",
      "metadata": {
        "id": "2KtSu_vXQVXN",
        "colab_type": "text"
      },
      "source": [
        "## Transposing matricies"
      ]
    },
    {
      "cell_type": "markdown",
      "metadata": {
        "id": "K-XhE0LUQc_Y",
        "colab_type": "text"
      },
      "source": [
        "`array.T` returns the transpose of the array"
      ]
    },
    {
      "cell_type": "code",
      "metadata": {
        "id": "qPpvenzmOK9w",
        "colab_type": "code",
        "outputId": "8563eaf0-c2d1-4cce-924a-3ca161e5944c",
        "colab": {
          "base_uri": "https://localhost:8080/",
          "height": 50
        }
      },
      "source": [
        "z = np.array([[1,2,3], [4,5,6]])\n",
        "print(z, z.shape)"
      ],
      "execution_count": 0,
      "outputs": [
        {
          "output_type": "stream",
          "text": [
            "[[1 2 3]\n",
            " [4 5 6]] (2, 3)\n"
          ],
          "name": "stdout"
        }
      ]
    },
    {
      "cell_type": "code",
      "metadata": {
        "id": "zMCqC3JM5qul",
        "colab_type": "code",
        "outputId": "10aaf41d-1261-4b8b-c71a-c427c1f81c19",
        "colab": {
          "base_uri": "https://localhost:8080/",
          "height": 67
        }
      },
      "source": [
        "print(z.T, z.T.shape)"
      ],
      "execution_count": 0,
      "outputs": [
        {
          "output_type": "stream",
          "text": [
            "[[1 4]\n",
            " [2 5]\n",
            " [3 6]] (3, 2)\n"
          ],
          "name": "stdout"
        }
      ]
    },
    {
      "cell_type": "markdown",
      "metadata": {
        "id": "9b-RTNnBMUeP",
        "colab_type": "text"
      },
      "source": [
        "## Statistics"
      ]
    },
    {
      "cell_type": "code",
      "metadata": {
        "id": "ADkklomCL7cD",
        "colab_type": "code",
        "colab": {}
      },
      "source": [
        "z = np.array([[1,2,3], [4,5,6]])\n",
        "z"
      ],
      "execution_count": 0,
      "outputs": []
    },
    {
      "cell_type": "markdown",
      "metadata": {
        "id": "MYi9yXJVMumL",
        "colab_type": "text"
      },
      "source": [
        "Min of all values:"
      ]
    },
    {
      "cell_type": "code",
      "metadata": {
        "id": "W4CMrUf9MTXc",
        "colab_type": "code",
        "colab": {}
      },
      "source": [
        "z.min()"
      ],
      "execution_count": 0,
      "outputs": []
    },
    {
      "cell_type": "markdown",
      "metadata": {
        "id": "nZKQ3ss_MztI",
        "colab_type": "text"
      },
      "source": [
        "Min of all columns:"
      ]
    },
    {
      "cell_type": "code",
      "metadata": {
        "id": "73_2qQ4DMeS9",
        "colab_type": "code",
        "colab": {}
      },
      "source": [
        "z.min(axis=1)"
      ],
      "execution_count": 0,
      "outputs": []
    },
    {
      "cell_type": "markdown",
      "metadata": {
        "id": "JlDprJxZM3_7",
        "colab_type": "text"
      },
      "source": [
        "Standard deviation"
      ]
    },
    {
      "cell_type": "code",
      "metadata": {
        "id": "fZ0S_GPXMrar",
        "colab_type": "code",
        "colab": {}
      },
      "source": [
        "z.std()"
      ],
      "execution_count": 0,
      "outputs": []
    },
    {
      "cell_type": "code",
      "metadata": {
        "id": "c8tWibN6M_I1",
        "colab_type": "code",
        "colab": {}
      },
      "source": [
        "np.median(z, axis=1)"
      ],
      "execution_count": 0,
      "outputs": []
    },
    {
      "cell_type": "markdown",
      "metadata": {
        "id": "nCaS0vtyRldj",
        "colab_type": "text"
      },
      "source": [
        "## Booleans\n",
        "\n",
        " "
      ]
    },
    {
      "cell_type": "markdown",
      "metadata": {
        "id": "yZp46pLuepu5",
        "colab_type": "text"
      },
      "source": [
        "- `np.all()` is a logical `AND`\n",
        "- `np.any()` is a logical `OR`"
      ]
    },
    {
      "cell_type": "markdown",
      "metadata": {
        "colab_type": "text",
        "id": "JKroapllKM6s"
      },
      "source": [
        "#### Logical `AND`"
      ]
    },
    {
      "cell_type": "code",
      "metadata": {
        "id": "4h2o2WE5SRnH",
        "colab_type": "code",
        "colab": {}
      },
      "source": [
        "z = np.array([[True, True, False, True], [True, True, True, True]])\n",
        "z"
      ],
      "execution_count": 0,
      "outputs": []
    },
    {
      "cell_type": "code",
      "metadata": {
        "id": "W3uN8wxTI7o5",
        "colab_type": "code",
        "colab": {}
      },
      "source": [
        "z.all()"
      ],
      "execution_count": 0,
      "outputs": []
    },
    {
      "cell_type": "code",
      "metadata": {
        "id": "IouIpFlsIDUo",
        "colab_type": "code",
        "colab": {}
      },
      "source": [
        "z.all(axis=1)"
      ],
      "execution_count": 0,
      "outputs": []
    },
    {
      "cell_type": "markdown",
      "metadata": {
        "id": "kiIGbK35J8bF",
        "colab_type": "text"
      },
      "source": [
        "#### Logical `OR`"
      ]
    },
    {
      "cell_type": "code",
      "metadata": {
        "id": "yZxhXeUcIDE-",
        "colab_type": "code",
        "colab": {}
      },
      "source": [
        "z.any()"
      ],
      "execution_count": 0,
      "outputs": []
    },
    {
      "cell_type": "markdown",
      "metadata": {
        "colab_type": "text",
        "id": "fttcYQPPKL4S"
      },
      "source": [
        "#### Logical `NOT`"
      ]
    },
    {
      "cell_type": "code",
      "metadata": {
        "id": "NFFX9aFoJVQw",
        "colab_type": "code",
        "colab": {}
      },
      "source": [
        "np.logical_not(z.all(axis=0))"
      ],
      "execution_count": 0,
      "outputs": []
    },
    {
      "cell_type": "markdown",
      "metadata": {
        "id": "eaCiE7DUOP2K",
        "colab_type": "text"
      },
      "source": [
        "# Reorganizing arrays"
      ]
    },
    {
      "cell_type": "markdown",
      "metadata": {
        "id": "9B92qqPuwJY0",
        "colab_type": "text"
      },
      "source": [
        "## Reshape"
      ]
    },
    {
      "cell_type": "code",
      "metadata": {
        "id": "8RYfPNmxOCf1",
        "colab_type": "code",
        "outputId": "1f5476fe-b314-43c0-928c-6bb3e0b23df4",
        "colab": {
          "base_uri": "https://localhost:8080/",
          "height": 50
        }
      },
      "source": [
        "z = np.array([[1,2,3], [4,5,6]])\n",
        "z"
      ],
      "execution_count": 0,
      "outputs": [
        {
          "output_type": "execute_result",
          "data": {
            "text/plain": [
              "array([[1, 2, 3],\n",
              "       [4, 5, 6]])"
            ]
          },
          "metadata": {
            "tags": []
          },
          "execution_count": 54
        }
      ]
    },
    {
      "cell_type": "code",
      "metadata": {
        "id": "Vfgu4ciWvyAn",
        "colab_type": "code",
        "outputId": "7d90963d-4b70-4438-f9c2-35346d9e239e",
        "colab": {
          "base_uri": "https://localhost:8080/",
          "height": 33
        }
      },
      "source": [
        "z.shape"
      ],
      "execution_count": 0,
      "outputs": [
        {
          "output_type": "execute_result",
          "data": {
            "text/plain": [
              "(2, 3)"
            ]
          },
          "metadata": {
            "tags": []
          },
          "execution_count": 55
        }
      ]
    },
    {
      "cell_type": "markdown",
      "metadata": {
        "id": "qwZ1wxDiv4-0",
        "colab_type": "text"
      },
      "source": [
        "**Option 1**: Use `reshape` method:"
      ]
    },
    {
      "cell_type": "code",
      "metadata": {
        "id": "wJHE80fZOYU4",
        "colab_type": "code",
        "outputId": "d9f2d975-cf0c-4829-f67b-d2e350d9be6b",
        "colab": {
          "base_uri": "https://localhost:8080/",
          "height": 67
        }
      },
      "source": [
        "z = z.reshape((3, 2))\n",
        "z"
      ],
      "execution_count": 0,
      "outputs": [
        {
          "output_type": "execute_result",
          "data": {
            "text/plain": [
              "array([[1, 2],\n",
              "       [3, 4],\n",
              "       [5, 6]])"
            ]
          },
          "metadata": {
            "tags": []
          },
          "execution_count": 56
        }
      ]
    },
    {
      "cell_type": "code",
      "metadata": {
        "id": "7nCYr5MUw0S_",
        "colab_type": "code",
        "outputId": "909847b7-0805-4dc2-ef60-0cacbe813230",
        "colab": {
          "base_uri": "https://localhost:8080/",
          "height": 33
        }
      },
      "source": [
        "z.shape"
      ],
      "execution_count": 0,
      "outputs": [
        {
          "output_type": "execute_result",
          "data": {
            "text/plain": [
              "(3, 2)"
            ]
          },
          "metadata": {
            "tags": []
          },
          "execution_count": 57
        }
      ]
    },
    {
      "cell_type": "markdown",
      "metadata": {
        "id": "_enslv-SwQv7",
        "colab_type": "text"
      },
      "source": [
        "**Option 2**: Assign a new shape to the `.shape` attribute:"
      ]
    },
    {
      "cell_type": "code",
      "metadata": {
        "id": "MB8ZTY2Sc4Ce",
        "colab_type": "code",
        "outputId": "aacf11f9-d397-46aa-d1a8-eb80a05c67f0",
        "colab": {
          "base_uri": "https://localhost:8080/",
          "height": 33
        }
      },
      "source": [
        "z.shape = (6, )\n",
        "z"
      ],
      "execution_count": 0,
      "outputs": [
        {
          "output_type": "execute_result",
          "data": {
            "text/plain": [
              "array([1, 2, 3, 4, 5, 6])"
            ]
          },
          "metadata": {
            "tags": []
          },
          "execution_count": 58
        }
      ]
    },
    {
      "cell_type": "code",
      "metadata": {
        "id": "30OdtJcAc3_i",
        "colab_type": "code",
        "colab": {}
      },
      "source": [
        "z.shape"
      ],
      "execution_count": 0,
      "outputs": []
    },
    {
      "cell_type": "code",
      "metadata": {
        "id": "whCx5ojiAhEO",
        "colab_type": "code",
        "outputId": "ff252352-d8ce-46b0-a730-1e693c015bef",
        "colab": {
          "base_uri": "https://localhost:8080/",
          "height": 33
        }
      },
      "source": [
        "z.shape = (1, 6)\n",
        "z"
      ],
      "execution_count": 0,
      "outputs": [
        {
          "output_type": "execute_result",
          "data": {
            "text/plain": [
              "array([[1, 2, 3, 4, 5, 6]])"
            ]
          },
          "metadata": {
            "tags": []
          },
          "execution_count": 60
        }
      ]
    },
    {
      "cell_type": "code",
      "metadata": {
        "id": "vTysrmGCAg_I",
        "colab_type": "code",
        "colab": {}
      },
      "source": [
        ""
      ],
      "execution_count": 0,
      "outputs": []
    },
    {
      "cell_type": "markdown",
      "metadata": {
        "id": "489EZq-JC_WK",
        "colab_type": "text"
      },
      "source": [
        "## Concatenation"
      ]
    },
    {
      "cell_type": "code",
      "metadata": {
        "id": "9muxQQgsDBR5",
        "colab_type": "code",
        "outputId": "c8c8bf6d-9791-49b2-d135-4eb9e8a9d739",
        "colab": {
          "base_uri": "https://localhost:8080/",
          "height": 50
        }
      },
      "source": [
        "a = np.array([[1,2,3], [4,5,6]])\n",
        "a"
      ],
      "execution_count": 0,
      "outputs": [
        {
          "output_type": "execute_result",
          "data": {
            "text/plain": [
              "array([[1, 2, 3],\n",
              "       [4, 5, 6]])"
            ]
          },
          "metadata": {
            "tags": []
          },
          "execution_count": 61
        }
      ]
    },
    {
      "cell_type": "code",
      "metadata": {
        "id": "0edPuLX5lzI6",
        "colab_type": "code",
        "outputId": "b118c5e7-decc-415f-fc8e-c0e0e78badd9",
        "colab": {
          "base_uri": "https://localhost:8080/",
          "height": 50
        }
      },
      "source": [
        "b = np.array([[7,8,9], [10,11,12]])\n",
        "b"
      ],
      "execution_count": 0,
      "outputs": [
        {
          "output_type": "execute_result",
          "data": {
            "text/plain": [
              "array([[ 7,  8,  9],\n",
              "       [10, 11, 12]])"
            ]
          },
          "metadata": {
            "tags": []
          },
          "execution_count": 62
        }
      ]
    },
    {
      "cell_type": "markdown",
      "metadata": {
        "id": "XVlTvOsinykJ",
        "colab_type": "text"
      },
      "source": [
        "### `np.vstack()`  "
      ]
    },
    {
      "cell_type": "markdown",
      "metadata": {
        "colab_type": "text",
        "id": "bD35DgkIAta0"
      },
      "source": [
        "`np.vstack()` is equivalent to `np.concatenate(..., axis=0)`:"
      ]
    },
    {
      "cell_type": "code",
      "metadata": {
        "id": "844LybPhDE3U",
        "colab_type": "code",
        "outputId": "db33cdc9-0f60-4977-ab66-8185fdb7e867",
        "colab": {
          "base_uri": "https://localhost:8080/",
          "height": 84
        }
      },
      "source": [
        "z = np.concatenate((a, b), axis=0)\n",
        "z"
      ],
      "execution_count": 0,
      "outputs": [
        {
          "output_type": "execute_result",
          "data": {
            "text/plain": [
              "array([[ 1,  2,  3],\n",
              "       [ 4,  5,  6],\n",
              "       [ 7,  8,  9],\n",
              "       [10, 11, 12]])"
            ]
          },
          "metadata": {
            "tags": []
          },
          "execution_count": 64
        }
      ]
    },
    {
      "cell_type": "code",
      "metadata": {
        "id": "_vBdBWaboerG",
        "colab_type": "code",
        "outputId": "dc700432-c561-4276-ce3c-185d134bbc57",
        "colab": {
          "base_uri": "https://localhost:8080/",
          "height": 84
        }
      },
      "source": [
        "z = np.vstack((a, b))\n",
        "z"
      ],
      "execution_count": 0,
      "outputs": [
        {
          "output_type": "execute_result",
          "data": {
            "text/plain": [
              "array([[ 1,  2,  3],\n",
              "       [ 4,  5,  6],\n",
              "       [ 7,  8,  9],\n",
              "       [10, 11, 12]])"
            ]
          },
          "metadata": {
            "tags": []
          },
          "execution_count": 63
        }
      ]
    },
    {
      "cell_type": "markdown",
      "metadata": {
        "colab_type": "text",
        "id": "0hfINgkQoUIN"
      },
      "source": [
        "### `np.hstack()`  "
      ]
    },
    {
      "cell_type": "markdown",
      "metadata": {
        "id": "nBJADUclmdDm",
        "colab_type": "text"
      },
      "source": [
        "`np.hstack()` is equivalent to `np.concatenate(..., axis=1)`:"
      ]
    },
    {
      "cell_type": "code",
      "metadata": {
        "id": "CPjU9o7QDSz5",
        "colab_type": "code",
        "outputId": "ca148cd8-213c-4eb4-d40b-c4317d779537",
        "colab": {
          "base_uri": "https://localhost:8080/",
          "height": 50
        }
      },
      "source": [
        "z = np.concatenate((a, b), axis=1)\n",
        "z"
      ],
      "execution_count": 0,
      "outputs": [
        {
          "output_type": "execute_result",
          "data": {
            "text/plain": [
              "array([[ 1,  2,  3,  7,  8,  9],\n",
              "       [ 4,  5,  6, 10, 11, 12]])"
            ]
          },
          "metadata": {
            "tags": []
          },
          "execution_count": 65
        }
      ]
    },
    {
      "cell_type": "code",
      "metadata": {
        "id": "UULF_vgkpTWN",
        "colab_type": "code",
        "outputId": "62069541-3337-4a0b-95a7-5ecf9cb983da",
        "colab": {
          "base_uri": "https://localhost:8080/",
          "height": 50
        }
      },
      "source": [
        "z = np.hstack((a, b))\n",
        "z"
      ],
      "execution_count": 0,
      "outputs": [
        {
          "output_type": "execute_result",
          "data": {
            "text/plain": [
              "array([[ 1,  2,  3,  7,  8,  9],\n",
              "       [ 4,  5,  6, 10, 11, 12]])"
            ]
          },
          "metadata": {
            "tags": []
          },
          "execution_count": 66
        }
      ]
    },
    {
      "cell_type": "markdown",
      "metadata": {
        "id": "Kaf32p1_pzUg",
        "colab_type": "text"
      },
      "source": [
        "### Concat arrays and slices (1D arrays)\n"
      ]
    },
    {
      "cell_type": "code",
      "metadata": {
        "id": "pvdQraAECL3y",
        "colab_type": "code",
        "outputId": "983ff53c-daae-489d-8e49-79edfcf73472",
        "colab": {
          "base_uri": "https://localhost:8080/",
          "height": 33
        }
      },
      "source": [
        "z = np.linspace(start=0, stop=11, num=12, dtype=\"int8\")\n",
        "z"
      ],
      "execution_count": 0,
      "outputs": [
        {
          "output_type": "execute_result",
          "data": {
            "text/plain": [
              "array([ 0,  1,  2,  3,  4,  5,  6,  7,  8,  9, 10, 11], dtype=int8)"
            ]
          },
          "metadata": {
            "tags": []
          },
          "execution_count": 67
        }
      ]
    },
    {
      "cell_type": "code",
      "metadata": {
        "id": "X9juWxJ-NESt",
        "colab_type": "code",
        "outputId": "bd46b264-4ac4-491e-88d5-8c9ff4fa7623",
        "colab": {
          "base_uri": "https://localhost:8080/",
          "height": 117
        }
      },
      "source": [
        "z.shape = (6, 2)\n",
        "z"
      ],
      "execution_count": 0,
      "outputs": [
        {
          "output_type": "execute_result",
          "data": {
            "text/plain": [
              "array([[ 0,  1],\n",
              "       [ 2,  3],\n",
              "       [ 4,  5],\n",
              "       [ 6,  7],\n",
              "       [ 8,  9],\n",
              "       [10, 11]], dtype=int8)"
            ]
          },
          "metadata": {
            "tags": []
          },
          "execution_count": 68
        }
      ]
    },
    {
      "cell_type": "markdown",
      "metadata": {
        "id": "kdK3J_rINq_Z",
        "colab_type": "text"
      },
      "source": [
        "Compute new features (columns) based on exisitng features:"
      ]
    },
    {
      "cell_type": "code",
      "metadata": {
        "id": "ZpW3YhpPNxuX",
        "colab_type": "code",
        "outputId": "dd282383-b756-4086-a1e8-395895d62f11",
        "colab": {
          "base_uri": "https://localhost:8080/",
          "height": 33
        }
      },
      "source": [
        "new_sum = z[:, 0] + z[:, 1]\n",
        "new_sum"
      ],
      "execution_count": 0,
      "outputs": [
        {
          "output_type": "execute_result",
          "data": {
            "text/plain": [
              "array([ 1,  5,  9, 13, 17, 21], dtype=int8)"
            ]
          },
          "metadata": {
            "tags": []
          },
          "execution_count": 69
        }
      ]
    },
    {
      "cell_type": "code",
      "metadata": {
        "id": "G3EGt5j8OCpn",
        "colab_type": "code",
        "outputId": "5f930dc9-ca05-4bb1-8b87-dac3ad3abcd8",
        "colab": {
          "base_uri": "https://localhost:8080/",
          "height": 33
        }
      },
      "source": [
        "new_prod = z[:, 0] * z[:, 1]\n",
        "new_prod"
      ],
      "execution_count": 0,
      "outputs": [
        {
          "output_type": "execute_result",
          "data": {
            "text/plain": [
              "array([  0,   6,  20,  42,  72, 110], dtype=int8)"
            ]
          },
          "metadata": {
            "tags": []
          },
          "execution_count": 70
        }
      ]
    },
    {
      "cell_type": "markdown",
      "metadata": {
        "id": "JIxupw8cOSVr",
        "colab_type": "text"
      },
      "source": [
        "Trial to concatenate new features to the right fails:"
      ]
    },
    {
      "cell_type": "code",
      "metadata": {
        "id": "kvVFkREzORuz",
        "colab_type": "code",
        "outputId": "8e67e597-2bbb-4c04-bc84-54c3cf3823f7",
        "colab": {
          "base_uri": "https://localhost:8080/",
          "height": 53
        }
      },
      "source": [
        "try:\n",
        "    new_z = np.concatenate((z, new_sum, new_prod), axis=0)\n",
        "except Exception as e:\n",
        "    print(\"Exception occured: \" + str(e))"
      ],
      "execution_count": 0,
      "outputs": [
        {
          "output_type": "stream",
          "text": [
            "Exception occured: all the input arrays must have same number of dimensions, but the array at index 0 has 2 dimension(s) and the array at index 1 has 1 dimension(s)\n"
          ],
          "name": "stdout"
        }
      ]
    },
    {
      "cell_type": "markdown",
      "metadata": {
        "id": "AONF8NDTPCZ2",
        "colab_type": "text"
      },
      "source": [
        "Problem: The new features are slices (1D arrays), not 2D arrays:"
      ]
    },
    {
      "cell_type": "code",
      "metadata": {
        "id": "rCjeaG8bNSJm",
        "colab_type": "code",
        "outputId": "5c3a2785-5ddd-4c44-e861-a779397ec3e5",
        "colab": {
          "base_uri": "https://localhost:8080/",
          "height": 33
        }
      },
      "source": [
        "print(z.ndim, z.shape)"
      ],
      "execution_count": 0,
      "outputs": [
        {
          "output_type": "stream",
          "text": [
            "2 (6, 2)\n"
          ],
          "name": "stdout"
        }
      ]
    },
    {
      "cell_type": "code",
      "metadata": {
        "id": "Yqkk8p6wNEOj",
        "colab_type": "code",
        "outputId": "f55a4f22-e8a4-450e-89d0-cc228124a80b",
        "colab": {
          "base_uri": "https://localhost:8080/",
          "height": 33
        }
      },
      "source": [
        "print(new_sum.ndim, new_sum.shape)"
      ],
      "execution_count": 0,
      "outputs": [
        {
          "output_type": "stream",
          "text": [
            "1 (6,)\n"
          ],
          "name": "stdout"
        }
      ]
    },
    {
      "cell_type": "markdown",
      "metadata": {
        "id": "M5khDWLVPLBk",
        "colab_type": "text"
      },
      "source": [
        "#### Option 1: Reshape first\n",
        "Manually reshape the new features before concatanation"
      ]
    },
    {
      "cell_type": "code",
      "metadata": {
        "id": "qLcTzr_KXR80",
        "colab_type": "code",
        "outputId": "a20e6baa-1ec5-49c1-d475-e82a60498aa9",
        "colab": {
          "base_uri": "https://localhost:8080/",
          "height": 33
        }
      },
      "source": [
        "new_sum.shape"
      ],
      "execution_count": 0,
      "outputs": [
        {
          "output_type": "execute_result",
          "data": {
            "text/plain": [
              "(6,)"
            ]
          },
          "metadata": {
            "tags": []
          },
          "execution_count": 74
        }
      ]
    },
    {
      "cell_type": "code",
      "metadata": {
        "id": "vImaWox6BmT6",
        "colab_type": "code",
        "colab": {}
      },
      "source": [
        "new_sum.shape = (new_sum.size, 1)"
      ],
      "execution_count": 0,
      "outputs": []
    },
    {
      "cell_type": "code",
      "metadata": {
        "id": "x0rYVuxpXbsL",
        "colab_type": "code",
        "colab": {}
      },
      "source": [
        "for array in [new_sum, new_prod]:\n",
        "    new_shape = (array.size, 1)\n",
        "    array.shape = new_shape"
      ],
      "execution_count": 0,
      "outputs": []
    },
    {
      "cell_type": "code",
      "metadata": {
        "id": "74tbFcCwVjOz",
        "colab_type": "code",
        "outputId": "8e53de58-cdb7-44b3-d765-a520c8cd5a11",
        "colab": {
          "base_uri": "https://localhost:8080/",
          "height": 33
        }
      },
      "source": [
        "new_sum.shape"
      ],
      "execution_count": 0,
      "outputs": [
        {
          "output_type": "execute_result",
          "data": {
            "text/plain": [
              "(6, 1)"
            ]
          },
          "metadata": {
            "tags": []
          },
          "execution_count": 76
        }
      ]
    },
    {
      "cell_type": "code",
      "metadata": {
        "id": "ELDY9PfBP-lA",
        "colab_type": "code",
        "outputId": "acb14b61-dc4c-4573-89a7-dc38500db8db",
        "colab": {
          "base_uri": "https://localhost:8080/",
          "height": 117
        }
      },
      "source": [
        "np.hstack([z, new_sum, new_prod])"
      ],
      "execution_count": 0,
      "outputs": [
        {
          "output_type": "execute_result",
          "data": {
            "text/plain": [
              "array([[  0,   1,   1,   0],\n",
              "       [  2,   3,   5,   6],\n",
              "       [  4,   5,   9,  20],\n",
              "       [  6,   7,  13,  42],\n",
              "       [  8,   9,  17,  72],\n",
              "       [ 10,  11,  21, 110]], dtype=int8)"
            ]
          },
          "metadata": {
            "tags": []
          },
          "execution_count": 78
        }
      ]
    },
    {
      "cell_type": "markdown",
      "metadata": {
        "colab_type": "text",
        "id": "FWNLg1ujQ-90"
      },
      "source": [
        "#### Option 2: `np.column_stack(tup)`\n",
        "Stacks 1D or 2D arrays as columns into a 2D array.\n",
        "- 2D arrays are stacked as-is, just like with `hstack`.  \n",
        "- 1D arrays are turned into 2D arrays\n",
        "first."
      ]
    },
    {
      "cell_type": "markdown",
      "metadata": {
        "id": "mDUfaZ3gcjgZ",
        "colab_type": "text"
      },
      "source": [
        "Recreating the test bench:"
      ]
    },
    {
      "cell_type": "code",
      "metadata": {
        "id": "_ivGEamEZl4p",
        "colab_type": "code",
        "outputId": "af73e099-e76d-436d-b974-199ae650a451",
        "colab": {
          "base_uri": "https://localhost:8080/",
          "height": 117
        }
      },
      "source": [
        "z"
      ],
      "execution_count": 0,
      "outputs": [
        {
          "output_type": "execute_result",
          "data": {
            "text/plain": [
              "array([[ 0,  1],\n",
              "       [ 2,  3],\n",
              "       [ 4,  5],\n",
              "       [ 6,  7],\n",
              "       [ 8,  9],\n",
              "       [10, 11]], dtype=int8)"
            ]
          },
          "metadata": {
            "tags": []
          },
          "execution_count": 79
        }
      ]
    },
    {
      "cell_type": "markdown",
      "metadata": {
        "id": "n2aL7GZMbAK9",
        "colab_type": "text"
      },
      "source": [
        "Recalculate the new features in order to undo the manual reshaping and to get 1D arrays, again."
      ]
    },
    {
      "cell_type": "code",
      "metadata": {
        "colab_type": "code",
        "id": "Fj5aYE0AZv6i",
        "outputId": "0f7a0ee8-a27c-4f40-a5e3-ff79ac7faccd",
        "colab": {
          "base_uri": "https://localhost:8080/",
          "height": 33
        }
      },
      "source": [
        "new_sum = z[:, 0] + z[:, 1]\n",
        "new_sum"
      ],
      "execution_count": 0,
      "outputs": [
        {
          "output_type": "execute_result",
          "data": {
            "text/plain": [
              "array([ 1,  5,  9, 13, 17, 21], dtype=int8)"
            ]
          },
          "metadata": {
            "tags": []
          },
          "execution_count": 80
        }
      ]
    },
    {
      "cell_type": "code",
      "metadata": {
        "colab_type": "code",
        "id": "h6g1H7T3Zv6l",
        "outputId": "417e1cce-2b37-43ff-e9b8-b885aef45195",
        "colab": {
          "base_uri": "https://localhost:8080/",
          "height": 33
        }
      },
      "source": [
        "new_prod = z[:, 0] * z[:, 1]\n",
        "new_prod"
      ],
      "execution_count": 0,
      "outputs": [
        {
          "output_type": "execute_result",
          "data": {
            "text/plain": [
              "array([  0,   6,  20,  42,  72, 110], dtype=int8)"
            ]
          },
          "metadata": {
            "tags": []
          },
          "execution_count": 81
        }
      ]
    },
    {
      "cell_type": "code",
      "metadata": {
        "id": "NdfYR1_SUE7i",
        "colab_type": "code",
        "outputId": "0fd360fa-732d-460c-ed21-ecdee5173fb9",
        "colab": {
          "base_uri": "https://localhost:8080/",
          "height": 117
        }
      },
      "source": [
        "np.column_stack([z, new_sum, new_prod])"
      ],
      "execution_count": 0,
      "outputs": [
        {
          "output_type": "execute_result",
          "data": {
            "text/plain": [
              "array([[  0,   1,   1,   0],\n",
              "       [  2,   3,   5,   6],\n",
              "       [  4,   5,   9,  20],\n",
              "       [  6,   7,  13,  42],\n",
              "       [  8,   9,  17,  72],\n",
              "       [ 10,  11,  21, 110]], dtype=int8)"
            ]
          },
          "metadata": {
            "tags": []
          },
          "execution_count": 82
        }
      ]
    },
    {
      "cell_type": "markdown",
      "metadata": {
        "id": "hp10ePs7daw0",
        "colab_type": "text"
      },
      "source": [
        "#### Option 3: Deep dive `np.c_`, `np.r_` "
      ]
    },
    {
      "cell_type": "markdown",
      "metadata": {
        "id": "N_2Rxqgih1Vc",
        "colab_type": "text"
      },
      "source": [
        "- `.c_`: https://docs.scipy.org/doc/numpy/reference/generated/numpy.c_.html\n",
        "- `.r_`: https://docs.scipy.org/doc/numpy/reference/generated/numpy.r_.html"
      ]
    },
    {
      "cell_type": "code",
      "metadata": {
        "id": "zIr-ehsFF4jO",
        "colab_type": "code",
        "colab": {}
      },
      "source": [
        "np.c_[z, new_sum, new_prod]"
      ],
      "execution_count": 0,
      "outputs": []
    },
    {
      "cell_type": "code",
      "metadata": {
        "colab_type": "code",
        "id": "XFuMTHDdRUF7",
        "colab": {}
      },
      "source": [
        "np.r_[z, np.c_[new_sum, new_prod]]"
      ],
      "execution_count": 0,
      "outputs": []
    },
    {
      "cell_type": "markdown",
      "metadata": {
        "id": "6vvsjkVaQj7w",
        "colab_type": "text"
      },
      "source": [
        "## Advanced indexing"
      ]
    },
    {
      "cell_type": "code",
      "metadata": {
        "id": "PFJVLNaKQKZ8",
        "colab_type": "code",
        "outputId": "dd51c685-b125-40bd-a5c5-2306ea5bcb79",
        "colab": {
          "base_uri": "https://localhost:8080/",
          "height": 67
        }
      },
      "source": [
        "z = np.random.randint(16, size=(3, 5))\n",
        "z"
      ],
      "execution_count": 0,
      "outputs": [
        {
          "output_type": "execute_result",
          "data": {
            "text/plain": [
              "array([[ 3,  7,  7,  2,  5],\n",
              "       [ 4,  1,  7, 11, 13],\n",
              "       [ 5,  1, 15, 11,  4]])"
            ]
          },
          "metadata": {
            "tags": []
          },
          "execution_count": 83
        }
      ]
    },
    {
      "cell_type": "markdown",
      "metadata": {
        "id": "viyOuHbhRHyZ",
        "colab_type": "text"
      },
      "source": [
        "Create a **masking array**, e.g. where the values are greater than a limit:"
      ]
    },
    {
      "cell_type": "code",
      "metadata": {
        "id": "kTeTgEDmQ0rS",
        "colab_type": "code",
        "outputId": "d57f8d55-b929-413d-d4aa-f58ea1b19af4",
        "colab": {
          "base_uri": "https://localhost:8080/",
          "height": 67
        }
      },
      "source": [
        "mask = z > 9\n",
        "mask"
      ],
      "execution_count": 0,
      "outputs": [
        {
          "output_type": "execute_result",
          "data": {
            "text/plain": [
              "array([[False, False, False, False, False],\n",
              "       [False, False, False,  True,  True],\n",
              "       [False, False,  True,  True, False]])"
            ]
          },
          "metadata": {
            "tags": []
          },
          "execution_count": 84
        }
      ]
    },
    {
      "cell_type": "markdown",
      "metadata": {
        "id": "cgB40OY5Rf8y",
        "colab_type": "text"
      },
      "source": [
        ".. and index the array at the *mask* positions:"
      ]
    },
    {
      "cell_type": "code",
      "metadata": {
        "id": "WQGzovhARXrs",
        "colab_type": "code",
        "outputId": "42421209-1631-4b9d-b87c-d503bb029c7e",
        "colab": {
          "base_uri": "https://localhost:8080/",
          "height": 33
        }
      },
      "source": [
        "z[mask]"
      ],
      "execution_count": 0,
      "outputs": [
        {
          "output_type": "execute_result",
          "data": {
            "text/plain": [
              "array([11, 13, 15, 11])"
            ]
          },
          "metadata": {
            "tags": []
          },
          "execution_count": 85
        }
      ]
    },
    {
      "cell_type": "code",
      "metadata": {
        "id": "KIHm43AGPaNa",
        "colab_type": "code",
        "outputId": "d2de494e-024e-4739-e636-0e30102415e5",
        "colab": {
          "base_uri": "https://localhost:8080/",
          "height": 33
        }
      },
      "source": [
        "print(\"{} chosen out of {}, equivalent to {:.1%}\".format(\n",
        "    mask.sum(), \n",
        "    mask.size, \n",
        "    mask.sum()/mask.size))"
      ],
      "execution_count": 0,
      "outputs": [
        {
          "output_type": "stream",
          "text": [
            "4 chosen out of 15, equivalent to 26.7%\n"
          ],
          "name": "stdout"
        }
      ]
    },
    {
      "cell_type": "markdown",
      "metadata": {
        "id": "ioXiTLQqJQ-z",
        "colab_type": "text"
      },
      "source": [
        "## NumPy versus list - speed comparison\n",
        "Measure the compute time to find the smallest value within a list / array."
      ]
    },
    {
      "cell_type": "code",
      "metadata": {
        "id": "qpf9lcUvjbEd",
        "colab_type": "code",
        "outputId": "c84a84b4-9b30-4239-9bf4-911095ee856d",
        "colab": {
          "base_uri": "https://localhost:8080/",
          "height": 297
        }
      },
      "source": [
        "%matplotlib inline\n",
        "from time import time\n",
        "import matplotlib.pyplot as plt\n",
        "\n",
        "labels = [\"NumPy array\", \"list\"]\n",
        "compute_times = [[], []]\n",
        "lengths = (1e5, 3e5, 1e6, 3e6, 1e7)\n",
        "for length in lengths:\n",
        "    np_vals = np.random.random_sample(size=(int(length),))\n",
        "    list_vals = list(np_vals)\n",
        "    funcs = [np_vals.min, lambda: min(list_vals)]\n",
        "\n",
        "    for func, compute_time in zip(funcs, compute_times):\n",
        "        t0 = time()\n",
        "        func()\n",
        "        compute_time.append(time() - t0)\n",
        "\n",
        "for compute_time, label in zip(compute_times, labels):\n",
        "    plt.loglog(lengths, compute_time, \"o-\", label=label)\n",
        "\n",
        "plt.xlabel(\"array length\"), plt.ylabel(\"computation time [s]\")\n",
        "plt.legend(), plt.grid(which=\"both\"), plt.tight_layout();"
      ],
      "execution_count": 0,
      "outputs": [
        {
          "output_type": "display_data",
          "data": {
            "image/png": "[encoded data removed]",
            "text/plain": [
              "<Figure size 432x288 with 1 Axes>"
            ]
          },
          "metadata": {
            "tags": [],
            "needs_background": "light"
          }
        }
      ]
    },
    {
      "cell_type": "code",
      "metadata": {
        "id": "9QOq4KI6P68R",
        "colab_type": "code",
        "colab": {}
      },
      "source": [
        ""
      ],
      "execution_count": 0,
      "outputs": []
    }
  ]
}