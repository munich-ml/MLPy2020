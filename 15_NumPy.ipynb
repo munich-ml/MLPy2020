{
  "nbformat": 4,
  "nbformat_minor": 0,
  "metadata": {
    "colab": {
      "name": "15_NumPy.ipynb",
      "provenance": [],
      "collapsed_sections": [
        "GzLRaElQ3Q80",
        "oCMLt8pbO-qt",
        "6vvsjkVaQj7w",
        "ioXiTLQqJQ-z"
      ],
      "toc_visible": true,
      "authorship_tag": "ABX9TyPJYMcdwWAAuIJgJVUg7esT",
      "include_colab_link": true
    },
    "kernelspec": {
      "name": "python3",
      "display_name": "Python 3"
    }
  },
  "cells": [
    {
      "cell_type": "markdown",
      "metadata": {
        "id": "view-in-github",
        "colab_type": "text"
      },
      "source": [
        "<a href=\"https://colab.research.google.com/github/munich-ml/MLPy2020/blob/master/15_NumPy.ipynb\" target=\"_parent\"><img src=\"https://colab.research.google.com/assets/colab-badge.svg\" alt=\"Open In Colab\"/></a>"
      ]
    },
    {
      "cell_type": "markdown",
      "metadata": {
        "id": "e2piuI4C-TVp",
        "colab_type": "text"
      },
      "source": [
        "# Intro"
      ]
    },
    {
      "cell_type": "markdown",
      "metadata": {
        "id": "S9gWcLiqviYB",
        "colab_type": "text"
      },
      "source": [
        "NumPy is an array proessing package for Python. "
      ]
    },
    {
      "cell_type": "markdown",
      "metadata": {
        "id": "9ci_bXUrP10A",
        "colab_type": "text"
      },
      "source": [
        "NumPy is written an C what makes computations with NumPy very fast.\n",
        "\n",
        "NumPy is usually imported as **np** (alias):"
      ]
    },
    {
      "cell_type": "code",
      "metadata": {
        "id": "i5gz6p4NNCYT",
        "colab_type": "code",
        "colab": {}
      },
      "source": [
        "import numpy as np   "
      ],
      "execution_count": 0,
      "outputs": []
    },
    {
      "cell_type": "markdown",
      "metadata": {
        "id": "-twLPTrQyPfV",
        "colab_type": "text"
      },
      "source": [
        "The basic NumPy datatype is the NumPy array:"
      ]
    },
    {
      "cell_type": "code",
      "metadata": {
        "id": "BpOIppHUxhn2",
        "colab_type": "code",
        "colab": {}
      },
      "source": [
        "z = np.array([2, 4, 7])\n",
        "z"
      ],
      "execution_count": 0,
      "outputs": []
    },
    {
      "cell_type": "markdown",
      "metadata": {
        "id": "87cP8Vd50x6x",
        "colab_type": "text"
      },
      "source": [
        "## NumPy arrays vs. lists"
      ]
    },
    {
      "cell_type": "markdown",
      "metadata": {
        "id": "c-9A_rtQ2hUC",
        "colab_type": "text"
      },
      "source": [
        "### Similarities"
      ]
    },
    {
      "cell_type": "markdown",
      "metadata": {
        "id": "4dFXyV1f09Oo",
        "colab_type": "text"
      },
      "source": [
        "NumPy arrays share many properties with Python lists, e.g. slicing: "
      ]
    },
    {
      "cell_type": "code",
      "metadata": {
        "id": "LAdkExjd1uOL",
        "colab_type": "code",
        "colab": {}
      },
      "source": [
        "a = [2, 7, 5, 1]"
      ],
      "execution_count": 0,
      "outputs": []
    },
    {
      "cell_type": "code",
      "metadata": {
        "id": "5fN2Pc1W11t2",
        "colab_type": "code",
        "colab": {}
      },
      "source": [
        "a[1:-1]"
      ],
      "execution_count": 0,
      "outputs": []
    },
    {
      "cell_type": "code",
      "metadata": {
        "id": "xFvrur-C186b",
        "colab_type": "code",
        "colab": {}
      },
      "source": [
        "z = np.array(a)\n",
        "z"
      ],
      "execution_count": 0,
      "outputs": []
    },
    {
      "cell_type": "code",
      "metadata": {
        "id": "7D81b5NYl53A",
        "colab_type": "code",
        "colab": {}
      },
      "source": [
        "z[1:-1]"
      ],
      "execution_count": 0,
      "outputs": []
    },
    {
      "cell_type": "markdown",
      "metadata": {
        "id": "M0v_mApq2lqH",
        "colab_type": "text"
      },
      "source": [
        "### Differences"
      ]
    },
    {
      "cell_type": "markdown",
      "metadata": {
        "id": "aeY0yAVezmjf",
        "colab_type": "text"
      },
      "source": [
        "#### Data types\n",
        "- Python lists may contain multiple data types, while\n",
        "- NumPy arrays are **constant type**:"
      ]
    },
    {
      "cell_type": "code",
      "metadata": {
        "id": "-ywI410nz2KB",
        "colab_type": "code",
        "colab": {}
      },
      "source": [
        "a = [2, 7, 1]\n",
        "z = np.array(a)\n",
        "z.dtype"
      ],
      "execution_count": 0,
      "outputs": []
    },
    {
      "cell_type": "code",
      "metadata": {
        "id": "Xvrh92oBmb9d",
        "colab_type": "code",
        "colab": {}
      },
      "source": [
        "a = [2, \"seven\", 1]\n",
        "z = np.array(a)\n",
        "z"
      ],
      "execution_count": 0,
      "outputs": []
    },
    {
      "cell_type": "markdown",
      "metadata": {
        "id": "wbQhiailpGDW",
        "colab_type": "text"
      },
      "source": [
        "... all items are converted to text. `U` for unicode and `21` describes the memory allocation for each item. "
      ]
    },
    {
      "cell_type": "markdown",
      "metadata": {
        "colab_type": "text",
        "id": "GzLRaElQ3Q80"
      },
      "source": [
        "#### Element-wise operations\n",
        "- **list** objects don't support element-wise operations:\n"
      ]
    },
    {
      "cell_type": "code",
      "metadata": {
        "id": "R1f3oIiTSuev",
        "colab_type": "code",
        "colab": {}
      },
      "source": [
        "a = [1, 3, 4] \n",
        "b = [1, 3, 5]"
      ],
      "execution_count": 0,
      "outputs": []
    },
    {
      "cell_type": "code",
      "metadata": {
        "id": "FHqmdzEYqbg-",
        "colab_type": "code",
        "colab": {}
      },
      "source": [
        "try:\n",
        "    a * b\n",
        "except Exception as e:\n",
        "    print(e)"
      ],
      "execution_count": 0,
      "outputs": []
    },
    {
      "cell_type": "markdown",
      "metadata": {
        "id": "H2NDTAv4QT9w",
        "colab_type": "text"
      },
      "source": [
        "- **NumPy arrays** are made for element-wise operations:"
      ]
    },
    {
      "cell_type": "code",
      "metadata": {
        "id": "4rtvw3XtusRo",
        "colab_type": "code",
        "colab": {}
      },
      "source": [
        "np.array(a) * np.array(b)"
      ],
      "execution_count": 0,
      "outputs": []
    },
    {
      "cell_type": "markdown",
      "metadata": {
        "id": "6C6FoK5K7GrX",
        "colab_type": "text"
      },
      "source": [
        "## Initializing arrays"
      ]
    },
    {
      "cell_type": "markdown",
      "metadata": {
        "id": "_XrRXJrS7lZ5",
        "colab_type": "text"
      },
      "source": [
        "Initializing **all zeros**:"
      ]
    },
    {
      "cell_type": "code",
      "metadata": {
        "id": "u_NmyfpQ7L9y",
        "colab_type": "code",
        "colab": {}
      },
      "source": [
        "shape = (2, 3)\n",
        "np.zeros(shape)"
      ],
      "execution_count": 0,
      "outputs": []
    },
    {
      "cell_type": "markdown",
      "metadata": {
        "colab_type": "text",
        "id": "QfMDwTc97tQo"
      },
      "source": [
        "Initializing **all ones** with specific data type:"
      ]
    },
    {
      "cell_type": "code",
      "metadata": {
        "colab_type": "code",
        "id": "yHXzkvCU7tQx",
        "colab": {}
      },
      "source": [
        "shape = (2, 4)\n",
        "np.ones(shape, dtype=\"int32\")"
      ],
      "execution_count": 0,
      "outputs": []
    },
    {
      "cell_type": "markdown",
      "metadata": {
        "colab_type": "text",
        "id": "ZiEQnUa08A62"
      },
      "source": [
        "Initializing with **arbitraty value**:"
      ]
    },
    {
      "cell_type": "code",
      "metadata": {
        "colab_type": "code",
        "id": "JgIuEFE78A65",
        "colab": {}
      },
      "source": [
        "np.full(shape=(2, 3), fill_value=1.33)"
      ],
      "execution_count": 0,
      "outputs": []
    },
    {
      "cell_type": "markdown",
      "metadata": {
        "id": "WJyxlx1d8uPx",
        "colab_type": "text"
      },
      "source": [
        "### Initalizing with **random numers**"
      ]
    },
    {
      "cell_type": "markdown",
      "metadata": {
        "id": "OxcQ4VUh909T",
        "colab_type": "text"
      },
      "source": [
        "Random **float** values \n"
      ]
    },
    {
      "cell_type": "code",
      "metadata": {
        "id": "FBQqj3ZZ8vtx",
        "colab_type": "code",
        "colab": {}
      },
      "source": [
        "np.random.random_sample(size=(2, 2, 4))"
      ],
      "execution_count": 0,
      "outputs": []
    },
    {
      "cell_type": "markdown",
      "metadata": {
        "id": "h2Hw-BbA-wZR",
        "colab_type": "text"
      },
      "source": [
        "Random **integers**"
      ]
    },
    {
      "cell_type": "code",
      "metadata": {
        "id": "hxxA8kpl9jDy",
        "colab_type": "code",
        "colab": {}
      },
      "source": [
        "np.random.randint(low=3, high=7, size=(15,))"
      ],
      "execution_count": 0,
      "outputs": []
    },
    {
      "cell_type": "markdown",
      "metadata": {
        "id": "mHbW2Pqmvw_4",
        "colab_type": "text"
      },
      "source": [
        "Set the random **seed** prior to sample generation for reproducable results."
      ]
    },
    {
      "cell_type": "code",
      "metadata": {
        "id": "PiDp0yE1uuJ7",
        "colab_type": "code",
        "colab": {}
      },
      "source": [
        "np.random.seed(seed=42)"
      ],
      "execution_count": 0,
      "outputs": []
    },
    {
      "cell_type": "code",
      "metadata": {
        "colab_type": "code",
        "id": "ekbkdkPquvJD",
        "colab": {}
      },
      "source": [
        "np.random.random_sample(size=(2, 4))"
      ],
      "execution_count": 0,
      "outputs": []
    },
    {
      "cell_type": "markdown",
      "metadata": {
        "id": "fS644B0awOv1",
        "colab_type": "text"
      },
      "source": [
        "# NumPy math"
      ]
    },
    {
      "cell_type": "markdown",
      "metadata": {
        "id": "rC61Pv1KA8SB",
        "colab_type": "text"
      },
      "source": [
        "## Element-wise operations"
      ]
    },
    {
      "cell_type": "code",
      "metadata": {
        "id": "kvLoDIbc-kIo",
        "colab_type": "code",
        "colab": {}
      },
      "source": [
        "z = np.array([1, 2, 3, 4])"
      ],
      "execution_count": 0,
      "outputs": []
    },
    {
      "cell_type": "code",
      "metadata": {
        "id": "rcBJZbaIAyrQ",
        "colab_type": "code",
        "colab": {}
      },
      "source": [
        "z + 4"
      ],
      "execution_count": 0,
      "outputs": []
    },
    {
      "cell_type": "code",
      "metadata": {
        "id": "-FejUjXjA0wF",
        "colab_type": "code",
        "colab": {}
      },
      "source": [
        "z / 2"
      ],
      "execution_count": 0,
      "outputs": []
    },
    {
      "cell_type": "code",
      "metadata": {
        "id": "d6X2W1lxHSc5",
        "colab_type": "code",
        "colab": {}
      },
      "source": [
        "z"
      ],
      "execution_count": 0,
      "outputs": []
    },
    {
      "cell_type": "code",
      "metadata": {
        "id": "s-_d9nUCA5Na",
        "colab_type": "code",
        "colab": {}
      },
      "source": [
        "np.round(np.sin( z/4 * np.pi), decimals=3)"
      ],
      "execution_count": 0,
      "outputs": []
    },
    {
      "cell_type": "markdown",
      "metadata": {
        "id": "ugoh41uAC-hd",
        "colab_type": "text"
      },
      "source": [
        "## Matrix multiplication"
      ]
    },
    {
      "cell_type": "code",
      "metadata": {
        "id": "OYlP0OYrBRpu",
        "colab_type": "code",
        "colab": {}
      },
      "source": [
        "z = np.ones(shape=(2,3))\n",
        "z"
      ],
      "execution_count": 0,
      "outputs": []
    },
    {
      "cell_type": "code",
      "metadata": {
        "id": "1lsCND4XBtcx",
        "colab_type": "code",
        "colab": {}
      },
      "source": [
        "y = np.full(shape=(3,2), fill_value=2)\n",
        "y"
      ],
      "execution_count": 0,
      "outputs": []
    },
    {
      "cell_type": "code",
      "metadata": {
        "id": "my5gMLHnCaKw",
        "colab_type": "code",
        "colab": {}
      },
      "source": [
        "try:\n",
        "    z * y\n",
        "except Exception as e:\n",
        "    print(e)"
      ],
      "execution_count": 0,
      "outputs": []
    },
    {
      "cell_type": "markdown",
      "metadata": {
        "id": "jfWyDdWlCcRH",
        "colab_type": "text"
      },
      "source": [
        "... `z * y` tries element-wise multiplications, which failes because of the different shapes. \n",
        "\n",
        "For matrix multiplication use `np.matmul` instead:"
      ]
    },
    {
      "cell_type": "code",
      "metadata": {
        "id": "54ibMHZ5B7lq",
        "colab_type": "code",
        "colab": {}
      },
      "source": [
        "np.matmul(z, y)"
      ],
      "execution_count": 0,
      "outputs": []
    },
    {
      "cell_type": "code",
      "metadata": {
        "id": "pyja-BiXCAOr",
        "colab_type": "code",
        "colab": {}
      },
      "source": [
        "np.matmul(y, z)"
      ],
      "execution_count": 0,
      "outputs": []
    },
    {
      "cell_type": "markdown",
      "metadata": {
        "id": "2KtSu_vXQVXN",
        "colab_type": "text"
      },
      "source": [
        "## Transposing matricies"
      ]
    },
    {
      "cell_type": "markdown",
      "metadata": {
        "id": "K-XhE0LUQc_Y",
        "colab_type": "text"
      },
      "source": [
        "`array.T` returns the transpose of the array"
      ]
    },
    {
      "cell_type": "code",
      "metadata": {
        "id": "qPpvenzmOK9w",
        "colab_type": "code",
        "colab": {}
      },
      "source": [
        "z = np.array([[1,2,3], [4,5,6]])\n",
        "print(z, z.shape)"
      ],
      "execution_count": 0,
      "outputs": []
    },
    {
      "cell_type": "code",
      "metadata": {
        "id": "zMCqC3JM5qul",
        "colab_type": "code",
        "colab": {}
      },
      "source": [
        "print(z.T, z.T.shape)"
      ],
      "execution_count": 0,
      "outputs": []
    },
    {
      "cell_type": "markdown",
      "metadata": {
        "id": "9b-RTNnBMUeP",
        "colab_type": "text"
      },
      "source": [
        "# Statistics"
      ]
    },
    {
      "cell_type": "code",
      "metadata": {
        "id": "ADkklomCL7cD",
        "colab_type": "code",
        "colab": {}
      },
      "source": [
        "z = np.array([[1,2,3], [4,5,6]])\n",
        "z"
      ],
      "execution_count": 0,
      "outputs": []
    },
    {
      "cell_type": "markdown",
      "metadata": {
        "id": "MYi9yXJVMumL",
        "colab_type": "text"
      },
      "source": [
        "Min of all values:"
      ]
    },
    {
      "cell_type": "code",
      "metadata": {
        "id": "W4CMrUf9MTXc",
        "colab_type": "code",
        "colab": {}
      },
      "source": [
        "z.min()"
      ],
      "execution_count": 0,
      "outputs": []
    },
    {
      "cell_type": "markdown",
      "metadata": {
        "id": "nZKQ3ss_MztI",
        "colab_type": "text"
      },
      "source": [
        "Min of all columns:"
      ]
    },
    {
      "cell_type": "code",
      "metadata": {
        "id": "73_2qQ4DMeS9",
        "colab_type": "code",
        "colab": {}
      },
      "source": [
        "z.min(axis=1)"
      ],
      "execution_count": 0,
      "outputs": []
    },
    {
      "cell_type": "markdown",
      "metadata": {
        "id": "JlDprJxZM3_7",
        "colab_type": "text"
      },
      "source": [
        "Standard deviation"
      ]
    },
    {
      "cell_type": "code",
      "metadata": {
        "id": "fZ0S_GPXMrar",
        "colab_type": "code",
        "colab": {}
      },
      "source": [
        "z.std()"
      ],
      "execution_count": 0,
      "outputs": []
    },
    {
      "cell_type": "code",
      "metadata": {
        "id": "c8tWibN6M_I1",
        "colab_type": "code",
        "colab": {}
      },
      "source": [
        "np.median(z, axis=1)"
      ],
      "execution_count": 0,
      "outputs": []
    },
    {
      "cell_type": "markdown",
      "metadata": {
        "id": "nCaS0vtyRldj",
        "colab_type": "text"
      },
      "source": [
        "## Booleans\n",
        "- `np.all()` is a logical `AND`\n",
        "- `np.any()` is a logical `OR`\n",
        " "
      ]
    },
    {
      "cell_type": "markdown",
      "metadata": {
        "colab_type": "text",
        "id": "JKroapllKM6s"
      },
      "source": [
        "#### Logical `AND`"
      ]
    },
    {
      "cell_type": "code",
      "metadata": {
        "id": "4h2o2WE5SRnH",
        "colab_type": "code",
        "colab": {}
      },
      "source": [
        "z = np.array([[True, True, False, True], [True, True, True, True]])\n",
        "z"
      ],
      "execution_count": 0,
      "outputs": []
    },
    {
      "cell_type": "code",
      "metadata": {
        "id": "W3uN8wxTI7o5",
        "colab_type": "code",
        "colab": {}
      },
      "source": [
        "z.all()"
      ],
      "execution_count": 0,
      "outputs": []
    },
    {
      "cell_type": "code",
      "metadata": {
        "id": "IouIpFlsIDUo",
        "colab_type": "code",
        "colab": {}
      },
      "source": [
        "z.all(axis=1)"
      ],
      "execution_count": 0,
      "outputs": []
    },
    {
      "cell_type": "markdown",
      "metadata": {
        "id": "kiIGbK35J8bF",
        "colab_type": "text"
      },
      "source": [
        "#### Logical `OR`"
      ]
    },
    {
      "cell_type": "code",
      "metadata": {
        "id": "yZxhXeUcIDE-",
        "colab_type": "code",
        "colab": {}
      },
      "source": [
        "z.any()"
      ],
      "execution_count": 0,
      "outputs": []
    },
    {
      "cell_type": "markdown",
      "metadata": {
        "colab_type": "text",
        "id": "fttcYQPPKL4S"
      },
      "source": [
        "#### Logical `NOT`"
      ]
    },
    {
      "cell_type": "code",
      "metadata": {
        "id": "NFFX9aFoJVQw",
        "colab_type": "code",
        "colab": {}
      },
      "source": [
        "np.logical_not(z.all(axis=0))"
      ],
      "execution_count": 0,
      "outputs": []
    },
    {
      "cell_type": "markdown",
      "metadata": {
        "id": "eaCiE7DUOP2K",
        "colab_type": "text"
      },
      "source": [
        "# Reorganizing arrays"
      ]
    },
    {
      "cell_type": "markdown",
      "metadata": {
        "id": "9B92qqPuwJY0",
        "colab_type": "text"
      },
      "source": [
        "## Reshape"
      ]
    },
    {
      "cell_type": "code",
      "metadata": {
        "id": "8RYfPNmxOCf1",
        "colab_type": "code",
        "colab": {}
      },
      "source": [
        "z = np.array([[1,2,3], [4,5,6]])\n",
        "z"
      ],
      "execution_count": 0,
      "outputs": []
    },
    {
      "cell_type": "code",
      "metadata": {
        "id": "Vfgu4ciWvyAn",
        "colab_type": "code",
        "colab": {}
      },
      "source": [
        "z.shape"
      ],
      "execution_count": 0,
      "outputs": []
    },
    {
      "cell_type": "markdown",
      "metadata": {
        "id": "qwZ1wxDiv4-0",
        "colab_type": "text"
      },
      "source": [
        "**Option 1**: Use `reshape` method:"
      ]
    },
    {
      "cell_type": "code",
      "metadata": {
        "id": "wJHE80fZOYU4",
        "colab_type": "code",
        "colab": {}
      },
      "source": [
        "z = z.reshape((3, 2))\n",
        "z"
      ],
      "execution_count": 0,
      "outputs": []
    },
    {
      "cell_type": "code",
      "metadata": {
        "id": "7nCYr5MUw0S_",
        "colab_type": "code",
        "colab": {}
      },
      "source": [
        "z.shape"
      ],
      "execution_count": 0,
      "outputs": []
    },
    {
      "cell_type": "markdown",
      "metadata": {
        "id": "_enslv-SwQv7",
        "colab_type": "text"
      },
      "source": [
        "**Option 2**: Assign a new shape to the `.shape` attribute:"
      ]
    },
    {
      "cell_type": "code",
      "metadata": {
        "id": "MB8ZTY2Sc4Ce",
        "colab_type": "code",
        "colab": {}
      },
      "source": [
        "z.shape = (6, )\n",
        "z"
      ],
      "execution_count": 0,
      "outputs": []
    },
    {
      "cell_type": "code",
      "metadata": {
        "id": "30OdtJcAc3_i",
        "colab_type": "code",
        "colab": {}
      },
      "source": [
        "z.shape"
      ],
      "execution_count": 0,
      "outputs": []
    },
    {
      "cell_type": "markdown",
      "metadata": {
        "id": "489EZq-JC_WK",
        "colab_type": "text"
      },
      "source": [
        "## Concatenation"
      ]
    },
    {
      "cell_type": "code",
      "metadata": {
        "id": "9muxQQgsDBR5",
        "colab_type": "code",
        "colab": {}
      },
      "source": [
        "a = np.array([[1,2,3], [4,5,6]])\n",
        "a"
      ],
      "execution_count": 0,
      "outputs": []
    },
    {
      "cell_type": "code",
      "metadata": {
        "id": "0edPuLX5lzI6",
        "colab_type": "code",
        "colab": {}
      },
      "source": [
        "b = np.array([[7,8,9], [10,11,12]])\n",
        "b"
      ],
      "execution_count": 0,
      "outputs": []
    },
    {
      "cell_type": "markdown",
      "metadata": {
        "id": "XVlTvOsinykJ",
        "colab_type": "text"
      },
      "source": [
        "### `np.vstack()`  "
      ]
    },
    {
      "cell_type": "markdown",
      "metadata": {
        "colab_type": "text",
        "id": "bD35DgkIAta0"
      },
      "source": [
        "`np.vstack()` is equivalent to `np.concatenate(..., axis=0)`:"
      ]
    },
    {
      "cell_type": "code",
      "metadata": {
        "id": "844LybPhDE3U",
        "colab_type": "code",
        "colab": {}
      },
      "source": [
        "z = np.concatenate((a, b), axis=0)\n",
        "z"
      ],
      "execution_count": 0,
      "outputs": []
    },
    {
      "cell_type": "code",
      "metadata": {
        "id": "_vBdBWaboerG",
        "colab_type": "code",
        "colab": {}
      },
      "source": [
        "z = np.vstack((a, b))\n",
        "z"
      ],
      "execution_count": 0,
      "outputs": []
    },
    {
      "cell_type": "markdown",
      "metadata": {
        "colab_type": "text",
        "id": "0hfINgkQoUIN"
      },
      "source": [
        "### `np.hstack()`  "
      ]
    },
    {
      "cell_type": "markdown",
      "metadata": {
        "id": "nBJADUclmdDm",
        "colab_type": "text"
      },
      "source": [
        "`np.hstack()` is equivalent to `np.concatenate(..., axis=1)`:"
      ]
    },
    {
      "cell_type": "code",
      "metadata": {
        "id": "CPjU9o7QDSz5",
        "colab_type": "code",
        "colab": {}
      },
      "source": [
        "z = np.concatenate((a, b), axis=1)\n",
        "z"
      ],
      "execution_count": 0,
      "outputs": []
    },
    {
      "cell_type": "code",
      "metadata": {
        "id": "UULF_vgkpTWN",
        "colab_type": "code",
        "colab": {}
      },
      "source": [
        "z = np.hstack((a, b))\n",
        "z"
      ],
      "execution_count": 0,
      "outputs": []
    },
    {
      "cell_type": "markdown",
      "metadata": {
        "id": "Kaf32p1_pzUg",
        "colab_type": "text"
      },
      "source": [
        "### Concat arrays and slices (1D arrays)\n"
      ]
    },
    {
      "cell_type": "code",
      "metadata": {
        "id": "pvdQraAECL3y",
        "colab_type": "code",
        "colab": {}
      },
      "source": [
        "z = np.linspace(start=0, stop=11, num=12, dtype=\"int8\")\n",
        "z"
      ],
      "execution_count": 0,
      "outputs": []
    },
    {
      "cell_type": "code",
      "metadata": {
        "id": "X9juWxJ-NESt",
        "colab_type": "code",
        "colab": {}
      },
      "source": [
        "z.shape = (6, 2)\n",
        "z"
      ],
      "execution_count": 0,
      "outputs": []
    },
    {
      "cell_type": "markdown",
      "metadata": {
        "id": "kdK3J_rINq_Z",
        "colab_type": "text"
      },
      "source": [
        "Compute new features (columns) based on exisitng features:"
      ]
    },
    {
      "cell_type": "code",
      "metadata": {
        "id": "ZpW3YhpPNxuX",
        "colab_type": "code",
        "colab": {}
      },
      "source": [
        "new_sum = z[:, 0] + z[:, 1]\n",
        "new_sum"
      ],
      "execution_count": 0,
      "outputs": []
    },
    {
      "cell_type": "code",
      "metadata": {
        "id": "G3EGt5j8OCpn",
        "colab_type": "code",
        "colab": {}
      },
      "source": [
        "new_prod = z[:, 0] * z[:, 1]\n",
        "new_prod"
      ],
      "execution_count": 0,
      "outputs": []
    },
    {
      "cell_type": "markdown",
      "metadata": {
        "id": "JIxupw8cOSVr",
        "colab_type": "text"
      },
      "source": [
        "Trial to concatenate new features to the right fails:"
      ]
    },
    {
      "cell_type": "code",
      "metadata": {
        "id": "kvVFkREzORuz",
        "colab_type": "code",
        "colab": {}
      },
      "source": [
        "try:\n",
        "    new_z = np.concatenate((z, new_sum, new_prod), axis=0)\n",
        "except Exception as e:\n",
        "    print(\"Exception occured: \" + str(e))"
      ],
      "execution_count": 0,
      "outputs": []
    },
    {
      "cell_type": "markdown",
      "metadata": {
        "id": "AONF8NDTPCZ2",
        "colab_type": "text"
      },
      "source": [
        "Problem: The new features are slices (1D arrays), not 2D arrays:"
      ]
    },
    {
      "cell_type": "code",
      "metadata": {
        "id": "rCjeaG8bNSJm",
        "colab_type": "code",
        "colab": {}
      },
      "source": [
        "print(z.ndim, z.shape)"
      ],
      "execution_count": 0,
      "outputs": []
    },
    {
      "cell_type": "code",
      "metadata": {
        "id": "Yqkk8p6wNEOj",
        "colab_type": "code",
        "colab": {}
      },
      "source": [
        "print(new_sum.ndim, new_sum.shape)"
      ],
      "execution_count": 0,
      "outputs": []
    },
    {
      "cell_type": "markdown",
      "metadata": {
        "id": "M5khDWLVPLBk",
        "colab_type": "text"
      },
      "source": [
        "#### Option 1: Reshape first\n",
        "Manually reshape the new features before concatanation"
      ]
    },
    {
      "cell_type": "code",
      "metadata": {
        "id": "qLcTzr_KXR80",
        "colab_type": "code",
        "colab": {}
      },
      "source": [
        "new_sum.shape"
      ],
      "execution_count": 0,
      "outputs": []
    },
    {
      "cell_type": "code",
      "metadata": {
        "id": "x0rYVuxpXbsL",
        "colab_type": "code",
        "colab": {}
      },
      "source": [
        "for array in [new_sum, new_prod]:\n",
        "    new_shape = (array.size, 1)\n",
        "    array.shape = new_shape"
      ],
      "execution_count": 0,
      "outputs": []
    },
    {
      "cell_type": "code",
      "metadata": {
        "id": "74tbFcCwVjOz",
        "colab_type": "code",
        "colab": {}
      },
      "source": [
        "new_sum.shape"
      ],
      "execution_count": 0,
      "outputs": []
    },
    {
      "cell_type": "code",
      "metadata": {
        "id": "ELDY9PfBP-lA",
        "colab_type": "code",
        "colab": {}
      },
      "source": [
        "np.hstack([z, new_sum, new_prod])"
      ],
      "execution_count": 0,
      "outputs": []
    },
    {
      "cell_type": "markdown",
      "metadata": {
        "colab_type": "text",
        "id": "FWNLg1ujQ-90"
      },
      "source": [
        "#### Option 2: `np.column_stack(tup)`\n",
        "Stacks 1D or 2D arrays as columns into a 2D array.\n",
        "- 2D arrays are stacked as-is, just like with `hstack`.  \n",
        "- 1D arrays are turned into 2D arrays\n",
        "first."
      ]
    },
    {
      "cell_type": "markdown",
      "metadata": {
        "id": "mDUfaZ3gcjgZ",
        "colab_type": "text"
      },
      "source": [
        "Recreating the test bench:"
      ]
    },
    {
      "cell_type": "code",
      "metadata": {
        "id": "_ivGEamEZl4p",
        "colab_type": "code",
        "colab": {}
      },
      "source": [
        "z"
      ],
      "execution_count": 0,
      "outputs": []
    },
    {
      "cell_type": "markdown",
      "metadata": {
        "id": "n2aL7GZMbAK9",
        "colab_type": "text"
      },
      "source": [
        "Recalculate the new features in order to undo the manual reshaping and to get 1D arrays, again."
      ]
    },
    {
      "cell_type": "code",
      "metadata": {
        "colab_type": "code",
        "id": "Fj5aYE0AZv6i",
        "colab": {}
      },
      "source": [
        "new_sum = z[:, 0] + z[:, 1]\n",
        "new_sum"
      ],
      "execution_count": 0,
      "outputs": []
    },
    {
      "cell_type": "code",
      "metadata": {
        "colab_type": "code",
        "id": "h6g1H7T3Zv6l",
        "colab": {}
      },
      "source": [
        "new_prod = z[:, 0] * z[:, 1]\n",
        "new_prod"
      ],
      "execution_count": 0,
      "outputs": []
    },
    {
      "cell_type": "code",
      "metadata": {
        "id": "NdfYR1_SUE7i",
        "colab_type": "code",
        "colab": {}
      },
      "source": [
        "np.column_stack([z, new_sum, new_prod])"
      ],
      "execution_count": 0,
      "outputs": []
    },
    {
      "cell_type": "markdown",
      "metadata": {
        "id": "hp10ePs7daw0",
        "colab_type": "text"
      },
      "source": [
        "#### Option 3: Deep dive `np.c_`, `np.r_` "
      ]
    },
    {
      "cell_type": "markdown",
      "metadata": {
        "id": "N_2Rxqgih1Vc",
        "colab_type": "text"
      },
      "source": [
        "- `.c_`: https://docs.scipy.org/doc/numpy/reference/generated/numpy.c_.html\n",
        "- `.r_`: https://docs.scipy.org/doc/numpy/reference/generated/numpy.r_.html"
      ]
    },
    {
      "cell_type": "code",
      "metadata": {
        "id": "zIr-ehsFF4jO",
        "colab_type": "code",
        "colab": {}
      },
      "source": [
        "np.c_[z, new_sum, new_prod]"
      ],
      "execution_count": 0,
      "outputs": []
    },
    {
      "cell_type": "code",
      "metadata": {
        "colab_type": "code",
        "id": "XFuMTHDdRUF7",
        "colab": {}
      },
      "source": [
        "np.r_[z, np.c_[new_sum, new_prod]]"
      ],
      "execution_count": 0,
      "outputs": []
    },
    {
      "cell_type": "markdown",
      "metadata": {
        "id": "6vvsjkVaQj7w",
        "colab_type": "text"
      },
      "source": [
        "## Advanced indexing"
      ]
    },
    {
      "cell_type": "code",
      "metadata": {
        "id": "PFJVLNaKQKZ8",
        "colab_type": "code",
        "colab": {}
      },
      "source": [
        "z = np.random.randint(16, size=(3, 12))\n",
        "z"
      ],
      "execution_count": 0,
      "outputs": []
    },
    {
      "cell_type": "markdown",
      "metadata": {
        "id": "viyOuHbhRHyZ",
        "colab_type": "text"
      },
      "source": [
        "Create a **masking array**, e.g. where the values are greater than a limit:"
      ]
    },
    {
      "cell_type": "code",
      "metadata": {
        "id": "kTeTgEDmQ0rS",
        "colab_type": "code",
        "colab": {}
      },
      "source": [
        "mask = z > 10\n",
        "mask"
      ],
      "execution_count": 0,
      "outputs": []
    },
    {
      "cell_type": "markdown",
      "metadata": {
        "id": "cgB40OY5Rf8y",
        "colab_type": "text"
      },
      "source": [
        ".. and index the array at the *mask* positions:"
      ]
    },
    {
      "cell_type": "code",
      "metadata": {
        "id": "WQGzovhARXrs",
        "colab_type": "code",
        "colab": {}
      },
      "source": [
        "z[mask]"
      ],
      "execution_count": 0,
      "outputs": []
    },
    {
      "cell_type": "code",
      "metadata": {
        "id": "KIHm43AGPaNa",
        "colab_type": "code",
        "colab": {}
      },
      "source": [
        "print(\"{} chosen out of {}, equivalent to {:.1%}\".format(\n",
        "    mask.sum(), \n",
        "    mask.size, \n",
        "    mask.sum()/mask.size))"
      ],
      "execution_count": 0,
      "outputs": []
    },
    {
      "cell_type": "markdown",
      "metadata": {
        "id": "ioXiTLQqJQ-z",
        "colab_type": "text"
      },
      "source": [
        "### NumPy versus list - speed comparison\n",
        "Measure the compute time to find the smallest value within a list / array."
      ]
    },
    {
      "cell_type": "code",
      "metadata": {
        "id": "qpf9lcUvjbEd",
        "colab_type": "code",
        "colab": {}
      },
      "source": [
        "%matplotlib inline\n",
        "from time import time\n",
        "import matplotlib.pyplot as plt\n",
        "\n",
        "labels = [\"NumPy array\", \"list\"]\n",
        "compute_times = [[], []]\n",
        "lengths = (1e5, 3e5, 1e6, 3e6, 1e7)\n",
        "for length in lengths:\n",
        "    np_vals = np.random.random_sample(size=(int(length),))\n",
        "    list_vals = list(np_vals)\n",
        "    funcs = [np_vals.min, lambda: min(list_vals)]\n",
        "\n",
        "    for func, compute_time in zip(funcs, compute_times):\n",
        "        t0 = time()\n",
        "        func()\n",
        "        compute_time.append(time() - t0)\n",
        "\n",
        "for compute_time, label in zip(compute_times, labels):\n",
        "    plt.loglog(lengths, compute_time, \"o-\", label=label)\n",
        "\n",
        "plt.xlabel(\"array length\"), plt.ylabel(\"computation time [s]\")\n",
        "plt.legend(), plt.grid(which=\"both\"), plt.tight_layout();"
      ],
      "execution_count": 0,
      "outputs": []
    },
    {
      "cell_type": "code",
      "metadata": {
        "id": "9QOq4KI6P68R",
        "colab_type": "code",
        "colab": {}
      },
      "source": [
        ""
      ],
      "execution_count": 0,
      "outputs": []
    }
  ]
}